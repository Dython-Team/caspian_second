{
 "cells": [
  {
   "cell_type": "code",
   "execution_count": 21,
   "metadata": {},
   "outputs": [],
   "source": [
    "import pandas as pd\n",
    "import matplotlib.pyplot as plt\n",
    "import numpy as np\n",
    "import seaborn as sns\n",
    "import statsmodels.api as sm\n",
    "from scipy.interpolate import interp1d\n",
    "import matplotlib.pyplot as plt\n",
    "from matplotlib import cm\n",
    "import os\n",
    "from statsmodels.nonparametric.smoothers_lowess import lowess\n",
    "from scipy.stats import skew\n",
    "from sklearn.model_selection import train_test_split\n",
    "from sklearn.metrics import accuracy_score, classification_report\n",
    "from sklearn.feature_selection import SelectKBest, f_classif\n",
    "from catboost import CatBoostClassifier\n",
    "from imblearn.over_sampling import SMOTE\n",
    "from imblearn.pipeline import Pipeline\n",
    "from imblearn.under_sampling import RandomUnderSampler\n",
    "from catboost import Pool\n",
    "import shap\n"
   ]
  },
  {
   "cell_type": "code",
   "execution_count": 22,
   "metadata": {},
   "outputs": [],
   "source": [
    "df_4 = pd.read_spss('caspian4-ghorbani.sav',convert_categoricals=False)"
   ]
  },
  {
   "cell_type": "code",
   "execution_count": 23,
   "metadata": {},
   "outputs": [],
   "source": [
    "rename={\n",
    "    \"universi\":\"university\",\n",
    "    \"cross\":\"grade\",\n",
    "    \"sex\":\"gender\",\n",
    "    \"birth_ye\":\"birth_date\",\n",
    "    \"a_1\":\"close_friend_count\",\n",
    "    \"a_2\":\"spent_time_friend1\",\n",
    "    \"a_3\":\"spent_time_friend2\",\n",
    "    \"a_4\":\"chatting_online\",\n",
    "    \"bodyimag5halati\":\"body_image\",\n",
    "    \"barnamenutrition4halati\":\"diet_plan\",\n",
    "    \"breakfastroutindays\":\"breakfast_routindays\",\n",
    "    \"breakfastfriday\":\"breakfast_friday\",\n",
    "    \"naharroutinday\":\"lunch_routinday\",\n",
    "    \"naharfriday\":\"lunch_friday\",\n",
    "    \"shamroutinday\":\"dinner_routinday\",\n",
    "    \"shamfriday\":\"dinner_friday\",\n",
    "    \"Sweet\":\"sweet\",\n",
    "    \"saltysnack\":\"saltysnack\",\n",
    "    \"noshabeh\":\"soda\",\n",
    "    \"MiveyeTazehe2halati\":\"fresh_fruit\",\n",
    "    \"MiveyeKhoshk\":\"dry_fruit\",\n",
    "    \"Swetenedbeverage\":\"fresh_juice\",\n",
    "    \"abmiveyebastebandishodeh\":\"packed_juice\",\n",
    "    \"vegtebale\":\"vegtebales\",\n",
    "    \"Milk\":\"milk\",\n",
    "    \"fastfoods\":\"fastfoods\",\n",
    "    \"newphysicalactivietyhour\":\"physical_activiety_hour\",\n",
    "    \"PhysicActive\":\"physical_activiety\",\n",
    "    \"TVwatchingroutinday\":\"TV_watching_routinday\",\n",
    "    \"TVwatchingFriday \":\"TV_watching_friday\",\n",
    "    \"Computerworkroutinday\":\"computer_work_routinday\",\n",
    "    \"ComputerworkFriday\":\"computer_work_friday\",\n",
    "    \"Sleephoursroutinday\":\"sleep_hours_routinday\",\n",
    "    \"SleephoursrFriday\":\"sleep_hours_friday\",\n",
    "    \"injurynumber\":\"injury_number\",\n",
    "    \"h_44\":\"injury_place\",\n",
    "    \"h_45\":\"injury_cause\",\n",
    "    \"h_46\":\"injury_threatment_place\",\n",
    "    \"physicalfightnumber\":\"fight_number\",\n",
    "    \"i_48\":\"litigant\",\n",
    "    \"hamlselahnumber\":\"carryـweapons\",\n",
    "    \"victimnumber\":\"victim_number\",\n",
    "    \"bullynumber\":\"bully_number\",\n",
    "    \"madargelyani\":\"mother_hookah\",\n",
    "    \"pedargelyani\":\"father_hookah\",\n",
    "    \"baradrkhahargelyani\":\"sibling_hookah\",\n",
    "    \"sayerfradgelyani\":\"others_hookah\",\n",
    "    \"pedarsigari\":\"father_smoker\",\n",
    "    \"madarsigari\":\"mother_smoker\",\n",
    "    \"baradaryakhaharsigari\":\"sibling_smoker\",\n",
    "    \"sayerafradkhanevadehsigari\":\"others_smoker\",\n",
    "    \"l_56\":\"comfort_mother\",\n",
    "    \"l_59\":\"comfort_friend\",\n",
    "    \"l_55\":\"comfort_father\",\n",
    "    \"l_58\":\"comfort_sister\",\n",
    "    \"l_57\":\"comfort_brother\",\n",
    "    \"confusionnumber\":\"confusion_number\",\n",
    "    \"worthlessnumber\":\"worthless_number\",\n",
    "    \"insomnianumber\":\"insomnia_number\",\n",
    "    \"m_62\":\"back_pain_number\",\n",
    "    \"m_61\":\"headache_number\",\n",
    "    \"worriednumber\":\"worried_number\",\n",
    "    \"m_60\":\"stomach_ache_number\",\n",
    "    \"angrinessnumber\":\"angriness_number\",\n",
    "    \"depression\":\"depression\",\n",
    "    \"Anxietynumber\":\"anxiety_number\",\n",
    "    \"SRH4halati\":\"mental_health_overview\",\n",
    "    \"activesmokertype\":\"smoker_type\",\n",
    "    \"activecurrentsmoker\":\"current_smoker_status\",\n",
    "    \"n_85\":\"smoke_leisure\",\n",
    "    \"n_83\":\"smoke_escaping_problems\",\n",
    "    \"n_87\":\"smoke_pleasure\",\n",
    "    \"n_86\":\"smoke_feeling_grown_up\",\n",
    "    \"n_79\":\"smoke_anxiety_reduction\",\n",
    "    \"n_80\":\"smoke_social_acceptance\",\n",
    "    \"n_82\":\"smoke_confidence_boost\",    \n",
    "    \"n_81\":\"smoke_focus\",\n",
    "    \"n_77\":\"smoke_staying_awake\",\n",
    "    \"n_78\":\"smoke_feeling_loved\",\n",
    "    \"weight_1\":\"weight\",\n",
    "    \"height_2\":\"height\",\n",
    "    \"waist_3\":\"waist\",\n",
    "    \"wrist_5\":\"wrist\",\n",
    "    \"hip_4\":\"hip\",\n",
    "    \"systolic\":\"systolic\",\n",
    "    \"diastoli\":\"diastoli\",\n",
    "    \"age\":\"age\",\n",
    "    \"catage\":\"catage\",\n",
    "    \"family_a\":\"family_size\",\n",
    "    \"v124_a\":\"home_ownership\",\n",
    "    \"fathereducation6halati\":\"father_edu\",\n",
    "    \"mothereducation6halati\":\"mother_edu\",\n",
    "    \"fatherjob\":\"father_job\",\n",
    "    \"motherjob\":\"mother_job\",\n",
    "    \"scholltype\":\"school_type\",\n",
    "    \"v129_a\":\"car_ownership\",\n",
    "    \"v130_a\":\"computer_ownership\",\n",
    "    \"livingparent\":\"livingparent\",\n",
    "    \"childerennumber\":\"childeren_number\",\n",
    "    \"birthorder\":\"birth_order\",\n",
    "    \"birthweight\":\"birthweight\",\n",
    "    \"milktype\":\"milk_type\",\n",
    "    \"beastfeedingduration\":\"breast_feeding_duration\",\n",
    "    \"complementryfeeding\":\"complementry_feeding\",\n",
    "    \"breadtyp\":\"bread_type\",\n",
    "    \"oiltype\":\"oil_type\",\n",
    "    \"saltadde\":\"table_salt\",\n",
    "    \"dairytype\":\"dairy_type\",\n",
    "    \"fattydairyparent\":\"fatty_dairy\",\n",
    "    \"usualdairyparent\":\"usual_dairy\",\n",
    "    \"grains\":\"grains\",\n",
    "    \"meat\":\"meat\",\n",
    "    \"liverandkalepache\":\"liverandkalepache\",\n",
    "    \"bread\":\"bread\",\n",
    "    \"rice\":\"rice\",\n",
    "    \"potatoandfresh\":\"potato\",\n",
    "    \"friedfoods\":\"friedfoods\",\n",
    "    \"d_55\":\"fruit_nut_substitute\",\n",
    "    \"d_51\":\"reduce_fast_food\",\n",
    "    \"d_54\":\"increase_vegetables\",\n",
    "    \"d_50\":\"reduce_salt\",\n",
    "    \"d_53\":\"reduce_sugar\",\n",
    "    \"d_49\":\"reduce_fat\",\n",
    "    \"d_52\":\"use_liquid_oil\",\n",
    "    \"injery_5\":\"injery_parent_ask\",\n",
    "    \"v203_a\":\"injury_complication\"\n",
    "\n",
    "}"
   ]
  },
  {
   "cell_type": "code",
   "execution_count": 24,
   "metadata": {},
   "outputs": [],
   "source": [
    "df_4.rename(columns=rename, inplace=True)   "
   ]
  },
  {
   "cell_type": "code",
   "execution_count": 26,
   "metadata": {},
   "outputs": [
    {
     "data": {
      "application/vnd.microsoft.datawrangler.viewer.v0+json": {
       "columns": [
        {
         "name": "index",
         "rawType": "int64",
         "type": "integer"
        },
        {
         "name": "source",
         "rawType": "float64",
         "type": "float"
        },
        {
         "name": "code",
         "rawType": "float64",
         "type": "float"
        },
        {
         "name": "university",
         "rawType": "object",
         "type": "string"
        },
        {
         "name": "province",
         "rawType": "object",
         "type": "string"
        },
        {
         "name": "iranregion",
         "rawType": "object",
         "type": "string"
        },
        {
         "name": "region",
         "rawType": "object",
         "type": "string"
        },
        {
         "name": "cluster",
         "rawType": "float64",
         "type": "float"
        },
        {
         "name": "grade",
         "rawType": "object",
         "type": "string"
        },
        {
         "name": "gender",
         "rawType": "object",
         "type": "string"
        },
        {
         "name": "birth_date",
         "rawType": "float64",
         "type": "float"
        },
        {
         "name": "age",
         "rawType": "float64",
         "type": "float"
        },
        {
         "name": "catage",
         "rawType": "object",
         "type": "string"
        },
        {
         "name": "newcatage",
         "rawType": "object",
         "type": "string"
        },
        {
         "name": "sample_c",
         "rawType": "float64",
         "type": "float"
        },
        {
         "name": "close_friend_count",
         "rawType": "object",
         "type": "string"
        },
        {
         "name": "closefriendn",
         "rawType": "object",
         "type": "string"
        },
        {
         "name": "spent_time_friend1",
         "rawType": "object",
         "type": "string"
        },
        {
         "name": "spent_time_friend2",
         "rawType": "object",
         "type": "string"
        },
        {
         "name": "frinedtime",
         "rawType": "float64",
         "type": "float"
        },
        {
         "name": "spenttimefriend",
         "rawType": "object",
         "type": "string"
        },
        {
         "name": "chatting_online",
         "rawType": "object",
         "type": "string"
        },
        {
         "name": "body_image",
         "rawType": "object",
         "type": "string"
        },
        {
         "name": "bodyimage3halati",
         "rawType": "object",
         "type": "string"
        },
        {
         "name": "CombBMIvBodyimage",
         "rawType": "object",
         "type": "string"
        },
        {
         "name": "CogruentBMIvBodyimage",
         "rawType": "object",
         "type": "string"
        },
        {
         "name": "diet_plan",
         "rawType": "object",
         "type": "string"
        },
        {
         "name": "barnamenutrition2halati",
         "rawType": "object",
         "type": "string"
        },
        {
         "name": "c_7",
         "rawType": "object",
         "type": "string"
        },
        {
         "name": "c_8",
         "rawType": "object",
         "type": "string"
        },
        {
         "name": "c_9",
         "rawType": "object",
         "type": "string"
        },
        {
         "name": "c_10",
         "rawType": "object",
         "type": "string"
        },
        {
         "name": "c_11",
         "rawType": "object",
         "type": "string"
        },
        {
         "name": "breakfast_routindays",
         "rawType": "object",
         "type": "string"
        },
        {
         "name": "breakfast_friday",
         "rawType": "object",
         "type": "string"
        },
        {
         "name": "breakfastnumberperweek",
         "rawType": "float64",
         "type": "float"
        },
        {
         "name": "breakfast2halati",
         "rawType": "object",
         "type": "string"
        },
        {
         "name": "Breakfastcatagories",
         "rawType": "object",
         "type": "string"
        },
        {
         "name": "d_14",
         "rawType": "object",
         "type": "string"
        },
        {
         "name": "d_15",
         "rawType": "object",
         "type": "string"
        },
        {
         "name": "lunch_routinday",
         "rawType": "float64",
         "type": "float"
        },
        {
         "name": "lunch_friday",
         "rawType": "float64",
         "type": "float"
        },
        {
         "name": "naharnumber",
         "rawType": "float64",
         "type": "float"
        },
        {
         "name": "nahar2halati",
         "rawType": "object",
         "type": "string"
        },
        {
         "name": "d_16",
         "rawType": "object",
         "type": "string"
        },
        {
         "name": "d_17",
         "rawType": "object",
         "type": "string"
        },
        {
         "name": "dinner_routinday",
         "rawType": "float64",
         "type": "float"
        },
        {
         "name": "dinner_friday",
         "rawType": "float64",
         "type": "float"
        },
        {
         "name": "shamnumber",
         "rawType": "float64",
         "type": "float"
        },
        {
         "name": "sham2halati",
         "rawType": "object",
         "type": "string"
        },
        {
         "name": "mealnumber",
         "rawType": "object",
         "type": "string"
        },
        {
         "name": "d_18",
         "rawType": "object",
         "type": "string"
        },
        {
         "name": "sweet",
         "rawType": "object",
         "type": "string"
        },
        {
         "name": "Sweet2halati",
         "rawType": "object",
         "type": "string"
        },
        {
         "name": "d_19",
         "rawType": "object",
         "type": "string"
        },
        {
         "name": "saltysnack",
         "rawType": "object",
         "type": "string"
        },
        {
         "name": "saltysnack2halati",
         "rawType": "object",
         "type": "string"
        },
        {
         "name": "d_20",
         "rawType": "object",
         "type": "string"
        },
        {
         "name": "soda",
         "rawType": "object",
         "type": "string"
        },
        {
         "name": "noshabeh2halati",
         "rawType": "object",
         "type": "string"
        },
        {
         "name": "d_21_a",
         "rawType": "object",
         "type": "string"
        },
        {
         "name": "MiveyeTazehe",
         "rawType": "object",
         "type": "string"
        },
        {
         "name": "fresh_fruit",
         "rawType": "object",
         "type": "string"
        },
        {
         "name": "d_21_b",
         "rawType": "object",
         "type": "string"
        },
        {
         "name": "dry_fruit",
         "rawType": "object",
         "type": "string"
        },
        {
         "name": "MiveyeKhoshk2halati",
         "rawType": "object",
         "type": "string"
        },
        {
         "name": "d_22",
         "rawType": "object",
         "type": "string"
        },
        {
         "name": "packed_juice",
         "rawType": "object",
         "type": "string"
        },
        {
         "name": "abmiveyebastebandishodeh2halati",
         "rawType": "object",
         "type": "string"
        },
        {
         "name": "fresh_juice",
         "rawType": "object",
         "type": "string"
        },
        {
         "name": "Swetenedbeverage2halati",
         "rawType": "object",
         "type": "string"
        },
        {
         "name": "d_23",
         "rawType": "object",
         "type": "string"
        },
        {
         "name": "vegtebales",
         "rawType": "object",
         "type": "string"
        },
        {
         "name": "vegtebale2halati",
         "rawType": "object",
         "type": "string"
        },
        {
         "name": "d_24",
         "rawType": "object",
         "type": "string"
        },
        {
         "name": "milk",
         "rawType": "object",
         "type": "string"
        },
        {
         "name": "Milk2halati",
         "rawType": "object",
         "type": "string"
        },
        {
         "name": "d_25",
         "rawType": "object",
         "type": "string"
        },
        {
         "name": "fastfood",
         "rawType": "object",
         "type": "string"
        },
        {
         "name": "fastfood2halati",
         "rawType": "object",
         "type": "string"
        },
        {
         "name": "junkfoodscore",
         "rawType": "float64",
         "type": "float"
        },
        {
         "name": "jukfoodcategories2",
         "rawType": "object",
         "type": "string"
        },
        {
         "name": "e_26",
         "rawType": "object",
         "type": "string"
        },
        {
         "name": "e_27",
         "rawType": "object",
         "type": "string"
        },
        {
         "name": "e_28",
         "rawType": "object",
         "type": "string"
        },
        {
         "name": "e_29",
         "rawType": "object",
         "type": "string"
        },
        {
         "name": "e_30",
         "rawType": "object",
         "type": "string"
        },
        {
         "name": "e_31",
         "rawType": "object",
         "type": "string"
        },
        {
         "name": "physical_activiety",
         "rawType": "object",
         "type": "string"
        },
        {
         "name": "sportclass",
         "rawType": "object",
         "type": "string"
        },
        {
         "name": "Sportclasshours",
         "rawType": "object",
         "type": "string"
        },
        {
         "name": "physical_activiety_hour",
         "rawType": "float64",
         "type": "float"
        },
        {
         "name": "physicalactivityscore",
         "rawType": "float64",
         "type": "float"
        },
        {
         "name": "physicalactivitycatagories",
         "rawType": "object",
         "type": "string"
        },
        {
         "name": "TV_watching_routinday",
         "rawType": "object",
         "type": "string"
        },
        {
         "name": "TVwatchingFriday",
         "rawType": "object",
         "type": "string"
        },
        {
         "name": "TVwatchinghours",
         "rawType": "float64",
         "type": "float"
        },
        {
         "name": "TVwatchingcatagories",
         "rawType": "object",
         "type": "string"
        },
        {
         "name": "g_37",
         "rawType": "object",
         "type": "string"
        },
        {
         "name": "g_38",
         "rawType": "object",
         "type": "string"
        },
        {
         "name": "computer_work_routinday",
         "rawType": "object",
         "type": "string"
        },
        {
         "name": "computer_work_friday",
         "rawType": "object",
         "type": "string"
        },
        {
         "name": "computerworktimehours",
         "rawType": "float64",
         "type": "float"
        },
        {
         "name": "computerworkcatagories",
         "rawType": "object",
         "type": "string"
        },
        {
         "name": "screentimehours",
         "rawType": "float64",
         "type": "float"
        },
        {
         "name": "screentimecatagorries",
         "rawType": "object",
         "type": "string"
        },
        {
         "name": "sleep_hours_routinday",
         "rawType": "float64",
         "type": "float"
        },
        {
         "name": "sleep_hours_friday",
         "rawType": "float64",
         "type": "float"
        },
        {
         "name": "sleephours",
         "rawType": "float64",
         "type": "float"
        },
        {
         "name": "sleephourscatagories",
         "rawType": "object",
         "type": "string"
        },
        {
         "name": "injury_number",
         "rawType": "object",
         "type": "string"
        },
        {
         "name": "injurycatagories",
         "rawType": "object",
         "type": "string"
        },
        {
         "name": "injury_place",
         "rawType": "object",
         "type": "string"
        },
        {
         "name": "injury_cause",
         "rawType": "object",
         "type": "string"
        },
        {
         "name": "h_45_gam",
         "rawType": "object",
         "type": "string"
        },
        {
         "name": "injury_threatment_place",
         "rawType": "object",
         "type": "string"
        },
        {
         "name": "fight_number",
         "rawType": "object",
         "type": "string"
        },
        {
         "name": "physicalfightcatagory",
         "rawType": "object",
         "type": "string"
        },
        {
         "name": "litigant",
         "rawType": "object",
         "type": "string"
        },
        {
         "name": "carryـweapons",
         "rawType": "object",
         "type": "string"
        },
        {
         "name": "hamlselahcatagories",
         "rawType": "object",
         "type": "string"
        },
        {
         "name": "i_50",
         "rawType": "object",
         "type": "string"
        },
        {
         "name": "victim_number",
         "rawType": "object",
         "type": "string"
        },
        {
         "name": "victimcategories",
         "rawType": "object",
         "type": "string"
        },
        {
         "name": "bully_number",
         "rawType": "object",
         "type": "string"
        },
        {
         "name": "bullycatagories",
         "rawType": "object",
         "type": "string"
        },
        {
         "name": "father_hookah",
         "rawType": "object",
         "type": "string"
        },
        {
         "name": "mother_hookah",
         "rawType": "object",
         "type": "string"
        },
        {
         "name": "sibling_hookah",
         "rawType": "object",
         "type": "string"
        },
        {
         "name": "others_hookah",
         "rawType": "object",
         "type": "string"
        },
        {
         "name": "numbfamiwaterpipepassive",
         "rawType": "float64",
         "type": "float"
        },
        {
         "name": "passivehookah",
         "rawType": "object",
         "type": "string"
        },
        {
         "name": "father_smoker",
         "rawType": "object",
         "type": "string"
        },
        {
         "name": "mother_smoker",
         "rawType": "object",
         "type": "string"
        },
        {
         "name": "sibling_smoker",
         "rawType": "object",
         "type": "string"
        },
        {
         "name": "others_smoker",
         "rawType": "object",
         "type": "string"
        },
        {
         "name": "numberfamilsigarpassive",
         "rawType": "float64",
         "type": "float"
        },
        {
         "name": "passivecigar",
         "rawType": "object",
         "type": "string"
        },
        {
         "name": "passivesmoker",
         "rawType": "object",
         "type": "string"
        },
        {
         "name": "activeeversmoker",
         "rawType": "object",
         "type": "string"
        },
        {
         "name": "agefirstsmoking",
         "rawType": "float64",
         "type": "float"
        },
        {
         "name": "current_smoker_status",
         "rawType": "float64",
         "type": "float"
        },
        {
         "name": "smoker_type",
         "rawType": "object",
         "type": "string"
        },
        {
         "name": "smokehowmanytime",
         "rawType": "object",
         "type": "string"
        },
        {
         "name": "smokingstatus",
         "rawType": "object",
         "type": "string"
        },
        {
         "name": "comfort_father",
         "rawType": "object",
         "type": "string"
        },
        {
         "name": "comfort_mother",
         "rawType": "object",
         "type": "string"
        },
        {
         "name": "comfort_brother",
         "rawType": "object",
         "type": "string"
        },
        {
         "name": "comfort_sister",
         "rawType": "object",
         "type": "string"
        },
        {
         "name": "comfort_friend",
         "rawType": "object",
         "type": "string"
        },
        {
         "name": "stomach_ache_number",
         "rawType": "object",
         "type": "string"
        },
        {
         "name": "headache_number",
         "rawType": "object",
         "type": "string"
        },
        {
         "name": "back_pain_number",
         "rawType": "object",
         "type": "string"
        },
        {
         "name": "worthless_number",
         "rawType": "object",
         "type": "string"
        },
        {
         "name": "worthlesscatagories",
         "rawType": "object",
         "type": "string"
        },
        {
         "name": "angriness_number",
         "rawType": "object",
         "type": "string"
        },
        {
         "name": "angrinesscatagories",
         "rawType": "object",
         "type": "string"
        },
        {
         "name": "worried_number",
         "rawType": "object",
         "type": "string"
        },
        {
         "name": "worriedcatagories",
         "rawType": "object",
         "type": "string"
        },
        {
         "name": "insomnia_number",
         "rawType": "object",
         "type": "string"
        },
        {
         "name": "insomniacatagories",
         "rawType": "object",
         "type": "string"
        },
        {
         "name": "confusion_number",
         "rawType": "object",
         "type": "string"
        },
        {
         "name": "confusioncatagories",
         "rawType": "object",
         "type": "string"
        },
        {
         "name": "depression",
         "rawType": "object",
         "type": "string"
        },
        {
         "name": "depressioncatagories",
         "rawType": "object",
         "type": "string"
        },
        {
         "name": "anxiety_number",
         "rawType": "object",
         "type": "string"
        },
        {
         "name": "anxietycatagories",
         "rawType": "object",
         "type": "string"
        },
        {
         "name": "mental_health_overview",
         "rawType": "object",
         "type": "string"
        },
        {
         "name": "newSRH2halati",
         "rawType": "object",
         "type": "string"
        },
        {
         "name": "LS",
         "rawType": "float64",
         "type": "float"
        },
        {
         "name": "newLS2halati",
         "rawType": "object",
         "type": "string"
        },
        {
         "name": "smoke_staying_awake",
         "rawType": "object",
         "type": "string"
        },
        {
         "name": "smoke_feeling_loved",
         "rawType": "object",
         "type": "string"
        },
        {
         "name": "smoke_anxiety_reduction",
         "rawType": "object",
         "type": "string"
        },
        {
         "name": "smoke_social_acceptance",
         "rawType": "object",
         "type": "string"
        },
        {
         "name": "smoke_focus",
         "rawType": "object",
         "type": "string"
        },
        {
         "name": "smoke_confidence_boost",
         "rawType": "object",
         "type": "string"
        },
        {
         "name": "smoke_escaping_problems",
         "rawType": "object",
         "type": "string"
        },
        {
         "name": "n_84",
         "rawType": "object",
         "type": "string"
        },
        {
         "name": "smoke_leisure",
         "rawType": "object",
         "type": "string"
        },
        {
         "name": "smoke_feeling_grown_up",
         "rawType": "object",
         "type": "string"
        },
        {
         "name": "smoke_pleasure",
         "rawType": "object",
         "type": "string"
        },
        {
         "name": "n_88",
         "rawType": "object",
         "type": "string"
        },
        {
         "name": "n_89",
         "rawType": "object",
         "type": "string"
        },
        {
         "name": "n_90",
         "rawType": "object",
         "type": "string"
        },
        {
         "name": "n_91",
         "rawType": "object",
         "type": "string"
        },
        {
         "name": "n_92",
         "rawType": "object",
         "type": "string"
        },
        {
         "name": "n_93",
         "rawType": "object",
         "type": "string"
        },
        {
         "name": "n_94",
         "rawType": "object",
         "type": "string"
        },
        {
         "name": "n_95",
         "rawType": "object",
         "type": "string"
        },
        {
         "name": "n_96",
         "rawType": "object",
         "type": "string"
        },
        {
         "name": "n_97",
         "rawType": "object",
         "type": "string"
        },
        {
         "name": "n_98",
         "rawType": "object",
         "type": "string"
        },
        {
         "name": "weight",
         "rawType": "float64",
         "type": "float"
        },
        {
         "name": "height",
         "rawType": "float64",
         "type": "float"
        },
        {
         "name": "zheightuk",
         "rawType": "float64",
         "type": "float"
        },
        {
         "name": "shortstature",
         "rawType": "object",
         "type": "string"
        },
        {
         "name": "bmi",
         "rawType": "float64",
         "type": "float"
        },
        {
         "name": "BMIWHO4halati",
         "rawType": "object",
         "type": "string"
        },
        {
         "name": "BMIWHO3halati",
         "rawType": "object",
         "type": "string"
        },
        {
         "name": "overweightWHO",
         "rawType": "object",
         "type": "string"
        },
        {
         "name": "overweightandobesityWHO",
         "rawType": "object",
         "type": "string"
        },
        {
         "name": "obesityWHO",
         "rawType": "object",
         "type": "string"
        },
        {
         "name": "underweight",
         "rawType": "object",
         "type": "string"
        },
        {
         "name": "waist",
         "rawType": "float64",
         "type": "float"
        },
        {
         "name": "waisttoh",
         "rawType": "float64",
         "type": "float"
        },
        {
         "name": "abdominobes",
         "rawType": "object",
         "type": "string"
        },
        {
         "name": "hip",
         "rawType": "float64",
         "type": "float"
        },
        {
         "name": "WHR",
         "rawType": "float64",
         "type": "float"
        },
        {
         "name": "wrist",
         "rawType": "float64",
         "type": "float"
        },
        {
         "name": "systolic",
         "rawType": "float64",
         "type": "float"
        },
        {
         "name": "systol3h",
         "rawType": "object",
         "type": "string"
        },
        {
         "name": "systol2h",
         "rawType": "object",
         "type": "string"
        },
        {
         "name": "diastoli",
         "rawType": "float64",
         "type": "float"
        },
        {
         "name": "diast3ha",
         "rawType": "object",
         "type": "string"
        },
        {
         "name": "diastol2",
         "rawType": "object",
         "type": "string"
        },
        {
         "name": "htn2hala",
         "rawType": "object",
         "type": "string"
        },
        {
         "name": "htn3hala",
         "rawType": "object",
         "type": "string"
        },
        {
         "name": "mother_edu",
         "rawType": "object",
         "type": "string"
        },
        {
         "name": "mothereducation3halati",
         "rawType": "object",
         "type": "string"
        },
        {
         "name": "family_size",
         "rawType": "float64",
         "type": "float"
        },
        {
         "name": "familysize",
         "rawType": "object",
         "type": "string"
        },
        {
         "name": "home_ownership",
         "rawType": "object",
         "type": "string"
        },
        {
         "name": "father_edu",
         "rawType": "object",
         "type": "string"
        },
        {
         "name": "Fatherducation3halati",
         "rawType": "object",
         "type": "string"
        },
        {
         "name": "v127_a",
         "rawType": "object",
         "type": "string"
        },
        {
         "name": "father_job",
         "rawType": "object",
         "type": "string"
        },
        {
         "name": "v128_a",
         "rawType": "object",
         "type": "string"
        },
        {
         "name": "mother_job",
         "rawType": "object",
         "type": "string"
        },
        {
         "name": "car_ownership",
         "rawType": "object",
         "type": "string"
        },
        {
         "name": "computer_ownership",
         "rawType": "object",
         "type": "string"
        },
        {
         "name": "school_type",
         "rawType": "object",
         "type": "string"
        },
        {
         "name": "ses",
         "rawType": "float64",
         "type": "float"
        },
        {
         "name": "sescatag",
         "rawType": "object",
         "type": "string"
        },
        {
         "name": "v132_a",
         "rawType": "object",
         "type": "string"
        },
        {
         "name": "v133_a",
         "rawType": "object",
         "type": "string"
        },
        {
         "name": "v134_a",
         "rawType": "object",
         "type": "string"
        },
        {
         "name": "v135_a",
         "rawType": "object",
         "type": "string"
        },
        {
         "name": "v136_a",
         "rawType": "object",
         "type": "string"
        },
        {
         "name": "livingparent",
         "rawType": "object",
         "type": "string"
        },
        {
         "name": "childeren_number",
         "rawType": "object",
         "type": "string"
        },
        {
         "name": "v137_a",
         "rawType": "float64",
         "type": "float"
        },
        {
         "name": "birth_order",
         "rawType": "object",
         "type": "string"
        },
        {
         "name": "birthweight",
         "rawType": "object",
         "type": "string"
        },
        {
         "name": "milk_type",
         "rawType": "object",
         "type": "string"
        },
        {
         "name": "milktypecategories",
         "rawType": "object",
         "type": "string"
        },
        {
         "name": "breast_feeding_duration",
         "rawType": "float64",
         "type": "float"
        },
        {
         "name": "Brestfeedingcategories",
         "rawType": "object",
         "type": "string"
        },
        {
         "name": "complementry_feeding",
         "rawType": "object",
         "type": "string"
        },
        {
         "name": "c_21_1",
         "rawType": "object",
         "type": "string"
        },
        {
         "name": "c_21_2",
         "rawType": "object",
         "type": "string"
        },
        {
         "name": "c_21_3",
         "rawType": "object",
         "type": "string"
        },
        {
         "name": "c_21_4",
         "rawType": "object",
         "type": "string"
        },
        {
         "name": "c_22_1",
         "rawType": "object",
         "type": "string"
        },
        {
         "name": "c_22_2",
         "rawType": "object",
         "type": "string"
        },
        {
         "name": "c_22_3",
         "rawType": "object",
         "type": "string"
        },
        {
         "name": "c_22_4",
         "rawType": "object",
         "type": "string"
        },
        {
         "name": "c_23_1",
         "rawType": "object",
         "type": "string"
        },
        {
         "name": "c_23_2",
         "rawType": "object",
         "type": "string"
        },
        {
         "name": "c_23_3",
         "rawType": "object",
         "type": "string"
        },
        {
         "name": "c_23_4",
         "rawType": "object",
         "type": "string"
        },
        {
         "name": "c_24_1",
         "rawType": "object",
         "type": "string"
        },
        {
         "name": "c_24_2",
         "rawType": "object",
         "type": "string"
        },
        {
         "name": "c_24_3",
         "rawType": "object",
         "type": "string"
        },
        {
         "name": "c_24_4",
         "rawType": "object",
         "type": "string"
        },
        {
         "name": "c_25_1",
         "rawType": "object",
         "type": "string"
        },
        {
         "name": "c_25_2",
         "rawType": "object",
         "type": "string"
        },
        {
         "name": "c_25_3",
         "rawType": "object",
         "type": "string"
        },
        {
         "name": "c_25_4",
         "rawType": "object",
         "type": "string"
        },
        {
         "name": "c_26_1",
         "rawType": "object",
         "type": "string"
        },
        {
         "name": "c_26_2",
         "rawType": "object",
         "type": "string"
        },
        {
         "name": "c_26_3",
         "rawType": "object",
         "type": "string"
        },
        {
         "name": "c_26_4",
         "rawType": "object",
         "type": "string"
        },
        {
         "name": "c_27_1",
         "rawType": "object",
         "type": "string"
        },
        {
         "name": "c_27_2",
         "rawType": "object",
         "type": "string"
        },
        {
         "name": "c_27_3",
         "rawType": "object",
         "type": "string"
        },
        {
         "name": "c_27_4",
         "rawType": "object",
         "type": "string"
        },
        {
         "name": "c_28_1",
         "rawType": "object",
         "type": "string"
        },
        {
         "name": "c_28_2",
         "rawType": "object",
         "type": "string"
        },
        {
         "name": "c_28_3",
         "rawType": "object",
         "type": "string"
        },
        {
         "name": "c_28_4",
         "rawType": "object",
         "type": "string"
        },
        {
         "name": "FHHTN",
         "rawType": "object",
         "type": "string"
        },
        {
         "name": "FHDislipid",
         "rawType": "object",
         "type": "string"
        },
        {
         "name": "FHobesity",
         "rawType": "object",
         "type": "string"
        },
        {
         "name": "FHDM",
         "rawType": "object",
         "type": "string"
        },
        {
         "name": "FHscore",
         "rawType": "float64",
         "type": "float"
        },
        {
         "name": "bread_type",
         "rawType": "object",
         "type": "string"
        },
        {
         "name": "oil_type",
         "rawType": "object",
         "type": "string"
        },
        {
         "name": "newoiltype",
         "rawType": "object",
         "type": "string"
        },
        {
         "name": "table_salt",
         "rawType": "object",
         "type": "string"
        },
        {
         "name": "dairy_type",
         "rawType": "object",
         "type": "string"
        },
        {
         "name": "dairytype2halati",
         "rawType": "object",
         "type": "string"
        },
        {
         "name": "fatty_dairy",
         "rawType": "object",
         "type": "string"
        },
        {
         "name": "fattydairyparent2h",
         "rawType": "object",
         "type": "string"
        },
        {
         "name": "usual_dairy",
         "rawType": "object",
         "type": "string"
        },
        {
         "name": "usualdairyparent2h",
         "rawType": "object",
         "type": "string"
        },
        {
         "name": "grains",
         "rawType": "object",
         "type": "string"
        },
        {
         "name": "grains2h",
         "rawType": "object",
         "type": "string"
        },
        {
         "name": "fastfoods",
         "rawType": "object",
         "type": "string"
        },
        {
         "name": "fastfoods2h",
         "rawType": "object",
         "type": "string"
        },
        {
         "name": "meat",
         "rawType": "object",
         "type": "string"
        },
        {
         "name": "meat2h",
         "rawType": "object",
         "type": "string"
        },
        {
         "name": "liverandkalepache",
         "rawType": "object",
         "type": "string"
        },
        {
         "name": "liverandkalepache2h",
         "rawType": "object",
         "type": "string"
        },
        {
         "name": "bread",
         "rawType": "object",
         "type": "string"
        },
        {
         "name": "bread2h",
         "rawType": "object",
         "type": "string"
        },
        {
         "name": "rice",
         "rawType": "object",
         "type": "string"
        },
        {
         "name": "rice2h",
         "rawType": "object",
         "type": "string"
        },
        {
         "name": "potato",
         "rawType": "object",
         "type": "string"
        },
        {
         "name": "potatoandfresh2h",
         "rawType": "object",
         "type": "string"
        },
        {
         "name": "sweetparent",
         "rawType": "object",
         "type": "string"
        },
        {
         "name": "sweetparent2h",
         "rawType": "object",
         "type": "string"
        },
        {
         "name": "saltysnakeparent",
         "rawType": "object",
         "type": "string"
        },
        {
         "name": "saltysnakeparent2h",
         "rawType": "object",
         "type": "string"
        },
        {
         "name": "swetenedbeveraparent",
         "rawType": "object",
         "type": "string"
        },
        {
         "name": "swetenedbeveraparent2h",
         "rawType": "object",
         "type": "string"
        },
        {
         "name": "fruitparent",
         "rawType": "object",
         "type": "string"
        },
        {
         "name": "fruitparent2h",
         "rawType": "object",
         "type": "string"
        },
        {
         "name": "vegtableparent",
         "rawType": "object",
         "type": "string"
        },
        {
         "name": "vegtableparent2h",
         "rawType": "object",
         "type": "string"
        },
        {
         "name": "nutsparent",
         "rawType": "object",
         "type": "string"
        },
        {
         "name": "nutsparent2h",
         "rawType": "object",
         "type": "string"
        },
        {
         "name": "friedfoods",
         "rawType": "object",
         "type": "string"
        },
        {
         "name": "friedfoods2h",
         "rawType": "object",
         "type": "string"
        },
        {
         "name": "Fooditemsscore",
         "rawType": "float64",
         "type": "float"
        },
        {
         "name": "reduce_fat",
         "rawType": "object",
         "type": "string"
        },
        {
         "name": "reduce_salt",
         "rawType": "object",
         "type": "string"
        },
        {
         "name": "reduce_fast_food",
         "rawType": "object",
         "type": "string"
        },
        {
         "name": "use_liquid_oil",
         "rawType": "object",
         "type": "string"
        },
        {
         "name": "reduce_sugar",
         "rawType": "object",
         "type": "string"
        },
        {
         "name": "increase_vegetables",
         "rawType": "object",
         "type": "string"
        },
        {
         "name": "fruit_nut_substitute",
         "rawType": "object",
         "type": "string"
        },
        {
         "name": "injery_parent_ask",
         "rawType": "object",
         "type": "string"
        },
        {
         "name": "injury_complication",
         "rawType": "object",
         "type": "string"
        },
        {
         "name": "BMIWHO4Halati2",
         "rawType": "object",
         "type": "string"
        },
        {
         "name": "Bodyimage3Halati2",
         "rawType": "float64",
         "type": "float"
        },
        {
         "name": "Fatherconsultant",
         "rawType": "float64",
         "type": "float"
        },
        {
         "name": "Motherconsultant",
         "rawType": "float64",
         "type": "float"
        },
        {
         "name": "Friendconsultant",
         "rawType": "float64",
         "type": "float"
        },
        {
         "name": "brotherconsultant",
         "rawType": "float64",
         "type": "float"
        },
        {
         "name": "sisterconsultant",
         "rawType": "float64",
         "type": "float"
        },
        {
         "name": "brosiscons",
         "rawType": "float64",
         "type": "float"
        },
        {
         "name": "brothersisterconsultant",
         "rawType": "float64",
         "type": "float"
        }
       ],
       "conversionMethod": "pd.DataFrame",
       "ref": "7c7e1603-d49d-447a-b580-fe18e00d69b0",
       "rows": [
        [
         "0",
         "2.0",
         "19119217904.0",
         "khozestan-ahvaz",
         "khozestan",
         "West",
         "urban",
         "19.0",
         "rahnamayi",
         "boy",
         "79.0",
         "12.0",
         "11-14",
         "10-18",
         "4.0",
         "yeki",
         ">=2friend",
         "hich ruz",
         "3ruz",
         "1.5",
         "1-3 roz",
         "5 ya 6 ruz dar hafte",
         "kami chag",
         "chag",
         "Overweight- overweight",
         "Congruent",
         "no wt ok ast",
         "NO",
         "kamlan movafeq",
         "kamlan movafeq",
         "kheili",
         "motevaset",
         "kheili khosham myayad",
         "aslan nemikhoram",
         "nemikhoram",
         "0.0",
         "skipper:<5 times per week",
         " Skipper",
         "3ruz",
         "mikhoram",
         "3.0",
         "1.0",
         "4.0",
         "skipper:<5 times per week",
         "5ruz",
         "mikhoram",
         "5.0",
         "1.0",
         "6.0",
         "non skipper",
         "1 meal",
         "never",
         "Seldom/never",
         " Nondaily",
         "daily",
         "Daily",
         "Daily",
         "never",
         "Seldom/Never",
         " Nondaily",
         "weekly",
         "Daily",
         " Nondaily",
         "rarely",
         "Seldom/Never",
         " Nondaily",
         "never",
         "Seldom/Never",
         " Nondaily",
         "Seldom/never",
         " Nondaily",
         "daily",
         "Daily",
         "Daily",
         "never",
         "Seldom/never",
         " Nondaily",
         "weekly",
         "Weekly",
         " Nondaily",
         "0.9589845538139343",
         "rarely",
         "1bar dar ruz",
         "yes",
         "hamishe",
         "yes",
         "hamishe",
         "gahi",
         "hich ruzi",
         "yes",
         "1 saat",
         "1.0",
         "-0.615401566028595",
         "mild",
         "aslan",
         "3saat",
         "0.4285714328289032",
         "<=2h",
         "4 ya bishtar",
         "aslan",
         "aslan",
         "aslan",
         "0.0",
         "<=2h",
         "0.2142857164144516",
         "<=2h",
         "8.0",
         "12.0",
         "8.571428298950195",
         ">8h",
         "0.0",
         "no",
         "",
         "",
         "",
         "",
         "0",
         "no",
         "nadashtam",
         "hichvaght",
         "no",
         "hichvaght",
         "hichvaght",
         "No",
         "nagofteam",
         "No",
         "no",
         "no",
         "no",
         "no",
         "0.0",
         "no",
         "no",
         "no",
         "no",
         "no",
         "0.0",
         "no",
         "no",
         "no",
         null,
         "0.0",
         "No  current smmoker",
         "No current smoker",
         "No smoker",
         "raht",
         "raht",
         "raht",
         "raht",
         "raht",
         "benodrat ya hargez",
         "benodrat ya hargez",
         "benodrat ya hargez",
         "benodrat ya hargez",
         "No",
         "benodrat ya hargez",
         "No",
         "benodrat ya hargez",
         "No",
         "benodrat ya hargez",
         "No",
         "benodrat ya hargez",
         "No",
         "kheir",
         "No",
         "hargez",
         "No",
         "motevaset",
         "Not good",
         "10.0",
         "Satisfy",
         "",
         "",
         "",
         "",
         "",
         "",
         "",
         "",
         "",
         "",
         "",
         "",
         "",
         "",
         "",
         "",
         "",
         "",
         "",
         "",
         "",
         "",
         "38.0",
         "112.5",
         "-4.985754013061523",
         " shortstature",
         "30.024690628051758",
         "obesity",
         "Overweight and obese",
         "nonoverweight",
         " Overweight and obese; BMI>25",
         " Obese",
         "No",
         "60.0",
         "0.5333333611488342",
         "yes",
         "66.5",
         "0.24060150980949402",
         "16.0",
         "110.0",
         "normal",
         "normal",
         "50.0",
         "normal",
         "normal",
         "normal",
         "normotensive",
         "diplom",
         "Diploma>=",
         "4.0",
         "Less/ =4",
         "shakshi",
         "ebtedaei",
         "Diploma>=",
         "azad",
         " azad",
         "khanedar",
         "Household",
         "yes",
         "yes",
         "gheyre entefaei",
         "1.9068272113800049",
         "good",
         "yes",
         "yes",
         "no",
         "no",
         "no",
         " Ba hardo",
         "<2 children",
         "2.0",
         "second",
         "2.5-4kg",
         "shire madar",
         "Breastfeeding",
         null,
         "",
         "ghazaye manzel",
         "no",
         "no",
         "no",
         "no",
         "no",
         "no",
         "no",
         "no",
         "no",
         "no",
         "no",
         "no",
         "no",
         "no",
         "no",
         "no",
         "no",
         "no",
         "no",
         "no",
         "no",
         "no",
         "no",
         "no",
         "no",
         "no",
         "no",
         "no",
         "no",
         "no",
         "no",
         "no",
         "No",
         "No",
         "No",
         "No",
         "1.7772729396820068",
         "bedune sabus",
         "sorkhkardani",
         "unsaturated",
         "Yes",
         "qeyre pasto porcharb",
         "High fat",
         "weekly",
         " Nondaily",
         "daily",
         "Daily",
         "rarely",
         " Nondaily",
         "weekly",
         " Nondaily",
         "weekly",
         " Nondaily",
         "weekly",
         " Nondaily",
         "daily",
         "Daily",
         "weekly",
         " Nondaily",
         "rarely",
         " Nondaily",
         "daily",
         "Daily",
         "daily",
         "Daily",
         "weekly",
         " Nondaily",
         "daily",
         "Daily",
         "weekly",
         " Nondaily",
         "daily",
         "Daily",
         "weekly",
         " Nondaily",
         "-0.28171634674072266",
         "no",
         "no",
         "no",
         "no",
         "no",
         "no",
         "no",
         "no",
         "",
         "Obesity",
         "3.0",
         "1.0",
         "1.0",
         "1.0",
         "1.0",
         "1.0",
         "2.0",
         "1.0"
        ],
        [
         "1",
         "2.0",
         "19125217405.0",
         "khozestan-ahvaz",
         "khozestan",
         "West",
         "urban",
         "25.0",
         "rahnamayi",
         "boy",
         "74.0",
         "17.0",
         "15-19",
         "10-18",
         "5.0",
         "3ta va bishtar",
         ">3friend",
         "2ruz",
         "2ruz",
         "2.0",
         "1-3 roz",
         "1 ya 2ruz dar hafte",
         "normal",
         "normal",
         "Healthy weight-about right",
         "Congruent",
         "no wt ok ast",
         "NO",
         "movafegham",
         "movafegham",
         "kami",
         "kheili khob",
         "kheili khosham myayad",
         "aslan nemikhoram",
         "",
         "1.0",
         "skipper:<5 times per week",
         " Skipper",
         "6ruz",
         "nemikhoram",
         "6.0",
         "0.0",
         "6.0",
         "non skipper",
         "4ruz",
         "nemikhoram",
         "4.0",
         "0.0",
         "4.0",
         "skipper:<5 times per week",
         "1 meal",
         "daily",
         "Daily",
         "Daily",
         "weekly",
         "Weekly",
         " Nondaily",
         "weekly",
         "Weekly",
         " Nondaily",
         "weekly",
         "Daily",
         " Nondaily",
         "weekly",
         "Weekly",
         " Nondaily",
         "weekly",
         "Weekly",
         " Nondaily",
         "Weekly",
         " Nondaily",
         "weekly",
         "Weekly",
         " Nondaily",
         "weekly",
         "Weekly",
         " Nondaily",
         "weekly",
         "Weekly",
         " Nondaily",
         "-1.8717293739318848",
         "Daily",
         "hichvaght",
         "yes",
         "gahi",
         "yes",
         "hamishe",
         "hamishe",
         "3ruz",
         "yes",
         "1 saat",
         "1.0",
         "-0.2000828981399536",
         "moderate",
         "2saat",
         "",
         null,
         "",
         "2saat",
         "",
         "aslan",
         "",
         null,
         "",
         null,
         "",
         "12.0",
         "12.0",
         "12.0",
         ">8h",
         "1bar",
         "yes",
         "dar khane ya hayate khane",
         "rah raftan ya davidan",
         "",
         "matab",
         "0",
         "no",
         "nadashtam",
         "hichvaght",
         "no",
         "hichvaght",
         "hichvaght",
         "No",
         "nagofteam",
         "No",
         "no",
         "no",
         "no",
         "no",
         "0.0",
         "no",
         "no",
         "no",
         "no",
         "no",
         "0.0",
         "no",
         "no",
         "no",
         null,
         "0.0",
         "No  current smmoker",
         "No current smoker",
         "No smoker",
         "raht",
         "raht",
         "raht",
         "raht",
         "raht",
         "benodrat ya hargez",
         "taqriban har hafte",
         "benodrat ya hargez",
         "benodrat ya hargez",
         "No",
         "bish az 1bar",
         "yes",
         "benodrat ya hargez",
         "No",
         "benodrat ya hargez",
         "No",
         "benodrat ya hargez",
         "No",
         "bekhater nadarm",
         "No",
         "gahi",
         "yes",
         "khob",
         " good",
         "9.0",
         "Satisfy",
         "",
         "",
         "",
         "",
         "",
         "",
         "",
         "",
         "",
         "",
         "",
         "",
         "",
         "",
         "",
         "",
         "",
         "",
         "",
         "",
         "",
         "",
         "44.0",
         "140.0",
         "-4.984953880310059",
         " shortstature",
         "22.4489803314209",
         "normal weight",
         "Healthy weight",
         "nonoverweight",
         "nonoverweight and obese: BMI<25",
         "nonobese",
         "No",
         "29.0",
         "0.20714285969734192",
         "no",
         "33.0",
         "0.5151515007019043",
         "17.0",
         "100.0",
         "normal",
         "normal",
         "60.0",
         "normal",
         "normal",
         "normal",
         "normotensive",
         "bisavad",
         "Iliterate",
         "5.0",
         ">4",
         "estijari",
         "bisavad",
         "Iliterate",
         "azad",
         " azad",
         "khanedar",
         "Household",
         "yes",
         "no",
         "dolati",
         "-1.9874495267868042",
         "week",
         "yes",
         "yes",
         "no",
         "no",
         "no",
         " Ba hardo",
         "",
         null,
         "",
         "",
         "",
         "",
         null,
         "",
         "",
         "",
         "",
         "",
         "",
         "",
         "",
         "",
         "",
         "",
         "",
         "",
         "",
         "",
         "",
         "",
         "",
         "",
         "",
         "",
         "",
         "",
         "",
         "",
         "",
         "",
         "",
         "",
         "",
         "",
         "",
         "",
         "",
         "",
         "",
         "",
         "",
         null,
         "",
         "",
         "",
         "",
         "",
         "",
         "",
         "",
         "",
         "",
         "",
         "",
         "",
         "",
         "",
         "",
         "",
         "",
         "",
         "",
         "",
         "",
         "",
         "",
         "",
         "",
         "",
         "",
         "",
         "",
         "",
         "",
         "",
         "",
         "",
         "",
         "",
         "",
         null,
         "",
         "",
         "",
         "",
         "",
         "",
         "",
         "",
         "",
         "Normal",
         "1.0",
         "1.0",
         "1.0",
         "1.0",
         "1.0",
         "1.0",
         "2.0",
         "1.0"
        ],
        [
         "2",
         "3.0",
         "8122128007.0",
         "boshehr",
         "boshehr",
         "West",
         "urban",
         "22.0",
         "ebtedayi",
         "girl",
         "80.0",
         "11.0",
         "11-14",
         "10-18",
         "7.0",
         "3ta va bishtar",
         ">3friend",
         "hich ruz",
         "2ruz",
         "1.0",
         "1-3 roz",
         "5 ya 6 ruz dar hafte",
         "kamilagar",
         "lagar",
         "Underweight-overweight",
         "Discongruent",
         "no wt ok ast",
         "NO",
         "kamlan movafeq",
         "kamlan movafeq",
         "aslan",
         "kamtar az motevaset",
         "kheili khosham myayad",
         "2ruz",
         "mikhoram",
         "3.0",
         "skipper:<5 times per week",
         "Semi skipper",
         "6ruz",
         "mikhoram",
         "6.0",
         "1.0",
         "7.0",
         "non skipper",
         "6ruz",
         "mikhoram",
         "6.0",
         "1.0",
         "7.0",
         "non skipper",
         "Lunch-Dinner",
         "weekly",
         "Weekly",
         " Nondaily",
         "weekly",
         "Weekly",
         " Nondaily",
         "never",
         "Seldom/Never",
         " Nondaily",
         "weekly",
         "Daily",
         " Nondaily",
         "weekly",
         "Weekly",
         " Nondaily",
         "weekly",
         "Weekly",
         " Nondaily",
         "Weekly",
         " Nondaily",
         "daily",
         "Daily",
         "Daily",
         "weekly",
         "Weekly",
         " Nondaily",
         "rarely",
         "Seldom/never",
         " Nondaily",
         "0.2560321092605591",
         "weekly",
         "bish az 1bar dar ruz",
         "yes",
         "hamishe",
         "yes",
         "hamishe",
         "hamishe",
         "hich ruzi",
         "yes",
         "2 saat",
         "2.0",
         "0.20508812367916107",
         "moderate",
         "2saat",
         "2saat",
         "2.0",
         "<=2h",
         "4 ya bishtar",
         "3saat",
         "aslan",
         "aslan",
         "0.0",
         "<=2h",
         "1.0",
         "<=2h",
         "12.0",
         "16.0",
         "12.571428298950195",
         ">8h",
         "0.0",
         "no",
         "",
         "",
         "",
         "",
         "2",
         "yes",
         "dustam",
         "hichvaght",
         "no",
         "hichvaght",
         "2 ta 3bar",
         "yes",
         "faqat 1 ya 2bar",
         "yes",
         "no",
         "yes",
         "no",
         "yes",
         "2.0",
         "yes",
         "yes",
         "no",
         "no",
         "no",
         "1.0",
         "yes",
         "yes",
         "no",
         null,
         "0.0",
         "No  current smmoker",
         "No current smoker",
         "only passive",
         "doshvar",
         "raht",
         "kasi nadarm ya dur ast",
         "kasi nadarm ya dur ast",
         "raht",
         "benodrat ya hargez",
         "taqriban har mah",
         "taqriban har mah",
         "taqriban har mah",
         "No",
         "taqriban har mah",
         "No",
         "benodrat ya hargez",
         "No",
         "taqriban har mah",
         "No",
         "taqriban har mah",
         "No",
         "bali",
         "yes",
         "hargez",
         "No",
         "bad",
         "Not good",
         "5.0",
         "Dissatisfy",
         "",
         "",
         "",
         "",
         "",
         "",
         "",
         "",
         "",
         "",
         "",
         "",
         "",
         "",
         "",
         "",
         "",
         "",
         "",
         "",
         "",
         "",
         "42.0",
         "110.0",
         "-4.947693347930908",
         " shortstature",
         "34.71074295043945",
         "obesity",
         "Overweight and obese",
         "nonoverweight",
         " Overweight and obese; BMI>25",
         " Obese",
         "No",
         "76.0",
         "0.6909090876579285",
         "yes",
         "86.0",
         "0.1744185984134674",
         "15.0",
         "110.0",
         "normal",
         "normal",
         "60.0",
         "normal",
         "normal",
         "normal",
         "normotensive",
         "rahnamaei",
         "Diploma>=",
         "4.0",
         "Less/ =4",
         "estijari",
         "rahnamaei",
         "Diploma>=",
         "azad",
         " azad",
         "khanedar",
         "Household",
         "no",
         "no",
         "dolati",
         "-0.7388211488723755",
         "moderate",
         "yes",
         "yes",
         "no",
         "no",
         "no",
         " Ba hardo",
         "<2 children",
         "2.0",
         "second",
         "2.5-4kg",
         "shire madar",
         "Breastfeeding",
         "6.0",
         "to 6 month",
         "har2 ama manzel bishtar",
         "no",
         "no",
         "no",
         "no",
         "no",
         "no",
         "no",
         "no",
         "no",
         "no",
         "no",
         "no",
         "no",
         "no",
         "no",
         "no",
         "no",
         "no",
         "no",
         "no",
         "no",
         "no",
         "no",
         "no",
         "no",
         "no",
         "no",
         "no",
         "no",
         "no",
         "no",
         "no",
         "No",
         "No",
         "No",
         "No",
         "1.7772729396820068",
         "bedune sabus",
         "roqan jamed",
         "saturated",
         "Yes",
         "pastoriz mauli",
         "Low fat",
         "daily",
         "Daily",
         "daily",
         "Daily",
         "weekly",
         " Nondaily",
         "never",
         " Nondaily",
         "weekly",
         " Nondaily",
         "never",
         " Nondaily",
         "daily",
         "Daily",
         "daily",
         "Daily",
         "weekly",
         " Nondaily",
         "daily",
         "Daily",
         "weekly",
         " Nondaily",
         "weekly",
         " Nondaily",
         "daily",
         "Daily",
         "daily",
         "Daily",
         "weekly",
         " Nondaily",
         "daily",
         "Daily",
         "1.5875654220581055",
         "no",
         "no",
         "no",
         "no",
         "no",
         "no",
         "no",
         "no",
         "",
         "Obesity",
         "2.0",
         "0.0",
         "1.0",
         "1.0",
         "0.0",
         "0.0",
         "0.0",
         "0.0"
        ],
        [
         "3",
         "4.0",
         "3128227803.0",
         "ardabil",
         "ardabil",
         "West",
         "urban",
         "28.0",
         "rahnamayi",
         "girl",
         "78.0",
         "13.0",
         "11-14",
         "10-18",
         "3.0",
         "2ta",
         ">=2friend",
         "5ruz",
         "4ruz",
         "4.5",
         ">3roz",
         "3 ya 4 ruz dar hafte",
         "kamilagar",
         "lagar",
         "",
         "",
         "yes",
         "Yes",
         "movafegham",
         "movafegham",
         "aslan",
         "kheili khob",
         "kheili khosham myayad",
         "6ruz",
         "mikhoram",
         "7.0",
         "non skipper",
         "Non skipper",
         "6ruz",
         "mikhoram",
         "6.0",
         "1.0",
         "7.0",
         "non skipper",
         "6ruz",
         "mikhoram",
         "6.0",
         "1.0",
         "7.0",
         "non skipper",
         "3meals",
         "daily",
         "Daily",
         "Daily",
         "weekly",
         "Weekly",
         " Nondaily",
         "weekly",
         "Weekly",
         " Nondaily",
         "weekly",
         "Daily",
         " Nondaily",
         "weekly",
         "Weekly",
         " Nondaily",
         "weekly",
         "Weekly",
         " Nondaily",
         "Weekly",
         " Nondaily",
         "weekly",
         "Weekly",
         " Nondaily",
         "daily",
         "Daily",
         "Daily",
         "rarely",
         "Seldom/never",
         " Nondaily",
         "-1.2724089622497559",
         "Daily",
         "bish az 1bar dar ruz",
         "yes",
         "na hichvaght",
         "yes",
         "gahi",
         "gahi",
         "6ruz",
         "yes",
         "3 saat ya bishtar",
         "3.0",
         "1.856215238571167",
         "sever",
         "1 saat",
         "2saat",
         "1.1428571939468384",
         "<=2h",
         "1 saat",
         "2saat",
         "1 saat",
         "1 saat",
         "1.0",
         "<=2h",
         "1.0714285373687744",
         "<=2h",
         "9.0",
         "10.0",
         "9.142857551574707",
         ">8h",
         "0.0",
         "no",
         "",
         "",
         "",
         "",
         "0",
         "no",
         "nadashtam",
         "hichvaght",
         "no",
         "hichvaght",
         "hichvaght",
         "No",
         "nagofteam",
         "No",
         "no",
         "no",
         "no",
         "no",
         "0.0",
         "no",
         "yes",
         "no",
         "no",
         "no",
         "1.0",
         "yes",
         "yes",
         "no",
         null,
         "0.0",
         "No  current smmoker",
         "No current smoker",
         "only passive",
         "doshvar",
         "raht",
         "kasi nadarm ya dur ast",
         "kasi nadarm ya dur ast",
         "raht",
         "taqriban har ruz",
         "bish az 1bar",
         "taqriban har ruz",
         "taqriban har hafte",
         "yes",
         "bish az 1bar",
         "yes",
         "bish az 1bar",
         "yes",
         "bish az 1bar",
         "yes",
         "benodrat ya hargez",
         "No",
         "bekhater nadarm",
         "No",
         "gahi",
         "yes",
         "khob",
         " good",
         "9.0",
         "Satisfy",
         "",
         "",
         "",
         "",
         "",
         "",
         "",
         "",
         "",
         "",
         "",
         "",
         "",
         "",
         "",
         "",
         "",
         "",
         "",
         "",
         "",
         "",
         null,
         "121.0",
         "-4.947612762451172",
         " shortstature",
         null,
         "",
         "",
         "",
         "",
         "",
         "",
         "71.5",
         "0.5909090638160706",
         "yes",
         "83.0",
         "0.15060241520404816",
         "12.5",
         "90.0",
         "normal",
         "normal",
         "70.0",
         "normal",
         "normal",
         "normal",
         "normotensive",
         "lisans",
         "University",
         "4.0",
         "Less/ =4",
         "shakshi",
         "balaye lisans",
         "University",
         "karmand",
         "worker/employee",
         "karmand",
         "workoer/employee",
         "yes",
         "yes",
         "dolati",
         "3.053004026412964",
         "good",
         "yes",
         "yes",
         "no",
         "no",
         "no",
         " Ba hardo",
         "<2 children",
         "2.0",
         "first",
         "2.5-4kg",
         "shire madar",
         "Breastfeeding",
         "24.0",
         ">18 to 24",
         "qazaye amade",
         "no",
         "yes",
         "no",
         "no",
         "no",
         "no",
         "no",
         "no",
         "no",
         "no",
         "no",
         "no",
         "no",
         "no",
         "no",
         "no",
         "no",
         "no",
         "yes",
         "no",
         "no",
         "no",
         "no",
         "no",
         "no",
         "no",
         "yes",
         "no",
         "no",
         "no",
         "no",
         "no",
         "Yes",
         "No",
         "No",
         "No",
         "1.3268113136291504",
         "sabusdar",
         "roqan maye",
         "unsaturated",
         "Yes",
         "p porcharb",
         "High fat",
         "weekly",
         " Nondaily",
         "daily",
         "Daily",
         "weekly",
         " Nondaily",
         "rarely",
         " Nondaily",
         "weekly",
         " Nondaily",
         "rarely",
         " Nondaily",
         "daily",
         "Daily",
         "weekly",
         " Nondaily",
         "weekly",
         " Nondaily",
         "daily",
         "Daily",
         "weekly",
         " Nondaily",
         "weekly",
         " Nondaily",
         "weekly",
         " Nondaily",
         "weekly",
         " Nondaily",
         "rarely",
         " Nondaily",
         "weekly",
         " Nondaily",
         "-1.7037410736083984",
         "no",
         "no",
         "no",
         "no",
         "no",
         "yes",
         "yes",
         "no",
         "",
         "",
         "2.0",
         "0.0",
         "1.0",
         "1.0",
         "0.0",
         "0.0",
         "0.0",
         "0.0"
        ],
        [
         "4",
         "4.0",
         "3105128103.0",
         "ardabil",
         "ardabil",
         "West",
         "urban",
         "5.0",
         "ebtedayi",
         "girl",
         "81.0",
         "10.0",
         "6-10",
         "6-10",
         "3.0",
         "yeki",
         ">=2friend",
         "1ruz",
         "1ruz",
         "1.0",
         "1-3 roz",
         "1 ya 2ruz dar hafte",
         "normal",
         "normal",
         "Healthy weight-overweight",
         "Discongruent",
         "no wt ok ast",
         "NO",
         "kamlan movafeq",
         "kamlan movafeq",
         "tahadi",
         "motevaset",
         "kheili khosham myayad",
         "6ruz",
         "mikhoram",
         "7.0",
         "non skipper",
         "Non skipper",
         "6ruz",
         "mikhoram",
         "6.0",
         "1.0",
         "7.0",
         "non skipper",
         "6ruz",
         "mikhoram",
         "6.0",
         "1.0",
         "7.0",
         "non skipper",
         "3meals",
         "weekly",
         "Weekly",
         " Nondaily",
         "weekly",
         "Weekly",
         " Nondaily",
         "never",
         "Seldom/Never",
         " Nondaily",
         "daily",
         "2.0",
         "Daily",
         "daily",
         "Daily",
         "Daily",
         "daily",
         "Daily",
         "Daily",
         "Daily",
         "Daily",
         "rarely",
         "Seldom/Never",
         " Nondaily",
         "daily",
         "Daily",
         "Daily",
         "weekly",
         "Weekly",
         " Nondaily",
         "-0.6523970365524292",
         "Daily",
         "1bar dar ruz",
         "yes",
         "hamishe",
         "yes",
         "hamishe",
         "hamishe",
         "hich ruzi",
         "yes",
         "1 saat",
         "1.0",
         "-0.615401566028595",
         "mild",
         "1 saat",
         "1 saat",
         "1.0",
         "<=2h",
         "1 saat",
         "1 saat",
         "1 saat",
         "1 saat",
         "1.0",
         "<=2h",
         "1.0",
         "<=2h",
         "9.0",
         "11.0",
         "9.285714149475098",
         ">8h",
         "0.0",
         "no",
         "",
         "",
         "",
         "",
         "0",
         "no",
         "nadashtam",
         "hichvaght",
         "no",
         "hichvaght",
         "1 ya 2bar",
         "yes",
         "nagofteam",
         "No",
         "yes",
         "no",
         "no",
         "no",
         "1.0",
         "yes",
         "no",
         "no",
         "no",
         "yes",
         "1.0",
         "yes",
         "yes",
         "no",
         null,
         "0.0",
         "No  current smmoker",
         "No current smoker",
         "only passive",
         "raht",
         "raht",
         "raht",
         "raht",
         "raht",
         "benodrat ya hargez",
         "benodrat ya hargez",
         "benodrat ya hargez",
         "benodrat ya hargez",
         "No",
         "benodrat ya hargez",
         "No",
         "benodrat ya hargez",
         "No",
         "benodrat ya hargez",
         "No",
         "benodrat ya hargez",
         "No",
         "kheir",
         "No",
         "hargez",
         "No",
         "aali",
         " good",
         "9.0",
         "Satisfy",
         "",
         "",
         "",
         "",
         "",
         "",
         "",
         "",
         "",
         "",
         "",
         "",
         "",
         "",
         "",
         "",
         "",
         "",
         "",
         "",
         "",
         "",
         "33.0",
         "107.0",
         "-4.943307876586914",
         " shortstature",
         "28.82347869873047",
         "obesity",
         "Overweight and obese",
         "nonoverweight",
         " Overweight and obese; BMI>25",
         " Obese",
         "No",
         "62.0",
         "0.5794392228126526",
         "yes",
         "78.0",
         "0.1794871836900711",
         "14.0",
         "100.0",
         "normal",
         "normal",
         "50.0",
         "normal",
         "normal",
         "normal",
         "normotensive",
         "diplom",
         "Diploma>=",
         "5.0",
         ">4",
         "estijari",
         "diplom",
         "Diploma>=",
         "azad",
         " azad",
         "khanedar",
         "Household",
         "yes",
         "yes",
         "dolati",
         "1.5488179922103882",
         "good",
         "yes",
         "yes",
         "no",
         "no",
         "no",
         " Ba hardo",
         "2-4 children",
         "3.0",
         "third",
         "2.5-4kg",
         "shire madar va khoshk",
         "Milk",
         "6.0",
         "to 6 month",
         "ghazaye manzel",
         "no",
         "no",
         "yes",
         "no",
         "no",
         "no",
         "no",
         "no",
         "no",
         "no",
         "yes",
         "no",
         "no",
         "no",
         "no",
         "no",
         "no",
         "no",
         "no",
         "no",
         "no",
         "no",
         "yes",
         "no",
         "no",
         "no",
         "no",
         "no",
         "no",
         "no",
         "no",
         "no",
         "Yes",
         "No",
         "No",
         "Yes",
         "0.14658291637897491",
         "bedune sabus",
         "roqan jamed",
         "saturated",
         "Yes",
         "qeyre pasto mamuli",
         "Low fat",
         "daily",
         "Daily",
         "daily",
         "Daily",
         "weekly",
         " Nondaily",
         "rarely",
         " Nondaily",
         "daily",
         "Daily",
         "rarely",
         " Nondaily",
         "daily",
         "Daily",
         "daily",
         "Daily",
         "daily",
         "Daily",
         "daily",
         "Daily",
         "weekly",
         " Nondaily",
         "rarely",
         " Nondaily",
         "daily",
         "Daily",
         "weekly",
         " Nondaily",
         "daily",
         "Daily",
         "daily",
         "Daily",
         "3.029792547225952",
         "no",
         "no",
         "yes",
         "yes",
         "no",
         "no",
         "yes",
         "no",
         "",
         "Obesity",
         "1.0",
         "1.0",
         "1.0",
         "1.0",
         "1.0",
         "1.0",
         "2.0",
         "1.0"
        ]
       ],
       "shape": {
        "columns": 342,
        "rows": 5
       }
      },
      "text/html": [
       "<div>\n",
       "<style scoped>\n",
       "    .dataframe tbody tr th:only-of-type {\n",
       "        vertical-align: middle;\n",
       "    }\n",
       "\n",
       "    .dataframe tbody tr th {\n",
       "        vertical-align: top;\n",
       "    }\n",
       "\n",
       "    .dataframe thead th {\n",
       "        text-align: right;\n",
       "    }\n",
       "</style>\n",
       "<table border=\"1\" class=\"dataframe\">\n",
       "  <thead>\n",
       "    <tr style=\"text-align: right;\">\n",
       "      <th></th>\n",
       "      <th>source</th>\n",
       "      <th>code</th>\n",
       "      <th>university</th>\n",
       "      <th>province</th>\n",
       "      <th>iranregion</th>\n",
       "      <th>region</th>\n",
       "      <th>cluster</th>\n",
       "      <th>grade</th>\n",
       "      <th>gender</th>\n",
       "      <th>birth_date</th>\n",
       "      <th>...</th>\n",
       "      <th>injury_complication</th>\n",
       "      <th>BMIWHO4Halati2</th>\n",
       "      <th>Bodyimage3Halati2</th>\n",
       "      <th>Fatherconsultant</th>\n",
       "      <th>Motherconsultant</th>\n",
       "      <th>Friendconsultant</th>\n",
       "      <th>brotherconsultant</th>\n",
       "      <th>sisterconsultant</th>\n",
       "      <th>brosiscons</th>\n",
       "      <th>brothersisterconsultant</th>\n",
       "    </tr>\n",
       "  </thead>\n",
       "  <tbody>\n",
       "    <tr>\n",
       "      <th>0</th>\n",
       "      <td>2.0</td>\n",
       "      <td>1.911922e+10</td>\n",
       "      <td>khozestan-ahvaz</td>\n",
       "      <td>khozestan</td>\n",
       "      <td>West</td>\n",
       "      <td>urban</td>\n",
       "      <td>19.0</td>\n",
       "      <td>rahnamayi</td>\n",
       "      <td>boy</td>\n",
       "      <td>79.0</td>\n",
       "      <td>...</td>\n",
       "      <td></td>\n",
       "      <td>Obesity</td>\n",
       "      <td>3.0</td>\n",
       "      <td>1.0</td>\n",
       "      <td>1.0</td>\n",
       "      <td>1.0</td>\n",
       "      <td>1.0</td>\n",
       "      <td>1.0</td>\n",
       "      <td>2.0</td>\n",
       "      <td>1.0</td>\n",
       "    </tr>\n",
       "    <tr>\n",
       "      <th>1</th>\n",
       "      <td>2.0</td>\n",
       "      <td>1.912522e+10</td>\n",
       "      <td>khozestan-ahvaz</td>\n",
       "      <td>khozestan</td>\n",
       "      <td>West</td>\n",
       "      <td>urban</td>\n",
       "      <td>25.0</td>\n",
       "      <td>rahnamayi</td>\n",
       "      <td>boy</td>\n",
       "      <td>74.0</td>\n",
       "      <td>...</td>\n",
       "      <td></td>\n",
       "      <td>Normal</td>\n",
       "      <td>1.0</td>\n",
       "      <td>1.0</td>\n",
       "      <td>1.0</td>\n",
       "      <td>1.0</td>\n",
       "      <td>1.0</td>\n",
       "      <td>1.0</td>\n",
       "      <td>2.0</td>\n",
       "      <td>1.0</td>\n",
       "    </tr>\n",
       "    <tr>\n",
       "      <th>2</th>\n",
       "      <td>3.0</td>\n",
       "      <td>8.122128e+09</td>\n",
       "      <td>boshehr</td>\n",
       "      <td>boshehr</td>\n",
       "      <td>West</td>\n",
       "      <td>urban</td>\n",
       "      <td>22.0</td>\n",
       "      <td>ebtedayi</td>\n",
       "      <td>girl</td>\n",
       "      <td>80.0</td>\n",
       "      <td>...</td>\n",
       "      <td></td>\n",
       "      <td>Obesity</td>\n",
       "      <td>2.0</td>\n",
       "      <td>0.0</td>\n",
       "      <td>1.0</td>\n",
       "      <td>1.0</td>\n",
       "      <td>0.0</td>\n",
       "      <td>0.0</td>\n",
       "      <td>0.0</td>\n",
       "      <td>0.0</td>\n",
       "    </tr>\n",
       "    <tr>\n",
       "      <th>3</th>\n",
       "      <td>4.0</td>\n",
       "      <td>3.128228e+09</td>\n",
       "      <td>ardabil</td>\n",
       "      <td>ardabil</td>\n",
       "      <td>West</td>\n",
       "      <td>urban</td>\n",
       "      <td>28.0</td>\n",
       "      <td>rahnamayi</td>\n",
       "      <td>girl</td>\n",
       "      <td>78.0</td>\n",
       "      <td>...</td>\n",
       "      <td></td>\n",
       "      <td></td>\n",
       "      <td>2.0</td>\n",
       "      <td>0.0</td>\n",
       "      <td>1.0</td>\n",
       "      <td>1.0</td>\n",
       "      <td>0.0</td>\n",
       "      <td>0.0</td>\n",
       "      <td>0.0</td>\n",
       "      <td>0.0</td>\n",
       "    </tr>\n",
       "    <tr>\n",
       "      <th>4</th>\n",
       "      <td>4.0</td>\n",
       "      <td>3.105128e+09</td>\n",
       "      <td>ardabil</td>\n",
       "      <td>ardabil</td>\n",
       "      <td>West</td>\n",
       "      <td>urban</td>\n",
       "      <td>5.0</td>\n",
       "      <td>ebtedayi</td>\n",
       "      <td>girl</td>\n",
       "      <td>81.0</td>\n",
       "      <td>...</td>\n",
       "      <td></td>\n",
       "      <td>Obesity</td>\n",
       "      <td>1.0</td>\n",
       "      <td>1.0</td>\n",
       "      <td>1.0</td>\n",
       "      <td>1.0</td>\n",
       "      <td>1.0</td>\n",
       "      <td>1.0</td>\n",
       "      <td>2.0</td>\n",
       "      <td>1.0</td>\n",
       "    </tr>\n",
       "  </tbody>\n",
       "</table>\n",
       "<p>5 rows × 342 columns</p>\n",
       "</div>"
      ],
      "text/plain": [
       "   source          code       university   province iranregion region  \\\n",
       "0     2.0  1.911922e+10  khozestan-ahvaz  khozestan       West  urban   \n",
       "1     2.0  1.912522e+10  khozestan-ahvaz  khozestan       West  urban   \n",
       "2     3.0  8.122128e+09          boshehr    boshehr       West  urban   \n",
       "3     4.0  3.128228e+09          ardabil    ardabil       West  urban   \n",
       "4     4.0  3.105128e+09          ardabil    ardabil       West  urban   \n",
       "\n",
       "   cluster      grade gender  birth_date  ...  injury_complication  \\\n",
       "0     19.0  rahnamayi    boy        79.0  ...                        \n",
       "1     25.0  rahnamayi    boy        74.0  ...                        \n",
       "2     22.0   ebtedayi   girl        80.0  ...                        \n",
       "3     28.0  rahnamayi   girl        78.0  ...                        \n",
       "4      5.0   ebtedayi   girl        81.0  ...                        \n",
       "\n",
       "  BMIWHO4Halati2 Bodyimage3Halati2  Fatherconsultant Motherconsultant  \\\n",
       "0        Obesity               3.0               1.0              1.0   \n",
       "1         Normal               1.0               1.0              1.0   \n",
       "2        Obesity               2.0               0.0              1.0   \n",
       "3                              2.0               0.0              1.0   \n",
       "4        Obesity               1.0               1.0              1.0   \n",
       "\n",
       "  Friendconsultant brotherconsultant sisterconsultant  brosiscons  \\\n",
       "0              1.0               1.0              1.0         2.0   \n",
       "1              1.0               1.0              1.0         2.0   \n",
       "2              1.0               0.0              0.0         0.0   \n",
       "3              1.0               0.0              0.0         0.0   \n",
       "4              1.0               1.0              1.0         2.0   \n",
       "\n",
       "  brothersisterconsultant  \n",
       "0                     1.0  \n",
       "1                     1.0  \n",
       "2                     0.0  \n",
       "3                     0.0  \n",
       "4                     1.0  \n",
       "\n",
       "[5 rows x 342 columns]"
      ]
     },
     "execution_count": 26,
     "metadata": {},
     "output_type": "execute_result"
    }
   ],
   "source": [
    "df_4.head()"
   ]
  },
  {
   "cell_type": "code",
   "execution_count": 29,
   "metadata": {},
   "outputs": [
    {
     "name": "stdout",
     "output_type": "stream",
     "text": [
      "Number of records with NaN value in sex in : 0\n"
     ]
    }
   ],
   "source": [
    "def preprocess(df_org):\n",
    " # Dictionary to store processed DataFrames\n",
    "\n",
    "\n",
    "    df = df_org.copy()\n",
    "    df.replace('', np.nan, inplace=True)\n",
    "    df.replace('?', np.nan, inplace=True)\n",
    "    # Filter age\n",
    "    df = df[(df[\"age\"] >= 7) & (df[\"age\"] <= 18)]\n",
    "\n",
    "    # Convert height and weight to numeric\n",
    "    df['height'] = pd.to_numeric(df['height'], errors='coerce')\n",
    "    df['weight'] = pd.to_numeric(df['weight'], errors='coerce')\n",
    "\n",
    "\n",
    "    # Remove null tuples\n",
    "    records_with_nulls = df[\n",
    "        df[\"gender\"].isna()\n",
    "    ]\n",
    "    df = df.dropna(subset=[\"gender\"])\n",
    "    missing_percent = df.isna().mean()*100\n",
    "    threshold = 70\n",
    "    df = df.loc[:, missing_percent <= threshold]\n",
    "\n",
    "    # Fill missing values by grouping by age and using the mode\n",
    "    for col in df.columns:\n",
    "        if df[col].isna().any():  # Only process columns with missing values\n",
    "            df[col] = df.groupby('age')[col].transform(\n",
    "                lambda x: x.fillna(x.mode().iloc[0] if not x.mode().empty else np.nan)\n",
    "            )\n",
    "\n",
    "    print(\n",
    "        f\"Number of records with NaN value in sex in : {len(records_with_nulls)}\"\n",
    "    )\n",
    "\n",
    "    return df\n",
    "\n",
    "\n",
    "\n",
    "# Preprocess the input data\n",
    "df_4 = preprocess(df_4)\n",
    "\n",
    "\n",
    "\n"
   ]
  },
  {
   "cell_type": "code",
   "execution_count": 30,
   "metadata": {},
   "outputs": [],
   "source": [
    "food_features=[\n",
    "    'mealnumber',\n",
    "    'Sweet2halati',\n",
    "    'saltysnack2halati',\n",
    "    'noshabeh2halati',\n",
    "    'fresh_fruit',\n",
    "    'MiveyeKhoshk2halati',\n",
    "    'abmiveyebastebandishodeh2halati',\n",
    "    'Swetenedbeverage2halati',\n",
    "    'vegtebale2halati',\n",
    "    'Milk2halati',\n",
    "    'fastfood2halati',\n",
    "    'bread_type',\n",
    "    'newoiltype',\n",
    "    'grains2h',\n",
    "    'meat2h',\n",
    "    'liverandkalepache2h',\n",
    "    'friedfoods2h'\n",
    "]"
   ]
  },
  {
   "cell_type": "markdown",
   "metadata": {},
   "source": [
    "## unhealty "
   ]
  },
  {
   "cell_type": "code",
   "execution_count": 31,
   "metadata": {},
   "outputs": [
    {
     "name": "stdout",
     "output_type": "stream",
     "text": [
      "Columns to encode: ['Sweet2halati', 'saltysnack2halati', 'noshabeh2halati', 'abmiveyebastebandishodeh2halati', 'fastfood2halati', 'meat2h', 'liverandkalepache2h', 'friedfoods2h']\n"
     ]
    },
    {
     "name": "stderr",
     "output_type": "stream",
     "text": [
      "/tmp/ipykernel_6318/2242195572.py:10: FutureWarning: DataFrame.applymap has been deprecated. Use DataFrame.map instead.\n",
      "  df_4[columns_to_encode] = df_4[columns_to_encode].applymap(lambda x: mapping.get(x, x))\n"
     ]
    }
   ],
   "source": [
    "\n",
    "\n",
    "# Detect columns to encode based on their unique values\n",
    "columns_to_encode = [\n",
    "'Sweet2halati','saltysnack2halati','noshabeh2halati','abmiveyebastebandishodeh2halati','fastfood2halati','meat2h','liverandkalepache2h','friedfoods2h'\n",
    "]\n",
    "\n",
    "# Define the mapping\n",
    "mapping = {' Nondaily':0, 'Daily':-1}\n",
    "\n",
    "# Apply the mapping to the detected columns\n",
    "df_4[columns_to_encode] = df_4[columns_to_encode].applymap(lambda x: mapping.get(x, x))\n",
    "\n",
    "print(\"Columns to encode:\", columns_to_encode)"
   ]
  },
  {
   "cell_type": "markdown",
   "metadata": {},
   "source": [
    "## healty"
   ]
  },
  {
   "cell_type": "code",
   "execution_count": 32,
   "metadata": {},
   "outputs": [],
   "source": [
    "category_mapping_6 = {'3meals':3, 'Lunch-Dinner':2, '1 meal':1, 'Breakfast-Lunch':2,\n",
    "       'Breakfast-Dinner':2, 'No meal':0}\n",
    "category_mapping_69 = {'Daily':1, ' Nondaily':0}\n",
    "df_4['mealnumber'] = df_4['mealnumber'].map(category_mapping_6)\n",
    "df_4['fresh_fruit'] = df_4['fresh_fruit'].map(category_mapping_69)\n",
    "df_4['MiveyeKhoshk2halati'] = df_4['MiveyeKhoshk2halati'].map(category_mapping_69)\n",
    "df_4['Swetenedbeverage2halati'] = df_4['Swetenedbeverage2halati'].map(category_mapping_69)\n",
    "df_4['vegtebale2halati'] = df_4['vegtebale2halati'].map(category_mapping_69)\n",
    "df_4['Milk2halati'] = df_4['Milk2halati'].map(category_mapping_69)\n",
    "df_4['grains2h'] = df_4['grains2h'].map(category_mapping_69)\n",
    "\n",
    "\n",
    "category_mapping_bread={'bedune sabus':0, 'sabusdar':1}\n",
    "category_mapping_oil={'unsaturated':1, 'saturated':-1}\n",
    "df_4['bread_type'] = df_4['bread_type'].map(category_mapping_bread)\n",
    "df_4['newoiltype'] = df_4['newoiltype'].map(category_mapping_oil)\n",
    "\n"
   ]
  },
  {
   "cell_type": "code",
   "execution_count": 33,
   "metadata": {},
   "outputs": [
    {
     "name": "stderr",
     "output_type": "stream",
     "text": [
      "/tmp/ipykernel_6318/1189143921.py:1: PerformanceWarning: DataFrame is highly fragmented.  This is usually the result of calling `frame.insert` many times, which has poor performance.  Consider joining all columns at once using pd.concat(axis=1) instead. To get a de-fragmented frame, use `newframe = frame.copy()`\n",
      "  df_4['food_score'] = df_4[food_features].sum(axis=1)\n"
     ]
    }
   ],
   "source": [
    "df_4['food_score'] = df_4[food_features].sum(axis=1)\n"
   ]
  },
  {
   "cell_type": "markdown",
   "metadata": {},
   "source": [
    "## mentall"
   ]
  },
  {
   "cell_type": "code",
   "execution_count": 34,
   "metadata": {},
   "outputs": [],
   "source": [
    "mental_features = [\n",
    "\n",
    "    \"worthless_number\",\n",
    "    \"angriness_number\",\n",
    "    \"worried_number\",\n",
    "    \"insomnia_number\",\n",
    "    \"confusion_number\",\n",
    "    \"depression\",\n",
    "    \"anxiety_number\",\n",
    "    \"mental_health_overview\",\n",
    "    \"LS\"\n",
    "\n",
    "]"
   ]
  },
  {
   "cell_type": "code",
   "execution_count": 35,
   "metadata": {},
   "outputs": [],
   "source": [
    "category_mapping_11 = {'kheir':0, 'bali':1, 'bekhater nadarm':0, '0.0':0}\n",
    "df_4['depression'] = df_4['depression'].map(category_mapping_11)\n",
    "category_mapping_12 = {'benodrat ya hargez':0, 'taqriban har mah':1, 'taqriban har ruz':4,\n",
    "       'bish az 1bar':3, 'taqriban har hafte':2}\n",
    "df_4['insomnia_number'] = df_4['insomnia_number'].map(category_mapping_12)\n",
    "\n",
    "df_4['confusion_number'] = df_4['confusion_number'].map(category_mapping_12)\n",
    "df_4['angriness_number'] = df_4['angriness_number'].map(category_mapping_12)\n",
    "df_4['worthless_number'] = df_4['worthless_number'].map(category_mapping_12)\n",
    "df_4['worried_number'] = df_4['worried_number'].map(category_mapping_12)\n",
    "#com_map={'kasi nadarm ya dur ast':1, 'raht':0, 'doshvar':1}\n",
    "com_map={'khob':1, 'aali':0, 'motevaset':2,'bad':3}\n",
    "df_4['mental_health_overview'] = df_4['mental_health_overview'].map(com_map)\n",
    "df_4['LS'] = 10 - df_4['LS']\n",
    "com_map_v={'hichvaght':0, '1ruz':1, '2 ta 3 ruz':2, '6ruz ya bishtar':4, '4 ta 5ruz':3}\n",
    "df_4['carryـweapons'] = df_4['carryـweapons'].map(com_map_v)\n",
    "# df_4['comfort_sister'] = df_4['comfort_sister'].map(com_map)\n",
    "# df_4['comfort_friend'] = df_4['comfort_friend'].map(com_map)\n",
    "# df_4['comfort_brother'] = df_4['comfort_brother'].map(com_map)\n",
    "# df_4['comfort_mother'] = df_4['comfort_mother'].map(com_map)\n",
    "# df_4['comfort_father'] = df_4['comfort_father'].map(com_map)\n",
    "from sklearn.preprocessing import LabelEncoder\n",
    "df_4['fight_number']=df_4['fight_number'].astype(int)\n",
    "# Create an instance of LabelEncoder\n",
    "encoder = LabelEncoder()\n",
    "\n",
    "# Apply label encoding to multiple columns\n",
    "columns_to_encode = [\n",
    "\n",
    "'anxiety_number','bully_number']  # Replace with your actual column names\n",
    "\n",
    "for column in columns_to_encode:\n",
    "    df_4[column ] = encoder.fit_transform(df_4[column])\n",
    "\n"
   ]
  },
  {
   "cell_type": "markdown",
   "metadata": {},
   "source": []
  },
  {
   "cell_type": "code",
   "execution_count": 36,
   "metadata": {},
   "outputs": [
    {
     "name": "stderr",
     "output_type": "stream",
     "text": [
      "/tmp/ipykernel_6318/182830637.py:1: PerformanceWarning: DataFrame is highly fragmented.  This is usually the result of calling `frame.insert` many times, which has poor performance.  Consider joining all columns at once using pd.concat(axis=1) instead. To get a de-fragmented frame, use `newframe = frame.copy()`\n",
      "  df_4['mental_score'] = df_4[mental_features].sum(axis=1)\n"
     ]
    }
   ],
   "source": [
    "df_4['mental_score'] = df_4[mental_features].sum(axis=1)"
   ]
  },
  {
   "cell_type": "markdown",
   "metadata": {},
   "source": [
    "## voilence"
   ]
  },
  {
   "cell_type": "code",
   "execution_count": 37,
   "metadata": {},
   "outputs": [],
   "source": [
    "violence_features = [\n",
    "    \"fight_number\",\n",
    "    \"carryـweapons\",\n",
    "    \"bully_number\",\n",
    "\n",
    "]\n"
   ]
  },
  {
   "cell_type": "code",
   "execution_count": 38,
   "metadata": {},
   "outputs": [],
   "source": [
    "com_map_v={'hichvaght':0, '1ruz':1, '2 ta 3 ruz':2, '6ruz ya bishtar':4, '4 ta 5ruz':3}\n",
    "df_4['carryـweapons'] = df_4['carryـweapons'].map(com_map_v)\n",
    "from sklearn.preprocessing import LabelEncoder\n",
    "df_4['fight_number']=df_4['fight_number'].astype(int)\n",
    "# Create an instance of LabelEncoder\n",
    "encoder = LabelEncoder()\n",
    "\n",
    "# Apply label encoding to multiple columns\n",
    "columns_to_encode = [\n",
    "\n",
    "'anxiety_number','bully_number']  # Replace with your actual column names\n",
    "\n",
    "for column in columns_to_encode:\n",
    "    df_4[column ] = encoder.fit_transform(df_4[column])\n"
   ]
  },
  {
   "cell_type": "code",
   "execution_count": 39,
   "metadata": {},
   "outputs": [
    {
     "name": "stderr",
     "output_type": "stream",
     "text": [
      "/tmp/ipykernel_6318/1010815222.py:1: PerformanceWarning: DataFrame is highly fragmented.  This is usually the result of calling `frame.insert` many times, which has poor performance.  Consider joining all columns at once using pd.concat(axis=1) instead. To get a de-fragmented frame, use `newframe = frame.copy()`\n",
      "  df_4['violence_score'] = df_4[violence_features].sum(axis=1)\n"
     ]
    }
   ],
   "source": [
    "df_4['violence_score'] = df_4[violence_features].sum(axis=1)"
   ]
  },
  {
   "cell_type": "code",
   "execution_count": 40,
   "metadata": {},
   "outputs": [],
   "source": [
    "#df_4['mental_score'] = df_4['mental_score'].max() - df_4['mental_score']"
   ]
  },
  {
   "cell_type": "code",
   "execution_count": 41,
   "metadata": {},
   "outputs": [
    {
     "name": "stderr",
     "output_type": "stream",
     "text": [
      "/tmp/ipykernel_6318/2452513050.py:12: PerformanceWarning: DataFrame is highly fragmented.  This is usually the result of calling `frame.insert` many times, which has poor performance.  Consider joining all columns at once using pd.concat(axis=1) instead. To get a de-fragmented frame, use `newframe = frame.copy()`\n",
      "  df_4['activity_score']=df_4[activity_features].sum(axis=1)\n"
     ]
    }
   ],
   "source": [
    "activity_features=[\n",
    "    'physical_activiety',\n",
    "    'Sportclasshours'\n",
    "]\n",
    "# Define the custom mapping\n",
    "category_mapping_13 = {'1ruz':0.5, '7ruz':3.5, '2ruz':1, '3ruz':1.5, '4ruz':2, 'hich ruzi':0, '6ruz':3, '5ruz':2.5}\n",
    "# Apply the mapping to the 'Category' column\n",
    "df_4['physical_activiety'] = df_4['physical_activiety'].map(category_mapping_13)\n",
    "category_mapping_h = {'2 saat':2, '1 saat':1, '0 saat':0, '3 saat ya bishtar':3}\n",
    "# Apply the mapping to the 'Category' column\n",
    "df_4['Sportclasshours'] = df_4['Sportclasshours'].map(category_mapping_h)\n",
    "df_4['activity_score']=df_4[activity_features].sum(axis=1)"
   ]
  },
  {
   "cell_type": "markdown",
   "metadata": {},
   "source": [
    "### hygiene"
   ]
  },
  {
   "cell_type": "code",
   "execution_count": 43,
   "metadata": {},
   "outputs": [
    {
     "name": "stderr",
     "output_type": "stream",
     "text": [
      "/tmp/ipykernel_6318/4190041428.py:17: PerformanceWarning: DataFrame is highly fragmented.  This is usually the result of calling `frame.insert` many times, which has poor performance.  Consider joining all columns at once using pd.concat(axis=1) instead. To get a de-fragmented frame, use `newframe = frame.copy()`\n",
      "  df_4['hygiene_score']=df_4[hygiene_feature].sum(axis=1)\n"
     ]
    }
   ],
   "source": [
    "hygiene_feature=[\n",
    "    'e_26', #mesvak \n",
    "    'e_28',\n",
    "    'e_30',\n",
    "    'e_31'\n",
    "]\n",
    "# Define the custom mapping\n",
    "category_mapping_tooth = {'1bar dar ruz':3, 'bish az 1bar dar ruz':3, 'hadaghal 1bar dar ruz':3,\n",
    "       'hichvaght':0, 'faghat 1bar dar hafte':2, 'kamtar az 1bar dar hafte':1}\n",
    "# Apply the mapping to the 'Category' column\n",
    "df_4['e_26'] = df_4['e_26'].map(category_mapping_tooth)\n",
    "category_mapping_wash = {'hamishe':2, 'gahi':1, 'na hichvaght':0}\n",
    "# Apply the mapping to the 'Category' column\n",
    "df_4['e_28'] = df_4['e_28'].map(category_mapping_wash)\n",
    "df_4['e_30'] = df_4['e_30'].map(category_mapping_wash)\n",
    "df_4['e_31'] = df_4['e_31'].map(category_mapping_wash)\n",
    "df_4['hygiene_score']=df_4[hygiene_feature].sum(axis=1)"
   ]
  },
  {
   "cell_type": "code",
   "execution_count": 44,
   "metadata": {},
   "outputs": [],
   "source": [
    "df_girl=df_4[df_4['gender']=='girl']\n",
    "df_boy=df_4[df_4['gender']=='boy']"
   ]
  },
  {
   "cell_type": "code",
   "execution_count": 54,
   "metadata": {},
   "outputs": [],
   "source": [
    "a=['gender','food_score','violence_score','mental_score','hygiene_score','activity_score','ses','BMIWHO4Halati2','age']"
   ]
  },
  {
   "cell_type": "code",
   "execution_count": 55,
   "metadata": {},
   "outputs": [],
   "source": [
    "df_4[a].to_csv(\"casp4_scores.csv\")"
   ]
  },
  {
   "cell_type": "code",
   "execution_count": 78,
   "metadata": {},
   "outputs": [
    {
     "data": {
      "image/png": "[encoded data removed]",
      "text/plain": [
       "<Figure size 1200x800 with 1 Axes>"
      ]
     },
     "metadata": {},
     "output_type": "display_data"
    }
   ],
   "source": [
    "import matplotlib.pyplot as plt\n",
    "\n",
    "# Define obesity condition\n",
    "obesity_boy = df_boy[df_boy['BMIWHO4Halati2'] == 'Obesity']\n",
    "obesity_girl = df_girl[df_girl['BMIWHO4Halati2'] == 'Obesity']\n",
    "\n",
    "# Count total number of boys and girls in each age group\n",
    "total_boy_count = df_boy.groupby('age').size()\n",
    "total_girl_count = df_girl.groupby('age').size()\n",
    "\n",
    "# Count the number of boys and girls with obesity in each age group\n",
    "obesity_boy_count = obesity_boy.groupby('age').size()\n",
    "obesity_girl_count = obesity_girl.groupby('age').size()\n",
    "\n",
    "# Calculate obesity percentage\n",
    "obesity_boy_percent = (obesity_boy_count / total_boy_count * 100).fillna(0)\n",
    "obesity_girl_percent = (obesity_girl_count / total_girl_count * 100).fillna(0)\n",
    "\n",
    "# Plot the results\n",
    "a = 'Physical Activity'\n",
    "plt.figure(figsize=(12, 8))\n",
    "\n",
    "age_food_score_boy = df_boy.groupby('age')['activity_score'].mean()\n",
    "age_food_score_girl = df_girl.groupby('age')['activity_score'].mean()\n",
    "\n",
    "plt.plot(age_food_score_boy.index, age_food_score_boy.values, marker='o', linestyle='-', label=f'boys {a}', color='blue')\n",
    "plt.plot(age_food_score_girl.index, age_food_score_girl.values, marker='o', linestyle='-', label=f'girls {a}', color='pink')\n",
    "\n",
    "# Add the obesity percentage on the plot\n",
    "for age in obesity_boy_percent.index:\n",
    "    plt.text(age, age_food_score_boy.loc[age], f' {obesity_boy_percent[age]:.1f}%', color='blue', fontsize=9, ha='right')\n",
    "\n",
    "for age in obesity_girl_percent.index:\n",
    "    plt.text(age, age_food_score_girl.loc[age], f' {obesity_girl_percent[age]:.1f}%', color='red', fontsize=9, ha='right')\n",
    "\n",
    "\n",
    "plt.axvline(x=13, color='g', linestyle='--', label='start puberty')\n",
    "plt.axvline(x=18, color='g', linestyle='--', label='end puberty')\n",
    "\n",
    "\n",
    "plt.xlabel('Age')\n",
    "plt.ylabel(f'Mean {a} Score')\n",
    "plt.title(f'Mean {a} Score by Age with Obesity %')\n",
    "plt.legend()\n",
    "plt.grid(True)\n",
    "plt.show()\n"
   ]
  },
  {
   "cell_type": "code",
   "execution_count": 45,
   "metadata": {},
   "outputs": [
    {
     "data": {
      "image/png": "[encoded data removed]",
      "text/plain": [
       "<Figure size 1000x500 with 1 Axes>"
      ]
     },
     "metadata": {},
     "output_type": "display_data"
    }
   ],
   "source": [
    "import matplotlib.pyplot as plt\n",
    "\n",
    "# Assuming 'bmi_category' column is where obesity is marked\n",
    "# Define obesity condition (assuming \"Obesity\" is the value for obesity category)\n",
    "obesity_boy = df_boy[df_boy['BMIWHO4Halati2'] == 'Obesity']\n",
    "obesity_girl = df_girl[df_girl['BMIWHO4Halati2'] == 'Obesity']\n",
    "\n",
    "# Count the number of boys and girls with obesity in each age group\n",
    "obesity_boy_count = obesity_boy.groupby('age').size()\n",
    "obesity_girl_count = obesity_girl.groupby('age').size()\n",
    "\n",
    "# Plot the results\n",
    "a = 'Healthy Food '\n",
    "plt.figure(figsize=(10, 5))\n",
    "\n",
    "age_food_score_boy = df_boy.groupby('age')['food_score'].mean()\n",
    "age_food_score_girl = df_girl.groupby('age')['food_score'].mean()\n",
    "\n",
    "plt.plot(age_food_score_boy.index, age_food_score_boy.values, marker='o', linestyle='-', label=f'boys {a}', color='blue')\n",
    "plt.plot(age_food_score_girl.index, age_food_score_girl.values, marker='o', linestyle='-', label=f'girls {a}', color='pink')\n",
    "\n",
    "# Add the count of obesity on the plot\n",
    "for age in obesity_boy_count.index:\n",
    "    plt.text(age, age_food_score_boy.loc[age], f' {obesity_boy_count.get(age, 0)}', color='black', fontsize=9, ha='right')\n",
    "\n",
    "for age in obesity_girl_count.index:\n",
    "    plt.text(age, age_food_score_girl.loc[age], f'Obesity: {obesity_girl_count.get(age, 0)}', color='black', fontsize=9, ha='right')\n",
    "\n",
    "plt.xlabel('Age')\n",
    "plt.ylabel(f'Mean {a} Score')\n",
    "plt.title(f'Mean {a} Score by Age')\n",
    "plt.legend()\n",
    "plt.grid(True)\n",
    "plt.show()\n"
   ]
  },
  {
   "cell_type": "code",
   "execution_count": null,
   "metadata": {},
   "outputs": [
    {
     "data": {
      "text/plain": [
       "Index(['Normal', 'Underweight', 'Obesity', 'Overweight'], dtype='object', name='BMIWHO4Halati2')"
      ]
     },
     "execution_count": 65,
     "metadata": {},
     "output_type": "execute_result"
    }
   ],
   "source": [
    "df_4['BMIWHO4Halati2'].value_counts().keys()"
   ]
  },
  {
   "cell_type": "code",
   "execution_count": null,
   "metadata": {},
   "outputs": [],
   "source": [
    "df_4['BMIWHO4Halati2'].value_counts()\n",
    "category_mapping_11 = {'kheir':0, 'bali':1, 'bekhater nadarm':1, '0.0':0}\n",
    "df_4['BMIWHO4Halati2'] = df_4['BMIWHO4Halati2'].map(category_mapping_11)"
   ]
  },
  {
   "cell_type": "code",
   "execution_count": null,
   "metadata": {},
   "outputs": [],
   "source": [
    "age_somke_score = df_boy.groupby('age')['current_smoker_status'].sum()"
   ]
  },
  {
   "cell_type": "code",
   "execution_count": 71,
   "metadata": {},
   "outputs": [
    {
     "data": {
      "image/png": "[encoded data removed]",
      "text/plain": [
       "<Figure size 1000x500 with 1 Axes>"
      ]
     },
     "metadata": {},
     "output_type": "display_data"
    }
   ],
   "source": [
    "import matplotlib.pyplot as plt\n",
    "\n",
    "# Count of smokers (0 means smoker, so we need to count 0s)\n",
    "smoker_count = df_girl.groupby('age')['current_smoker_status'].apply(lambda x: (x == 1).sum())\n",
    "\n",
    "# Total people in each age group\n",
    "total_count = df_girl.groupby('age')['current_smoker_status'].count()\n",
    "\n",
    "# Proportion of smokers\n",
    "age_smoke_ratio = smoker_count / total_count\n",
    "\n",
    "# Plot\n",
    "plt.figure(figsize=(10, 5))\n",
    "plt.plot(age_smoke_ratio.index, age_smoke_ratio.values, marker='o', linestyle='-')\n",
    "\n",
    "# Add vertical lines at ages 13 and 18\n",
    "plt.axvline(x=13, color='r', linestyle='--', label='Age 13')\n",
    "plt.axvline(x=18, color='r', linestyle='--', label='Age 18')\n",
    "\n",
    "plt.xlabel('Age')\n",
    "plt.ylabel('Proportion of Smokers')\n",
    "plt.title('Proportion of Smokers by Age')\n",
    "plt.legend()  # Show legend for vertical lines\n",
    "plt.grid(True)\n",
    "plt.show()\n"
   ]
  },
  {
   "cell_type": "code",
   "execution_count": null,
   "metadata": {},
   "outputs": [
    {
     "data": {
      "image/png": "[encoded data removed]",
      "text/plain": [
       "<Figure size 1000x500 with 1 Axes>"
      ]
     },
     "metadata": {},
     "output_type": "display_data"
    }
   ],
   "source": [
    "import matplotlib.pyplot as plt\n",
    "\n",
    "# Count of smokers (0 means smoker, so we need to count 0s)\n",
    "smoker_count = df_girl.groupby('age')['current_smoker_status'].apply(lambda x: (x == 1).sum())\n",
    "\n",
    "# Total people in each age group\n",
    "total_count = df_girl.groupby('age')['current_smoker_status'].count()\n",
    "\n",
    "# Proportion of smokers\n",
    "age_smoke_ratio = smoker_count / total_count\n",
    "\n",
    "# Plot\n",
    "plt.figure(figsize=(10, 5))\n",
    "plt.plot(age_smoke_ratio.index, age_smoke_ratio.values, marker='o', linestyle='-')\n",
    "\n",
    "plt.xlabel('Age')\n",
    "plt.ylabel('Proportion of Smokers')\n",
    "plt.title('Proportion of Smokers by Age')\n",
    "plt.grid(True)\n",
    "plt.show()\n"
   ]
  },
  {
   "cell_type": "code",
   "execution_count": 69,
   "metadata": {},
   "outputs": [
    {
     "data": {
      "image/png": "[encoded data removed]",
      "text/plain": [
       "<Figure size 1000x500 with 1 Axes>"
      ]
     },
     "metadata": {},
     "output_type": "display_data"
    }
   ],
   "source": [
    "import pandas as pd\n",
    "import matplotlib.pyplot as plt\n",
    "from sklearn.preprocessing import MinMaxScaler\n",
    "\n",
    "# Group by age and calculate the mean scores\n",
    "age_men_score = df_boy.groupby('age')['mental_score'].mean()\n",
    "age_food_score = df_boy.groupby('age')['food_score'].mean()\n",
    "#Count of smokers (0 means smoker, so we need to count 0s)\n",
    "smoker_count = df_boy.groupby('age')['current_smoker_status'].apply(lambda x: (x == 1).sum())\n",
    "\n",
    "# Total people in each age group\n",
    "total_count = df_boy.groupby('age')['current_smoker_status'].count()\n",
    "\n",
    "# Proportion of smokers\n",
    "age_smoke_ratio = smoker_count / total_count\n",
    "\n",
    "#bmi \n",
    "bmi_count = df_boy.groupby('age')['BMIWHO4Halati2'].apply(lambda x: (x == 'Underweight').sum())\n",
    "\n",
    "# Total people in each age group\n",
    "total_count_bmi = df_boy.groupby('age')['BMIWHO4Halati2'].count()\n",
    "\n",
    "# Proportion of smokers\n",
    "ratio_bmi = bmi_count / total_count_bmi\n",
    "\n",
    "# Convert to DataFrame for scaling\n",
    "df_scaled = pd.DataFrame({'mental_score': age_men_score, 'food_score': age_food_score,'smoke':age_smoke_ratio, 'bmi':ratio_bmi})\n",
    "\n",
    "# Apply MinMaxScaler\n",
    "scaler = MinMaxScaler()\n",
    "df_scaled[:] = scaler.fit_transform(df_scaled)\n",
    "\n",
    "# Plot the results\n",
    "plt.figure(figsize=(10, 5))\n",
    "plt.plot(df_scaled.index, df_scaled['mental_score'], marker='o', linestyle='-', label='Mental Score')\n",
    "plt.plot(df_scaled.index, df_scaled['food_score'], marker='o', linestyle='-', label='Food Score')\n",
    "\n",
    "plt.plot(df_scaled.index, df_scaled['smoke'], marker='o', linestyle='-', label='smoke ratio')\n",
    "plt.plot(df_scaled.index, df_scaled['bmi'], marker='o', linestyle='-', label='obedity ratio')\n",
    "plt.xlabel('Age')\n",
    "plt.ylabel('Scaled Score')\n",
    "plt.title('Scaled Mental and Food Scores by Age')\n",
    "plt.legend()\n",
    "plt.grid(True)\n",
    "plt.show()\n"
   ]
  },
  {
   "cell_type": "code",
   "execution_count": 68,
   "metadata": {},
   "outputs": [
    {
     "data": {
      "image/png": "[encoded data removed]",
      "text/plain": [
       "<Figure size 1000x500 with 1 Axes>"
      ]
     },
     "metadata": {},
     "output_type": "display_data"
    }
   ],
   "source": [
    "import pandas as pd\n",
    "import matplotlib.pyplot as plt\n",
    "from sklearn.preprocessing import MinMaxScaler\n",
    "\n",
    "# Group by age and calculate the mean scores\n",
    "age_men_score = df_girl.groupby('age')['mental_score'].mean()\n",
    "age_food_score = df_girl.groupby('age')['food_score'].mean()\n",
    "age_activity_score = df_girl.groupby('age')['activity_score'].mean()\n",
    "#bmi \n",
    "bmi_count = df_girl.groupby('age')['BMIWHO4Halati2'].apply(lambda x: (x == 'Underweight').sum())\n",
    "\n",
    "# Total people in each age group\n",
    "total_count_bmi = df_girl.groupby('age')['BMIWHO4Halati2'].count()\n",
    "\n",
    "# Proportion of smokers\n",
    "ratio_bmi = bmi_count / total_count_bmi\n",
    "# Convert to DataFrame for scaling\n",
    "df_scaled = pd.DataFrame({'mental_score': age_men_score, 'food_score': age_food_score,'activity':age_activity_score,'bmi':ratio_bmi})\n",
    "\n",
    "# Apply MinMaxScaler\n",
    "scaler = MinMaxScaler()\n",
    "df_scaled[:] = scaler.fit_transform(df_scaled)\n",
    "\n",
    "# Plot the results\n",
    "plt.figure(figsize=(10, 5))\n",
    "plt.plot(df_scaled.index, df_scaled['mental_score'], marker='o', linestyle='-', label='Mental Score')\n",
    "plt.plot(df_scaled.index, df_scaled['food_score'], marker='o', linestyle='-', label='Food Score')\n",
    "plt.plot(df_scaled.index, df_scaled['activity'], marker='o', linestyle='--', label='Activity Score')\n",
    "plt.plot(df_scaled.index, df_scaled['bmi'], marker='o', linestyle='-', label='obedity ratio')\n",
    "plt.xlabel('Age')\n",
    "plt.ylabel('Scaled Score')\n",
    "plt.title('Scaled Mental and Food Scores by Age')\n",
    "plt.legend()\n",
    "plt.grid(True)\n",
    "plt.show()\n"
   ]
  },
  {
   "cell_type": "code",
   "execution_count": 66,
   "metadata": {},
   "outputs": [
    {
     "data": {
      "text/plain": [
       "Index([0, 3, 1, 2, 4], dtype='int64', name='stomach_ache_number')"
      ]
     },
     "execution_count": 66,
     "metadata": {},
     "output_type": "execute_result"
    }
   ],
   "source": [
    "df_4['stomach_ache_number'].value_counts().keys()"
   ]
  },
  {
   "cell_type": "code",
   "execution_count": 64,
   "metadata": {},
   "outputs": [],
   "source": [
    "encoder = LabelEncoder()\n",
    "\n",
    "# Apply label encoding to multiple columns\n",
    "columns_to_encode = [\n",
    "'stomach_ache_number']  # Replace with your actual column names\n",
    "\n",
    "for column in columns_to_encode:\n",
    "    df_4[column ] = encoder.fit_transform(df_4[column])\n"
   ]
  },
  {
   "cell_type": "code",
   "execution_count": 56,
   "metadata": {},
   "outputs": [
    {
     "ename": "KeyError",
     "evalue": "'city'",
     "output_type": "error",
     "traceback": [
      "\u001b[0;31m---------------------------------------------------------------------------\u001b[0m",
      "\u001b[0;31mKeyError\u001b[0m                                  Traceback (most recent call last)",
      "Cell \u001b[0;32mIn[56], line 4\u001b[0m\n\u001b[1;32m      1\u001b[0m \u001b[38;5;28;01mimport\u001b[39;00m \u001b[38;5;21;01mmatplotlib\u001b[39;00m\u001b[38;5;21;01m.\u001b[39;00m\u001b[38;5;21;01mpyplot\u001b[39;00m \u001b[38;5;28;01mas\u001b[39;00m \u001b[38;5;21;01mplt\u001b[39;00m\n\u001b[1;32m      3\u001b[0m \u001b[38;5;66;03m# Calculate the mean violence score for each BMI category\u001b[39;00m\n\u001b[0;32m----> 4\u001b[0m mean_violence \u001b[38;5;241m=\u001b[39m \u001b[43mdf_4\u001b[49m\u001b[38;5;241;43m.\u001b[39;49m\u001b[43mgroupby\u001b[49m\u001b[43m(\u001b[49m\u001b[38;5;124;43m'\u001b[39;49m\u001b[38;5;124;43mcity\u001b[39;49m\u001b[38;5;124;43m'\u001b[39;49m\u001b[43m)\u001b[49m[\u001b[38;5;124m'\u001b[39m\u001b[38;5;124mses\u001b[39m\u001b[38;5;124m'\u001b[39m]\u001b[38;5;241m.\u001b[39mmean()\n\u001b[1;32m      6\u001b[0m \u001b[38;5;66;03m# Plot the results\u001b[39;00m\n\u001b[1;32m      7\u001b[0m plt\u001b[38;5;241m.\u001b[39mfigure(figsize\u001b[38;5;241m=\u001b[39m(\u001b[38;5;241m8\u001b[39m, \u001b[38;5;241m5\u001b[39m))\n",
      "File \u001b[0;32m~/.local/lib/python3.10/site-packages/pandas/core/frame.py:9183\u001b[0m, in \u001b[0;36mDataFrame.groupby\u001b[0;34m(self, by, axis, level, as_index, sort, group_keys, observed, dropna)\u001b[0m\n\u001b[1;32m   9180\u001b[0m \u001b[38;5;28;01mif\u001b[39;00m level \u001b[38;5;129;01mis\u001b[39;00m \u001b[38;5;28;01mNone\u001b[39;00m \u001b[38;5;129;01mand\u001b[39;00m by \u001b[38;5;129;01mis\u001b[39;00m \u001b[38;5;28;01mNone\u001b[39;00m:\n\u001b[1;32m   9181\u001b[0m     \u001b[38;5;28;01mraise\u001b[39;00m \u001b[38;5;167;01mTypeError\u001b[39;00m(\u001b[38;5;124m\"\u001b[39m\u001b[38;5;124mYou have to supply one of \u001b[39m\u001b[38;5;124m'\u001b[39m\u001b[38;5;124mby\u001b[39m\u001b[38;5;124m'\u001b[39m\u001b[38;5;124m and \u001b[39m\u001b[38;5;124m'\u001b[39m\u001b[38;5;124mlevel\u001b[39m\u001b[38;5;124m'\u001b[39m\u001b[38;5;124m\"\u001b[39m)\n\u001b[0;32m-> 9183\u001b[0m \u001b[38;5;28;01mreturn\u001b[39;00m \u001b[43mDataFrameGroupBy\u001b[49m\u001b[43m(\u001b[49m\n\u001b[1;32m   9184\u001b[0m \u001b[43m    \u001b[49m\u001b[43mobj\u001b[49m\u001b[38;5;241;43m=\u001b[39;49m\u001b[38;5;28;43mself\u001b[39;49m\u001b[43m,\u001b[49m\n\u001b[1;32m   9185\u001b[0m \u001b[43m    \u001b[49m\u001b[43mkeys\u001b[49m\u001b[38;5;241;43m=\u001b[39;49m\u001b[43mby\u001b[49m\u001b[43m,\u001b[49m\n\u001b[1;32m   9186\u001b[0m \u001b[43m    \u001b[49m\u001b[43maxis\u001b[49m\u001b[38;5;241;43m=\u001b[39;49m\u001b[43maxis\u001b[49m\u001b[43m,\u001b[49m\n\u001b[1;32m   9187\u001b[0m \u001b[43m    \u001b[49m\u001b[43mlevel\u001b[49m\u001b[38;5;241;43m=\u001b[39;49m\u001b[43mlevel\u001b[49m\u001b[43m,\u001b[49m\n\u001b[1;32m   9188\u001b[0m \u001b[43m    \u001b[49m\u001b[43mas_index\u001b[49m\u001b[38;5;241;43m=\u001b[39;49m\u001b[43mas_index\u001b[49m\u001b[43m,\u001b[49m\n\u001b[1;32m   9189\u001b[0m \u001b[43m    \u001b[49m\u001b[43msort\u001b[49m\u001b[38;5;241;43m=\u001b[39;49m\u001b[43msort\u001b[49m\u001b[43m,\u001b[49m\n\u001b[1;32m   9190\u001b[0m \u001b[43m    \u001b[49m\u001b[43mgroup_keys\u001b[49m\u001b[38;5;241;43m=\u001b[39;49m\u001b[43mgroup_keys\u001b[49m\u001b[43m,\u001b[49m\n\u001b[1;32m   9191\u001b[0m \u001b[43m    \u001b[49m\u001b[43mobserved\u001b[49m\u001b[38;5;241;43m=\u001b[39;49m\u001b[43mobserved\u001b[49m\u001b[43m,\u001b[49m\n\u001b[1;32m   9192\u001b[0m \u001b[43m    \u001b[49m\u001b[43mdropna\u001b[49m\u001b[38;5;241;43m=\u001b[39;49m\u001b[43mdropna\u001b[49m\u001b[43m,\u001b[49m\n\u001b[1;32m   9193\u001b[0m \u001b[43m\u001b[49m\u001b[43m)\u001b[49m\n",
      "File \u001b[0;32m~/.local/lib/python3.10/site-packages/pandas/core/groupby/groupby.py:1329\u001b[0m, in \u001b[0;36mGroupBy.__init__\u001b[0;34m(self, obj, keys, axis, level, grouper, exclusions, selection, as_index, sort, group_keys, observed, dropna)\u001b[0m\n\u001b[1;32m   1326\u001b[0m \u001b[38;5;28mself\u001b[39m\u001b[38;5;241m.\u001b[39mdropna \u001b[38;5;241m=\u001b[39m dropna\n\u001b[1;32m   1328\u001b[0m \u001b[38;5;28;01mif\u001b[39;00m grouper \u001b[38;5;129;01mis\u001b[39;00m \u001b[38;5;28;01mNone\u001b[39;00m:\n\u001b[0;32m-> 1329\u001b[0m     grouper, exclusions, obj \u001b[38;5;241m=\u001b[39m \u001b[43mget_grouper\u001b[49m\u001b[43m(\u001b[49m\n\u001b[1;32m   1330\u001b[0m \u001b[43m        \u001b[49m\u001b[43mobj\u001b[49m\u001b[43m,\u001b[49m\n\u001b[1;32m   1331\u001b[0m \u001b[43m        \u001b[49m\u001b[43mkeys\u001b[49m\u001b[43m,\u001b[49m\n\u001b[1;32m   1332\u001b[0m \u001b[43m        \u001b[49m\u001b[43maxis\u001b[49m\u001b[38;5;241;43m=\u001b[39;49m\u001b[43maxis\u001b[49m\u001b[43m,\u001b[49m\n\u001b[1;32m   1333\u001b[0m \u001b[43m        \u001b[49m\u001b[43mlevel\u001b[49m\u001b[38;5;241;43m=\u001b[39;49m\u001b[43mlevel\u001b[49m\u001b[43m,\u001b[49m\n\u001b[1;32m   1334\u001b[0m \u001b[43m        \u001b[49m\u001b[43msort\u001b[49m\u001b[38;5;241;43m=\u001b[39;49m\u001b[43msort\u001b[49m\u001b[43m,\u001b[49m\n\u001b[1;32m   1335\u001b[0m \u001b[43m        \u001b[49m\u001b[43mobserved\u001b[49m\u001b[38;5;241;43m=\u001b[39;49m\u001b[38;5;28;43;01mFalse\u001b[39;49;00m\u001b[43m \u001b[49m\u001b[38;5;28;43;01mif\u001b[39;49;00m\u001b[43m \u001b[49m\u001b[43mobserved\u001b[49m\u001b[43m \u001b[49m\u001b[38;5;129;43;01mis\u001b[39;49;00m\u001b[43m \u001b[49m\u001b[43mlib\u001b[49m\u001b[38;5;241;43m.\u001b[39;49m\u001b[43mno_default\u001b[49m\u001b[43m \u001b[49m\u001b[38;5;28;43;01melse\u001b[39;49;00m\u001b[43m \u001b[49m\u001b[43mobserved\u001b[49m\u001b[43m,\u001b[49m\n\u001b[1;32m   1336\u001b[0m \u001b[43m        \u001b[49m\u001b[43mdropna\u001b[49m\u001b[38;5;241;43m=\u001b[39;49m\u001b[38;5;28;43mself\u001b[39;49m\u001b[38;5;241;43m.\u001b[39;49m\u001b[43mdropna\u001b[49m\u001b[43m,\u001b[49m\n\u001b[1;32m   1337\u001b[0m \u001b[43m    \u001b[49m\u001b[43m)\u001b[49m\n\u001b[1;32m   1339\u001b[0m \u001b[38;5;28;01mif\u001b[39;00m observed \u001b[38;5;129;01mis\u001b[39;00m lib\u001b[38;5;241m.\u001b[39mno_default:\n\u001b[1;32m   1340\u001b[0m     \u001b[38;5;28;01mif\u001b[39;00m \u001b[38;5;28many\u001b[39m(ping\u001b[38;5;241m.\u001b[39m_passed_categorical \u001b[38;5;28;01mfor\u001b[39;00m ping \u001b[38;5;129;01min\u001b[39;00m grouper\u001b[38;5;241m.\u001b[39mgroupings):\n",
      "File \u001b[0;32m~/.local/lib/python3.10/site-packages/pandas/core/groupby/grouper.py:1043\u001b[0m, in \u001b[0;36mget_grouper\u001b[0;34m(obj, key, axis, level, sort, observed, validate, dropna)\u001b[0m\n\u001b[1;32m   1041\u001b[0m         in_axis, level, gpr \u001b[38;5;241m=\u001b[39m \u001b[38;5;28;01mFalse\u001b[39;00m, gpr, \u001b[38;5;28;01mNone\u001b[39;00m\n\u001b[1;32m   1042\u001b[0m     \u001b[38;5;28;01melse\u001b[39;00m:\n\u001b[0;32m-> 1043\u001b[0m         \u001b[38;5;28;01mraise\u001b[39;00m \u001b[38;5;167;01mKeyError\u001b[39;00m(gpr)\n\u001b[1;32m   1044\u001b[0m \u001b[38;5;28;01melif\u001b[39;00m \u001b[38;5;28misinstance\u001b[39m(gpr, Grouper) \u001b[38;5;129;01mand\u001b[39;00m gpr\u001b[38;5;241m.\u001b[39mkey \u001b[38;5;129;01mis\u001b[39;00m \u001b[38;5;129;01mnot\u001b[39;00m \u001b[38;5;28;01mNone\u001b[39;00m:\n\u001b[1;32m   1045\u001b[0m     \u001b[38;5;66;03m# Add key to exclusions\u001b[39;00m\n\u001b[1;32m   1046\u001b[0m     exclusions\u001b[38;5;241m.\u001b[39madd(gpr\u001b[38;5;241m.\u001b[39mkey)\n",
      "\u001b[0;31mKeyError\u001b[0m: 'city'"
     ]
    }
   ],
   "source": [
    "import matplotlib.pyplot as plt\n",
    "\n",
    "# Calculate the mean violence score for each BMI category\n",
    "mean_violence = df_4.groupby('city')['ses'].mean()\n",
    "\n",
    "# Plot the results\n",
    "plt.figure(figsize=(8, 5))\n",
    "mean_violence.sort_values().plot(kind='bar', color='red', alpha=0.7)\n",
    "\n",
    "plt.xlabel('BMI Category')\n",
    "plt.ylabel('Mean Violence Score')\n",
    "plt.title('Mean Violence Score in Each BMI Category')\n",
    "plt.xticks(rotation=45)\n",
    "plt.grid(axis='y', linestyle='--', alpha=0.7)\n",
    "\n",
    "# Show mean values on bars\n",
    "for index, value in enumerate(mean_violence.sort_values()):\n",
    "    plt.text(index, value + 0.1, f'{value:.2f}', ha='center', fontsize=10)\n",
    "\n",
    "plt.show()"
   ]
  },
  {
   "cell_type": "code",
   "execution_count": 79,
   "metadata": {},
   "outputs": [
    {
     "data": {
      "image/png": "[encoded data removed]",
      "text/plain": [
       "<Figure size 800x500 with 1 Axes>"
      ]
     },
     "metadata": {},
     "output_type": "display_data"
    }
   ],
   "source": [
    "import matplotlib.pyplot as plt\n",
    "\n",
    "# Calculate the mean violence score for each BMI category\n",
    "mean_violence = df_4.groupby('BMIWHO4Halati2')['ses'].mean()\n",
    "\n",
    "# Plot the results\n",
    "plt.figure(figsize=(8, 5))\n",
    "mean_violence.sort_values().plot(kind='bar', color='red', alpha=0.7)\n",
    "\n",
    "plt.xlabel('BMI Category')\n",
    "plt.ylabel('Mean Violence Score')\n",
    "plt.title('Mean Violence Score in Each BMI Category')\n",
    "plt.xticks(rotation=45)\n",
    "plt.grid(axis='y', linestyle='--', alpha=0.7)\n",
    "\n",
    "# Show mean values on bars\n",
    "for index, value in enumerate(mean_violence.sort_values()):\n",
    "    plt.text(index, value + 0.1, f'{value:.2f}', ha='center', fontsize=10)\n",
    "\n",
    "plt.show()\n"
   ]
  },
  {
   "cell_type": "code",
   "execution_count": 143,
   "metadata": {},
   "outputs": [
    {
     "data": {
      "image/png": "[encoded data removed]",
      "text/plain": [
       "<Figure size 1000x500 with 1 Axes>"
      ]
     },
     "metadata": {},
     "output_type": "display_data"
    }
   ],
   "source": [
    "age_food_score = df_4.groupby('age')['activity_score'].mean()\n",
    "\n",
    "# Plot the results\n",
    "plt.figure(figsize=(10, 5))\n",
    "plt.plot(age_food_score.index, age_food_score.values, marker='o', linestyle='-')\n",
    "plt.xlabel('Age')\n",
    "plt.ylabel('Mean Food Score')\n",
    "plt.title('Mean Food Score by Age')\n",
    "plt.grid(True)\n",
    "plt.show()"
   ]
  },
  {
   "cell_type": "markdown",
   "metadata": {},
   "source": [
    "## ACtivity Score"
   ]
  },
  {
   "cell_type": "code",
   "execution_count": null,
   "metadata": {},
   "outputs": [],
   "source": []
  },
  {
   "cell_type": "code",
   "execution_count": 136,
   "metadata": {},
   "outputs": [
    {
     "data": {
      "text/plain": [
       "Index(['2 saat', '1 saat', '0 saat', '3 saat ya bishtar'], dtype='object', name='Sportclasshours')"
      ]
     },
     "execution_count": 136,
     "metadata": {},
     "output_type": "execute_result"
    }
   ],
   "source": [
    "df_4['Sportclasshours'].value_counts().keys()"
   ]
  },
  {
   "cell_type": "code",
   "execution_count": null,
   "metadata": {},
   "outputs": [],
   "source": []
  },
  {
   "cell_type": "markdown",
   "metadata": {},
   "source": [
    "## hygiene"
   ]
  },
  {
   "cell_type": "code",
   "execution_count": null,
   "metadata": {},
   "outputs": [],
   "source": []
  },
  {
   "cell_type": "code",
   "execution_count": 164,
   "metadata": {},
   "outputs": [],
   "source": [
    "encoder = LabelEncoder()\n",
    "\n",
    "# Apply label encoding to multiple columns\n",
    "columns_to_encode = [\n",
    "\n",
    "'iranregion','activeeversmoker','passivesmoker']  # Replace with your actual column names\n",
    "\n",
    "for column in columns_to_encode:\n",
    "    df_4[column ] = encoder.fit_transform(df_4[column])"
   ]
  },
  {
   "cell_type": "code",
   "execution_count": 172,
   "metadata": {},
   "outputs": [
    {
     "data": {
      "text/plain": [
       "ses\n",
       " 1.548818    641\n",
       "-1.778453    604\n",
       " 1.306586    375\n",
       "-1.415105    202\n",
       " 1.646228    198\n",
       "            ... \n",
       "-1.993979      1\n",
       " 0.296189      1\n",
       "-2.132271      1\n",
       "-0.051491      1\n",
       " 0.285147      1\n",
       "Name: count, Length: 1435, dtype: int64"
      ]
     },
     "execution_count": 172,
     "metadata": {},
     "output_type": "execute_result"
    }
   ],
   "source": [
    "df_4['ses'].value_counts()"
   ]
  },
  {
   "cell_type": "code",
   "execution_count": 50,
   "metadata": {},
   "outputs": [],
   "source": [
    "a=['age','iranregion','activeeversmoker','passivesmoker','gender','height','weight','food_score','violence_score','mental_score','hygiene_score','activity_score','ses']"
   ]
  },
  {
   "cell_type": "code",
   "execution_count": null,
   "metadata": {},
   "outputs": [
    {
     "data": {
      "application/vnd.microsoft.datawrangler.viewer.v0+json": {
       "columns": [
        {
         "name": "index",
         "rawType": "int64",
         "type": "integer"
        },
        {
         "name": "age",
         "rawType": "float64",
         "type": "float"
        },
        {
         "name": "iranregion",
         "rawType": "object",
         "type": "string"
        },
        {
         "name": "activeeversmoker",
         "rawType": "object",
         "type": "string"
        },
        {
         "name": "passivesmoker",
         "rawType": "object",
         "type": "string"
        },
        {
         "name": "gender",
         "rawType": "object",
         "type": "string"
        },
        {
         "name": "height",
         "rawType": "float64",
         "type": "float"
        },
        {
         "name": "weight",
         "rawType": "float64",
         "type": "float"
        },
        {
         "name": "food_score",
         "rawType": "int64",
         "type": "integer"
        },
        {
         "name": "violence_score",
         "rawType": "float64",
         "type": "float"
        },
        {
         "name": "mental_score",
         "rawType": "float64",
         "type": "float"
        },
        {
         "name": "hygiene_score",
         "rawType": "int64",
         "type": "integer"
        },
        {
         "name": "activity_score",
         "rawType": "float64",
         "type": "float"
        },
        {
         "name": "ses",
         "rawType": "float64",
         "type": "float"
        }
       ],
       "conversionMethod": "pd.DataFrame",
       "ref": "1475f817-5c4d-4b18-8b95-d14f8ad0de11",
       "rows": [
        [
         "0",
         "12.0",
         "West",
         "no",
         "no",
         "boy",
         "112.5",
         "38.0",
         "2",
         "3.0",
         "6.0",
         "8",
         "1.0",
         "1.9068272113800049"
        ],
        [
         "1",
         "17.0",
         "West",
         "no",
         "no",
         "boy",
         "140.0",
         "44.0",
         "1",
         "3.0",
         "7.0",
         "5",
         "2.5",
         "-1.9874495267868042"
        ],
        [
         "2",
         "11.0",
         "West",
         "no",
         "yes",
         "girl",
         "110.0",
         "42.0",
         "1",
         "4.0",
         "17.0",
         "9",
         "2.0",
         "-0.7388211488723755"
        ],
        [
         "3",
         "13.0",
         "West",
         "no",
         "yes",
         "girl",
         "121.0",
         "40.0",
         "5",
         "3.0",
         "15.0",
         "5",
         "6.0",
         "3.053004026412964"
        ],
        [
         "4",
         "10.0",
         "West",
         "no",
         "yes",
         "girl",
         "107.0",
         "33.0",
         "3",
         "3.0",
         "5.0",
         "9",
         "1.0",
         "1.5488179922103882"
        ],
        [
         "5",
         "12.0",
         "West",
         "no",
         "no",
         "boy",
         "113.0",
         "48.0",
         "1",
         "3.0",
         "6.0",
         "8",
         "0.5",
         "1.0597323179244995"
        ],
        [
         "6",
         "16.0",
         "West",
         "no",
         "no",
         "boy",
         "136.0",
         "31.0",
         "2",
         "5.0",
         "13.0",
         "6",
         "4.0",
         "-3.131021022796631"
        ],
        [
         "7",
         "8.0",
         "Northeast",
         "no",
         "no",
         "boy",
         "101.0",
         "28.0",
         "5",
         "3.0",
         "4.0",
         "9",
         "5.5",
         "2.670196056365967"
        ],
        [
         "8",
         "12.0",
         "Central",
         "no",
         "no",
         "girl",
         "115.0",
         "36.0",
         "3",
         "3.0",
         "16.0",
         "9",
         "2.5",
         "0.633302628993988"
        ],
        [
         "9",
         "13.0",
         "West",
         "no",
         "no",
         "girl",
         "122.0",
         "27.0",
         "3",
         "3.0",
         "9.0",
         "9",
         "1.5",
         "1.5488179922103882"
        ],
        [
         "10",
         "10.0",
         "West",
         "no",
         "yes",
         "girl",
         "108.0",
         "40.0",
         "4",
         "3.0",
         "4.0",
         "9",
         "2.5",
         "1.2121763229370117"
        ],
        [
         "11",
         "12.0",
         "West",
         "no",
         "no",
         "boy",
         "114.0",
         "36.0",
         "2",
         "3.0",
         "12.0",
         "8",
         "1.5",
         "-0.35601308941841125"
        ],
        [
         "12",
         "12.0",
         "Northeast",
         "no",
         "yes",
         "girl",
         "116.0",
         "30.0",
         "4",
         "3.0",
         "5.0",
         "7",
         "1.5",
         "-0.9982295632362366"
        ],
        [
         "13",
         "17.0",
         "West",
         "no",
         "no",
         "boy",
         "143.0",
         "30.0",
         "1",
         "3.0",
         "4.0",
         "7",
         "5.5",
         "-1.5599267482757568"
        ],
        [
         "14",
         "11.0",
         "Central",
         "no",
         "yes",
         "boy",
         "113.0",
         "40.0",
         "2",
         "4.0",
         "8.0",
         "8",
         "0.0",
         "1.3065860271453857"
        ],
        [
         "15",
         "14.0",
         "Central",
         "no",
         "no",
         "boy",
         "124.5",
         "20.0",
         "3",
         "3.0",
         "8.0",
         "9",
         "4.0",
         "2.222763776779175"
        ],
        [
         "16",
         "14.0",
         "Central",
         "no",
         "no",
         "boy",
         "124.5",
         "60.0",
         "5",
         "5.0",
         "5.0",
         "9",
         "5.5",
         "1.2553420066833496"
        ],
        [
         "17",
         "8.0",
         "West",
         "no",
         "no",
         "girl",
         "102.5",
         "21.0",
         "1",
         "1.0",
         "8.0",
         "8",
         "5.0",
         "-1.5599267482757568"
        ],
        [
         "18",
         "9.0",
         "Northeast",
         "no",
         "no",
         "boy",
         "107.0",
         "21.5",
         "4",
         "3.0",
         "4.0",
         "5",
         "5.5",
         "1.1484020948410034"
        ],
        [
         "19",
         "13.0",
         "West",
         "no",
         "no",
         "girl",
         "124.0",
         "39.0",
         "5",
         "3.0",
         "11.0",
         "9",
         "3.0",
         "1.5488179922103882"
        ],
        [
         "20",
         "11.0",
         "Northeast",
         "yes",
         "yes",
         "girl",
         "113.0",
         "40.0",
         "-2",
         "3.0",
         "19.0",
         "5",
         "0.5",
         "1.5488179922103882"
        ],
        [
         "21",
         "12.0",
         "West",
         "no",
         "yes",
         "boy",
         "116.0",
         "37.0",
         "3",
         "5.0",
         "15.0",
         "4",
         "4.5",
         "-1.9442837238311768"
        ],
        [
         "23",
         "10.0",
         "Southeast",
         "no",
         "no",
         "girl",
         "110.0",
         "40.0",
         "4",
         "3.0",
         "6.0",
         "7",
         "1.0",
         "1.9640722274780273"
        ],
        [
         "24",
         "10.0",
         "West",
         "no",
         "yes",
         "girl",
         "110.0",
         "24.5",
         "6",
         "5.0",
         "6.0",
         "9",
         "2.0",
         "-0.695655345916748"
        ],
        [
         "25",
         "8.0",
         "West",
         "no",
         "no",
         "girl",
         "103.0",
         "17.0",
         "3",
         "3.0",
         "8.0",
         "8",
         "3.0",
         "-2.1120941638946533"
        ],
        [
         "26",
         "8.0",
         "West",
         "no",
         "no",
         "girl",
         "103.0",
         "25.0",
         "5",
         "3.0",
         "5.0",
         "9",
         "5.5",
         "-1.77845299243927"
        ],
        [
         "27",
         "10.0",
         "Central",
         "no",
         "yes",
         "boy",
         "111.0",
         "33.0",
         "1",
         "3.0",
         "13.0",
         "3",
         "5.5",
         "2.3037145137786865"
        ],
        [
         "28",
         "16.0",
         "Central",
         "yes",
         "no",
         "boy",
         "140.0",
         "31.0",
         "3",
         "3.0",
         "3.0",
         "2",
         "2.0",
         "-1.77845299243927"
        ],
        [
         "29",
         "14.0",
         "Central",
         "no",
         "no",
         "boy",
         "126.0",
         "59.0",
         "8",
         "4.0",
         "4.0",
         "8",
         "1.5",
         "0.07513410598039627"
        ],
        [
         "30",
         "14.0",
         "Northeast",
         "no",
         "yes",
         "girl",
         "131.0",
         "40.900001525878906",
         "0",
         "3.0",
         "13.0",
         "7",
         "1.0",
         "-1.4292811155319214"
        ],
        [
         "32",
         "12.0",
         "West",
         "no",
         "no",
         "girl",
         "119.0",
         "18.0",
         "3",
         "7.0",
         "10.0",
         "9",
         "5.5",
         "2.670196056365967"
        ],
        [
         "33",
         "15.0",
         "West",
         "no",
         "yes",
         "girl",
         "135.3000030517578",
         "28.200000762939453",
         "2",
         "4.0",
         "21.0",
         "9",
         "3.0",
         "0.18972089886665344"
        ],
        [
         "34",
         "8.0",
         "West",
         "no",
         "no",
         "girl",
         "104.0",
         "29.0",
         "5",
         "3.0",
         "5.0",
         "9",
         "5.5",
         "-0.3219456076622009"
        ],
        [
         "35",
         "8.0",
         "West",
         "no",
         "no",
         "girl",
         "104.0",
         "24.0",
         "3",
         "3.0",
         "7.0",
         "9",
         "1.5",
         "-0.6833860874176025"
        ],
        [
         "36",
         "9.0",
         "Northeast",
         "no",
         "no",
         "girl",
         "108.0",
         "27.0",
         "2",
         "3.0",
         "6.0",
         "9",
         "1.5",
         "-0.7418216466903687"
        ],
        [
         "37",
         "9.0",
         "West",
         "no",
         "no",
         "girl",
         "108.0",
         "20.0",
         "4",
         "3.0",
         "15.0",
         "8",
         "4.5",
         "-3.2521369457244873"
        ],
        [
         "38",
         "7.0",
         "West",
         "no",
         "yes",
         "boy",
         "100.0",
         "22.5",
         "3",
         "3.0",
         "9.0",
         "7",
         "1.0",
         "0.8117603659629822"
        ],
        [
         "39",
         "7.0",
         "West",
         "no",
         "no",
         "boy",
         "100.0999984741211",
         "20.0",
         "0",
         "3.0",
         "3.0",
         "5",
         "4.0",
         "-2.4517364501953125"
        ],
        [
         "40",
         "13.0",
         "Southeast",
         "no",
         "yes",
         "girl",
         "126.0",
         "34.5",
         "3",
         "2.0",
         "16.0",
         "7",
         "1.0",
         "-1.1021690368652344"
        ],
        [
         "41",
         "13.0",
         "West",
         "no",
         "yes",
         "girl",
         "126.0",
         "30.0",
         "6",
         "3.0",
         "4.0",
         "9",
         "1.5",
         "-1.4388107061386108"
        ],
        [
         "42",
         "11.0",
         "Northeast",
         "no",
         "no",
         "girl",
         "115.0",
         "34.0",
         "5",
         "7.0",
         "11.0",
         "7",
         "2.5",
         "0.8725340366363525"
        ],
        [
         "43",
         "12.0",
         "Southeast",
         "no",
         "no",
         "boy",
         "118.0",
         "26.5",
         "4",
         "7.0",
         "8.0",
         "8",
         "1.0",
         "-3.087855100631714"
        ],
        [
         "44",
         "15.0",
         "West",
         "no",
         "no",
         "girl",
         "135.89999389648438",
         "46.099998474121094",
         "2",
         "5.0",
         "20.0",
         "9",
         "5.0",
         "-1.936541199684143"
        ],
        [
         "45",
         "15.0",
         "Southeast",
         "no",
         "yes",
         "boy",
         "135.0",
         "28.0",
         "1",
         "6.0",
         "11.0",
         "9",
         "5.0",
         "-2.7676730155944824"
        ],
        [
         "46",
         "8.0",
         "Central",
         "no",
         "no",
         "boy",
         "105.0",
         "18.0",
         "4",
         "3.0",
         "7.0",
         "8",
         "5.5",
         "-2.1990458965301514"
        ],
        [
         "47",
         "14.0",
         "Southeast",
         "no",
         "no",
         "girl",
         "132.5",
         "33.0",
         "1",
         "6.0",
         "10.0",
         "7",
         "2.5",
         "-1.857800006866455"
        ],
        [
         "48",
         "16.0",
         "Northeast",
         "no",
         "no",
         "boy",
         "142.0",
         "37.5",
         "2",
         "3.0",
         "15.0",
         "6",
         "4.0",
         "-3.131021022796631"
        ],
        [
         "49",
         "15.0",
         "Central",
         "no",
         "yes",
         "girl",
         "136.5",
         "29.100000381469727",
         "4",
         "3.0",
         "7.0",
         "7",
         "2.0",
         "1.5488179922103882"
        ],
        [
         "50",
         "7.0",
         "Northeast",
         "no",
         "no",
         "girl",
         "100.0",
         "25.0",
         "6",
         "3.0",
         "9.0",
         "8",
         "3.0",
         "0.041402291506528854"
        ],
        [
         "51",
         "11.0",
         "Southeast",
         "no",
         "yes",
         "boy",
         "116.0",
         "23.0",
         "1",
         "3.0",
         "4.0",
         "9",
         "3.0",
         "-2.088388442993164"
        ]
       ],
       "shape": {
        "columns": 13,
        "rows": 13199
       }
      },
      "text/html": [
       "<div>\n",
       "<style scoped>\n",
       "    .dataframe tbody tr th:only-of-type {\n",
       "        vertical-align: middle;\n",
       "    }\n",
       "\n",
       "    .dataframe tbody tr th {\n",
       "        vertical-align: top;\n",
       "    }\n",
       "\n",
       "    .dataframe thead th {\n",
       "        text-align: right;\n",
       "    }\n",
       "</style>\n",
       "<table border=\"1\" class=\"dataframe\">\n",
       "  <thead>\n",
       "    <tr style=\"text-align: right;\">\n",
       "      <th></th>\n",
       "      <th>age</th>\n",
       "      <th>iranregion</th>\n",
       "      <th>activeeversmoker</th>\n",
       "      <th>passivesmoker</th>\n",
       "      <th>gender</th>\n",
       "      <th>height</th>\n",
       "      <th>weight</th>\n",
       "      <th>food_score</th>\n",
       "      <th>violence_score</th>\n",
       "      <th>mental_score</th>\n",
       "      <th>hygiene_score</th>\n",
       "      <th>activity_score</th>\n",
       "      <th>ses</th>\n",
       "    </tr>\n",
       "  </thead>\n",
       "  <tbody>\n",
       "    <tr>\n",
       "      <th>0</th>\n",
       "      <td>12.0</td>\n",
       "      <td>West</td>\n",
       "      <td>no</td>\n",
       "      <td>no</td>\n",
       "      <td>boy</td>\n",
       "      <td>112.5</td>\n",
       "      <td>38.0</td>\n",
       "      <td>2</td>\n",
       "      <td>3.0</td>\n",
       "      <td>6.0</td>\n",
       "      <td>8</td>\n",
       "      <td>1.0</td>\n",
       "      <td>1.906827</td>\n",
       "    </tr>\n",
       "    <tr>\n",
       "      <th>1</th>\n",
       "      <td>17.0</td>\n",
       "      <td>West</td>\n",
       "      <td>no</td>\n",
       "      <td>no</td>\n",
       "      <td>boy</td>\n",
       "      <td>140.0</td>\n",
       "      <td>44.0</td>\n",
       "      <td>1</td>\n",
       "      <td>3.0</td>\n",
       "      <td>7.0</td>\n",
       "      <td>5</td>\n",
       "      <td>2.5</td>\n",
       "      <td>-1.987450</td>\n",
       "    </tr>\n",
       "    <tr>\n",
       "      <th>2</th>\n",
       "      <td>11.0</td>\n",
       "      <td>West</td>\n",
       "      <td>no</td>\n",
       "      <td>yes</td>\n",
       "      <td>girl</td>\n",
       "      <td>110.0</td>\n",
       "      <td>42.0</td>\n",
       "      <td>1</td>\n",
       "      <td>4.0</td>\n",
       "      <td>17.0</td>\n",
       "      <td>9</td>\n",
       "      <td>2.0</td>\n",
       "      <td>-0.738821</td>\n",
       "    </tr>\n",
       "    <tr>\n",
       "      <th>3</th>\n",
       "      <td>13.0</td>\n",
       "      <td>West</td>\n",
       "      <td>no</td>\n",
       "      <td>yes</td>\n",
       "      <td>girl</td>\n",
       "      <td>121.0</td>\n",
       "      <td>40.0</td>\n",
       "      <td>5</td>\n",
       "      <td>3.0</td>\n",
       "      <td>15.0</td>\n",
       "      <td>5</td>\n",
       "      <td>6.0</td>\n",
       "      <td>3.053004</td>\n",
       "    </tr>\n",
       "    <tr>\n",
       "      <th>4</th>\n",
       "      <td>10.0</td>\n",
       "      <td>West</td>\n",
       "      <td>no</td>\n",
       "      <td>yes</td>\n",
       "      <td>girl</td>\n",
       "      <td>107.0</td>\n",
       "      <td>33.0</td>\n",
       "      <td>3</td>\n",
       "      <td>3.0</td>\n",
       "      <td>5.0</td>\n",
       "      <td>9</td>\n",
       "      <td>1.0</td>\n",
       "      <td>1.548818</td>\n",
       "    </tr>\n",
       "    <tr>\n",
       "      <th>...</th>\n",
       "      <td>...</td>\n",
       "      <td>...</td>\n",
       "      <td>...</td>\n",
       "      <td>...</td>\n",
       "      <td>...</td>\n",
       "      <td>...</td>\n",
       "      <td>...</td>\n",
       "      <td>...</td>\n",
       "      <td>...</td>\n",
       "      <td>...</td>\n",
       "      <td>...</td>\n",
       "      <td>...</td>\n",
       "      <td>...</td>\n",
       "    </tr>\n",
       "    <tr>\n",
       "      <th>13535</th>\n",
       "      <td>11.0</td>\n",
       "      <td>West</td>\n",
       "      <td>no</td>\n",
       "      <td>yes</td>\n",
       "      <td>girl</td>\n",
       "      <td>142.0</td>\n",
       "      <td>29.0</td>\n",
       "      <td>1</td>\n",
       "      <td>7.0</td>\n",
       "      <td>13.0</td>\n",
       "      <td>7</td>\n",
       "      <td>3.0</td>\n",
       "      <td>-2.233210</td>\n",
       "    </tr>\n",
       "    <tr>\n",
       "      <th>13536</th>\n",
       "      <td>7.0</td>\n",
       "      <td>West</td>\n",
       "      <td>no</td>\n",
       "      <td>yes</td>\n",
       "      <td>girl</td>\n",
       "      <td>89.0</td>\n",
       "      <td>20.0</td>\n",
       "      <td>-2</td>\n",
       "      <td>3.0</td>\n",
       "      <td>9.0</td>\n",
       "      <td>9</td>\n",
       "      <td>5.5</td>\n",
       "      <td>1.882230</td>\n",
       "    </tr>\n",
       "    <tr>\n",
       "      <th>13539</th>\n",
       "      <td>11.0</td>\n",
       "      <td>West</td>\n",
       "      <td>no</td>\n",
       "      <td>no</td>\n",
       "      <td>boy</td>\n",
       "      <td>142.0</td>\n",
       "      <td>44.0</td>\n",
       "      <td>7</td>\n",
       "      <td>3.0</td>\n",
       "      <td>10.0</td>\n",
       "      <td>9</td>\n",
       "      <td>4.0</td>\n",
       "      <td>0.526363</td>\n",
       "    </tr>\n",
       "    <tr>\n",
       "      <th>13540</th>\n",
       "      <td>11.0</td>\n",
       "      <td>West</td>\n",
       "      <td>no</td>\n",
       "      <td>yes</td>\n",
       "      <td>girl</td>\n",
       "      <td>142.0</td>\n",
       "      <td>29.0</td>\n",
       "      <td>1</td>\n",
       "      <td>7.0</td>\n",
       "      <td>21.0</td>\n",
       "      <td>3</td>\n",
       "      <td>1.0</td>\n",
       "      <td>-0.722362</td>\n",
       "    </tr>\n",
       "    <tr>\n",
       "      <th>13541</th>\n",
       "      <td>8.0</td>\n",
       "      <td>Southeast</td>\n",
       "      <td>no</td>\n",
       "      <td>no</td>\n",
       "      <td>boy</td>\n",
       "      <td>125.0</td>\n",
       "      <td>22.0</td>\n",
       "      <td>3</td>\n",
       "      <td>3.0</td>\n",
       "      <td>7.0</td>\n",
       "      <td>6</td>\n",
       "      <td>3.5</td>\n",
       "      <td>-2.290455</td>\n",
       "    </tr>\n",
       "  </tbody>\n",
       "</table>\n",
       "<p>13199 rows × 13 columns</p>\n",
       "</div>"
      ],
      "text/plain": [
       "        age iranregion activeeversmoker passivesmoker gender  height  weight  \\\n",
       "0      12.0       West               no            no    boy   112.5    38.0   \n",
       "1      17.0       West               no            no    boy   140.0    44.0   \n",
       "2      11.0       West               no           yes   girl   110.0    42.0   \n",
       "3      13.0       West               no           yes   girl   121.0    40.0   \n",
       "4      10.0       West               no           yes   girl   107.0    33.0   \n",
       "...     ...        ...              ...           ...    ...     ...     ...   \n",
       "13535  11.0       West               no           yes   girl   142.0    29.0   \n",
       "13536   7.0       West               no           yes   girl    89.0    20.0   \n",
       "13539  11.0       West               no            no    boy   142.0    44.0   \n",
       "13540  11.0       West               no           yes   girl   142.0    29.0   \n",
       "13541   8.0  Southeast               no            no    boy   125.0    22.0   \n",
       "\n",
       "       food_score  violence_score  mental_score  hygiene_score  \\\n",
       "0               2             3.0           6.0              8   \n",
       "1               1             3.0           7.0              5   \n",
       "2               1             4.0          17.0              9   \n",
       "3               5             3.0          15.0              5   \n",
       "4               3             3.0           5.0              9   \n",
       "...           ...             ...           ...            ...   \n",
       "13535           1             7.0          13.0              7   \n",
       "13536          -2             3.0           9.0              9   \n",
       "13539           7             3.0          10.0              9   \n",
       "13540           1             7.0          21.0              3   \n",
       "13541           3             3.0           7.0              6   \n",
       "\n",
       "       activity_score       ses  \n",
       "0                 1.0  1.906827  \n",
       "1                 2.5 -1.987450  \n",
       "2                 2.0 -0.738821  \n",
       "3                 6.0  3.053004  \n",
       "4                 1.0  1.548818  \n",
       "...               ...       ...  \n",
       "13535             3.0 -2.233210  \n",
       "13536             5.5  1.882230  \n",
       "13539             4.0  0.526363  \n",
       "13540             1.0 -0.722362  \n",
       "13541             3.5 -2.290455  \n",
       "\n",
       "[13199 rows x 13 columns]"
      ]
     },
     "execution_count": 52,
     "metadata": {},
     "output_type": "execute_result"
    }
   ],
   "source": [
    "df.to_csv(\"\")"
   ]
  },
  {
   "cell_type": "code",
   "execution_count": 51,
   "metadata": {},
   "outputs": [],
   "source": [
    "df=df_4[a]"
   ]
  },
  {
   "cell_type": "code",
   "execution_count": 178,
   "metadata": {},
   "outputs": [],
   "source": [
    "df_girls=df[df['gender']=='girl']\n",
    "df_boys=df[df['gender']=='boy']"
   ]
  },
  {
   "cell_type": "code",
   "execution_count": 179,
   "metadata": {},
   "outputs": [],
   "source": [
    "gen_features=[\n",
    "    \n",
    "\n",
    "'gender','height','weight','food_score'\n",
    "]"
   ]
  },
  {
   "cell_type": "code",
   "execution_count": 198,
   "metadata": {},
   "outputs": [
    {
     "data": {
      "text/plain": [
       "(13199, 12)"
      ]
     },
     "execution_count": 198,
     "metadata": {},
     "output_type": "execute_result"
    }
   ],
   "source": [
    "df.shape"
   ]
  },
  {
   "cell_type": "code",
   "execution_count": 197,
   "metadata": {},
   "outputs": [
    {
     "name": "stdout",
     "output_type": "stream",
     "text": [
      "Inertia (Within-cluster SSE): 135075.26\n",
      "Silhouette Score: 0.42\n",
      "Calinski-Harabasz Index: 5595.86\n",
      "Davies-Bouldin Index: 0.95\n"
     ]
    }
   ],
   "source": [
    "from sklearn.manifold import TSNE\n",
    "from sklearn.cluster import KMeans\n",
    "from sklearn.metrics import silhouette_score, calinski_harabasz_score, davies_bouldin_score\n",
    "\n",
    "# Step 1: Drop general features from dataset\n",
    "features_for_clustering = df_boys.drop(gen_features, axis=1)\n",
    "\n",
    "# Step 2: Apply t-SNE for dimensionality reduction (to 2 or 3 dimensions)\n",
    "# tsne = TSNE(n_components=3, random_state=42, perplexity=30, learning_rate=200)\n",
    "# features_reduced = tsne.fit_transform(features_for_clustering)\n",
    "features_reduced=features_for_clustering\n",
    "# Step 3: Apply KMeans clustering\n",
    "kmeans = KMeans(n_clusters=2, random_state=42, n_init=10)  # Adjust n_clusters as needed\n",
    "clusters = kmeans.fit_predict(features_reduced)\n",
    "\n",
    "\n",
    "\n",
    "# Step 5: Evaluate clustering\n",
    "inertia = kmeans.inertia_\n",
    "silhouette = silhouette_score(features_reduced, clusters)\n",
    "calinski_harabasz = calinski_harabasz_score(features_reduced, clusters)\n",
    "davies_bouldin = davies_bouldin_score(features_reduced, clusters)\n",
    "\n",
    "# Print evaluation results\n",
    "print(f\"Inertia (Within-cluster SSE): {inertia:.2f}\")\n",
    "print(f\"Silhouette Score: {silhouette:.2f}\")\n",
    "print(f\"Calinski-Harabasz Index: {calinski_harabasz:.2f}\")\n",
    "print(f\"Davies-Bouldin Index: {davies_bouldin:.2f}\")\n"
   ]
  },
  {
   "cell_type": "code",
   "execution_count": 194,
   "metadata": {},
   "outputs": [
    {
     "name": "stdout",
     "output_type": "stream",
     "text": [
      "\n",
      "Best Parameters for DBSCAN:\n",
      "eps: 3.0, min_samples: 5\n",
      "Silhouette Score: 0.63\n",
      "Calinski-Harabasz Index: 56.17\n",
      "Davies-Bouldin Index: 0.32\n"
     ]
    }
   ],
   "source": [
    "import plotly.express as px\n",
    "import numpy as np\n",
    "from sklearn.cluster import DBSCAN\n",
    "\n",
    "scaled_features=features_for_clustering\n",
    "eps_values = np.arange(0.5, 5, 0.5)  # Test values from 5 to 30 with step 5\n",
    "\n",
    "min_samples_values = [5, 3, 15,35]  # Different min_samples\n",
    "\n",
    "best_score = -1\n",
    "best_params = {}\n",
    "\n",
    "# Step 3: Iterate over all combinations of parameters\n",
    "for eps in eps_values:\n",
    "    for min_samples in min_samples_values:\n",
    "        dbscan = DBSCAN(eps=eps, min_samples=min_samples, )\n",
    "        labels = dbscan.fit_predict(scaled_features)\n",
    "\n",
    "        # Filter out noise points (-1) before evaluating\n",
    "        mask = labels != -1\n",
    "        filtered_features = scaled_features[mask]\n",
    "        filtered_labels = labels[mask]\n",
    "\n",
    "        if len(set(filtered_labels)) > 1:  # At least 2 clusters needed for evaluation\n",
    "\n",
    "            silhouette = silhouette_score(filtered_features, filtered_labels)\n",
    "            calinski_harabasz = calinski_harabasz_score(filtered_features, filtered_labels)\n",
    "            davies_bouldin = davies_bouldin_score(filtered_features, filtered_labels)\n",
    "\n",
    "            # Combine metrics to find best params (maximize silhouette, minimize Davies-Bouldin)\n",
    "            score = silhouette - davies_bouldin  # A simple way to compare results\n",
    "\n",
    "            if score > best_score:\n",
    "                best_score = score\n",
    "                best_params = {'eps': eps, 'min_samples': min_samples, \n",
    "                               'silhouette': silhouette, \n",
    "                               'calinski_harabasz': calinski_harabasz, \n",
    "                               'davies_bouldin': davies_bouldin}\n",
    "\n",
    "# Step 4: Print best parameters\n",
    "print(\"\\nBest Parameters for DBSCAN:\")\n",
    "print(f\"eps: {best_params['eps']}, min_samples: {best_params['min_samples']}\")\n",
    "print(f\"Silhouette Score: {best_params['silhouette']:.2f}\")\n",
    "print(f\"Calinski-Harabasz Index: {best_params['calinski_harabasz']:.2f}\")\n",
    "print(f\"Davies-Bouldin Index: {best_params['davies_bouldin']:.2f}\")\n"
   ]
  },
  {
   "cell_type": "code",
   "execution_count": 196,
   "metadata": {},
   "outputs": [
    {
     "data": {
      "application/vnd.plotly.v1+json": {
       "config": {
        "plotlyServerURL": "https://plot.ly"
       },
       "data": [
        {
         "hovertemplate": "color=1<br>TSNE Component 1=%{x}<br>TSNE Component 2=%{y}<br>TSNE Component 3=%{z}<extra></extra>",
         "legendgroup": "1",
         "marker": {
          "color": "#636efa",
          "symbol": "circle"
         },
         "mode": "markers",
         "name": "1",
         "scene": "scene",
         "showlegend": true,
         "type": "scatter3d",
         "x": [
          7.560406,
          7.541849,
          7.7220917,
          7.271973,
          7.252521,
          7.0458593,
          6.9844575,
          7.6003637,
          7.2715287,
          7.29507,
          7.005531,
          7.083393,
          7.534372,
          7.124496,
          7.2119794,
          7.498907,
          7.172805,
          7.3155217,
          7.5907598,
          7.065081,
          7.6670694,
          7.5223413,
          7.386866
         ],
         "y": [
          -1.881142,
          -1.9521434,
          -2.1453035,
          -1.4267937,
          -1.4052885,
          -1.6805725,
          -1.7285359,
          -2.0069575,
          -1.4365267,
          -1.5584385,
          -1.6722378,
          -1.7762817,
          -1.5653716,
          -1.3335804,
          -1.6947137,
          -1.8043752,
          -1.349636,
          -1.5953876,
          -1.7821077,
          -1.7122527,
          -2.0972826,
          -1.6716998,
          -1.7747229
         ],
         "z": [
          19.961414,
          19.923492,
          19.768932,
          20.297,
          20.295164,
          20.192036,
          20.17882,
          19.87688,
          20.291193,
          20.206732,
          20.206049,
          20.132986,
          20.162405,
          20.379536,
          20.151701,
          20.020908,
          20.361334,
          20.182047,
          20.015526,
          20.17089,
          19.803593,
          20.09311,
          20.066553
         ]
        }
       ],
       "layout": {
        "legend": {
         "title": {
          "text": "color"
         },
         "tracegroupgap": 0
        },
        "scene": {
         "domain": {
          "x": [
           0,
           1
          ],
          "y": [
           0,
           1
          ]
         },
         "xaxis": {
          "title": {
           "text": "TSNE Component 1"
          }
         },
         "yaxis": {
          "title": {
           "text": "TSNE Component 2"
          }
         },
         "zaxis": {
          "title": {
           "text": "TSNE Component 3"
          }
         }
        },
        "template": {
         "data": {
          "bar": [
           {
            "error_x": {
             "color": "#2a3f5f"
            },
            "error_y": {
             "color": "#2a3f5f"
            },
            "marker": {
             "line": {
              "color": "#E5ECF6",
              "width": 0.5
             },
             "pattern": {
              "fillmode": "overlay",
              "size": 10,
              "solidity": 0.2
             }
            },
            "type": "bar"
           }
          ],
          "barpolar": [
           {
            "marker": {
             "line": {
              "color": "#E5ECF6",
              "width": 0.5
             },
             "pattern": {
              "fillmode": "overlay",
              "size": 10,
              "solidity": 0.2
             }
            },
            "type": "barpolar"
           }
          ],
          "carpet": [
           {
            "aaxis": {
             "endlinecolor": "#2a3f5f",
             "gridcolor": "white",
             "linecolor": "white",
             "minorgridcolor": "white",
             "startlinecolor": "#2a3f5f"
            },
            "baxis": {
             "endlinecolor": "#2a3f5f",
             "gridcolor": "white",
             "linecolor": "white",
             "minorgridcolor": "white",
             "startlinecolor": "#2a3f5f"
            },
            "type": "carpet"
           }
          ],
          "choropleth": [
           {
            "colorbar": {
             "outlinewidth": 0,
             "ticks": ""
            },
            "type": "choropleth"
           }
          ],
          "contour": [
           {
            "colorbar": {
             "outlinewidth": 0,
             "ticks": ""
            },
            "colorscale": [
             [
              0,
              "#0d0887"
             ],
             [
              0.1111111111111111,
              "#46039f"
             ],
             [
              0.2222222222222222,
              "#7201a8"
             ],
             [
              0.3333333333333333,
              "#9c179e"
             ],
             [
              0.4444444444444444,
              "#bd3786"
             ],
             [
              0.5555555555555556,
              "#d8576b"
             ],
             [
              0.6666666666666666,
              "#ed7953"
             ],
             [
              0.7777777777777778,
              "#fb9f3a"
             ],
             [
              0.8888888888888888,
              "#fdca26"
             ],
             [
              1,
              "#f0f921"
             ]
            ],
            "type": "contour"
           }
          ],
          "contourcarpet": [
           {
            "colorbar": {
             "outlinewidth": 0,
             "ticks": ""
            },
            "type": "contourcarpet"
           }
          ],
          "heatmap": [
           {
            "colorbar": {
             "outlinewidth": 0,
             "ticks": ""
            },
            "colorscale": [
             [
              0,
              "#0d0887"
             ],
             [
              0.1111111111111111,
              "#46039f"
             ],
             [
              0.2222222222222222,
              "#7201a8"
             ],
             [
              0.3333333333333333,
              "#9c179e"
             ],
             [
              0.4444444444444444,
              "#bd3786"
             ],
             [
              0.5555555555555556,
              "#d8576b"
             ],
             [
              0.6666666666666666,
              "#ed7953"
             ],
             [
              0.7777777777777778,
              "#fb9f3a"
             ],
             [
              0.8888888888888888,
              "#fdca26"
             ],
             [
              1,
              "#f0f921"
             ]
            ],
            "type": "heatmap"
           }
          ],
          "heatmapgl": [
           {
            "colorbar": {
             "outlinewidth": 0,
             "ticks": ""
            },
            "colorscale": [
             [
              0,
              "#0d0887"
             ],
             [
              0.1111111111111111,
              "#46039f"
             ],
             [
              0.2222222222222222,
              "#7201a8"
             ],
             [
              0.3333333333333333,
              "#9c179e"
             ],
             [
              0.4444444444444444,
              "#bd3786"
             ],
             [
              0.5555555555555556,
              "#d8576b"
             ],
             [
              0.6666666666666666,
              "#ed7953"
             ],
             [
              0.7777777777777778,
              "#fb9f3a"
             ],
             [
              0.8888888888888888,
              "#fdca26"
             ],
             [
              1,
              "#f0f921"
             ]
            ],
            "type": "heatmapgl"
           }
          ],
          "histogram": [
           {
            "marker": {
             "pattern": {
              "fillmode": "overlay",
              "size": 10,
              "solidity": 0.2
             }
            },
            "type": "histogram"
           }
          ],
          "histogram2d": [
           {
            "colorbar": {
             "outlinewidth": 0,
             "ticks": ""
            },
            "colorscale": [
             [
              0,
              "#0d0887"
             ],
             [
              0.1111111111111111,
              "#46039f"
             ],
             [
              0.2222222222222222,
              "#7201a8"
             ],
             [
              0.3333333333333333,
              "#9c179e"
             ],
             [
              0.4444444444444444,
              "#bd3786"
             ],
             [
              0.5555555555555556,
              "#d8576b"
             ],
             [
              0.6666666666666666,
              "#ed7953"
             ],
             [
              0.7777777777777778,
              "#fb9f3a"
             ],
             [
              0.8888888888888888,
              "#fdca26"
             ],
             [
              1,
              "#f0f921"
             ]
            ],
            "type": "histogram2d"
           }
          ],
          "histogram2dcontour": [
           {
            "colorbar": {
             "outlinewidth": 0,
             "ticks": ""
            },
            "colorscale": [
             [
              0,
              "#0d0887"
             ],
             [
              0.1111111111111111,
              "#46039f"
             ],
             [
              0.2222222222222222,
              "#7201a8"
             ],
             [
              0.3333333333333333,
              "#9c179e"
             ],
             [
              0.4444444444444444,
              "#bd3786"
             ],
             [
              0.5555555555555556,
              "#d8576b"
             ],
             [
              0.6666666666666666,
              "#ed7953"
             ],
             [
              0.7777777777777778,
              "#fb9f3a"
             ],
             [
              0.8888888888888888,
              "#fdca26"
             ],
             [
              1,
              "#f0f921"
             ]
            ],
            "type": "histogram2dcontour"
           }
          ],
          "mesh3d": [
           {
            "colorbar": {
             "outlinewidth": 0,
             "ticks": ""
            },
            "type": "mesh3d"
           }
          ],
          "parcoords": [
           {
            "line": {
             "colorbar": {
              "outlinewidth": 0,
              "ticks": ""
             }
            },
            "type": "parcoords"
           }
          ],
          "pie": [
           {
            "automargin": true,
            "type": "pie"
           }
          ],
          "scatter": [
           {
            "fillpattern": {
             "fillmode": "overlay",
             "size": 10,
             "solidity": 0.2
            },
            "type": "scatter"
           }
          ],
          "scatter3d": [
           {
            "line": {
             "colorbar": {
              "outlinewidth": 0,
              "ticks": ""
             }
            },
            "marker": {
             "colorbar": {
              "outlinewidth": 0,
              "ticks": ""
             }
            },
            "type": "scatter3d"
           }
          ],
          "scattercarpet": [
           {
            "marker": {
             "colorbar": {
              "outlinewidth": 0,
              "ticks": ""
             }
            },
            "type": "scattercarpet"
           }
          ],
          "scattergeo": [
           {
            "marker": {
             "colorbar": {
              "outlinewidth": 0,
              "ticks": ""
             }
            },
            "type": "scattergeo"
           }
          ],
          "scattergl": [
           {
            "marker": {
             "colorbar": {
              "outlinewidth": 0,
              "ticks": ""
             }
            },
            "type": "scattergl"
           }
          ],
          "scattermapbox": [
           {
            "marker": {
             "colorbar": {
              "outlinewidth": 0,
              "ticks": ""
             }
            },
            "type": "scattermapbox"
           }
          ],
          "scatterpolar": [
           {
            "marker": {
             "colorbar": {
              "outlinewidth": 0,
              "ticks": ""
             }
            },
            "type": "scatterpolar"
           }
          ],
          "scatterpolargl": [
           {
            "marker": {
             "colorbar": {
              "outlinewidth": 0,
              "ticks": ""
             }
            },
            "type": "scatterpolargl"
           }
          ],
          "scatterternary": [
           {
            "marker": {
             "colorbar": {
              "outlinewidth": 0,
              "ticks": ""
             }
            },
            "type": "scatterternary"
           }
          ],
          "surface": [
           {
            "colorbar": {
             "outlinewidth": 0,
             "ticks": ""
            },
            "colorscale": [
             [
              0,
              "#0d0887"
             ],
             [
              0.1111111111111111,
              "#46039f"
             ],
             [
              0.2222222222222222,
              "#7201a8"
             ],
             [
              0.3333333333333333,
              "#9c179e"
             ],
             [
              0.4444444444444444,
              "#bd3786"
             ],
             [
              0.5555555555555556,
              "#d8576b"
             ],
             [
              0.6666666666666666,
              "#ed7953"
             ],
             [
              0.7777777777777778,
              "#fb9f3a"
             ],
             [
              0.8888888888888888,
              "#fdca26"
             ],
             [
              1,
              "#f0f921"
             ]
            ],
            "type": "surface"
           }
          ],
          "table": [
           {
            "cells": {
             "fill": {
              "color": "#EBF0F8"
             },
             "line": {
              "color": "white"
             }
            },
            "header": {
             "fill": {
              "color": "#C8D4E3"
             },
             "line": {
              "color": "white"
             }
            },
            "type": "table"
           }
          ]
         },
         "layout": {
          "annotationdefaults": {
           "arrowcolor": "#2a3f5f",
           "arrowhead": 0,
           "arrowwidth": 1
          },
          "autotypenumbers": "strict",
          "coloraxis": {
           "colorbar": {
            "outlinewidth": 0,
            "ticks": ""
           }
          },
          "colorscale": {
           "diverging": [
            [
             0,
             "#8e0152"
            ],
            [
             0.1,
             "#c51b7d"
            ],
            [
             0.2,
             "#de77ae"
            ],
            [
             0.3,
             "#f1b6da"
            ],
            [
             0.4,
             "#fde0ef"
            ],
            [
             0.5,
             "#f7f7f7"
            ],
            [
             0.6,
             "#e6f5d0"
            ],
            [
             0.7,
             "#b8e186"
            ],
            [
             0.8,
             "#7fbc41"
            ],
            [
             0.9,
             "#4d9221"
            ],
            [
             1,
             "#276419"
            ]
           ],
           "sequential": [
            [
             0,
             "#0d0887"
            ],
            [
             0.1111111111111111,
             "#46039f"
            ],
            [
             0.2222222222222222,
             "#7201a8"
            ],
            [
             0.3333333333333333,
             "#9c179e"
            ],
            [
             0.4444444444444444,
             "#bd3786"
            ],
            [
             0.5555555555555556,
             "#d8576b"
            ],
            [
             0.6666666666666666,
             "#ed7953"
            ],
            [
             0.7777777777777778,
             "#fb9f3a"
            ],
            [
             0.8888888888888888,
             "#fdca26"
            ],
            [
             1,
             "#f0f921"
            ]
           ],
           "sequentialminus": [
            [
             0,
             "#0d0887"
            ],
            [
             0.1111111111111111,
             "#46039f"
            ],
            [
             0.2222222222222222,
             "#7201a8"
            ],
            [
             0.3333333333333333,
             "#9c179e"
            ],
            [
             0.4444444444444444,
             "#bd3786"
            ],
            [
             0.5555555555555556,
             "#d8576b"
            ],
            [
             0.6666666666666666,
             "#ed7953"
            ],
            [
             0.7777777777777778,
             "#fb9f3a"
            ],
            [
             0.8888888888888888,
             "#fdca26"
            ],
            [
             1,
             "#f0f921"
            ]
           ]
          },
          "colorway": [
           "#636efa",
           "#EF553B",
           "#00cc96",
           "#ab63fa",
           "#FFA15A",
           "#19d3f3",
           "#FF6692",
           "#B6E880",
           "#FF97FF",
           "#FECB52"
          ],
          "font": {
           "color": "#2a3f5f"
          },
          "geo": {
           "bgcolor": "white",
           "lakecolor": "white",
           "landcolor": "#E5ECF6",
           "showlakes": true,
           "showland": true,
           "subunitcolor": "white"
          },
          "hoverlabel": {
           "align": "left"
          },
          "hovermode": "closest",
          "mapbox": {
           "style": "light"
          },
          "paper_bgcolor": "white",
          "plot_bgcolor": "#E5ECF6",
          "polar": {
           "angularaxis": {
            "gridcolor": "white",
            "linecolor": "white",
            "ticks": ""
           },
           "bgcolor": "#E5ECF6",
           "radialaxis": {
            "gridcolor": "white",
            "linecolor": "white",
            "ticks": ""
           }
          },
          "scene": {
           "xaxis": {
            "backgroundcolor": "#E5ECF6",
            "gridcolor": "white",
            "gridwidth": 2,
            "linecolor": "white",
            "showbackground": true,
            "ticks": "",
            "zerolinecolor": "white"
           },
           "yaxis": {
            "backgroundcolor": "#E5ECF6",
            "gridcolor": "white",
            "gridwidth": 2,
            "linecolor": "white",
            "showbackground": true,
            "ticks": "",
            "zerolinecolor": "white"
           },
           "zaxis": {
            "backgroundcolor": "#E5ECF6",
            "gridcolor": "white",
            "gridwidth": 2,
            "linecolor": "white",
            "showbackground": true,
            "ticks": "",
            "zerolinecolor": "white"
           }
          },
          "shapedefaults": {
           "line": {
            "color": "#2a3f5f"
           }
          },
          "ternary": {
           "aaxis": {
            "gridcolor": "white",
            "linecolor": "white",
            "ticks": ""
           },
           "baxis": {
            "gridcolor": "white",
            "linecolor": "white",
            "ticks": ""
           },
           "bgcolor": "#E5ECF6",
           "caxis": {
            "gridcolor": "white",
            "linecolor": "white",
            "ticks": ""
           }
          },
          "title": {
           "x": 0.05
          },
          "xaxis": {
           "automargin": true,
           "gridcolor": "white",
           "linecolor": "white",
           "ticks": "",
           "title": {
            "standoff": 15
           },
           "zerolinecolor": "white",
           "zerolinewidth": 2
          },
          "yaxis": {
           "automargin": true,
           "gridcolor": "white",
           "linecolor": "white",
           "ticks": "",
           "title": {
            "standoff": 15
           },
           "zerolinecolor": "white",
           "zerolinewidth": 2
          }
         }
        },
        "title": {
         "text": "DBSCAN Clustering Result"
        }
       }
      }
     },
     "metadata": {},
     "output_type": "display_data"
    }
   ],
   "source": [
    "\n",
    "# Apply DBSCAN using the best parameters\n",
    "best_dbscan = DBSCAN(eps=best_params['eps'], min_samples=best_params['min_samples'])\n",
    "labels = best_dbscan.fit_predict(scaled_features)\n",
    "tsne = TSNE(n_components=3, random_state=42, perplexity=30, learning_rate=200)\n",
    "scaled_features= tsne.fit_transform(scaled_features)\n",
    "# Convert to DataFrame for easier plotting\n",
    "data = {\n",
    "    \"TSNE Component 1\": scaled_features[:, 0],\n",
    "    \"TSNE Component 2\": scaled_features[:, 1],\n",
    "    \"TSNE Component 3\": scaled_features[:, 2],\n",
    "    \"Cluster\": labels\n",
    "}\n",
    "\n",
    "import pandas as pd\n",
    "df_plot = pd.DataFrame(data)\n",
    "df_plot=df_plot[df_plot[\"Cluster\"] == 1 ]\n",
    "# Create an interactive 3D scatter plot\n",
    "fig = px.scatter_3d(df_plot, x='TSNE Component 1', y='TSNE Component 2', z='TSNE Component 3',\n",
    "                     color=df_plot['Cluster'].astype(str), \n",
    "                     title=\"DBSCAN Clustering Result\",\n",
    "                     labels={'Cluster': 'Cluster Label'})\n",
    "\n",
    "fig.show()\n"
   ]
  },
  {
   "cell_type": "code",
   "execution_count": 200,
   "metadata": {},
   "outputs": [
    {
     "name": "stdout",
     "output_type": "stream",
     "text": [
      "Best Bandwidth (Silhouette Score): 2.900000000000001 with Silhouette Score = 0.2898725205230143\n",
      "Best Bandwidth (Davies-Bouldin Index): 0.1 with Davies-Bouldin Index = 0.03298591173875683\n"
     ]
    },
    {
     "data": {
      "image/png": "[encoded data removed]",
      "text/plain": [
       "<Figure size 640x480 with 1 Axes>"
      ]
     },
     "metadata": {},
     "output_type": "display_data"
    }
   ],
   "source": [
    "import numpy as np\n",
    "import matplotlib.pyplot as plt\n",
    "from sklearn.cluster import MeanShift, estimate_bandwidth\n",
    "from sklearn.datasets import make_blobs\n",
    "from sklearn.metrics import silhouette_score, davies_bouldin_score\n",
    "from sklearn.model_selection import GridSearchCV\n",
    "from sklearn.preprocessing import StandardScaler\n",
    "\n",
    "# Generate sample data\n",
    "features_for_clustering = df_boys.drop(gen_features, axis=1)\n",
    "scaler = StandardScaler()\n",
    "X = scaler.fit_transform(features_for_clustering)\n",
    "\n",
    "# Define a range of bandwidth values to search over\n",
    "bandwidth_range = np.arange(0.1, 3.0, 0.2)\n",
    "\n",
    "# Initialize a list to store evaluation results\n",
    "sil_scores = []\n",
    "db_scores = []\n",
    "\n",
    "# Grid search over different bandwidth values\n",
    "for bandwidth in bandwidth_range:\n",
    "    ms = MeanShift(bandwidth=bandwidth)\n",
    "    ms.fit(X)\n",
    "    labels = ms.labels_\n",
    "\n",
    "    # Evaluate using Silhouette Score\n",
    "    sil_score = silhouette_score(X, labels)\n",
    "    sil_scores.append(sil_score)\n",
    "\n",
    "    # Evaluate using Davies-Bouldin Index\n",
    "    db_index = davies_bouldin_score(X, labels)\n",
    "    db_scores.append(db_index)\n",
    "\n",
    "# Find the best bandwidth based on Silhouette Score\n",
    "best_silhouette_index = np.argmax(sil_scores)\n",
    "best_bandwidth_sil = bandwidth_range[best_silhouette_index]\n",
    "best_silhouette = sil_scores[best_silhouette_index]\n",
    "\n",
    "# Find the best bandwidth based on Davies-Bouldin Index (lowest is best)\n",
    "best_db_index = np.argmin(db_scores)\n",
    "best_bandwidth_db = bandwidth_range[best_db_index]\n",
    "best_db_index_value = db_scores[best_db_index]\n",
    "\n",
    "# Print results\n",
    "print(f\"Best Bandwidth (Silhouette Score): {best_bandwidth_sil} with Silhouette Score = {best_silhouette}\")\n",
    "print(f\"Best Bandwidth (Davies-Bouldin Index): {best_bandwidth_db} with Davies-Bouldin Index = {best_db_index_value}\")\n",
    "\n",
    "# Plot results\n",
    "plt.plot(bandwidth_range, sil_scores, label=\"Silhouette Score\", marker='o')\n",
    "plt.plot(bandwidth_range, db_scores, label=\"Davies-Bouldin Index\", marker='x')\n",
    "plt.xlabel('Bandwidth')\n",
    "plt.ylabel('Score')\n",
    "plt.legend()\n",
    "plt.title('Hyperparameter Tuning (Bandwidth) for Mean Shift')\n",
    "plt.show()\n"
   ]
  },
  {
   "cell_type": "code",
   "execution_count": 176,
   "metadata": {},
   "outputs": [],
   "source": [
    "df.to_csv(\"feature_en.csv\")"
   ]
  },
  {
   "cell_type": "code",
   "execution_count": null,
   "metadata": {},
   "outputs": [],
   "source": [
    "import pandas as pd\n",
    "from sklearn.preprocessing import MinMaxScaler\n",
    "\n",
    "def normalize_data(df, exclude_columns):\n",
    "    # Initialize MinMaxScaler\n",
    "    scaler = MinMaxScaler()\n",
    "\n",
    "    # Identify columns to normalize\n",
    "    columns_to_normalize = [col for col in df.columns if col not in exclude_columns]\n",
    "\n",
    "    # Normalize only the selected columns\n",
    "    df_to_normalize = df[columns_to_normalize]\n",
    "    normalized_data = scaler.fit_transform(df_to_normalize)\n",
    "\n",
    "    # Create DataFrame for normalized data\n",
    "    normalized_df = pd.DataFrame(normalized_data, columns=columns_to_normalize, index=df.index)\n",
    "\n",
    "    # Add the excluded columns back\n",
    "    result_df = pd.concat([df[exclude_columns], normalized_df], axis=1)\n",
    "\n",
    "    # Ensure the column order remains the same as the original DataFrame\n",
    "    result_df = result_df[df.columns]\n",
    "    \n",
    "    return result_df\n",
    "\n",
    "# Example usage:\n",
    "# Exclude 'column1' and 'column2' from normalization\n",
    "exclude_columns = ['age']\n",
    "df_cleaned = normalize_data(df_cleaned, exclude_columns)\n",
    "\n"
   ]
  },
  {
   "cell_type": "code",
   "execution_count": null,
   "metadata": {},
   "outputs": [
    {
     "name": "stdout",
     "output_type": "stream",
     "text": [
      "Column: age, Type: float64\n",
      "Column: close_friend_count, Type: float64\n",
      "Column: spent_time_friend1, Type: float64\n",
      "Column: spent_time_friend2, Type: float64\n",
      "Column: frinedtime, Type: float64\n",
      "Column: chatting_online, Type: float64\n",
      "Column: diet_plan, Type: float64\n",
      "Column: c_7, Type: float64\n",
      "Column: c_8, Type: float64\n",
      "Column: c_9, Type: float64\n",
      "Column: c_10, Type: float64\n",
      "Column: c_11, Type: float64\n",
      "Column: breakfast_routindays, Type: float64\n",
      "Column: fresh_juice, Type: float64\n",
      "Column: e_26, Type: float64\n",
      "Column: e_28, Type: float64\n",
      "Column: e_30, Type: float64\n",
      "Column: e_31, Type: float64\n",
      "Column: physical_activiety, Type: float64\n",
      "Column: physicalactivityscore, Type: float64\n",
      "Column: TV_watching_routinday, Type: float64\n",
      "Column: TVwatchingFriday, Type: float64\n",
      "Column: TVwatchinghours, Type: float64\n",
      "Column: computer_work_routinday, Type: float64\n",
      "Column: computer_work_friday, Type: float64\n",
      "Column: screentimehours, Type: float64\n",
      "Column: sleep_hours_routinday, Type: float64\n",
      "Column: sleep_hours_friday, Type: float64\n",
      "Column: injury_number, Type: float64\n",
      "Column: fight_number, Type: float64\n",
      "Column: carryـweapons, Type: float64\n",
      "Column: victim_number, Type: float64\n",
      "Column: bully_number, Type: float64\n",
      "Column: current_smoker_status, Type: float64\n",
      "Column: stomach_ache_number, Type: float64\n",
      "Column: headache_number, Type: float64\n",
      "Column: back_pain_number, Type: float64\n",
      "Column: worthless_number, Type: float64\n",
      "Column: angriness_number, Type: float64\n",
      "Column: insomnia_number, Type: float64\n",
      "Column: confusion_number, Type: float64\n",
      "Column: depression, Type: float64\n",
      "Column: anxiety_number, Type: float64\n",
      "Column: mental_health_overview, Type: float64\n",
      "Column: LS, Type: float64\n",
      "Column: weight, Type: float64\n",
      "Column: height, Type: float64\n",
      "Column: zheightuk, Type: float64\n",
      "Column: waist, Type: float64\n",
      "Column: hip, Type: float64\n",
      "Column: wrist, Type: float64\n",
      "Column: systolic, Type: float64\n",
      "Column: diastoli, Type: float64\n",
      "Column: birth_order, Type: float64\n",
      "Column: breast_feeding_duration, Type: float64\n",
      "Column: fatty_dairy, Type: float64\n",
      "Column: usual_dairy, Type: float64\n",
      "Column: grains, Type: float64\n",
      "Column: fastfoods, Type: float64\n",
      "Column: meat, Type: float64\n",
      "Column: liverandkalepache, Type: float64\n",
      "Column: bread, Type: float64\n",
      "Column: rice, Type: float64\n",
      "Column: potato, Type: float64\n",
      "Column: sweetparent, Type: float64\n",
      "Column: saltysnakeparent, Type: float64\n",
      "Column: swetenedbeveraparent, Type: float64\n",
      "Column: fruitparent, Type: float64\n",
      "Column: vegtableparent, Type: float64\n",
      "Column: nutsparent, Type: float64\n",
      "Column: friedfoods, Type: float64\n",
      "Column: litigant_ba_valedeyn_ya_afrad_bozorgsal, Type: float64\n",
      "Column: litigant_baradar_ya_khahar, Type: float64\n",
      "Column: litigant_dustam, Type: float64\n",
      "Column: litigant_kamelan_gharibe, Type: float64\n",
      "Column: litigant_nadashtam, Type: float64\n",
      "Column: i_50_bejoa_mavarede_bala, Type: float64\n",
      "Column: i_50_chomaq, Type: float64\n",
      "Column: i_50_chqu, Type: float64\n",
      "Column: i_50_hichvaght, Type: float64\n",
      "Column: i_50_panje_box, Type: float64\n",
      "Column: i_50_zanjir, Type: float64\n",
      "Column: comfort_father_kasi_nadarm_ya_dur_ast, Type: float64\n",
      "Column: comfort_mother_kasi_nadarm_ya_dur_ast, Type: float64\n",
      "Column: comfort_brother_doshvar, Type: float64\n",
      "Column: comfort_brother_kasi_nadarm_ya_dur_ast, Type: float64\n",
      "Column: comfort_sister_doshvar, Type: float64\n",
      "Column: comfort_sister_kasi_nadarm_ya_dur_ast, Type: float64\n",
      "Column: comfort_friend_doshvar, Type: float64\n",
      "Column: comfort_friend_kasi_nadarm_ya_dur_ast, Type: float64\n",
      "Column: worried_number_benodrat_ya_hargez, Type: float64\n",
      "Column: worried_number_bish_az_1bar, Type: float64\n",
      "Column: worried_number_taqriban_har_hafte, Type: float64\n",
      "Column: worried_number_taqriban_har_mah, Type: float64\n",
      "Column: worried_number_taqriban_har_ruz, Type: float64\n",
      "Column: mother_edu_balaye_lisans, Type: float64\n",
      "Column: mother_edu_bisavad, Type: float64\n",
      "Column: mother_edu_diplom, Type: float64\n",
      "Column: mother_edu_ebtedaei, Type: float64\n",
      "Column: mother_edu_lisans, Type: float64\n",
      "Column: mother_edu_rahnamaei, Type: float64\n",
      "Column: mother_edu_savad_qorani, Type: float64\n",
      "Column: father_edu_balaye_lisans, Type: float64\n",
      "Column: father_edu_bisavad, Type: float64\n",
      "Column: father_edu_diplom, Type: float64\n",
      "Column: father_edu_ebtedaei, Type: float64\n",
      "Column: father_edu_lisans, Type: float64\n",
      "Column: father_edu_rahnamaei, Type: float64\n",
      "Column: father_edu_savad_qorani, Type: float64\n",
      "Column: father_job__azad, Type: float64\n",
      "Column: father_job_keshavarz, Type: float64\n",
      "Column: father_job_unemploed, Type: float64\n",
      "Column: father_job_worker/employee, Type: float64\n",
      "Column: mother_job_Household, Type: float64\n",
      "Column: mother_job_Others, Type: float64\n",
      "Column: mother_job_workoer/employee, Type: float64\n",
      "Column: sescatag_good, Type: float64\n",
      "Column: sescatag_moderate, Type: float64\n",
      "Column: sescatag_week, Type: float64\n",
      "Column: livingparent_ba_yeki_az_valedayn, Type: float64\n",
      "Column: livingparent_napedar_v_na_madar, Type: float64\n",
      "Column: birthweight_2.5-4kg, Type: float64\n",
      "Column: birthweight_2.5kg, Type: float64\n",
      "Column: birthweight_4kg, Type: float64\n",
      "Column: milk_type_khoshk_va_gav, Type: float64\n",
      "Column: milk_type_madar_va_gav, Type: float64\n",
      "Column: milk_type_shire_gav, Type: float64\n",
      "Column: milk_type_shire_khoshk, Type: float64\n",
      "Column: milk_type_shire_madar, Type: float64\n",
      "Column: milk_type_shire_madar_va_khoshk, Type: float64\n",
      "Column: complementry_feeding_ghazaye_manzel, Type: float64\n",
      "Column: complementry_feeding_har2_ama_bishtar_amade, Type: float64\n",
      "Column: complementry_feeding_har2_ama_manzel_bishtar, Type: float64\n",
      "Column: complementry_feeding_qazaye_amade, Type: float64\n",
      "Column: oil_type_kare, Type: float64\n",
      "Column: oil_type_pie_va_donbe, Type: float64\n",
      "Column: oil_type_roqan_heyvanu, Type: float64\n",
      "Column: oil_type_roqan_jamed, Type: float64\n",
      "Column: oil_type_roqan_maye, Type: float64\n",
      "Column: oil_type_sorkhkardani, Type: float64\n",
      "Column: dairy_type_p_kamcharb, Type: float64\n",
      "Column: dairy_type_p_porcharb, Type: float64\n",
      "Column: dairy_type_pastoriz_mauli, Type: float64\n",
      "Column: dairy_type_qeyre_pasto_mamuli, Type: float64\n",
      "Column: dairy_type_qeyre_pasto_porcharb, Type: float64\n"
     ]
    }
   ],
   "source": [
    "for col in df_cleaned.columns:\n",
    "    print(f\"Column: {col}, Type: {df_cleaned[col].dtype}\")"
   ]
  },
  {
   "cell_type": "code",
   "execution_count": null,
   "metadata": {},
   "outputs": [],
   "source": [
    "\n",
    "# from sklearn.decomposition import TruncatedSVD\n",
    "\n",
    "\n",
    "\n",
    "# def svd(X_train,X_test):\n",
    "# # Apply SVD\n",
    "#     svd = TruncatedSVD(n_components=20)  # choose the number of components\n",
    "#     X_train_svd = svd.fit_transform(X_train)\n",
    "#     X_test_svd = svd.transform(X_test)\n",
    "\n",
    "#     return X_train_svd,X_test_svd\n",
    "\n"
   ]
  },
  {
   "cell_type": "code",
   "execution_count": null,
   "metadata": {},
   "outputs": [
    {
     "data": {
      "text/plain": [
       "age\n",
       "7.0      1.0\n",
       "8.0      4.0\n",
       "9.0      3.0\n",
       "10.0     5.0\n",
       "11.0     8.0\n",
       "12.0     7.0\n",
       "13.0     8.0\n",
       "14.0     8.0\n",
       "15.0    34.0\n",
       "16.0    63.0\n",
       "17.0    42.0\n",
       "18.0    39.0\n",
       "Name: current_smoker_status, dtype: float64"
      ]
     },
     "execution_count": 39,
     "metadata": {},
     "output_type": "execute_result"
    }
   ],
   "source": [
    "df_cleaned.groupby('age')['current_smoker_status'].sum()\n"
   ]
  },
  {
   "cell_type": "code",
   "execution_count": null,
   "metadata": {},
   "outputs": [],
   "source": [
    "df_cleaned=df_cleaned[df_cleaned['age']>= 15]"
   ]
  },
  {
   "cell_type": "code",
   "execution_count": null,
   "metadata": {},
   "outputs": [
    {
     "data": {
      "text/plain": [
       "current_smoker_status\n",
       "0.0    1869\n",
       "1.0     178\n",
       "Name: count, dtype: int64"
      ]
     },
     "execution_count": 41,
     "metadata": {},
     "output_type": "execute_result"
    }
   ],
   "source": [
    "df_cleaned['current_smoker_status'].value_counts()"
   ]
  },
  {
   "cell_type": "code",
   "execution_count": null,
   "metadata": {},
   "outputs": [
    {
     "data": {
      "text/html": [
       "<div>\n",
       "<style scoped>\n",
       "    .dataframe tbody tr th:only-of-type {\n",
       "        vertical-align: middle;\n",
       "    }\n",
       "\n",
       "    .dataframe tbody tr th {\n",
       "        vertical-align: top;\n",
       "    }\n",
       "\n",
       "    .dataframe thead th {\n",
       "        text-align: right;\n",
       "    }\n",
       "</style>\n",
       "<table border=\"1\" class=\"dataframe\">\n",
       "  <thead>\n",
       "    <tr style=\"text-align: right;\">\n",
       "      <th></th>\n",
       "      <th>age</th>\n",
       "      <th>close_friend_count</th>\n",
       "      <th>spent_time_friend1</th>\n",
       "      <th>spent_time_friend2</th>\n",
       "      <th>frinedtime</th>\n",
       "      <th>chatting_online</th>\n",
       "      <th>diet_plan</th>\n",
       "      <th>c_7</th>\n",
       "      <th>c_8</th>\n",
       "      <th>c_9</th>\n",
       "      <th>...</th>\n",
       "      <th>oil_type_pie_va_donbe</th>\n",
       "      <th>oil_type_roqan_heyvanu</th>\n",
       "      <th>oil_type_roqan_jamed</th>\n",
       "      <th>oil_type_roqan_maye</th>\n",
       "      <th>oil_type_sorkhkardani</th>\n",
       "      <th>dairy_type_p_kamcharb</th>\n",
       "      <th>dairy_type_p_porcharb</th>\n",
       "      <th>dairy_type_pastoriz_mauli</th>\n",
       "      <th>dairy_type_qeyre_pasto_mamuli</th>\n",
       "      <th>dairy_type_qeyre_pasto_porcharb</th>\n",
       "    </tr>\n",
       "  </thead>\n",
       "  <tbody>\n",
       "    <tr>\n",
       "      <th>1</th>\n",
       "      <td>17.0</td>\n",
       "      <td>1.000000</td>\n",
       "      <td>0.333333</td>\n",
       "      <td>0.333333</td>\n",
       "      <td>0.333333</td>\n",
       "      <td>0.333333</td>\n",
       "      <td>0.0</td>\n",
       "      <td>0.5</td>\n",
       "      <td>0.5</td>\n",
       "      <td>0.333333</td>\n",
       "      <td>...</td>\n",
       "      <td>0.0</td>\n",
       "      <td>0.0</td>\n",
       "      <td>0.0</td>\n",
       "      <td>1.0</td>\n",
       "      <td>0.0</td>\n",
       "      <td>0.0</td>\n",
       "      <td>0.0</td>\n",
       "      <td>1.0</td>\n",
       "      <td>0.0</td>\n",
       "      <td>0.0</td>\n",
       "    </tr>\n",
       "    <tr>\n",
       "      <th>6</th>\n",
       "      <td>16.0</td>\n",
       "      <td>1.000000</td>\n",
       "      <td>0.333333</td>\n",
       "      <td>0.333333</td>\n",
       "      <td>0.333333</td>\n",
       "      <td>0.333333</td>\n",
       "      <td>0.0</td>\n",
       "      <td>0.5</td>\n",
       "      <td>0.0</td>\n",
       "      <td>0.000000</td>\n",
       "      <td>...</td>\n",
       "      <td>0.0</td>\n",
       "      <td>0.0</td>\n",
       "      <td>1.0</td>\n",
       "      <td>0.0</td>\n",
       "      <td>0.0</td>\n",
       "      <td>0.0</td>\n",
       "      <td>0.0</td>\n",
       "      <td>0.0</td>\n",
       "      <td>1.0</td>\n",
       "      <td>0.0</td>\n",
       "    </tr>\n",
       "    <tr>\n",
       "      <th>13</th>\n",
       "      <td>17.0</td>\n",
       "      <td>1.000000</td>\n",
       "      <td>1.000000</td>\n",
       "      <td>0.833333</td>\n",
       "      <td>0.833333</td>\n",
       "      <td>0.000000</td>\n",
       "      <td>0.0</td>\n",
       "      <td>0.0</td>\n",
       "      <td>0.0</td>\n",
       "      <td>0.000000</td>\n",
       "      <td>...</td>\n",
       "      <td>0.0</td>\n",
       "      <td>0.0</td>\n",
       "      <td>0.0</td>\n",
       "      <td>1.0</td>\n",
       "      <td>0.0</td>\n",
       "      <td>0.0</td>\n",
       "      <td>0.0</td>\n",
       "      <td>0.0</td>\n",
       "      <td>1.0</td>\n",
       "      <td>0.0</td>\n",
       "    </tr>\n",
       "    <tr>\n",
       "      <th>28</th>\n",
       "      <td>16.0</td>\n",
       "      <td>0.666667</td>\n",
       "      <td>0.166667</td>\n",
       "      <td>0.166667</td>\n",
       "      <td>0.166667</td>\n",
       "      <td>0.000000</td>\n",
       "      <td>0.0</td>\n",
       "      <td>0.0</td>\n",
       "      <td>0.5</td>\n",
       "      <td>1.000000</td>\n",
       "      <td>...</td>\n",
       "      <td>0.0</td>\n",
       "      <td>0.0</td>\n",
       "      <td>1.0</td>\n",
       "      <td>0.0</td>\n",
       "      <td>0.0</td>\n",
       "      <td>0.0</td>\n",
       "      <td>0.0</td>\n",
       "      <td>0.0</td>\n",
       "      <td>0.0</td>\n",
       "      <td>1.0</td>\n",
       "    </tr>\n",
       "    <tr>\n",
       "      <th>45</th>\n",
       "      <td>15.0</td>\n",
       "      <td>1.000000</td>\n",
       "      <td>0.833333</td>\n",
       "      <td>0.833333</td>\n",
       "      <td>0.833333</td>\n",
       "      <td>0.000000</td>\n",
       "      <td>0.0</td>\n",
       "      <td>0.5</td>\n",
       "      <td>0.5</td>\n",
       "      <td>0.666667</td>\n",
       "      <td>...</td>\n",
       "      <td>0.0</td>\n",
       "      <td>0.0</td>\n",
       "      <td>1.0</td>\n",
       "      <td>0.0</td>\n",
       "      <td>0.0</td>\n",
       "      <td>0.0</td>\n",
       "      <td>0.0</td>\n",
       "      <td>1.0</td>\n",
       "      <td>0.0</td>\n",
       "      <td>0.0</td>\n",
       "    </tr>\n",
       "    <tr>\n",
       "      <th>...</th>\n",
       "      <td>...</td>\n",
       "      <td>...</td>\n",
       "      <td>...</td>\n",
       "      <td>...</td>\n",
       "      <td>...</td>\n",
       "      <td>...</td>\n",
       "      <td>...</td>\n",
       "      <td>...</td>\n",
       "      <td>...</td>\n",
       "      <td>...</td>\n",
       "      <td>...</td>\n",
       "      <td>...</td>\n",
       "      <td>...</td>\n",
       "      <td>...</td>\n",
       "      <td>...</td>\n",
       "      <td>...</td>\n",
       "      <td>...</td>\n",
       "      <td>...</td>\n",
       "      <td>...</td>\n",
       "      <td>...</td>\n",
       "      <td>...</td>\n",
       "    </tr>\n",
       "    <tr>\n",
       "      <th>13412</th>\n",
       "      <td>16.0</td>\n",
       "      <td>1.000000</td>\n",
       "      <td>0.000000</td>\n",
       "      <td>0.000000</td>\n",
       "      <td>0.000000</td>\n",
       "      <td>0.333333</td>\n",
       "      <td>0.0</td>\n",
       "      <td>0.5</td>\n",
       "      <td>0.5</td>\n",
       "      <td>0.333333</td>\n",
       "      <td>...</td>\n",
       "      <td>0.0</td>\n",
       "      <td>0.0</td>\n",
       "      <td>1.0</td>\n",
       "      <td>0.0</td>\n",
       "      <td>0.0</td>\n",
       "      <td>0.0</td>\n",
       "      <td>0.0</td>\n",
       "      <td>0.0</td>\n",
       "      <td>0.0</td>\n",
       "      <td>1.0</td>\n",
       "    </tr>\n",
       "    <tr>\n",
       "      <th>13440</th>\n",
       "      <td>16.0</td>\n",
       "      <td>0.333333</td>\n",
       "      <td>0.833333</td>\n",
       "      <td>0.166667</td>\n",
       "      <td>0.500000</td>\n",
       "      <td>0.666667</td>\n",
       "      <td>0.0</td>\n",
       "      <td>0.5</td>\n",
       "      <td>0.5</td>\n",
       "      <td>0.000000</td>\n",
       "      <td>...</td>\n",
       "      <td>0.0</td>\n",
       "      <td>0.0</td>\n",
       "      <td>0.0</td>\n",
       "      <td>1.0</td>\n",
       "      <td>0.0</td>\n",
       "      <td>0.0</td>\n",
       "      <td>0.0</td>\n",
       "      <td>1.0</td>\n",
       "      <td>0.0</td>\n",
       "      <td>0.0</td>\n",
       "    </tr>\n",
       "    <tr>\n",
       "      <th>13457</th>\n",
       "      <td>15.0</td>\n",
       "      <td>1.000000</td>\n",
       "      <td>0.000000</td>\n",
       "      <td>0.333333</td>\n",
       "      <td>0.166667</td>\n",
       "      <td>0.333333</td>\n",
       "      <td>0.0</td>\n",
       "      <td>0.5</td>\n",
       "      <td>0.5</td>\n",
       "      <td>0.000000</td>\n",
       "      <td>...</td>\n",
       "      <td>0.0</td>\n",
       "      <td>0.0</td>\n",
       "      <td>0.0</td>\n",
       "      <td>1.0</td>\n",
       "      <td>0.0</td>\n",
       "      <td>0.0</td>\n",
       "      <td>0.0</td>\n",
       "      <td>1.0</td>\n",
       "      <td>0.0</td>\n",
       "      <td>0.0</td>\n",
       "    </tr>\n",
       "    <tr>\n",
       "      <th>13458</th>\n",
       "      <td>15.0</td>\n",
       "      <td>1.000000</td>\n",
       "      <td>0.000000</td>\n",
       "      <td>0.000000</td>\n",
       "      <td>0.000000</td>\n",
       "      <td>0.000000</td>\n",
       "      <td>0.0</td>\n",
       "      <td>0.5</td>\n",
       "      <td>0.5</td>\n",
       "      <td>0.000000</td>\n",
       "      <td>...</td>\n",
       "      <td>0.0</td>\n",
       "      <td>0.0</td>\n",
       "      <td>0.0</td>\n",
       "      <td>1.0</td>\n",
       "      <td>0.0</td>\n",
       "      <td>0.0</td>\n",
       "      <td>0.0</td>\n",
       "      <td>1.0</td>\n",
       "      <td>0.0</td>\n",
       "      <td>0.0</td>\n",
       "    </tr>\n",
       "    <tr>\n",
       "      <th>13514</th>\n",
       "      <td>16.0</td>\n",
       "      <td>0.333333</td>\n",
       "      <td>0.166667</td>\n",
       "      <td>0.000000</td>\n",
       "      <td>0.000000</td>\n",
       "      <td>0.000000</td>\n",
       "      <td>0.0</td>\n",
       "      <td>0.0</td>\n",
       "      <td>0.0</td>\n",
       "      <td>0.000000</td>\n",
       "      <td>...</td>\n",
       "      <td>0.0</td>\n",
       "      <td>0.0</td>\n",
       "      <td>0.0</td>\n",
       "      <td>1.0</td>\n",
       "      <td>0.0</td>\n",
       "      <td>0.0</td>\n",
       "      <td>0.0</td>\n",
       "      <td>1.0</td>\n",
       "      <td>0.0</td>\n",
       "      <td>0.0</td>\n",
       "    </tr>\n",
       "  </tbody>\n",
       "</table>\n",
       "<p>2047 rows × 159 columns</p>\n",
       "</div>"
      ],
      "text/plain": [
       "        age  close_friend_count  spent_time_friend1  spent_time_friend2  \\\n",
       "1      17.0            1.000000            0.333333            0.333333   \n",
       "6      16.0            1.000000            0.333333            0.333333   \n",
       "13     17.0            1.000000            1.000000            0.833333   \n",
       "28     16.0            0.666667            0.166667            0.166667   \n",
       "45     15.0            1.000000            0.833333            0.833333   \n",
       "...     ...                 ...                 ...                 ...   \n",
       "13412  16.0            1.000000            0.000000            0.000000   \n",
       "13440  16.0            0.333333            0.833333            0.166667   \n",
       "13457  15.0            1.000000            0.000000            0.333333   \n",
       "13458  15.0            1.000000            0.000000            0.000000   \n",
       "13514  16.0            0.333333            0.166667            0.000000   \n",
       "\n",
       "       frinedtime  chatting_online  diet_plan  c_7  c_8       c_9  ...  \\\n",
       "1        0.333333         0.333333        0.0  0.5  0.5  0.333333  ...   \n",
       "6        0.333333         0.333333        0.0  0.5  0.0  0.000000  ...   \n",
       "13       0.833333         0.000000        0.0  0.0  0.0  0.000000  ...   \n",
       "28       0.166667         0.000000        0.0  0.0  0.5  1.000000  ...   \n",
       "45       0.833333         0.000000        0.0  0.5  0.5  0.666667  ...   \n",
       "...           ...              ...        ...  ...  ...       ...  ...   \n",
       "13412    0.000000         0.333333        0.0  0.5  0.5  0.333333  ...   \n",
       "13440    0.500000         0.666667        0.0  0.5  0.5  0.000000  ...   \n",
       "13457    0.166667         0.333333        0.0  0.5  0.5  0.000000  ...   \n",
       "13458    0.000000         0.000000        0.0  0.5  0.5  0.000000  ...   \n",
       "13514    0.000000         0.000000        0.0  0.0  0.0  0.000000  ...   \n",
       "\n",
       "       oil_type_pie_va_donbe  oil_type_roqan_heyvanu  oil_type_roqan_jamed  \\\n",
       "1                        0.0                     0.0                   0.0   \n",
       "6                        0.0                     0.0                   1.0   \n",
       "13                       0.0                     0.0                   0.0   \n",
       "28                       0.0                     0.0                   1.0   \n",
       "45                       0.0                     0.0                   1.0   \n",
       "...                      ...                     ...                   ...   \n",
       "13412                    0.0                     0.0                   1.0   \n",
       "13440                    0.0                     0.0                   0.0   \n",
       "13457                    0.0                     0.0                   0.0   \n",
       "13458                    0.0                     0.0                   0.0   \n",
       "13514                    0.0                     0.0                   0.0   \n",
       "\n",
       "       oil_type_roqan_maye  oil_type_sorkhkardani  dairy_type_p_kamcharb  \\\n",
       "1                      1.0                    0.0                    0.0   \n",
       "6                      0.0                    0.0                    0.0   \n",
       "13                     1.0                    0.0                    0.0   \n",
       "28                     0.0                    0.0                    0.0   \n",
       "45                     0.0                    0.0                    0.0   \n",
       "...                    ...                    ...                    ...   \n",
       "13412                  0.0                    0.0                    0.0   \n",
       "13440                  1.0                    0.0                    0.0   \n",
       "13457                  1.0                    0.0                    0.0   \n",
       "13458                  1.0                    0.0                    0.0   \n",
       "13514                  1.0                    0.0                    0.0   \n",
       "\n",
       "       dairy_type_p_porcharb  dairy_type_pastoriz_mauli  \\\n",
       "1                        0.0                        1.0   \n",
       "6                        0.0                        0.0   \n",
       "13                       0.0                        0.0   \n",
       "28                       0.0                        0.0   \n",
       "45                       0.0                        1.0   \n",
       "...                      ...                        ...   \n",
       "13412                    0.0                        0.0   \n",
       "13440                    0.0                        1.0   \n",
       "13457                    0.0                        1.0   \n",
       "13458                    0.0                        1.0   \n",
       "13514                    0.0                        1.0   \n",
       "\n",
       "       dairy_type_qeyre_pasto_mamuli  dairy_type_qeyre_pasto_porcharb  \n",
       "1                                0.0                              0.0  \n",
       "6                                1.0                              0.0  \n",
       "13                               1.0                              0.0  \n",
       "28                               0.0                              1.0  \n",
       "45                               0.0                              0.0  \n",
       "...                              ...                              ...  \n",
       "13412                            0.0                              1.0  \n",
       "13440                            0.0                              0.0  \n",
       "13457                            0.0                              0.0  \n",
       "13458                            0.0                              0.0  \n",
       "13514                            0.0                              0.0  \n",
       "\n",
       "[2047 rows x 159 columns]"
      ]
     },
     "execution_count": 42,
     "metadata": {},
     "output_type": "execute_result"
    }
   ],
   "source": [
    "df_cleaned"
   ]
  },
  {
   "cell_type": "code",
   "execution_count": null,
   "metadata": {},
   "outputs": [
    {
     "data": {
      "image/png": "[encoded data removed]",
      "text/plain": [
       "<Figure size 640x480 with 1 Axes>"
      ]
     },
     "metadata": {},
     "output_type": "display_data"
    }
   ],
   "source": [
    "import matplotlib.pyplot as plt\n",
    "\n",
    "# Plot the histogram\n",
    "df_cleaned['current_smoker_status'].hist()\n",
    "\n",
    "# Set labels and title\n",
    "plt.xlabel('Smoker Status')\n",
    "plt.ylabel('Frequency')\n",
    "plt.title('Histogram of Smoker Status')\n",
    "\n",
    "# Set x-ticks for 0 (non-smoker) and 1 (smoker)\n",
    "plt.xticks([0, 1], ['Non-Smoker', 'Smoker'])\n",
    "\n",
    "# Show the plot\n",
    "plt.show()\n"
   ]
  }
 ],
 "metadata": {
  "kernelspec": {
   "display_name": "Python 3",
   "language": "python",
   "name": "python3"
  },
  "language_info": {
   "codemirror_mode": {
    "name": "ipython",
    "version": 3
   },
   "file_extension": ".py",
   "mimetype": "text/x-python",
   "name": "python",
   "nbconvert_exporter": "python",
   "pygments_lexer": "ipython3",
   "version": "3.10.12"
  }
 },
 "nbformat": 4,
 "nbformat_minor": 2
}

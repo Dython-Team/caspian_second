{
 "cells": [
  {
   "cell_type": "code",
   "execution_count": 2,
   "metadata": {},
   "outputs": [],
   "source": [
    "import pandas as pd\n",
    "import matplotlib.pyplot as plt\n",
    "import numpy as np\n",
    "import seaborn as sns\n",
    "import statsmodels.api as sm\n",
    "from scipy.interpolate import interp1d\n",
    "import matplotlib.pyplot as plt\n",
    "from matplotlib import cm\n",
    "import os"
   ]
  },
  {
   "cell_type": "code",
   "execution_count": 3,
   "metadata": {},
   "outputs": [],
   "source": [
    "df= pd.read_spss('data/CASPIANI.sav',convert_categoricals=True)\n",
    "df_iii = pd.read_spss('data/CASPIAN III.sav',convert_categoricals=True)\n",
    "df_iv = pd.read_spss('data/caspian4_modified.sav',convert_categoricals=True)\n",
    "df_v= pd.read_spss('data/last-caspian-v.sav',convert_categoricals=True) "
   ]
  },
  {
   "cell_type": "markdown",
   "metadata": {},
   "source": [
    "Clinical features\n",
    "وزن، قد، دور کمر، دور مچ، دور لگن، دور گردن، فشار سیستولیک، فشار دیاستولیک"
   ]
  },
  {
   "cell_type": "code",
   "execution_count": null,
   "metadata": {},
   "outputs": [],
   "source": [
    "def rename_features(df1, caspian_number):\n",
    "    df2 = df1.copy()\n",
    "    # Rename the features in the dataframe\n",
    "    if caspian_number == 5:\n",
    "        df2.rename(columns={'weight_1': 'weight', 'height_2': 'height', 'universi': 'university','ap_9':'schoolType',\n",
    "                            'waist_3':'waist','wrist4':'wrist','diastoli':'diastolic'}, inplace=True)\n",
    "    elif caspian_number == 4:\n",
    "        df2.drop('sex', axis=1, inplace=True)\n",
    "        df2.rename(columns={'waist_3':'waist','wrist4':'wrist','diastoli':'diastolic'}, inplace=True)\n",
    "        print(df2.columns)\n",
    "        df2.rename(columns={'sex2': 'sex', 'weight_1': 'weight', 'height_2': 'height', 'University': 'university','ap_9':'schoolType'}, inplace=True)\n",
    "    elif caspian_number == 3:\n",
    "        df2.rename(columns={'weighte': 'weight', 'heighte': 'height', 'province': 'university', 'area':'region','p9':'schoolType',\n",
    "                            'wc':'waist','diastol':'diastolic'}, inplace=True)\n",
    "    elif caspian_number == 1:\n",
    "        df2.columns = df.columns.str.lower()\n",
    "        df2.rename(columns={'univer': 'university','district':'region', 'schoolty':'schoolType','@2_systo':'systolic','@2_diast':'diastolic'}, inplace=True)"
   ]
  },
  {
   "cell_type": "markdown",
   "metadata": {},
   "source": [
    "اطلاعات مربوط به تغذیه"
   ]
  },
  {
   "cell_type": "code",
   "execution_count": null,
   "metadata": {},
   "outputs": [],
   "source": [
    "def food_feature(df1, caspian_number):\n",
    "    df2 = df1.copy()\n",
    "    # Rename the features in the dataframe\n",
    "    if caspian_number == 5:\n",
    "        df2.rename(columns={}, inplace=True)\n",
    "    elif caspian_number == 4:\n",
    "        df2.drop('sex', axis=1, inplace=True)\n",
    "        df2.rename(columns={}, inplace=True)\n",
    "        print(df2.columns)\n",
    "        df2.rename(columns={}, inplace=True)\n",
    "    elif caspian_number == 3:\n",
    "        df2.rename(columns={}, inplace=True)\n",
    "    elif caspian_number == 1:\n",
    "        df2.columns = df.columns.str.lower()\n",
    "        df2.rename(columns={}, inplace=True)"
   ]
  },
  {
   "cell_type": "code",
   "execution_count": 5,
   "metadata": {},
   "outputs": [
    {
     "data": {
      "text/plain": [
       "p18\n",
       "shire madar              4336\n",
       "shire madar va khoshk     579\n",
       "shire khoshk              270\n",
       "madar va gav              167\n",
       "khoshk va gav              43\n",
       "shire gav                  29\n",
       "24.0                       13\n",
       "18.0                        2\n",
       "14.0                        2\n",
       "20.0                        2\n",
       "16.0                        1\n",
       "12.0                        1\n",
       "7.0                         1\n",
       "11.0                        1\n",
       "Name: count, dtype: int64"
      ]
     },
     "execution_count": 5,
     "metadata": {},
     "output_type": "execute_result"
    }
   ],
   "source": [
    "df_iii['p18'].value_counts()"
   ]
  }
 ],
 "metadata": {
  "kernelspec": {
   "display_name": "CASPIAN_env",
   "language": "python",
   "name": "python3"
  },
  "language_info": {
   "codemirror_mode": {
    "name": "ipython",
    "version": 3
   },
   "file_extension": ".py",
   "mimetype": "text/x-python",
   "name": "python",
   "nbconvert_exporter": "python",
   "pygments_lexer": "ipython3",
   "version": "3.10.12"
  }
 },
 "nbformat": 4,
 "nbformat_minor": 2
}

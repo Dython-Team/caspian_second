{
 "cells": [
  {
   "cell_type": "code",
   "execution_count": 9,
   "metadata": {},
   "outputs": [],
   "source": [
    "import pandas as pd\n",
    "import matplotlib.pyplot as plt\n",
    "import numpy as np\n",
    "import seaborn as sns\n",
    "import statsmodels.api as sm\n",
    "from scipy.interpolate import interp1d\n",
    "import matplotlib.pyplot as plt\n",
    "from matplotlib import cm\n",
    "import os"
   ]
  },
  {
   "cell_type": "code",
   "execution_count": 10,
   "metadata": {},
   "outputs": [],
   "source": [
    "df = pd.read_spss('data/CASPIANI.sav',convert_categoricals=True)  \n",
    "df_iii = pd.read_spss('data/CASPIAN III.sav',convert_categoricals=True) \n",
    "df_iv = pd.read_spss('data/caspian4_.sav',convert_categoricals=True)\n",
    "df_v = pd.read_spss('data/last-caspian-v.sav',convert_categoricals=True) "
   ]
  },
  {
   "cell_type": "code",
   "execution_count": 11,
   "metadata": {},
   "outputs": [],
   "source": [
    "def rename_features(df1, caspian_number):\n",
    "    df2 = df1.copy()\n",
    "    # Rename the features in the dataframe\n",
    "    if caspian_number == 5:\n",
    "        df2.rename(columns={'weight_1': 'weight', 'height_2': 'height', 'universi': 'university','ap_9':'schoolType'}, inplace=True)\n",
    "    elif caspian_number == 4:\n",
    "        df2.drop('sex', axis=1, inplace=True)\n",
    "        print(df2.columns)\n",
    "        df2.rename(columns={'sex2': 'sex', 'weight_1': 'weight', 'height_2': 'height', 'University': 'university','ap_9':'schoolType'}, inplace=True)\n",
    "    elif caspian_number == 3:\n",
    "        df2.rename(columns={'weighte': 'weight', 'heighte': 'height', 'province': 'university', 'area':'region','p9':'schoolType'}, inplace=True)\n",
    "    elif caspian_number == 1:\n",
    "        df2.columns = df.columns.str.lower()\n",
    "        df2.rename(columns={'univer': 'university','district':'region', 'schoolty':'schoolType'}, inplace=True)\n",
    "        \n",
    "\n",
    "    return df2\n"
   ]
  },
  {
   "cell_type": "code",
   "execution_count": 12,
   "metadata": {},
   "outputs": [
    {
     "name": "stdout",
     "output_type": "stream",
     "text": [
      "Index(['id2', 'University', 'region', 'cluster', 'cross', 'birth_ye',\n",
      "       'sample_c', 'a_1', 'a_2', 'a_3',\n",
      "       ...\n",
      "       'HeiMeter', 'bmi', 'CATBMI', 'CATBMIoutlieer', 'dicBMI',\n",
      "       'socialsupport', 'PA1', 'PA2', 'KVDM', 'obes'],\n",
      "      dtype='object', length=410)\n"
     ]
    }
   ],
   "source": [
    "df = rename_features(df,1)\n",
    "df_iv=rename_features(df_iv,4)\n",
    "df_iii = rename_features(df_iii,3)\n",
    "df_v = rename_features(df_v,5)\n"
   ]
  },
  {
   "cell_type": "code",
   "execution_count": 14,
   "metadata": {},
   "outputs": [
    {
     "data": {
      "text/plain": [
       "schoolType\n",
       "Public School     4394\n",
       "Private School     417\n",
       "Name: count, dtype: int64"
      ]
     },
     "execution_count": 14,
     "metadata": {},
     "output_type": "execute_result"
    }
   ],
   "source": [
    "df['schoolType'].value_counts()"
   ]
  },
  {
   "cell_type": "code",
   "execution_count": 17,
   "metadata": {},
   "outputs": [
    {
     "data": {
      "text/plain": [
       "schoolType\n",
       "Public School     13072\n",
       "Private School     1110\n",
       "Name: count, dtype: int64"
      ]
     },
     "execution_count": 17,
     "metadata": {},
     "output_type": "execute_result"
    }
   ],
   "source": [
    "df_v['schoolType'].value_counts()"
   ]
  },
  {
   "cell_type": "code",
   "execution_count": 16,
   "metadata": {},
   "outputs": [],
   "source": [
    "df['sex'] = df['sex'].apply(lambda x: 'Girl' if x == 'Female' else 'Boy' if x == 'Male' else x)\n",
    "df['region'] = df['region'].apply(lambda x: 'urban' if x == 'Urban' else 'rural' if x == 'Rural' else x)\n",
    "df_iii['sex'] = df_iii['sex'].apply(lambda x: 'Girl' if x == 'female' else 'Boy' if x == 'male' else x)\n",
    "df_iv['sex'] = df_iv['sex'].apply(lambda x: 'Girl' if x == 'girl' else 'Boy' if x == 'boy' else x)\n",
    "df_iii['schoolType']=df_iii['schoolType'].apply(lambda x: 'Public School' if x=='dolati' else 'Private School' if x=='gheyre entefaei' else 'Unknown') \n",
    "df_iv['schoolType']=df_iv['schoolType'].apply(lambda x: 'Public School' if x=='dolati' else 'Private School' if x=='gheyre entef' else 'Unknown') \n",
    "df_v['schoolType']=df_v['schoolType'].apply(lambda x: 'Public School' if x=='dolati' else 'Private School' if x=='gheyre entefai' else 'Unknown') \n"
   ]
  },
  {
   "cell_type": "code",
   "execution_count": 19,
   "metadata": {},
   "outputs": [],
   "source": [
    "df_dict = {'caspian_I': df, 'caspian_III': df_iii, 'caspian_IV': df_iv, 'caspian_V': df_v}"
   ]
  },
  {
   "cell_type": "markdown",
   "metadata": {},
   "source": [
    "shape of each dataset\n"
   ]
  },
  {
   "cell_type": "code",
   "execution_count": 20,
   "metadata": {},
   "outputs": [],
   "source": [
    "import pandas as pd\n",
    "import matplotlib.pyplot as plt\n",
    "\n",
    "# Sample function that returns the shape of the DataFrame\n",
    "def dataframe_info(df_dict):\n",
    "    save_folder = 'charts/base_charts'\n",
    "    if not os.path.exists(save_folder):\n",
    "        os.makedirs(save_folder)\n",
    "\n",
    "    table_data = []\n",
    "    for name, df in df_dict.items():\n",
    "        shape = df.shape\n",
    "        table_data.append([name, shape[0], shape[1]])  # [Dataset Name, Rows, Columns]\n",
    "        table_df = pd.DataFrame(table_data, columns=['Dataset Name', 'Number of subjects', 'Number of features'])\n",
    "\n",
    "        # Plot the table using matplotlib\n",
    "        fig, ax = plt.subplots(figsize=(6, 2))  # Adjust figsize for readability\n",
    "        ax.axis('off')  # Hide axes\n",
    "\n",
    "        # Render table\n",
    "        table = ax.table(cellText=table_df.values, colLabels=table_df.columns, cellLoc='center', loc='center')\n",
    "        table.auto_set_font_size(False)\n",
    "        table.set_fontsize(10)\n",
    "        table.auto_set_column_width(col=list(range(len(table_df.columns))))\n",
    "\n",
    "        # Save the table as an image\n",
    "        plot_path = os.path.join(save_folder, \"datasets_shape.png\")\n",
    "        plt.savefig(plot_path, bbox_inches='tight', dpi=300)\n",
    "        # plt.show()\n",
    "        plt.close()\n",
    "\n",
    "dataframe_info(df_dict)\n",
    " "
   ]
  },
  {
   "cell_type": "markdown",
   "metadata": {},
   "source": [
    "number of boys and girls in each data set"
   ]
  },
  {
   "cell_type": "markdown",
   "metadata": {},
   "source": [
    "first we change all value of sex for all dataframes to have a same value for sex column:"
   ]
  },
  {
   "cell_type": "markdown",
   "metadata": {},
   "source": [
    "now we draw charts for compare distribution of Girls and Boys in each dataframe:\n"
   ]
  },
  {
   "cell_type": "code",
   "execution_count": 21,
   "metadata": {},
   "outputs": [],
   "source": [
    "# Function to combine and plot counts\n",
    "def plot_gender_counts(dataframes_dict, filename=\"gender_counts_plot.png\"):\n",
    "    # List to store counts for each dataset\n",
    "    save_folder = 'charts/base_charts'\n",
    "    if not os.path.exists(save_folder):\n",
    "        os.makedirs(save_folder)\n",
    "\n",
    "    combined_data = []\n",
    "\n",
    "    # Iterate over each dataframe and compute counts\n",
    "    for name, df in dataframes_dict.items():\n",
    "        # print(type(df))\n",
    "        counts = df['sex'].value_counts().reset_index()\n",
    "        counts.columns = ['sex', 'count']\n",
    "        counts['dataset'] = name  # Use the name from the dictionary as dataset label\n",
    "        combined_data.append(counts)\n",
    "    \n",
    "    # Concatenate all counts into a single DataFrame\n",
    "    combined_df = pd.concat(combined_data, ignore_index=True)\n",
    "\n",
    "    # Plot with seaborn\n",
    "    plt.figure(figsize=(10, 6))\n",
    "    sns.barplot(data=combined_df, x='dataset', y='count', hue='sex')\n",
    "    plt.title('Number of Boys and Girls Across Datasets')\n",
    "    plt.xlabel('Dataset')\n",
    "    plt.ylabel('Count')\n",
    "    plot_path = os.path.join(save_folder, filename)\n",
    "    plt.savefig(plot_path,bbox_inches='tight', dpi=300)\n",
    "    # plt.show()\n",
    "    plt.close()\n",
    "\n",
    "# Usage\n",
    "plot_gender_counts(df_dict)\n"
   ]
  },
  {
   "cell_type": "code",
   "execution_count": 22,
   "metadata": {},
   "outputs": [],
   "source": [
    "# Function to plot counts by age for each dataset\n",
    "def plot_gender_age_distribution(dataframes_dict):\n",
    "    save_folder = 'charts/base_charts'\n",
    "    if not os.path.exists(save_folder):\n",
    "        os.makedirs(save_folder)\n",
    "    for name, df in dataframes_dict.items():\n",
    "        plt.figure(figsize=(8, 6))\n",
    "        sns.countplot(data=df, x='age', hue='sex')\n",
    "        plt.title(f'Gender Distribution by Age in {name}')\n",
    "        plt.xlabel('Age')\n",
    "        plt.ylabel('Count')\n",
    "        plt.legend(title='Gender', labels=['Boy', 'Girl'])\n",
    "        plot_path = os.path.join(save_folder, f\"{name}_gender_age_distribution.png\")\n",
    "        plt.savefig(plot_path,bbox_inches='tight', dpi=300)\n",
    "        # plt.show()\n",
    "        plt.close()\n",
    "\n",
    "# Usage\n",
    "plot_gender_age_distribution(df_dict)\n"
   ]
  },
  {
   "cell_type": "markdown",
   "metadata": {},
   "source": [
    "add a preprocessing step for additional works"
   ]
  },
  {
   "cell_type": "code",
   "execution_count": 23,
   "metadata": {},
   "outputs": [
    {
     "name": "stdout",
     "output_type": "stream",
     "text": [
      "Number of records with NaN value in weight or height in caspian_I: 11\n",
      "Number of records with NaN value in weight or height in caspian_III: 0\n",
      "Number of records with NaN value in weight or height in caspian_IV: 143\n",
      "Number of records with NaN value in weight or height in caspian_V: 128\n"
     ]
    }
   ],
   "source": [
    "def preprocess(dataframes_dict):\n",
    "    processed_dfs = {}  # Dictionary to store processed DataFrames\n",
    "    for name, df_org in dataframes_dict.items():\n",
    "        df = df_org.copy()\n",
    "\n",
    "        # Filter age\n",
    "        df = df[(df[\"age\"] >= 7) & (df[\"age\"] <= 18)]\n",
    "        # please change the type of heught_1 and weight_1 in caspian4 to numeric if you can't do it directly uncomment two line below\n",
    "        df['height'] = pd.to_numeric(df['height'], errors='coerce')\n",
    "        df['weight'] = pd.to_numeric(df['weight'], errors='coerce')\n",
    "        df[\"bmi1\"] = df[\"weight\"] / ((df[\"height\"] / 100) ** 2)\n",
    "        \n",
    "        # Remove null tuples\n",
    "        records_with_nulls = df[\n",
    "            df[[\"weight\", \"height\", \"sex\", \"age\"]].isna().any(axis=1)\n",
    "        ]\n",
    "        df = df.dropna(subset=[\"height\", \"weight\", \"sex\"])\n",
    "        print(\n",
    "            f\"Number of records with NaN value in weight or height in {name}: {len(records_with_nulls)}\"\n",
    "        )\n",
    "\n",
    "        # Store the processed DataFrame in the new dictionary\n",
    "        processed_dfs[name] = df\n",
    "\n",
    "    return processed_dfs\n",
    "\n",
    "\n",
    "# Usage\n",
    "processed_dfs = preprocess(df_dict)"
   ]
  },
  {
   "cell_type": "markdown",
   "metadata": {},
   "source": [
    "check if our bmi is equal to dataset bmi or not\n",
    "bmi1 is our bmi and bmi is dataset bmi:\n",
    "result is:\n",
    "Only the Caspian IV dataset shows a difference between our BMI (bmi1) and the dataset BMI (bmi); all other datasets have matching BMI values."
   ]
  },
  {
   "cell_type": "code",
   "execution_count": 24,
   "metadata": {},
   "outputs": [
    {
     "name": "stdout",
     "output_type": "stream",
     "text": [
      "No significant differences found.\n"
     ]
    }
   ],
   "source": [
    "import numpy as np\n",
    "\n",
    "# Identify rows where 'bmi' and 'bmi1' are not close within a small tolerance\n",
    "differences = processed_dfs['caspian_V'][~np.isclose(processed_dfs['caspian_V']['bmi'], processed_dfs['caspian_V']['bmi1'], atol=1e-6)]\n",
    "\n",
    "# Print only rows with significant differences\n",
    "if not differences.empty:\n",
    "    print(differences[['weight','height','bmi', 'bmi1']])\n",
    "else:\n",
    "    print(\"No significant differences found.\")"
   ]
  },
  {
   "cell_type": "code",
   "execution_count": 25,
   "metadata": {},
   "outputs": [],
   "source": [
    "def growth_chart(processed_dfs, feature, percentiles, sex, frec_rate):\n",
    "    for name, preprocess_df in processed_dfs.items():\n",
    "        def calculate_percentiles(group):\n",
    "            return np.percentile(group[feature], percentiles)\n",
    "\n",
    "        # Calculate percentiles\n",
    "        percentile_results = preprocess_df.groupby(['age', 'sex'], group_keys=False).apply(\n",
    "            lambda g: pd.Series(calculate_percentiles(g), index=[f'Percentile_{p}' for p in percentiles])\n",
    "        )\n",
    "        \n",
    "        percentile_results.reset_index(inplace=True)\n",
    "        \n",
    "        if percentile_results.empty:\n",
    "            print(f\"No percentile results for {name} with feature {feature}\")\n",
    "            continue\n",
    "        \n",
    "        # Filter based on sex\n",
    "        if sex == 'Boy':\n",
    "            percentile_results_gender = percentile_results[percentile_results['sex'] == 'Boy']\n",
    "            gender = \"Boy\"\n",
    "        else:\n",
    "            percentile_results_gender = percentile_results[percentile_results['sex'] == 'Girl']\n",
    "            gender = \"Girl\"\n",
    "\n",
    "        if percentile_results_gender.empty:\n",
    "            print(f\"No data for {gender} in {name} with feature {feature}\")\n",
    "            continue\n",
    "\n",
    "        ages = percentile_results_gender['age']\n",
    "        \n",
    "        plt.figure(figsize=(12, 8))\n",
    "\n",
    "        for i, percentile in enumerate(percentiles):\n",
    "            percentile_data = percentile_results_gender[f'Percentile_{percentile}']\n",
    "\n",
    "            # Ensure there’s data to plot\n",
    "            if percentile_data.empty:\n",
    "                print(f\"No data for {percentile}th percentile for {gender} in {name}\")\n",
    "                continue\n",
    "            \n",
    "            # Fit LOESS model\n",
    "            smoothed = sm.nonparametric.lowess(percentile_data, ages, frac=frec_rate)\n",
    "            \n",
    "            if smoothed.size == 0:\n",
    "                print(f\"No smoothed data for {percentile}th percentile for {gender} in {name}\")\n",
    "                continue\n",
    "            \n",
    "            # Plot the smoothed curve\n",
    "            plt.plot(smoothed[:, 0], smoothed[:, 1], label=f'{percentile}th Percentile', color=plt.cm.plasma(i / len(percentiles)))\n",
    "        \n",
    "        plt.xlabel('Age')\n",
    "        plt.ylabel(feature)\n",
    "        plt.title(f'Growth Chart for {gender}')\n",
    "        plt.legend()\n",
    "        plt.grid(True)\n",
    "        \n",
    "        # Check that saving folder exists\n",
    "        saving_folder = f'charts/{name}-smooth'\n",
    "        if not os.path.exists(saving_folder):\n",
    "            os.makedirs(saving_folder)\n",
    "        \n",
    "        # Save figure\n",
    "        plt.savefig(f'{saving_folder}/{gender}-{feature}-age_smooth-{name}.png')\n",
    "        plt.close()\n",
    "\n",
    "        print(f\"Chart saved for {gender} in {name} with feature {feature}\")"
   ]
  },
  {
   "cell_type": "code",
   "execution_count": 26,
   "metadata": {},
   "outputs": [
    {
     "name": "stderr",
     "output_type": "stream",
     "text": [
      "/tmp/ipykernel_197676/708921124.py:7: FutureWarning: The default of observed=False is deprecated and will be changed to True in a future version of pandas. Pass observed=False to retain current behavior or observed=True to adopt the future default and silence this warning.\n",
      "  percentile_results = preprocess_df.groupby(['age', 'sex'], group_keys=False).apply(\n",
      "/tmp/ipykernel_197676/708921124.py:7: DeprecationWarning: DataFrameGroupBy.apply operated on the grouping columns. This behavior is deprecated, and in a future version of pandas the grouping columns will be excluded from the operation. Either pass `include_groups=False` to exclude the groupings or explicitly select the grouping columns after groupby to silence this warning.\n",
      "  percentile_results = preprocess_df.groupby(['age', 'sex'], group_keys=False).apply(\n"
     ]
    },
    {
     "name": "stdout",
     "output_type": "stream",
     "text": [
      "Chart saved for Boy in caspian_I with feature height\n"
     ]
    },
    {
     "name": "stderr",
     "output_type": "stream",
     "text": [
      "/tmp/ipykernel_197676/708921124.py:7: FutureWarning: The default of observed=False is deprecated and will be changed to True in a future version of pandas. Pass observed=False to retain current behavior or observed=True to adopt the future default and silence this warning.\n",
      "  percentile_results = preprocess_df.groupby(['age', 'sex'], group_keys=False).apply(\n",
      "/tmp/ipykernel_197676/708921124.py:7: DeprecationWarning: DataFrameGroupBy.apply operated on the grouping columns. This behavior is deprecated, and in a future version of pandas the grouping columns will be excluded from the operation. Either pass `include_groups=False` to exclude the groupings or explicitly select the grouping columns after groupby to silence this warning.\n",
      "  percentile_results = preprocess_df.groupby(['age', 'sex'], group_keys=False).apply(\n"
     ]
    },
    {
     "name": "stdout",
     "output_type": "stream",
     "text": [
      "Chart saved for Boy in caspian_III with feature height\n"
     ]
    },
    {
     "name": "stderr",
     "output_type": "stream",
     "text": [
      "/tmp/ipykernel_197676/708921124.py:7: DeprecationWarning: DataFrameGroupBy.apply operated on the grouping columns. This behavior is deprecated, and in a future version of pandas the grouping columns will be excluded from the operation. Either pass `include_groups=False` to exclude the groupings or explicitly select the grouping columns after groupby to silence this warning.\n",
      "  percentile_results = preprocess_df.groupby(['age', 'sex'], group_keys=False).apply(\n"
     ]
    },
    {
     "name": "stdout",
     "output_type": "stream",
     "text": [
      "Chart saved for Boy in caspian_IV with feature height\n"
     ]
    },
    {
     "name": "stderr",
     "output_type": "stream",
     "text": [
      "/tmp/ipykernel_197676/708921124.py:7: FutureWarning: The default of observed=False is deprecated and will be changed to True in a future version of pandas. Pass observed=False to retain current behavior or observed=True to adopt the future default and silence this warning.\n",
      "  percentile_results = preprocess_df.groupby(['age', 'sex'], group_keys=False).apply(\n",
      "/tmp/ipykernel_197676/708921124.py:7: DeprecationWarning: DataFrameGroupBy.apply operated on the grouping columns. This behavior is deprecated, and in a future version of pandas the grouping columns will be excluded from the operation. Either pass `include_groups=False` to exclude the groupings or explicitly select the grouping columns after groupby to silence this warning.\n",
      "  percentile_results = preprocess_df.groupby(['age', 'sex'], group_keys=False).apply(\n",
      "/tmp/ipykernel_197676/708921124.py:7: FutureWarning: The default of observed=False is deprecated and will be changed to True in a future version of pandas. Pass observed=False to retain current behavior or observed=True to adopt the future default and silence this warning.\n",
      "  percentile_results = preprocess_df.groupby(['age', 'sex'], group_keys=False).apply(\n"
     ]
    },
    {
     "name": "stdout",
     "output_type": "stream",
     "text": [
      "Chart saved for Boy in caspian_V with feature height\n"
     ]
    },
    {
     "name": "stderr",
     "output_type": "stream",
     "text": [
      "/tmp/ipykernel_197676/708921124.py:7: DeprecationWarning: DataFrameGroupBy.apply operated on the grouping columns. This behavior is deprecated, and in a future version of pandas the grouping columns will be excluded from the operation. Either pass `include_groups=False` to exclude the groupings or explicitly select the grouping columns after groupby to silence this warning.\n",
      "  percentile_results = preprocess_df.groupby(['age', 'sex'], group_keys=False).apply(\n",
      "/tmp/ipykernel_197676/708921124.py:7: FutureWarning: The default of observed=False is deprecated and will be changed to True in a future version of pandas. Pass observed=False to retain current behavior or observed=True to adopt the future default and silence this warning.\n",
      "  percentile_results = preprocess_df.groupby(['age', 'sex'], group_keys=False).apply(\n"
     ]
    },
    {
     "name": "stdout",
     "output_type": "stream",
     "text": [
      "Chart saved for Girl in caspian_I with feature height\n"
     ]
    },
    {
     "name": "stderr",
     "output_type": "stream",
     "text": [
      "/tmp/ipykernel_197676/708921124.py:7: DeprecationWarning: DataFrameGroupBy.apply operated on the grouping columns. This behavior is deprecated, and in a future version of pandas the grouping columns will be excluded from the operation. Either pass `include_groups=False` to exclude the groupings or explicitly select the grouping columns after groupby to silence this warning.\n",
      "  percentile_results = preprocess_df.groupby(['age', 'sex'], group_keys=False).apply(\n"
     ]
    },
    {
     "name": "stdout",
     "output_type": "stream",
     "text": [
      "Chart saved for Girl in caspian_III with feature height\n"
     ]
    },
    {
     "name": "stderr",
     "output_type": "stream",
     "text": [
      "/tmp/ipykernel_197676/708921124.py:7: DeprecationWarning: DataFrameGroupBy.apply operated on the grouping columns. This behavior is deprecated, and in a future version of pandas the grouping columns will be excluded from the operation. Either pass `include_groups=False` to exclude the groupings or explicitly select the grouping columns after groupby to silence this warning.\n",
      "  percentile_results = preprocess_df.groupby(['age', 'sex'], group_keys=False).apply(\n",
      "/tmp/ipykernel_197676/708921124.py:7: FutureWarning: The default of observed=False is deprecated and will be changed to True in a future version of pandas. Pass observed=False to retain current behavior or observed=True to adopt the future default and silence this warning.\n",
      "  percentile_results = preprocess_df.groupby(['age', 'sex'], group_keys=False).apply(\n"
     ]
    },
    {
     "name": "stdout",
     "output_type": "stream",
     "text": [
      "Chart saved for Girl in caspian_IV with feature height\n"
     ]
    },
    {
     "name": "stderr",
     "output_type": "stream",
     "text": [
      "/tmp/ipykernel_197676/708921124.py:7: DeprecationWarning: DataFrameGroupBy.apply operated on the grouping columns. This behavior is deprecated, and in a future version of pandas the grouping columns will be excluded from the operation. Either pass `include_groups=False` to exclude the groupings or explicitly select the grouping columns after groupby to silence this warning.\n",
      "  percentile_results = preprocess_df.groupby(['age', 'sex'], group_keys=False).apply(\n",
      "/tmp/ipykernel_197676/708921124.py:7: FutureWarning: The default of observed=False is deprecated and will be changed to True in a future version of pandas. Pass observed=False to retain current behavior or observed=True to adopt the future default and silence this warning.\n",
      "  percentile_results = preprocess_df.groupby(['age', 'sex'], group_keys=False).apply(\n"
     ]
    },
    {
     "name": "stdout",
     "output_type": "stream",
     "text": [
      "Chart saved for Girl in caspian_V with feature height\n"
     ]
    },
    {
     "name": "stderr",
     "output_type": "stream",
     "text": [
      "/tmp/ipykernel_197676/708921124.py:7: DeprecationWarning: DataFrameGroupBy.apply operated on the grouping columns. This behavior is deprecated, and in a future version of pandas the grouping columns will be excluded from the operation. Either pass `include_groups=False` to exclude the groupings or explicitly select the grouping columns after groupby to silence this warning.\n",
      "  percentile_results = preprocess_df.groupby(['age', 'sex'], group_keys=False).apply(\n",
      "/tmp/ipykernel_197676/708921124.py:7: FutureWarning: The default of observed=False is deprecated and will be changed to True in a future version of pandas. Pass observed=False to retain current behavior or observed=True to adopt the future default and silence this warning.\n",
      "  percentile_results = preprocess_df.groupby(['age', 'sex'], group_keys=False).apply(\n"
     ]
    },
    {
     "name": "stdout",
     "output_type": "stream",
     "text": [
      "Chart saved for Boy in caspian_I with feature weight\n"
     ]
    },
    {
     "name": "stderr",
     "output_type": "stream",
     "text": [
      "/tmp/ipykernel_197676/708921124.py:7: DeprecationWarning: DataFrameGroupBy.apply operated on the grouping columns. This behavior is deprecated, and in a future version of pandas the grouping columns will be excluded from the operation. Either pass `include_groups=False` to exclude the groupings or explicitly select the grouping columns after groupby to silence this warning.\n",
      "  percentile_results = preprocess_df.groupby(['age', 'sex'], group_keys=False).apply(\n"
     ]
    },
    {
     "name": "stdout",
     "output_type": "stream",
     "text": [
      "Chart saved for Boy in caspian_III with feature weight\n"
     ]
    },
    {
     "name": "stderr",
     "output_type": "stream",
     "text": [
      "/tmp/ipykernel_197676/708921124.py:7: DeprecationWarning: DataFrameGroupBy.apply operated on the grouping columns. This behavior is deprecated, and in a future version of pandas the grouping columns will be excluded from the operation. Either pass `include_groups=False` to exclude the groupings or explicitly select the grouping columns after groupby to silence this warning.\n",
      "  percentile_results = preprocess_df.groupby(['age', 'sex'], group_keys=False).apply(\n",
      "/tmp/ipykernel_197676/708921124.py:7: FutureWarning: The default of observed=False is deprecated and will be changed to True in a future version of pandas. Pass observed=False to retain current behavior or observed=True to adopt the future default and silence this warning.\n",
      "  percentile_results = preprocess_df.groupby(['age', 'sex'], group_keys=False).apply(\n"
     ]
    },
    {
     "name": "stdout",
     "output_type": "stream",
     "text": [
      "Chart saved for Boy in caspian_IV with feature weight\n"
     ]
    },
    {
     "name": "stderr",
     "output_type": "stream",
     "text": [
      "/tmp/ipykernel_197676/708921124.py:7: DeprecationWarning: DataFrameGroupBy.apply operated on the grouping columns. This behavior is deprecated, and in a future version of pandas the grouping columns will be excluded from the operation. Either pass `include_groups=False` to exclude the groupings or explicitly select the grouping columns after groupby to silence this warning.\n",
      "  percentile_results = preprocess_df.groupby(['age', 'sex'], group_keys=False).apply(\n",
      "/tmp/ipykernel_197676/708921124.py:7: FutureWarning: The default of observed=False is deprecated and will be changed to True in a future version of pandas. Pass observed=False to retain current behavior or observed=True to adopt the future default and silence this warning.\n",
      "  percentile_results = preprocess_df.groupby(['age', 'sex'], group_keys=False).apply(\n"
     ]
    },
    {
     "name": "stdout",
     "output_type": "stream",
     "text": [
      "Chart saved for Boy in caspian_V with feature weight\n"
     ]
    },
    {
     "name": "stderr",
     "output_type": "stream",
     "text": [
      "/tmp/ipykernel_197676/708921124.py:7: DeprecationWarning: DataFrameGroupBy.apply operated on the grouping columns. This behavior is deprecated, and in a future version of pandas the grouping columns will be excluded from the operation. Either pass `include_groups=False` to exclude the groupings or explicitly select the grouping columns after groupby to silence this warning.\n",
      "  percentile_results = preprocess_df.groupby(['age', 'sex'], group_keys=False).apply(\n",
      "/tmp/ipykernel_197676/708921124.py:7: FutureWarning: The default of observed=False is deprecated and will be changed to True in a future version of pandas. Pass observed=False to retain current behavior or observed=True to adopt the future default and silence this warning.\n",
      "  percentile_results = preprocess_df.groupby(['age', 'sex'], group_keys=False).apply(\n"
     ]
    },
    {
     "name": "stdout",
     "output_type": "stream",
     "text": [
      "Chart saved for Girl in caspian_I with feature weight\n"
     ]
    },
    {
     "name": "stderr",
     "output_type": "stream",
     "text": [
      "/tmp/ipykernel_197676/708921124.py:7: DeprecationWarning: DataFrameGroupBy.apply operated on the grouping columns. This behavior is deprecated, and in a future version of pandas the grouping columns will be excluded from the operation. Either pass `include_groups=False` to exclude the groupings or explicitly select the grouping columns after groupby to silence this warning.\n",
      "  percentile_results = preprocess_df.groupby(['age', 'sex'], group_keys=False).apply(\n"
     ]
    },
    {
     "name": "stdout",
     "output_type": "stream",
     "text": [
      "Chart saved for Girl in caspian_III with feature weight\n"
     ]
    },
    {
     "name": "stderr",
     "output_type": "stream",
     "text": [
      "/tmp/ipykernel_197676/708921124.py:7: DeprecationWarning: DataFrameGroupBy.apply operated on the grouping columns. This behavior is deprecated, and in a future version of pandas the grouping columns will be excluded from the operation. Either pass `include_groups=False` to exclude the groupings or explicitly select the grouping columns after groupby to silence this warning.\n",
      "  percentile_results = preprocess_df.groupby(['age', 'sex'], group_keys=False).apply(\n"
     ]
    },
    {
     "name": "stdout",
     "output_type": "stream",
     "text": [
      "Chart saved for Girl in caspian_IV with feature weight\n"
     ]
    },
    {
     "name": "stderr",
     "output_type": "stream",
     "text": [
      "/tmp/ipykernel_197676/708921124.py:7: FutureWarning: The default of observed=False is deprecated and will be changed to True in a future version of pandas. Pass observed=False to retain current behavior or observed=True to adopt the future default and silence this warning.\n",
      "  percentile_results = preprocess_df.groupby(['age', 'sex'], group_keys=False).apply(\n",
      "/tmp/ipykernel_197676/708921124.py:7: DeprecationWarning: DataFrameGroupBy.apply operated on the grouping columns. This behavior is deprecated, and in a future version of pandas the grouping columns will be excluded from the operation. Either pass `include_groups=False` to exclude the groupings or explicitly select the grouping columns after groupby to silence this warning.\n",
      "  percentile_results = preprocess_df.groupby(['age', 'sex'], group_keys=False).apply(\n",
      "/tmp/ipykernel_197676/708921124.py:7: FutureWarning: The default of observed=False is deprecated and will be changed to True in a future version of pandas. Pass observed=False to retain current behavior or observed=True to adopt the future default and silence this warning.\n",
      "  percentile_results = preprocess_df.groupby(['age', 'sex'], group_keys=False).apply(\n"
     ]
    },
    {
     "name": "stdout",
     "output_type": "stream",
     "text": [
      "Chart saved for Girl in caspian_V with feature weight\n"
     ]
    },
    {
     "name": "stderr",
     "output_type": "stream",
     "text": [
      "/tmp/ipykernel_197676/708921124.py:7: DeprecationWarning: DataFrameGroupBy.apply operated on the grouping columns. This behavior is deprecated, and in a future version of pandas the grouping columns will be excluded from the operation. Either pass `include_groups=False` to exclude the groupings or explicitly select the grouping columns after groupby to silence this warning.\n",
      "  percentile_results = preprocess_df.groupby(['age', 'sex'], group_keys=False).apply(\n",
      "/tmp/ipykernel_197676/708921124.py:7: FutureWarning: The default of observed=False is deprecated and will be changed to True in a future version of pandas. Pass observed=False to retain current behavior or observed=True to adopt the future default and silence this warning.\n",
      "  percentile_results = preprocess_df.groupby(['age', 'sex'], group_keys=False).apply(\n"
     ]
    },
    {
     "name": "stdout",
     "output_type": "stream",
     "text": [
      "Chart saved for Boy in caspian_I with feature bmi1\n"
     ]
    },
    {
     "name": "stderr",
     "output_type": "stream",
     "text": [
      "/tmp/ipykernel_197676/708921124.py:7: DeprecationWarning: DataFrameGroupBy.apply operated on the grouping columns. This behavior is deprecated, and in a future version of pandas the grouping columns will be excluded from the operation. Either pass `include_groups=False` to exclude the groupings or explicitly select the grouping columns after groupby to silence this warning.\n",
      "  percentile_results = preprocess_df.groupby(['age', 'sex'], group_keys=False).apply(\n"
     ]
    },
    {
     "name": "stdout",
     "output_type": "stream",
     "text": [
      "Chart saved for Boy in caspian_III with feature bmi1\n"
     ]
    },
    {
     "name": "stderr",
     "output_type": "stream",
     "text": [
      "/tmp/ipykernel_197676/708921124.py:7: DeprecationWarning: DataFrameGroupBy.apply operated on the grouping columns. This behavior is deprecated, and in a future version of pandas the grouping columns will be excluded from the operation. Either pass `include_groups=False` to exclude the groupings or explicitly select the grouping columns after groupby to silence this warning.\n",
      "  percentile_results = preprocess_df.groupby(['age', 'sex'], group_keys=False).apply(\n",
      "/tmp/ipykernel_197676/708921124.py:7: FutureWarning: The default of observed=False is deprecated and will be changed to True in a future version of pandas. Pass observed=False to retain current behavior or observed=True to adopt the future default and silence this warning.\n",
      "  percentile_results = preprocess_df.groupby(['age', 'sex'], group_keys=False).apply(\n"
     ]
    },
    {
     "name": "stdout",
     "output_type": "stream",
     "text": [
      "Chart saved for Boy in caspian_IV with feature bmi1\n"
     ]
    },
    {
     "name": "stderr",
     "output_type": "stream",
     "text": [
      "/tmp/ipykernel_197676/708921124.py:7: DeprecationWarning: DataFrameGroupBy.apply operated on the grouping columns. This behavior is deprecated, and in a future version of pandas the grouping columns will be excluded from the operation. Either pass `include_groups=False` to exclude the groupings or explicitly select the grouping columns after groupby to silence this warning.\n",
      "  percentile_results = preprocess_df.groupby(['age', 'sex'], group_keys=False).apply(\n",
      "/tmp/ipykernel_197676/708921124.py:7: FutureWarning: The default of observed=False is deprecated and will be changed to True in a future version of pandas. Pass observed=False to retain current behavior or observed=True to adopt the future default and silence this warning.\n",
      "  percentile_results = preprocess_df.groupby(['age', 'sex'], group_keys=False).apply(\n"
     ]
    },
    {
     "name": "stdout",
     "output_type": "stream",
     "text": [
      "Chart saved for Boy in caspian_V with feature bmi1\n"
     ]
    },
    {
     "name": "stderr",
     "output_type": "stream",
     "text": [
      "/tmp/ipykernel_197676/708921124.py:7: DeprecationWarning: DataFrameGroupBy.apply operated on the grouping columns. This behavior is deprecated, and in a future version of pandas the grouping columns will be excluded from the operation. Either pass `include_groups=False` to exclude the groupings or explicitly select the grouping columns after groupby to silence this warning.\n",
      "  percentile_results = preprocess_df.groupby(['age', 'sex'], group_keys=False).apply(\n",
      "/tmp/ipykernel_197676/708921124.py:7: FutureWarning: The default of observed=False is deprecated and will be changed to True in a future version of pandas. Pass observed=False to retain current behavior or observed=True to adopt the future default and silence this warning.\n",
      "  percentile_results = preprocess_df.groupby(['age', 'sex'], group_keys=False).apply(\n"
     ]
    },
    {
     "name": "stdout",
     "output_type": "stream",
     "text": [
      "Chart saved for Girl in caspian_I with feature bmi1\n"
     ]
    },
    {
     "name": "stderr",
     "output_type": "stream",
     "text": [
      "/tmp/ipykernel_197676/708921124.py:7: DeprecationWarning: DataFrameGroupBy.apply operated on the grouping columns. This behavior is deprecated, and in a future version of pandas the grouping columns will be excluded from the operation. Either pass `include_groups=False` to exclude the groupings or explicitly select the grouping columns after groupby to silence this warning.\n",
      "  percentile_results = preprocess_df.groupby(['age', 'sex'], group_keys=False).apply(\n"
     ]
    },
    {
     "name": "stdout",
     "output_type": "stream",
     "text": [
      "Chart saved for Girl in caspian_III with feature bmi1\n"
     ]
    },
    {
     "name": "stderr",
     "output_type": "stream",
     "text": [
      "/tmp/ipykernel_197676/708921124.py:7: DeprecationWarning: DataFrameGroupBy.apply operated on the grouping columns. This behavior is deprecated, and in a future version of pandas the grouping columns will be excluded from the operation. Either pass `include_groups=False` to exclude the groupings or explicitly select the grouping columns after groupby to silence this warning.\n",
      "  percentile_results = preprocess_df.groupby(['age', 'sex'], group_keys=False).apply(\n",
      "/tmp/ipykernel_197676/708921124.py:7: FutureWarning: The default of observed=False is deprecated and will be changed to True in a future version of pandas. Pass observed=False to retain current behavior or observed=True to adopt the future default and silence this warning.\n",
      "  percentile_results = preprocess_df.groupby(['age', 'sex'], group_keys=False).apply(\n"
     ]
    },
    {
     "name": "stdout",
     "output_type": "stream",
     "text": [
      "Chart saved for Girl in caspian_IV with feature bmi1\n",
      "Chart saved for Girl in caspian_V with feature bmi1\n"
     ]
    },
    {
     "name": "stderr",
     "output_type": "stream",
     "text": [
      "/tmp/ipykernel_197676/708921124.py:7: DeprecationWarning: DataFrameGroupBy.apply operated on the grouping columns. This behavior is deprecated, and in a future version of pandas the grouping columns will be excluded from the operation. Either pass `include_groups=False` to exclude the groupings or explicitly select the grouping columns after groupby to silence this warning.\n",
      "  percentile_results = preprocess_df.groupby(['age', 'sex'], group_keys=False).apply(\n"
     ]
    }
   ],
   "source": [
    "# Define percentiles for each feature\n",
    "percentile_settings = {\n",
    "    'height': [3, 5, 10 , 25, 50, 75, 90, 95, 97],  # Percentiles for height\n",
    "    'weight': [3, 5, 10 , 25, 50, 75, 90, 95, 97],  # Percentiles for weight\n",
    "    'bmi1': [3, 5, 10 , 25, 50, 75, 85, 90, 95, 97]      # Different percentiles for BMI\n",
    "}\n",
    "\n",
    "# Define genders\n",
    "genders = ['Boy', 'Girl']\n",
    "\n",
    "# Fraction rate for LOESS smoothing\n",
    "frec_rate = 0.6\n",
    "\n",
    "# Call the growth_chart function for each combination of feature and gender\n",
    "for feature, percentiles in percentile_settings.items():\n",
    "    for gender in genders:\n",
    "        growth_chart(processed_dfs=processed_dfs, feature=feature, percentiles=percentiles, sex=gender, frec_rate=frec_rate)\n"
   ]
  },
  {
   "cell_type": "code",
   "execution_count": 27,
   "metadata": {},
   "outputs": [
    {
     "name": "stderr",
     "output_type": "stream",
     "text": [
      "/tmp/ipykernel_197676/645573977.py:11: FutureWarning: The behavior of Series.replace (and DataFrame.replace) with CategoricalDtype is deprecated. In a future version, replace will only be used for cases that preserve the categories. To change the categories, use ser.cat.rename_categories instead.\n",
      "  df_dict[name]['university'] = df_dict[name]['university'].replace(university_to_province)\n"
     ]
    }
   ],
   "source": [
    "def replacement_function(df_dict, mappings):\n",
    "    # Loop over each dataset in the dictionary\n",
    "    for name, df in df_dict.items():\n",
    "        # Get the appropriate mapping for each Caspian dataset\n",
    "        university_to_province = mappings.get(name)\n",
    "        if university_to_province:\n",
    "    # Iterate over each DataFrame in df_dict\n",
    "            for name, df in df_dict.items():\n",
    "                # Replace values based on the mapping\n",
    "                df_dict[name] = df.copy()  # Work with a copy if needed\n",
    "                df_dict[name]['university'] = df_dict[name]['university'].replace(university_to_province)\n",
    "                \n",
    "                # Ensure the 'university' column is of type string\n",
    "                df_dict[name]['university'] = df_dict[name]['university'].astype(str)\n",
    "                \n",
    "                # Sort the DataFrame by the 'university' column\n",
    "                df_dict[name] = df_dict[name].sort_values(by='university', ascending=True)\n",
    "        \n",
    "        return df_dict\n",
    "\n",
    "    # return df_dict\n",
    "\n",
    "# # Define your mappings dictionary for each Caspian dataset\n",
    "mappings = {\n",
    "    'caspian_I': {\n",
    "        \"Gorgan\": \"Golestan\",\n",
    "        \"Mashad\": \"Razavi Khorasan\",\n",
    "        \"ShahidBeheshti\": \"Tehran\",\n",
    "        \"Tabriz\": \"East Azerbaijan\",\n",
    "        \"Yazd\": \"Yazd\",\n",
    "        \"Rasht\": \"Gilan\"\n",
    "    },\n",
    "    'caspian_III': {\n",
    "       \"4mahal bakhtyari\": \"Chaharmahal and Bakhtiari\",\n",
    "        \"ardebil\": \"Ardabil\",\n",
    "        \"azar gharbi\": \"West Azerbaijan\",\n",
    "        \"boshehr\": \"Bushehr\",\n",
    "        \"esfahan\": \"Isfahan\",\n",
    "        \"fars\": \"Fars\",\n",
    "        \"gazvin\": \"Qazvin\",\n",
    "        \"gilan\": \"Gilan\",\n",
    "        \"golestan\": \"Golestan\",\n",
    "        \"gom\": \"Qom\",\n",
    "        \"hamedan\": \"Hamedan\",\n",
    "        \"hormozgan\": \"Hormozgan\",\n",
    "        \"ilam\": \"Ilam\",\n",
    "        \"kerman\": \"Kerman\",\n",
    "        \"kermanshah\": \"Kermanshah\",\n",
    "        \"khorasan jonobi\": \"South Khorasan\",\n",
    "        \"khorasan razavi\": \"Razavi Khorasan\",\n",
    "        \"khorasan shomali\": \"North Khorasan\",\n",
    "        \"khozestan\": \"Khuzestan\",\n",
    "        \"kordestan\": \"Kurdistan\",\n",
    "        \"lorestan\": \"Lorestan\",\n",
    "        \"markazi\": \"Markazi\",\n",
    "        \"mazandaran\": \"Mazandaran\",\n",
    "        \"semnan\": \"Semnan\",\n",
    "        \"tehran\": \"Tehran\",\n",
    "        \"yazd\": \"Yazd\",\n",
    "        \"zanjan\": \"Zanjan\"\n",
    "    },\n",
    "    'caspian_IV': {\n",
    "    'charmahal': 'Chaharmahal and Bakhtiari',\n",
    "    'alborz': 'Alborz',\n",
    "    'dezful': 'Khuzestan',\n",
    "    'mazandaran': 'Mazandaran',\n",
    "    'sabzevar': 'Razavi Khorasan',\n",
    "    'azar gharbi': 'West Azerbaijan',\n",
    "    'kurdestan': 'Kurdistan',\n",
    "    'kerman.jirof': 'Kerman',\n",
    "    'ardebil': 'Ardabil',\n",
    "    'hamedan': 'Hamedan',\n",
    "    'khorasan sho': 'South Khorasan',\n",
    "    'ilam': 'Ilam',\n",
    "    'khozestan': 'Khuzestan',\n",
    "    'shoshtar': 'Khuzestan',\n",
    "    'qazvin': 'Qazvin',\n",
    "    'isfahan': 'Isfahan',\n",
    "    'gilan': 'Gilan',\n",
    "    'tabriz': 'East Azerbaijan',\n",
    "    'arak': 'Markazi',\n",
    "    'semnan': 'Semnan',\n",
    "    'hormozgan': 'Hormozgan',\n",
    "    'lorestan': 'Lorestan',\n",
    "    'boshehr': 'Bushehr',\n",
    "    'zanjan': 'Zanjan',\n",
    "    'sistan': 'Sistan and Baluchestan',\n",
    "    'kermanshah': 'Kermanshah',\n",
    "    'fars': 'Fars',\n",
    "    'torbat heida': 'Razavi Khorasan',\n",
    "    'kerman': 'Kerman',\n",
    "    'khorasan jon': 'North Khorasan',\n",
    "    'yazd': 'Yazd',\n",
    "    'golestan': 'Golestan',\n",
    "    'behbahan': 'Khuzestan',\n",
    "    'shahidbehesh': 'Mazandaran',\n",
    "    'shahrood': 'Semnan',\n",
    "    'khorasan raz': 'Razavi Khorasan',\n",
    "    'saveh': 'Markazi',\n",
    "    'iran': 'General Iran',\n",
    "    'esfarayen': 'North Khorasan',\n",
    "    'kohkiloyeh': 'Kohgiluyeh and Boyer-Ahmad',\n",
    "    'abadan': 'Khuzestan',\n",
    "    'rafsanjan': 'Kerman',\n",
    "    'iranshahr': 'Sistan and Baluchestan',\n",
    "    'babol': 'Mazandaran',\n",
    "    'torbat jam': 'Razavi Khorasan',\n",
    "    'zabol': 'Sistan and Baluchestan',\n",
    "    'kashan': 'Isfahan',\n",
    "    'jahrom': 'Fars',\n",
    "    'neishabor': 'Razavi Khorasan',\n",
    "    'bam': 'Kerman',\n",
    "    'tehran': 'Tehran',\n",
    "    'larestan': 'Fars',\n",
    "    'fasad': 'Fars'\n",
    "},\n",
    "    'caspian_V': {\n",
    "        'tabriz': 'East Azerbaijan',\n",
    "    # None: 'Unknown',  # Assuming None corresponds to an unknown city\n",
    "    'azar gharbi': 'West Azerbaijan',\n",
    "    'ardebil': 'Ardabil',\n",
    "    'isfahan': 'Isfahan',\n",
    "    'kashan': 'Isfahan',\n",
    "    'alborz': 'Alborz',\n",
    "    'ilam': 'Ilam',\n",
    "    'boshehr': 'Bushehr',\n",
    "    'tehran': 'Tehran',\n",
    "    'Iran': 'General Iran',  # Assuming this is a general reference\n",
    "    'shahidbeheshti': 'Tehran',  # Assuming it's named after Shahid Beheshti University in Tehran\n",
    "    'charmahal': 'Chaharmahal and Bakhtiari',\n",
    "    'khorasan jonobi': 'South Khorasan',\n",
    "    'torbat heidariyeh': 'Razavi Khorasan',\n",
    "    'sabzevar': 'Razavi Khorasan',\n",
    "    'khorasan razavi': 'Razavi Khorasan',\n",
    "    'neishabor': 'North Khorasan',\n",
    "    'torbat jam': 'Razavi Khorasan',\n",
    "    'khorasan shomali': 'North Khorasan',\n",
    "    'esfarayen': 'North Khorasan',\n",
    "    'khozestan': 'Khuzestan',\n",
    "    'Abadan': 'Khuzestan',\n",
    "    'Behbahan': 'Khuzestan',\n",
    "    'Dezful': 'Khuzestan',\n",
    "    'Shoshtar': 'Khuzestan',\n",
    "    'Zanjan': 'Zanjan',\n",
    "    'Semnan': 'Semnan',\n",
    "    'Shahrood': 'Semnan',\n",
    "    'Zabol': 'Sistan and Baluchestan',\n",
    "    'Sistan': 'Sistan and Baluchestan',\n",
    "    'iranshahr': 'Sistan and Baluchestan',\n",
    "    'jahrom': 'Fars',\n",
    "    'fars': 'Fars',\n",
    "    'fasad': 'Fars',\n",
    "    'larestan': 'Fars',\n",
    "    'Qazvin': 'Qazvin',\n",
    "    'Kurdestan': 'Kurdistan',\n",
    "    'Kerman.jiroft': 'Kerman',\n",
    "    'Rafsanjan': 'Kerman',\n",
    "    'Kerman': 'Kerman',\n",
    "    'Bam': 'Kerman',\n",
    "    'kermanshah': 'Kermanshah',\n",
    "    'Kohkiloyeh': 'Kohgiluyeh and Boyer-Ahmad',\n",
    "    'Golestan': 'Golestan',\n",
    "    'Gilan': 'Gilan',\n",
    "    'Lorestan': 'Lorestan',\n",
    "    'Babol': 'Mazandaran',\n",
    "    'Mazandaran': 'Mazandaran',\n",
    "    'Arak': 'Markazi',\n",
    "    'saveh': 'Markazi',\n",
    "    'Hormozgan': 'Hormozgan',\n",
    "    'Hamedan': 'Hamedan',\n",
    "    'Yazd': 'Yazd'\n",
    "    }\n",
    "}\n",
    "\n",
    "# Apply the function to the entire dictionary\n",
    "processed_dfs = replacement_function(processed_dfs, mappings)\n",
    "\n"
   ]
  },
  {
   "cell_type": "code",
   "execution_count": 28,
   "metadata": {},
   "outputs": [
    {
     "name": "stderr",
     "output_type": "stream",
     "text": [
      "/tmp/ipykernel_197676/1966959181.py:20: SettingWithCopyWarning: \n",
      "A value is trying to be set on a copy of a slice from a DataFrame.\n",
      "Try using .loc[row_indexer,col_indexer] = value instead\n",
      "\n",
      "See the caveats in the documentation: https://pandas.pydata.org/pandas-docs/stable/user_guide/indexing.html#returning-a-view-versus-a-copy\n",
      "  df_filtered[feature] = pd.to_numeric(df_filtered[feature], errors='coerce')\n",
      "/tmp/ipykernel_197676/1966959181.py:35: FutureWarning: The default of observed=False is deprecated and will be changed to True in a future version of pandas. Pass observed=False to retain current behavior or observed=True to adopt the future default and silence this warning.\n",
      "  counts = df_filtered.groupby(['university', 'sex']).size().unstack().fillna(0)\n",
      "/tmp/ipykernel_197676/1966959181.py:36: FutureWarning: The default of observed=False is deprecated and will be changed to True in a future version of pandas. Pass observed=False to retain current behavior or observed=True to adopt the future default and silence this warning.\n",
      "  max_vals = df_filtered.groupby(['university', 'sex'])[feature].max().unstack()\n",
      "posx and posy should be finite values\n",
      "posx and posy should be finite values\n",
      "posx and posy should be finite values\n",
      "/tmp/ipykernel_197676/1966959181.py:20: SettingWithCopyWarning: \n",
      "A value is trying to be set on a copy of a slice from a DataFrame.\n",
      "Try using .loc[row_indexer,col_indexer] = value instead\n",
      "\n",
      "See the caveats in the documentation: https://pandas.pydata.org/pandas-docs/stable/user_guide/indexing.html#returning-a-view-versus-a-copy\n",
      "  df_filtered[feature] = pd.to_numeric(df_filtered[feature], errors='coerce')\n",
      "/tmp/ipykernel_197676/1966959181.py:35: FutureWarning: The default of observed=False is deprecated and will be changed to True in a future version of pandas. Pass observed=False to retain current behavior or observed=True to adopt the future default and silence this warning.\n",
      "  counts = df_filtered.groupby(['university', 'sex']).size().unstack().fillna(0)\n",
      "/tmp/ipykernel_197676/1966959181.py:36: FutureWarning: The default of observed=False is deprecated and will be changed to True in a future version of pandas. Pass observed=False to retain current behavior or observed=True to adopt the future default and silence this warning.\n",
      "  max_vals = df_filtered.groupby(['university', 'sex'])[feature].max().unstack()\n",
      "/tmp/ipykernel_197676/1966959181.py:20: SettingWithCopyWarning: \n",
      "A value is trying to be set on a copy of a slice from a DataFrame.\n",
      "Try using .loc[row_indexer,col_indexer] = value instead\n",
      "\n",
      "See the caveats in the documentation: https://pandas.pydata.org/pandas-docs/stable/user_guide/indexing.html#returning-a-view-versus-a-copy\n",
      "  df_filtered[feature] = pd.to_numeric(df_filtered[feature], errors='coerce')\n",
      "posx and posy should be finite values\n",
      "posx and posy should be finite values\n",
      "posx and posy should be finite values\n",
      "posx and posy should be finite values\n",
      "posx and posy should be finite values\n",
      "posx and posy should be finite values\n",
      "posx and posy should be finite values\n",
      "posx and posy should be finite values\n",
      "posx and posy should be finite values\n",
      "posx and posy should be finite values\n",
      "posx and posy should be finite values\n",
      "posx and posy should be finite values\n",
      "posx and posy should be finite values\n",
      "posx and posy should be finite values\n",
      "posx and posy should be finite values\n",
      "posx and posy should be finite values\n",
      "posx and posy should be finite values\n",
      "posx and posy should be finite values\n",
      "posx and posy should be finite values\n",
      "posx and posy should be finite values\n",
      "posx and posy should be finite values\n",
      "posx and posy should be finite values\n",
      "posx and posy should be finite values\n",
      "posx and posy should be finite values\n",
      "posx and posy should be finite values\n",
      "posx and posy should be finite values\n",
      "posx and posy should be finite values\n",
      "posx and posy should be finite values\n",
      "posx and posy should be finite values\n",
      "posx and posy should be finite values\n",
      "posx and posy should be finite values\n",
      "posx and posy should be finite values\n",
      "posx and posy should be finite values\n",
      "posx and posy should be finite values\n",
      "posx and posy should be finite values\n",
      "posx and posy should be finite values\n",
      "/tmp/ipykernel_197676/1966959181.py:20: SettingWithCopyWarning: \n",
      "A value is trying to be set on a copy of a slice from a DataFrame.\n",
      "Try using .loc[row_indexer,col_indexer] = value instead\n",
      "\n",
      "See the caveats in the documentation: https://pandas.pydata.org/pandas-docs/stable/user_guide/indexing.html#returning-a-view-versus-a-copy\n",
      "  df_filtered[feature] = pd.to_numeric(df_filtered[feature], errors='coerce')\n",
      "/tmp/ipykernel_197676/1966959181.py:35: FutureWarning: The default of observed=False is deprecated and will be changed to True in a future version of pandas. Pass observed=False to retain current behavior or observed=True to adopt the future default and silence this warning.\n",
      "  counts = df_filtered.groupby(['university', 'sex']).size().unstack().fillna(0)\n",
      "/tmp/ipykernel_197676/1966959181.py:36: FutureWarning: The default of observed=False is deprecated and will be changed to True in a future version of pandas. Pass observed=False to retain current behavior or observed=True to adopt the future default and silence this warning.\n",
      "  max_vals = df_filtered.groupby(['university', 'sex'])[feature].max().unstack()\n",
      "posx and posy should be finite values\n",
      "posx and posy should be finite values\n",
      "posx and posy should be finite values\n",
      "posx and posy should be finite values\n",
      "posx and posy should be finite values\n",
      "posx and posy should be finite values\n",
      "posx and posy should be finite values\n",
      "posx and posy should be finite values\n",
      "posx and posy should be finite values\n",
      "posx and posy should be finite values\n",
      "posx and posy should be finite values\n",
      "posx and posy should be finite values\n",
      "posx and posy should be finite values\n",
      "posx and posy should be finite values\n",
      "posx and posy should be finite values\n",
      "posx and posy should be finite values\n",
      "posx and posy should be finite values\n",
      "posx and posy should be finite values\n",
      "posx and posy should be finite values\n",
      "posx and posy should be finite values\n",
      "posx and posy should be finite values\n",
      "posx and posy should be finite values\n",
      "posx and posy should be finite values\n",
      "posx and posy should be finite values\n",
      "posx and posy should be finite values\n",
      "posx and posy should be finite values\n",
      "posx and posy should be finite values\n",
      "posx and posy should be finite values\n",
      "posx and posy should be finite values\n",
      "posx and posy should be finite values\n",
      "posx and posy should be finite values\n",
      "posx and posy should be finite values\n",
      "posx and posy should be finite values\n",
      "posx and posy should be finite values\n",
      "posx and posy should be finite values\n",
      "posx and posy should be finite values\n",
      "/tmp/ipykernel_197676/1966959181.py:20: SettingWithCopyWarning: \n",
      "A value is trying to be set on a copy of a slice from a DataFrame.\n",
      "Try using .loc[row_indexer,col_indexer] = value instead\n",
      "\n",
      "See the caveats in the documentation: https://pandas.pydata.org/pandas-docs/stable/user_guide/indexing.html#returning-a-view-versus-a-copy\n",
      "  df_filtered[feature] = pd.to_numeric(df_filtered[feature], errors='coerce')\n",
      "/tmp/ipykernel_197676/1966959181.py:35: FutureWarning: The default of observed=False is deprecated and will be changed to True in a future version of pandas. Pass observed=False to retain current behavior or observed=True to adopt the future default and silence this warning.\n",
      "  counts = df_filtered.groupby(['university', 'sex']).size().unstack().fillna(0)\n",
      "/tmp/ipykernel_197676/1966959181.py:36: FutureWarning: The default of observed=False is deprecated and will be changed to True in a future version of pandas. Pass observed=False to retain current behavior or observed=True to adopt the future default and silence this warning.\n",
      "  max_vals = df_filtered.groupby(['university', 'sex'])[feature].max().unstack()\n",
      "posx and posy should be finite values\n",
      "posx and posy should be finite values\n",
      "posx and posy should be finite values\n",
      "/tmp/ipykernel_197676/1966959181.py:20: SettingWithCopyWarning: \n",
      "A value is trying to be set on a copy of a slice from a DataFrame.\n",
      "Try using .loc[row_indexer,col_indexer] = value instead\n",
      "\n",
      "See the caveats in the documentation: https://pandas.pydata.org/pandas-docs/stable/user_guide/indexing.html#returning-a-view-versus-a-copy\n",
      "  df_filtered[feature] = pd.to_numeric(df_filtered[feature], errors='coerce')\n",
      "/tmp/ipykernel_197676/1966959181.py:35: FutureWarning: The default of observed=False is deprecated and will be changed to True in a future version of pandas. Pass observed=False to retain current behavior or observed=True to adopt the future default and silence this warning.\n",
      "  counts = df_filtered.groupby(['university', 'sex']).size().unstack().fillna(0)\n",
      "/tmp/ipykernel_197676/1966959181.py:36: FutureWarning: The default of observed=False is deprecated and will be changed to True in a future version of pandas. Pass observed=False to retain current behavior or observed=True to adopt the future default and silence this warning.\n",
      "  max_vals = df_filtered.groupby(['university', 'sex'])[feature].max().unstack()\n",
      "/tmp/ipykernel_197676/1966959181.py:20: SettingWithCopyWarning: \n",
      "A value is trying to be set on a copy of a slice from a DataFrame.\n",
      "Try using .loc[row_indexer,col_indexer] = value instead\n",
      "\n",
      "See the caveats in the documentation: https://pandas.pydata.org/pandas-docs/stable/user_guide/indexing.html#returning-a-view-versus-a-copy\n",
      "  df_filtered[feature] = pd.to_numeric(df_filtered[feature], errors='coerce')\n",
      "posx and posy should be finite values\n",
      "posx and posy should be finite values\n",
      "posx and posy should be finite values\n",
      "posx and posy should be finite values\n",
      "posx and posy should be finite values\n",
      "posx and posy should be finite values\n",
      "posx and posy should be finite values\n",
      "posx and posy should be finite values\n",
      "posx and posy should be finite values\n",
      "posx and posy should be finite values\n",
      "posx and posy should be finite values\n",
      "posx and posy should be finite values\n",
      "posx and posy should be finite values\n",
      "posx and posy should be finite values\n",
      "posx and posy should be finite values\n",
      "posx and posy should be finite values\n",
      "posx and posy should be finite values\n",
      "posx and posy should be finite values\n",
      "posx and posy should be finite values\n",
      "posx and posy should be finite values\n",
      "posx and posy should be finite values\n",
      "posx and posy should be finite values\n",
      "posx and posy should be finite values\n",
      "posx and posy should be finite values\n",
      "posx and posy should be finite values\n",
      "posx and posy should be finite values\n",
      "posx and posy should be finite values\n",
      "posx and posy should be finite values\n",
      "posx and posy should be finite values\n",
      "posx and posy should be finite values\n",
      "posx and posy should be finite values\n",
      "posx and posy should be finite values\n",
      "posx and posy should be finite values\n",
      "posx and posy should be finite values\n",
      "posx and posy should be finite values\n",
      "posx and posy should be finite values\n",
      "/tmp/ipykernel_197676/1966959181.py:20: SettingWithCopyWarning: \n",
      "A value is trying to be set on a copy of a slice from a DataFrame.\n",
      "Try using .loc[row_indexer,col_indexer] = value instead\n",
      "\n",
      "See the caveats in the documentation: https://pandas.pydata.org/pandas-docs/stable/user_guide/indexing.html#returning-a-view-versus-a-copy\n",
      "  df_filtered[feature] = pd.to_numeric(df_filtered[feature], errors='coerce')\n",
      "/tmp/ipykernel_197676/1966959181.py:35: FutureWarning: The default of observed=False is deprecated and will be changed to True in a future version of pandas. Pass observed=False to retain current behavior or observed=True to adopt the future default and silence this warning.\n",
      "  counts = df_filtered.groupby(['university', 'sex']).size().unstack().fillna(0)\n",
      "/tmp/ipykernel_197676/1966959181.py:36: FutureWarning: The default of observed=False is deprecated and will be changed to True in a future version of pandas. Pass observed=False to retain current behavior or observed=True to adopt the future default and silence this warning.\n",
      "  max_vals = df_filtered.groupby(['university', 'sex'])[feature].max().unstack()\n",
      "posx and posy should be finite values\n",
      "posx and posy should be finite values\n",
      "posx and posy should be finite values\n",
      "posx and posy should be finite values\n",
      "posx and posy should be finite values\n",
      "posx and posy should be finite values\n",
      "posx and posy should be finite values\n",
      "posx and posy should be finite values\n",
      "posx and posy should be finite values\n",
      "posx and posy should be finite values\n",
      "posx and posy should be finite values\n",
      "posx and posy should be finite values\n",
      "posx and posy should be finite values\n",
      "posx and posy should be finite values\n",
      "posx and posy should be finite values\n",
      "posx and posy should be finite values\n",
      "posx and posy should be finite values\n",
      "posx and posy should be finite values\n",
      "posx and posy should be finite values\n",
      "posx and posy should be finite values\n",
      "posx and posy should be finite values\n",
      "posx and posy should be finite values\n",
      "posx and posy should be finite values\n",
      "posx and posy should be finite values\n",
      "posx and posy should be finite values\n",
      "posx and posy should be finite values\n",
      "posx and posy should be finite values\n",
      "posx and posy should be finite values\n",
      "posx and posy should be finite values\n",
      "posx and posy should be finite values\n",
      "posx and posy should be finite values\n",
      "posx and posy should be finite values\n",
      "posx and posy should be finite values\n",
      "posx and posy should be finite values\n",
      "posx and posy should be finite values\n",
      "posx and posy should be finite values\n",
      "/tmp/ipykernel_197676/1966959181.py:20: SettingWithCopyWarning: \n",
      "A value is trying to be set on a copy of a slice from a DataFrame.\n",
      "Try using .loc[row_indexer,col_indexer] = value instead\n",
      "\n",
      "See the caveats in the documentation: https://pandas.pydata.org/pandas-docs/stable/user_guide/indexing.html#returning-a-view-versus-a-copy\n",
      "  df_filtered[feature] = pd.to_numeric(df_filtered[feature], errors='coerce')\n",
      "/tmp/ipykernel_197676/1966959181.py:35: FutureWarning: The default of observed=False is deprecated and will be changed to True in a future version of pandas. Pass observed=False to retain current behavior or observed=True to adopt the future default and silence this warning.\n",
      "  counts = df_filtered.groupby(['university', 'sex']).size().unstack().fillna(0)\n",
      "/tmp/ipykernel_197676/1966959181.py:36: FutureWarning: The default of observed=False is deprecated and will be changed to True in a future version of pandas. Pass observed=False to retain current behavior or observed=True to adopt the future default and silence this warning.\n",
      "  max_vals = df_filtered.groupby(['university', 'sex'])[feature].max().unstack()\n",
      "posx and posy should be finite values\n",
      "posx and posy should be finite values\n",
      "posx and posy should be finite values\n",
      "/tmp/ipykernel_197676/1966959181.py:20: SettingWithCopyWarning: \n",
      "A value is trying to be set on a copy of a slice from a DataFrame.\n",
      "Try using .loc[row_indexer,col_indexer] = value instead\n",
      "\n",
      "See the caveats in the documentation: https://pandas.pydata.org/pandas-docs/stable/user_guide/indexing.html#returning-a-view-versus-a-copy\n",
      "  df_filtered[feature] = pd.to_numeric(df_filtered[feature], errors='coerce')\n",
      "/tmp/ipykernel_197676/1966959181.py:35: FutureWarning: The default of observed=False is deprecated and will be changed to True in a future version of pandas. Pass observed=False to retain current behavior or observed=True to adopt the future default and silence this warning.\n",
      "  counts = df_filtered.groupby(['university', 'sex']).size().unstack().fillna(0)\n",
      "/tmp/ipykernel_197676/1966959181.py:36: FutureWarning: The default of observed=False is deprecated and will be changed to True in a future version of pandas. Pass observed=False to retain current behavior or observed=True to adopt the future default and silence this warning.\n",
      "  max_vals = df_filtered.groupby(['university', 'sex'])[feature].max().unstack()\n",
      "/tmp/ipykernel_197676/1966959181.py:20: SettingWithCopyWarning: \n",
      "A value is trying to be set on a copy of a slice from a DataFrame.\n",
      "Try using .loc[row_indexer,col_indexer] = value instead\n",
      "\n",
      "See the caveats in the documentation: https://pandas.pydata.org/pandas-docs/stable/user_guide/indexing.html#returning-a-view-versus-a-copy\n",
      "  df_filtered[feature] = pd.to_numeric(df_filtered[feature], errors='coerce')\n",
      "posx and posy should be finite values\n",
      "posx and posy should be finite values\n",
      "posx and posy should be finite values\n",
      "posx and posy should be finite values\n",
      "posx and posy should be finite values\n",
      "posx and posy should be finite values\n",
      "posx and posy should be finite values\n",
      "posx and posy should be finite values\n",
      "posx and posy should be finite values\n",
      "posx and posy should be finite values\n",
      "posx and posy should be finite values\n",
      "posx and posy should be finite values\n",
      "posx and posy should be finite values\n",
      "posx and posy should be finite values\n",
      "posx and posy should be finite values\n",
      "posx and posy should be finite values\n",
      "posx and posy should be finite values\n",
      "posx and posy should be finite values\n",
      "posx and posy should be finite values\n",
      "posx and posy should be finite values\n",
      "posx and posy should be finite values\n",
      "posx and posy should be finite values\n",
      "posx and posy should be finite values\n",
      "posx and posy should be finite values\n",
      "posx and posy should be finite values\n",
      "posx and posy should be finite values\n",
      "posx and posy should be finite values\n",
      "posx and posy should be finite values\n",
      "posx and posy should be finite values\n",
      "posx and posy should be finite values\n",
      "posx and posy should be finite values\n",
      "posx and posy should be finite values\n",
      "posx and posy should be finite values\n",
      "posx and posy should be finite values\n",
      "posx and posy should be finite values\n",
      "posx and posy should be finite values\n",
      "/tmp/ipykernel_197676/1966959181.py:20: SettingWithCopyWarning: \n",
      "A value is trying to be set on a copy of a slice from a DataFrame.\n",
      "Try using .loc[row_indexer,col_indexer] = value instead\n",
      "\n",
      "See the caveats in the documentation: https://pandas.pydata.org/pandas-docs/stable/user_guide/indexing.html#returning-a-view-versus-a-copy\n",
      "  df_filtered[feature] = pd.to_numeric(df_filtered[feature], errors='coerce')\n",
      "/tmp/ipykernel_197676/1966959181.py:35: FutureWarning: The default of observed=False is deprecated and will be changed to True in a future version of pandas. Pass observed=False to retain current behavior or observed=True to adopt the future default and silence this warning.\n",
      "  counts = df_filtered.groupby(['university', 'sex']).size().unstack().fillna(0)\n",
      "/tmp/ipykernel_197676/1966959181.py:36: FutureWarning: The default of observed=False is deprecated and will be changed to True in a future version of pandas. Pass observed=False to retain current behavior or observed=True to adopt the future default and silence this warning.\n",
      "  max_vals = df_filtered.groupby(['university', 'sex'])[feature].max().unstack()\n",
      "posx and posy should be finite values\n",
      "posx and posy should be finite values\n",
      "posx and posy should be finite values\n",
      "posx and posy should be finite values\n",
      "posx and posy should be finite values\n",
      "posx and posy should be finite values\n",
      "posx and posy should be finite values\n",
      "posx and posy should be finite values\n",
      "posx and posy should be finite values\n",
      "posx and posy should be finite values\n",
      "posx and posy should be finite values\n",
      "posx and posy should be finite values\n",
      "posx and posy should be finite values\n",
      "posx and posy should be finite values\n",
      "posx and posy should be finite values\n",
      "posx and posy should be finite values\n",
      "posx and posy should be finite values\n",
      "posx and posy should be finite values\n",
      "posx and posy should be finite values\n",
      "posx and posy should be finite values\n",
      "posx and posy should be finite values\n",
      "posx and posy should be finite values\n",
      "posx and posy should be finite values\n",
      "posx and posy should be finite values\n",
      "posx and posy should be finite values\n",
      "posx and posy should be finite values\n",
      "posx and posy should be finite values\n",
      "posx and posy should be finite values\n",
      "posx and posy should be finite values\n",
      "posx and posy should be finite values\n",
      "posx and posy should be finite values\n",
      "posx and posy should be finite values\n",
      "posx and posy should be finite values\n",
      "posx and posy should be finite values\n",
      "posx and posy should be finite values\n",
      "posx and posy should be finite values\n"
     ]
    }
   ],
   "source": [
    "def feature_per_city(df_dict, age, feature):\n",
    "    # Set a custom color palette\n",
    "    palette = sns.color_palette('tab10', 2)\n",
    "    custom_palette = {'Boy': palette[0], 'Girl': palette[1]}\n",
    "\n",
    "    # Define the folder to save plots\n",
    "    save_folder = 'charts/analysis_based_city'\n",
    "    if not os.path.exists(save_folder):\n",
    "        os.makedirs(save_folder)\n",
    "    \n",
    "    for name, df in df_dict.items():\n",
    "        # print(f\"Processing dataset: {name}\")\n",
    "        \n",
    "        df_filtered = df[df['age'] == age]\n",
    "        \n",
    "        if df_filtered.empty:\n",
    "            # print(f\"No data for age {age} in dataset {name}\")\n",
    "            continue\n",
    "\n",
    "        df_filtered[feature] = pd.to_numeric(df_filtered[feature], errors='coerce')\n",
    "        \n",
    "        # Increase figure size for better readability\n",
    "        plt.figure(figsize=(12, 9))\n",
    "        \n",
    "        # Create the boxplot\n",
    "        sns.boxplot(x='university', y=feature, hue='sex', data=df_filtered, palette=custom_palette) \n",
    "        plt.title(f'{feature} Distribution by City and Sex for {age} years old in {name}')\n",
    "        plt.xticks(rotation=90)\n",
    "        \n",
    "        # Limit y-axis ticks and round values\n",
    "        min_val, max_val = df_filtered[feature].min(), df_filtered[feature].max()\n",
    "        plt.yticks(np.linspace(min_val, max_val, 8).round(2))\n",
    "        \n",
    "        # Calculate sample sizes and maximum values for each box to position annotations above the boxes\n",
    "        counts = df_filtered.groupby(['university', 'sex']).size().unstack().fillna(0)\n",
    "        max_vals = df_filtered.groupby(['university', 'sex'])[feature].max().unstack()\n",
    "        \n",
    "        # Annotate each box with sample sizes, placing text slightly above the maximum whisker value\n",
    "        for i, university in enumerate(counts.index):\n",
    "            for j, sex in enumerate(counts.columns):\n",
    "                count = counts.loc[university, sex]\n",
    "                max_val = max_vals.loc[university, sex]\n",
    "                \n",
    "                # Adjust text position above each boxplot\n",
    "                y_offset = max_val * 1.05  # Adjust this multiplier as needed to control vertical spacing\n",
    "                x_offset = -0.15 if sex == 'Girl' else 0.15  # Slight horizontal offset for parallel alignment\n",
    "                plt.text(i + x_offset, y_offset, f'n={int(count)}', ha='center', va='bottom', \n",
    "                         color=custom_palette[sex], rotation=90, fontsize=10)\n",
    "\n",
    "        # Adjust layout to prevent cutting off labels\n",
    "        plt.tight_layout()\n",
    "\n",
    "        # Save the plot instead of showing it\n",
    "        plot_path = os.path.join(save_folder, f\"{name}_{feature}_age-{age}.png\")\n",
    "        plt.savefig(plot_path)\n",
    "        plt.close()  # Close the figure to free up memory\n",
    "        # print(f\"Saved plot to {plot_path}\")\n",
    "\n",
    "# Usage\n",
    "features=['weight','height','bmi1']\n",
    "for i in range(len(features)):\n",
    "    feature_per_city(processed_dfs, 18, f'{features[i]}')\n"
   ]
  },
  {
   "cell_type": "code",
   "execution_count": 35,
   "metadata": {},
   "outputs": [],
   "source": [
    "def plot_region_distribution(df_dict,feature):\n",
    "    \"\"\"\n",
    "    Plots the weight distribution by age, gender, and region for ages 7 to 18.\n",
    "    \n",
    "    Parameters:\n",
    "    - df_dict (dict): A dictionary of DataFrames, where each key corresponds to a specific dataset.\n",
    "    - dataset_key (str): The key in df_dict for the dataset you want to plot.\n",
    "    \"\"\"\n",
    "    save_folder = 'charts/analysis_based_region'\n",
    "    if not os.path.exists(save_folder):\n",
    "        os.makedirs(save_folder)\n",
    "        \n",
    "    for name,df in df_dict.items():\n",
    "        # Convert height to numeric if needed (assuming this was intended for weight)\n",
    "        df[f'{feature}'] = pd.to_numeric(df[f'{feature}'], errors='coerce')\n",
    "\n",
    "        # Plot weight for each gender by region\n",
    "        plt.figure(figsize=(12, 6))\n",
    "        sns.lineplot(data=df, x='age', y=f'{feature}', hue='sex', style='region', markers=True)\n",
    "\n",
    "        # Customize plot\n",
    "        plt.title( f'{feature} Distribution by Sex and Region (Ages 7-18) in {name}')\n",
    "        plt.xlabel(\"Age\")\n",
    "        plt.ylabel(f'{feature}')\n",
    "        plt.legend(title=\"Region and Gender\")\n",
    "        plt.grid(True)\n",
    "        plot_path = os.path.join(save_folder, f\"{name}_{feature}_based_region.png\")\n",
    "        plt.savefig(plot_path)\n",
    "        plt.close()\n",
    "        # plt.show()\n",
    "\n",
    "\n",
    "features=['weight','height','bmi1']\n",
    "for i in range(len(features)):\n",
    "    plot_region_distribution(processed_dfs, f'{features[i]}')\n"
   ]
  },
  {
   "cell_type": "markdown",
   "metadata": {},
   "source": [
    "chart based on school type"
   ]
  },
  {
   "cell_type": "code",
   "execution_count": 40,
   "metadata": {},
   "outputs": [
    {
     "name": "stderr",
     "output_type": "stream",
     "text": [
      "/tmp/ipykernel_197676/2078114015.py:17: SettingWithCopyWarning: \n",
      "A value is trying to be set on a copy of a slice from a DataFrame.\n",
      "Try using .loc[row_indexer,col_indexer] = value instead\n",
      "\n",
      "See the caveats in the documentation: https://pandas.pydata.org/pandas-docs/stable/user_guide/indexing.html#returning-a-view-versus-a-copy\n",
      "  df[f'{feature}'] = pd.to_numeric(df[f'{feature}'], errors='coerce')\n",
      "/tmp/ipykernel_197676/2078114015.py:17: SettingWithCopyWarning: \n",
      "A value is trying to be set on a copy of a slice from a DataFrame.\n",
      "Try using .loc[row_indexer,col_indexer] = value instead\n",
      "\n",
      "See the caveats in the documentation: https://pandas.pydata.org/pandas-docs/stable/user_guide/indexing.html#returning-a-view-versus-a-copy\n",
      "  df[f'{feature}'] = pd.to_numeric(df[f'{feature}'], errors='coerce')\n",
      "/tmp/ipykernel_197676/2078114015.py:17: SettingWithCopyWarning: \n",
      "A value is trying to be set on a copy of a slice from a DataFrame.\n",
      "Try using .loc[row_indexer,col_indexer] = value instead\n",
      "\n",
      "See the caveats in the documentation: https://pandas.pydata.org/pandas-docs/stable/user_guide/indexing.html#returning-a-view-versus-a-copy\n",
      "  df[f'{feature}'] = pd.to_numeric(df[f'{feature}'], errors='coerce')\n",
      "/tmp/ipykernel_197676/2078114015.py:17: SettingWithCopyWarning: \n",
      "A value is trying to be set on a copy of a slice from a DataFrame.\n",
      "Try using .loc[row_indexer,col_indexer] = value instead\n",
      "\n",
      "See the caveats in the documentation: https://pandas.pydata.org/pandas-docs/stable/user_guide/indexing.html#returning-a-view-versus-a-copy\n",
      "  df[f'{feature}'] = pd.to_numeric(df[f'{feature}'], errors='coerce')\n",
      "/tmp/ipykernel_197676/2078114015.py:17: SettingWithCopyWarning: \n",
      "A value is trying to be set on a copy of a slice from a DataFrame.\n",
      "Try using .loc[row_indexer,col_indexer] = value instead\n",
      "\n",
      "See the caveats in the documentation: https://pandas.pydata.org/pandas-docs/stable/user_guide/indexing.html#returning-a-view-versus-a-copy\n",
      "  df[f'{feature}'] = pd.to_numeric(df[f'{feature}'], errors='coerce')\n",
      "/tmp/ipykernel_197676/2078114015.py:17: SettingWithCopyWarning: \n",
      "A value is trying to be set on a copy of a slice from a DataFrame.\n",
      "Try using .loc[row_indexer,col_indexer] = value instead\n",
      "\n",
      "See the caveats in the documentation: https://pandas.pydata.org/pandas-docs/stable/user_guide/indexing.html#returning-a-view-versus-a-copy\n",
      "  df[f'{feature}'] = pd.to_numeric(df[f'{feature}'], errors='coerce')\n"
     ]
    }
   ],
   "source": [
    "def plot_based_schooltype(df_dict,feature):\n",
    "    \"\"\"\n",
    "    Plots the weight distribution by age, gender, and region for ages 7 to 18.\n",
    "    \n",
    "    Parameters:\n",
    "    - df_dict (dict): A dictionary of DataFrames, where each key corresponds to a specific dataset.\n",
    "    - dataset_key (str): The key in df_dict for the dataset you want to plot.\n",
    "    \"\"\"\n",
    "    save_folder = 'charts/analysis_based_schooltype'\n",
    "    if not os.path.exists(save_folder):\n",
    "        os.makedirs(save_folder)\n",
    "        \n",
    "    for name,df in df_dict.items():\n",
    "        # Convert height to numeric if needed (assuming this was intended for weight)\n",
    "\n",
    "        df = df[(df['schoolType'] != 'Unknown')]\n",
    "        df[f'{feature}'] = pd.to_numeric(df[f'{feature}'], errors='coerce')\n",
    "\n",
    "        # Plot weight for each gender by region\n",
    "        plt.figure(figsize=(12, 6))\n",
    "        sns.lineplot(data=df, x='age', y=f'{feature}', hue='sex', style='schoolType', markers=True)\n",
    "\n",
    "        # Customize plot\n",
    "        plt.title( f'{feature} Distribution by Sex and schoolType (Ages 7-18) in {name}')\n",
    "        plt.xlabel(\"Age\")\n",
    "        plt.ylabel(f'{feature}')\n",
    "        plt.legend(title=\"School Type and Gender\")\n",
    "        plt.grid(True)\n",
    "        plot_path = os.path.join(save_folder, f\"{name}_{feature}_based_schoolType.png\")\n",
    "        plt.savefig(plot_path)\n",
    "        plt.close()\n",
    "        # plt.show()\n",
    "\n",
    "\n",
    "features=['weight','height','bmi1']\n",
    "for i in range(len(features)):\n",
    "    plot_based_schooltype(processed_dfs, f'{features[i]}')\n"
   ]
  }
 ],
 "metadata": {
  "kernelspec": {
   "display_name": "CASPIAN_env",
   "language": "python",
   "name": "python3"
  },
  "language_info": {
   "codemirror_mode": {
    "name": "ipython",
    "version": 3
   },
   "file_extension": ".py",
   "mimetype": "text/x-python",
   "name": "python",
   "nbconvert_exporter": "python",
   "pygments_lexer": "ipython3",
   "version": "3.10.12"
  }
 },
 "nbformat": 4,
 "nbformat_minor": 2
}

{
 "cells": [
  {
   "cell_type": "code",
   "execution_count": 1,
   "metadata": {},
   "outputs": [],
   "source": [
    "import pandas as pd\n",
    "import matplotlib.pyplot as plt\n",
    "import numpy as np\n",
    "import seaborn as sns\n",
    "import statsmodels.api as sm\n",
    "from scipy.interpolate import interp1d\n",
    "import matplotlib.pyplot as plt\n",
    "from matplotlib import cm\n",
    "import os\n",
    "from scipy.stats import skew"
   ]
  },
  {
   "cell_type": "code",
   "execution_count": 2,
   "metadata": {},
   "outputs": [],
   "source": [
    "df_i_next = pd.read_spss('data/caspian1 data.sav',convert_categoricals=True)\n"
   ]
  },
  {
   "cell_type": "code",
   "execution_count": 3,
   "metadata": {},
   "outputs": [
    {
     "name": "stdout",
     "output_type": "stream",
     "text": [
      "Number of records with NaN value in weight or height: 132\n"
     ]
    }
   ],
   "source": [
    "def preprocess(df_org):\n",
    "\n",
    "    df = df_org.copy()\n",
    "\n",
    "    # Filter age\n",
    "    df = df[(df[\"age\"] >= 7) & (df[\"age\"] <= 18)]\n",
    "    # please change the type of heught_1 and weight_1 in caspian4 to numeric if you can't do it directly uncomment two line below\n",
    "    df['height'] = pd.to_numeric(df['height'], errors='coerce')\n",
    "    df['weight'] = pd.to_numeric(df['weight'], errors='coerce')\n",
    "    df[\"bmi1\"] = df[\"weight\"] / ((df[\"height\"] / 100) ** 2)\n",
    "    # Remove null tuples\n",
    "    records_with_nulls = df[\n",
    "        df[[\"weight\", \"height\", \"sex\", \"age\"]].isna().any(axis=1)\n",
    "    ]\n",
    "    df = df.dropna(subset=[\"height\", \"weight\", \"sex\"])\n",
    "    print(\n",
    "        f\"Number of records with NaN value in weight or height: {len(records_with_nulls)}\"\n",
    "    )   \n",
    "\n",
    "    return df\n",
    "df_i_next = preprocess(df_i_next)\n"
   ]
  },
  {
   "cell_type": "code",
   "execution_count": 4,
   "metadata": {},
   "outputs": [
    {
     "name": "stdout",
     "output_type": "stream",
     "text": [
      "Group for Age: 7.0, Sex: Female\n",
      "656\n",
      "\n",
      "Group for Age: 7.0, Sex: Male\n",
      "664\n",
      "\n",
      "Group for Age: 8.0, Sex: Female\n",
      "729\n",
      "\n",
      "Group for Age: 8.0, Sex: Male\n",
      "766\n",
      "\n",
      "Group for Age: 9.0, Sex: Female\n",
      "688\n",
      "\n",
      "Group for Age: 9.0, Sex: Male\n",
      "744\n",
      "\n",
      "Group for Age: 10.0, Sex: Female\n",
      "791\n",
      "\n",
      "Group for Age: 10.0, Sex: Male\n",
      "841\n",
      "\n",
      "Group for Age: 11.0, Sex: Female\n",
      "816\n",
      "\n",
      "Group for Age: 11.0, Sex: Male\n",
      "932\n",
      "\n",
      "Group for Age: 12.0, Sex: Female\n",
      "1073\n",
      "\n",
      "Group for Age: 12.0, Sex: Male\n",
      "1031\n",
      "\n",
      "Group for Age: 13.0, Sex: Female\n",
      "900\n",
      "\n",
      "Group for Age: 13.0, Sex: Male\n",
      "1028\n",
      "\n",
      "Group for Age: 14.0, Sex: Female\n",
      "1025\n",
      "\n",
      "Group for Age: 14.0, Sex: Male\n",
      "1222\n",
      "\n",
      "Group for Age: 15.0, Sex: Female\n",
      "1046\n",
      "\n",
      "Group for Age: 15.0, Sex: Male\n",
      "1066\n",
      "\n",
      "Group for Age: 16.0, Sex: Female\n",
      "1029\n",
      "\n",
      "Group for Age: 16.0, Sex: Male\n",
      "985\n",
      "\n",
      "Group for Age: 17.0, Sex: Female\n",
      "664\n",
      "\n",
      "Group for Age: 17.0, Sex: Male\n",
      "733\n",
      "\n",
      "Group for Age: 18.0, Sex: Female\n",
      "287\n",
      "\n",
      "Group for Age: 18.0, Sex: Male\n",
      "299\n",
      "\n"
     ]
    },
    {
     "name": "stderr",
     "output_type": "stream",
     "text": [
      "/tmp/ipykernel_37927/1076703598.py:2: FutureWarning: The default of observed=False is deprecated and will be changed to True in a future version of pandas. Pass observed=False to retain current behavior or observed=True to adopt the future default and silence this warning.\n",
      "  grouped = df_i_next.groupby(['age', 'sex'])\n"
     ]
    }
   ],
   "source": [
    "# Group by Age and Sex, then calculate summary statistics (mean, for example)\n",
    "grouped = df_i_next.groupby(['age', 'sex'])\n",
    "\n",
    "for (age, sex), group in grouped:\n",
    "    print(f\"Group for Age: {age}, Sex: {sex}\")\n",
    "    print(len(group))\n",
    "    print()\n"
   ]
  },
  {
   "cell_type": "code",
   "execution_count": 5,
   "metadata": {},
   "outputs": [
    {
     "name": "stderr",
     "output_type": "stream",
     "text": [
      "/tmp/ipykernel_37927/857306185.py:45: DeprecationWarning: DataFrameGroupBy.apply operated on the grouping columns. This behavior is deprecated, and in a future version of pandas the grouping columns will be excluded from the operation. Either pass `include_groups=False` to exclude the groupings or explicitly select the grouping columns after groupby to silence this warning.\n",
      "  params = grouped.apply(lambda group: calculate_params(group, feature='height')).reset_index()\n"
     ]
    },
    {
     "name": "stdout",
     "output_type": "stream",
     "text": [
      "                     id     code     sex    univer  state  province district  \\\n",
      "age  sex                                                                       \n",
      "7.0  Female 0     300.0  30293.0  Female  Oroomieh    3.0       2.0    Urban   \n",
      "            1     300.0  30293.0  Female  Oroomieh    3.0       2.0    Urban   \n",
      "            2     300.0  30293.0  Female  Oroomieh    3.0       2.0    Urban   \n",
      "            3     300.0  30293.0  Female  Oroomieh    3.0       2.0    Urban   \n",
      "            4     300.0  30293.0  Female  Oroomieh    3.0       2.0    Urban   \n",
      "...                 ...      ...     ...       ...    ...       ...      ...   \n",
      "18.0 Male   3583  751.0  10746.0    Male      Arak    1.0       1.0    Rural   \n",
      "            3584  751.0  10746.0    Male      Arak    1.0       1.0    Rural   \n",
      "            3585  751.0  10746.0    Male      Arak    1.0       1.0    Rural   \n",
      "            3586  751.0  10746.0    Male      Arak    1.0       1.0    Rural   \n",
      "            3587  751.0  10746.0    Male      Arak    1.0       1.0    Rural   \n",
      "\n",
      "                       schoolty        grade  birthdat  ...  tc_rec ldl_re  \\\n",
      "age  sex                                                ...                  \n",
      "7.0  Female 0     Public School      Primary    1375.0  ...     NaN    NaN   \n",
      "            1     Public School      Primary    1375.0  ...     NaN    NaN   \n",
      "            2     Public School      Primary    1375.0  ...     NaN    NaN   \n",
      "            3     Public School      Primary    1375.0  ...     NaN    NaN   \n",
      "            4     Public School      Primary    1375.0  ...     NaN    NaN   \n",
      "...                         ...          ...       ...  ...     ...    ...   \n",
      "18.0 Male   3583  Public School  High School    1364.0  ...     NaN    NaN   \n",
      "            3584  Public School  High School    1364.0  ...     NaN    NaN   \n",
      "            3585  Public School  High School    1364.0  ...     NaN    NaN   \n",
      "            3586  Public School  High School    1364.0  ...     NaN    NaN   \n",
      "            3587  Public School  High School    1364.0  ...     NaN    NaN   \n",
      "\n",
      "                 hdl_rec bmi_rec       bmi1  age_y    Lambda  Median  \\\n",
      "age  sex                                                               \n",
      "7.0  Female 0        NaN  Normal  14.343283    7.0  1.088723   125.0   \n",
      "            1        NaN  Normal  14.343283    8.0  0.651304   130.0   \n",
      "            2        NaN  Normal  14.343283    9.0  0.267484   135.0   \n",
      "            3        NaN  Normal  14.343283   10.0 -0.078274   141.0   \n",
      "            4        NaN  Normal  14.343283   11.0 -0.473981   148.0   \n",
      "...                  ...     ...        ...    ...       ...     ...   \n",
      "18.0 Male   3583     NaN  Normal  18.496499   14.0 -0.989519   164.0   \n",
      "            3584     NaN  Normal  18.496499   15.0 -0.698690   170.0   \n",
      "            3585     NaN  Normal  18.496499   16.0 -0.439351   172.0   \n",
      "            3586     NaN  Normal  18.496499   17.0 -1.294346   173.0   \n",
      "            3587     NaN  Normal  18.496499   18.0 -0.495344   173.0   \n",
      "\n",
      "                     Sigma   Z-Score  \n",
      "age  sex                              \n",
      "7.0  Female 0     0.062262 -0.513222  \n",
      "            1     0.062328 -1.124590  \n",
      "            2     0.061875 -1.743789  \n",
      "            3     0.062808 -2.450143  \n",
      "            4     0.060164 -3.512882  \n",
      "...                    ...       ...  \n",
      "18.0 Male   3583  0.064885  0.886012  \n",
      "            3584  0.057857  0.398725  \n",
      "            3585  0.050682  0.227528  \n",
      "            3586  0.056461  0.101703  \n",
      "            3587  0.049845  0.115468  \n",
      "\n",
      "[240180 rows x 35 columns]\n"
     ]
    },
    {
     "name": "stderr",
     "output_type": "stream",
     "text": [
      "/tmp/ipykernel_37927/857306185.py:48: DeprecationWarning: DataFrameGroupBy.apply operated on the grouping columns. This behavior is deprecated, and in a future version of pandas the grouping columns will be excluded from the operation. Either pass `include_groups=False` to exclude the groupings or explicitly select the grouping columns after groupby to silence this warning.\n",
      "  grouped_with_z_score = grouped.apply(lambda group: apply_z_score(group, params))\n"
     ]
    }
   ],
   "source": [
    "def calculate_z_score(value, L, M, S):\n",
    "    \"\"\"\n",
    "    Calculate the z-score using the LMS method.\n",
    "\n",
    "    Parameters:\n",
    "    - value: Observed value (e.g., height, weight, BMI).\n",
    "    - L: Lambda (skewness parameter).\n",
    "    - M: Mu (median or central tendency).\n",
    "    - S: Sigma (coefficient of variation).\n",
    "\n",
    "    Returns:\n",
    "    - z_score: Standardized z-score.\n",
    "    \"\"\"\n",
    "    if L == 0:\n",
    "        z_score = (value / M - 1) / S\n",
    "    else:\n",
    "        z_score = (np.power(value / M, L) - 1) / (L * S)\n",
    "    return z_score\n",
    "\n",
    "def apply_z_score(group, params):\n",
    "    # Merge params (Lambda, Median, Sigma) with the group\n",
    "    group = group.merge(params, on='sex', how='left')\n",
    "    \n",
    "    # Apply the z-score calculation row-wise within each group\n",
    "    group['Z-Score'] = group.apply(\n",
    "        lambda row: calculate_z_score(row['height'], L=row['Lambda'], M=row['Median'], S=row['Sigma']), axis=1\n",
    "    )\n",
    "    return group\n",
    "\n",
    "def calculate_params(group, feature):\n",
    "    # Calculate Median (M)\n",
    "    M = group[f'{feature}'].median()\n",
    "\n",
    "    # Calculate Lambda (L) - Skewness\n",
    "    L = skew(group[f'{feature}'])\n",
    "\n",
    "    # Calculate Sigma (S) - Coefficient of Variation (std / mean)\n",
    "    mean = group[f'{feature}'].mean()\n",
    "    std_dev = group[f'{feature}'].std()\n",
    "    S = std_dev / mean if mean != 0 else None  # Avoid division by zero\n",
    "\n",
    "    return pd.Series({'Lambda': L, 'Median': M, 'Sigma': S})\n",
    "\n",
    "# Apply the function to each group, passing the feature parameter dynamically\n",
    "params = grouped.apply(lambda group: calculate_params(group, feature='height')).reset_index()\n",
    "\n",
    "# Now, apply this to each group, passing the params DataFrame\n",
    "grouped_with_z_score = grouped.apply(lambda group: apply_z_score(group, params))\n",
    "\n",
    "# Display the results\n",
    "print(grouped_with_z_score)"
   ]
  },
  {
   "cell_type": "code",
   "execution_count": 6,
   "metadata": {},
   "outputs": [
    {
     "ename": "NameError",
     "evalue": "name 'norm' is not defined",
     "output_type": "error",
     "traceback": [
      "\u001b[0;31m---------------------------------------------------------------------------\u001b[0m",
      "\u001b[0;31mNameError\u001b[0m                                 Traceback (most recent call last)",
      "Cell \u001b[0;32mIn[6], line 2\u001b[0m\n\u001b[1;32m      1\u001b[0m percentiles \u001b[38;5;241m=\u001b[39m [\u001b[38;5;241m5\u001b[39m, \u001b[38;5;241m50\u001b[39m, \u001b[38;5;241m95\u001b[39m]  \u001b[38;5;66;03m# Define percentiles\u001b[39;00m\n\u001b[0;32m----> 2\u001b[0m Z_scores \u001b[38;5;241m=\u001b[39m [norm\u001b[38;5;241m.\u001b[39mppf(p \u001b[38;5;241m/\u001b[39m \u001b[38;5;241m100\u001b[39m) \u001b[38;5;28;01mfor\u001b[39;00m p \u001b[38;5;129;01min\u001b[39;00m percentiles]  \u001b[38;5;66;03m# Convert percentiles to Z-scores\u001b[39;00m\n\u001b[1;32m      4\u001b[0m \u001b[38;5;28;01mfor\u001b[39;00m Z \u001b[38;5;129;01min\u001b[39;00m Z_scores:\n\u001b[1;32m      5\u001b[0m     grouped_with_z_score[\u001b[38;5;124mf\u001b[39m\u001b[38;5;124m'\u001b[39m\u001b[38;5;124mP\u001b[39m\u001b[38;5;132;01m{\u001b[39;00m\u001b[38;5;28mint\u001b[39m(norm\u001b[38;5;241m.\u001b[39mcdf(Z)\u001b[38;5;241m*\u001b[39m\u001b[38;5;241m100\u001b[39m)\u001b[38;5;132;01m}\u001b[39;00m\u001b[38;5;124m'\u001b[39m] \u001b[38;5;241m=\u001b[39m params_df\u001b[38;5;241m.\u001b[39mapply(\n\u001b[1;32m      6\u001b[0m         \u001b[38;5;28;01mlambda\u001b[39;00m row: row[\u001b[38;5;124m'\u001b[39m\u001b[38;5;124mMedian\u001b[39m\u001b[38;5;124m'\u001b[39m] \u001b[38;5;241m*\u001b[39m (\u001b[38;5;241m1\u001b[39m \u001b[38;5;241m+\u001b[39m row[\u001b[38;5;124m'\u001b[39m\u001b[38;5;124mLambda\u001b[39m\u001b[38;5;124m'\u001b[39m] \u001b[38;5;241m*\u001b[39m row[\u001b[38;5;124m'\u001b[39m\u001b[38;5;124mSigma\u001b[39m\u001b[38;5;124m'\u001b[39m] \u001b[38;5;241m*\u001b[39m Z)\u001b[38;5;241m*\u001b[39m\u001b[38;5;241m*\u001b[39m(\u001b[38;5;241m1\u001b[39m\u001b[38;5;241m/\u001b[39mrow[\u001b[38;5;124m'\u001b[39m\u001b[38;5;124mLambda\u001b[39m\u001b[38;5;124m'\u001b[39m])\n\u001b[1;32m      7\u001b[0m         \u001b[38;5;28;01mif\u001b[39;00m row[\u001b[38;5;124m'\u001b[39m\u001b[38;5;124mLambda\u001b[39m\u001b[38;5;124m'\u001b[39m] \u001b[38;5;241m!=\u001b[39m \u001b[38;5;241m0\u001b[39m \u001b[38;5;28;01melse\u001b[39;00m\n\u001b[1;32m      8\u001b[0m         row[\u001b[38;5;124m'\u001b[39m\u001b[38;5;124mMedian\u001b[39m\u001b[38;5;124m'\u001b[39m] \u001b[38;5;241m*\u001b[39m np\u001b[38;5;241m.\u001b[39mexp(row[\u001b[38;5;124m'\u001b[39m\u001b[38;5;124mSigma\u001b[39m\u001b[38;5;124m'\u001b[39m] \u001b[38;5;241m*\u001b[39m Z), axis\u001b[38;5;241m=\u001b[39m\u001b[38;5;241m1\u001b[39m\n\u001b[1;32m      9\u001b[0m     )\n",
      "Cell \u001b[0;32mIn[6], line 2\u001b[0m, in \u001b[0;36m<listcomp>\u001b[0;34m(.0)\u001b[0m\n\u001b[1;32m      1\u001b[0m percentiles \u001b[38;5;241m=\u001b[39m [\u001b[38;5;241m5\u001b[39m, \u001b[38;5;241m50\u001b[39m, \u001b[38;5;241m95\u001b[39m]  \u001b[38;5;66;03m# Define percentiles\u001b[39;00m\n\u001b[0;32m----> 2\u001b[0m Z_scores \u001b[38;5;241m=\u001b[39m [\u001b[43mnorm\u001b[49m\u001b[38;5;241m.\u001b[39mppf(p \u001b[38;5;241m/\u001b[39m \u001b[38;5;241m100\u001b[39m) \u001b[38;5;28;01mfor\u001b[39;00m p \u001b[38;5;129;01min\u001b[39;00m percentiles]  \u001b[38;5;66;03m# Convert percentiles to Z-scores\u001b[39;00m\n\u001b[1;32m      4\u001b[0m \u001b[38;5;28;01mfor\u001b[39;00m Z \u001b[38;5;129;01min\u001b[39;00m Z_scores:\n\u001b[1;32m      5\u001b[0m     grouped_with_z_score[\u001b[38;5;124mf\u001b[39m\u001b[38;5;124m'\u001b[39m\u001b[38;5;124mP\u001b[39m\u001b[38;5;132;01m{\u001b[39;00m\u001b[38;5;28mint\u001b[39m(norm\u001b[38;5;241m.\u001b[39mcdf(Z)\u001b[38;5;241m*\u001b[39m\u001b[38;5;241m100\u001b[39m)\u001b[38;5;132;01m}\u001b[39;00m\u001b[38;5;124m'\u001b[39m] \u001b[38;5;241m=\u001b[39m params_df\u001b[38;5;241m.\u001b[39mapply(\n\u001b[1;32m      6\u001b[0m         \u001b[38;5;28;01mlambda\u001b[39;00m row: row[\u001b[38;5;124m'\u001b[39m\u001b[38;5;124mMedian\u001b[39m\u001b[38;5;124m'\u001b[39m] \u001b[38;5;241m*\u001b[39m (\u001b[38;5;241m1\u001b[39m \u001b[38;5;241m+\u001b[39m row[\u001b[38;5;124m'\u001b[39m\u001b[38;5;124mLambda\u001b[39m\u001b[38;5;124m'\u001b[39m] \u001b[38;5;241m*\u001b[39m row[\u001b[38;5;124m'\u001b[39m\u001b[38;5;124mSigma\u001b[39m\u001b[38;5;124m'\u001b[39m] \u001b[38;5;241m*\u001b[39m Z)\u001b[38;5;241m*\u001b[39m\u001b[38;5;241m*\u001b[39m(\u001b[38;5;241m1\u001b[39m\u001b[38;5;241m/\u001b[39mrow[\u001b[38;5;124m'\u001b[39m\u001b[38;5;124mLambda\u001b[39m\u001b[38;5;124m'\u001b[39m])\n\u001b[1;32m      7\u001b[0m         \u001b[38;5;28;01mif\u001b[39;00m row[\u001b[38;5;124m'\u001b[39m\u001b[38;5;124mLambda\u001b[39m\u001b[38;5;124m'\u001b[39m] \u001b[38;5;241m!=\u001b[39m \u001b[38;5;241m0\u001b[39m \u001b[38;5;28;01melse\u001b[39;00m\n\u001b[1;32m      8\u001b[0m         row[\u001b[38;5;124m'\u001b[39m\u001b[38;5;124mMedian\u001b[39m\u001b[38;5;124m'\u001b[39m] \u001b[38;5;241m*\u001b[39m np\u001b[38;5;241m.\u001b[39mexp(row[\u001b[38;5;124m'\u001b[39m\u001b[38;5;124mSigma\u001b[39m\u001b[38;5;124m'\u001b[39m] \u001b[38;5;241m*\u001b[39m Z), axis\u001b[38;5;241m=\u001b[39m\u001b[38;5;241m1\u001b[39m\n\u001b[1;32m      9\u001b[0m     )\n",
      "\u001b[0;31mNameError\u001b[0m: name 'norm' is not defined"
     ]
    }
   ],
   "source": [
    "percentiles = [5, 50, 95]  # Define percentiles\n",
    "Z_scores = [norm.ppf(p / 100) for p in percentiles]  # Convert percentiles to Z-scores\n",
    "\n",
    "for Z in Z_scores:\n",
    "    grouped_with_z_score[f'P{int(norm.cdf(Z)*100)}'] = params_df.apply(\n",
    "        lambda row: row['Median'] * (1 + row['Lambda'] * row['Sigma'] * Z)**(1/row['Lambda'])\n",
    "        if row['Lambda'] != 0 else\n",
    "        row['Median'] * np.exp(row['Sigma'] * Z), axis=1\n",
    "    )\n"
   ]
  }
 ],
 "metadata": {
  "kernelspec": {
   "display_name": "CASPIAN_env",
   "language": "python",
   "name": "python3"
  },
  "language_info": {
   "codemirror_mode": {
    "name": "ipython",
    "version": 3
   },
   "file_extension": ".py",
   "mimetype": "text/x-python",
   "name": "python",
   "nbconvert_exporter": "python",
   "pygments_lexer": "ipython3",
   "version": "3.10.12"
  }
 },
 "nbformat": 4,
 "nbformat_minor": 2
}

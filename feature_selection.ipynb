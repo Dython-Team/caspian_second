{
 "cells": [
  {
   "cell_type": "code",
   "execution_count": 1,
   "metadata": {},
   "outputs": [],
   "source": [
    "import mlflow\n",
    "import mlflow.sklearn\n",
    "import pandas as pd\n",
    "from sklearn.model_selection import train_test_split\n",
    "from sklearn.preprocessing import LabelEncoder\n",
    "from sklearn.ensemble import RandomForestClassifier\n",
    "from sklearn.metrics import classification_report, accuracy_score\n",
    "from sklearn.model_selection import cross_val_score\n",
    "import seaborn as sns\n",
    "import matplotlib.pyplot as plt\n",
    "from sklearn.feature_selection import SelectKBest, mutual_info_classif\n",
    "from catboost import CatBoostClassifier\n",
    "from xgboost import XGBClassifier"
   ]
  },
  {
   "cell_type": "code",
   "execution_count": 2,
   "metadata": {},
   "outputs": [],
   "source": [
    "# import sys\n",
    "# !{sys.executable} -m pip install catboost"
   ]
  },
  {
   "cell_type": "code",
   "execution_count": 3,
   "metadata": {},
   "outputs": [],
   "source": [
    "df_boy = pd.read_csv('casp5_boy_processed.csv')\n",
    "df_girl = pd.read_csv('casp5_girl_processed.csv')"
   ]
  },
  {
   "cell_type": "markdown",
   "metadata": {},
   "source": [
    "<h1>BOYS</h1>"
   ]
  },
  {
   "cell_type": "markdown",
   "metadata": {},
   "source": [
    "<h3>Find high correlated feature</h3>"
   ]
  },
  {
   "cell_type": "code",
   "execution_count": 4,
   "metadata": {},
   "outputs": [],
   "source": [
    "def split_X_y(df_org):\n",
    "    df = df_org.copy()\n",
    "    X = df.drop(columns=['height_percentile_label', 'height'],axis=1)  # Drop height and label columns for X\n",
    "    y = df['height_percentile_label']  # Target is the label based on height percentiles\n",
    "    return X,y"
   ]
  },
  {
   "cell_type": "code",
   "execution_count": 5,
   "metadata": {},
   "outputs": [
    {
     "data": {
      "text/plain": [
       "[('University ', 'id2           ', 0.9999950542471897),\n",
       " ('age  ', 'catage ', 0.9414744929864061),\n",
       " ('hp_102              ', 'hp_104              ', 0.9208794269034223),\n",
       " ('hp_103             ', 'hp_105             ', 0.8611226437958259),\n",
       " ('bmi1               ', 'weight              ', 0.844684792132679),\n",
       " ('cluster ', 'region ', 0.8398711765611132),\n",
       " ('s_106 ', 's_115 ', 0.8301259475862331),\n",
       " ('age  ', 'cross ', 0.825288413822319),\n",
       " ('weight              ', 'wrist              ', 0.8089198569244078),\n",
       " ('waist               ', 'weight              ', 0.8079443599610233)]"
      ]
     },
     "execution_count": 5,
     "metadata": {},
     "output_type": "execute_result"
    }
   ],
   "source": [
    "def find_highly_correlated_features(X, threshold=0.8, plot=False):\n",
    "    \"\"\"\n",
    "    Finds and optionally visualizes highly correlated features in a DataFrame.\n",
    "    \n",
    "    Parameters:\n",
    "        df (pd.DataFrame): The input DataFrame.\n",
    "        threshold (float): The correlation threshold for identifying high correlations (default is 0.8).\n",
    "        plot (bool): Whether to plot a heatmap of the correlation matrix (default is False).\n",
    "    \n",
    "    Returns:\n",
    "        list of tuples: Pairs of highly correlated features and their correlation values.\n",
    "    \"\"\"\n",
    "    # Compute the correlation matrix\n",
    "    corr_matrix = X.corr()\n",
    "\n",
    "    # Identify pairs of features with correlation above the threshold\n",
    "    high_corr_pairs = [\n",
    "        (i, j, corr_matrix.loc[i, j])\n",
    "        for i in corr_matrix.columns\n",
    "        for j in corr_matrix.columns\n",
    "        if i != j and abs(corr_matrix.loc[i, j]) > threshold\n",
    "    ]\n",
    "\n",
    "    # Remove duplicate pairs (e.g., both (A, B) and (B, A))\n",
    "    high_corr_pairs = list(set(tuple(sorted(pair[:2])) + (pair[2],) for pair in high_corr_pairs))\n",
    "    high_corr_pairs.sort(key=lambda x: abs(x[2]), reverse=True)\n",
    "\n",
    "    # Optional: Visualize the correlation matrix\n",
    "    if plot:\n",
    "        plt.figure(figsize=(10, 8))\n",
    "        sns.heatmap(corr_matrix, annot=True, cmap='coolwarm', fmt=\".2f\")\n",
    "        plt.title(\"Correlation Matrix\")\n",
    "        plt.show()\n",
    "\n",
    "    return high_corr_pairs\n",
    "X,y = split_X_y(df_boy)\n",
    "find_highly_correlated_features(X)"
   ]
  },
  {
   "cell_type": "markdown",
   "metadata": {},
   "source": [
    "<h2>Tree based model</h2>"
   ]
  },
  {
   "cell_type": "markdown",
   "metadata": {},
   "source": [
    "Models like Random Forests, Gradient Boosting (e.g., XGBoost, CatBoost), and Decision Trees are robust to correlated features."
   ]
  },
  {
   "cell_type": "markdown",
   "metadata": {},
   "source": [
    "catboost"
   ]
  },
  {
   "cell_type": "code",
   "execution_count": 6,
   "metadata": {},
   "outputs": [],
   "source": [
    "def select_features(X, y, k=50,Active=False):\n",
    "    if Active:\n",
    "        selector = SelectKBest(mutual_info_classif, k=k)\n",
    "        selector.fit(X, y)\n",
    "        return X.columns[selector.get_support()].tolist()\n",
    "    else:\n",
    "        return X.columns.tolist()"
   ]
  },
  {
   "cell_type": "code",
   "execution_count": 28,
   "metadata": {},
   "outputs": [],
   "source": [
    "def train_catboost(X_train, y_train, iterations=100, random_state=42):\n",
    "    model = CatBoostClassifier(iterations=iterations, random_seed=random_state, verbose=0)\n",
    "    model.fit(X_train, y_train)\n",
    "    return model,iterations\n",
    "\n",
    "def train_xgboost(X_train, y_train,n_estimators = 400,learning_rate = 0.1,max_depth = 10, random_state=42):\n",
    "    model = XGBClassifier(n_estimators=n_estimators,learning_rate=learning_rate,max_depth=max_depth,\n",
    "                          use_label_encoder=True, eval_metric=\"logloss\", random_state=random_state)\n",
    "    model.fit(X_train, y_train)\n",
    "    return model\n",
    "\n",
    "\n",
    "def evaluate_model(model, X_test, y_test):\n",
    "    y_pred = model.predict(X_test)\n",
    "    accuracy = accuracy_score(y_test, y_pred)\n",
    "    report = classification_report(y_test, y_pred, output_dict=True)\n",
    "    return {\"accuracy\": accuracy, \"report\": report}\n",
    "\n",
    "\n",
    "# Log MLflow experiment\n",
    "def log_mlflow_experiment(model_name, model,iterations, selected_features, metrics, report):\n",
    "    with mlflow.start_run():\n",
    "        # Log parameters\n",
    "        mlflow.log_param(\"num_iterations\",iterations)\n",
    "        mlflow.log_param(\"model_name\", model_name)\n",
    "        mlflow.log_param(\"selected_features\", selected_features)\n",
    "        \n",
    "        # Log metrics\n",
    "        mlflow.log_metric(\"accuracy\", metrics[\"accuracy\"])\n",
    "        mlflow.log_metrics({\n",
    "            \"precision_Normal\": report[\"Normal\"][\"precision\"],\n",
    "            \"recall_Normal\": report[\"Normal\"][\"recall\"],\n",
    "\n",
    "            \"precision_Tall\": report[\"Tall\"][\"precision\"],\n",
    "            \"recall_Tall\": report[\"Tall\"][\"recall\"],\n",
    "\n",
    "            \"precision_Short\": report[\"Short\"][\"precision\"],\n",
    "            \"recall_Short\": report[\"Short\"][\"recall\"]\n",
    "            \n",
    "        })\n",
    "        \n",
    "        # Log the model\n",
    "        mlflow.sklearn.log_model(model, f\"{model_name}_model\")\n",
    "        print(f\"Run ID ({model_name}): {mlflow.active_run().info.run_id}\")"
   ]
  },
  {
   "cell_type": "code",
   "execution_count": 29,
   "metadata": {},
   "outputs": [
    {
     "name": "stderr",
     "output_type": "stream",
     "text": [
      "\u001b[31m2024/12/26 10:04:18 WARNING mlflow.models.model: Model logged without a signature and input example. Please set `input_example` parameter when logging the model to auto infer the model signature.\u001b[0m\n"
     ]
    },
    {
     "name": "stdout",
     "output_type": "stream",
     "text": [
      "Run ID (CatBoost): 217a5ce0e881410286d41797d8e44ae3\n",
      "CatBoost Accuracy: 0.87\n"
     ]
    }
   ],
   "source": [
    "def main():\n",
    "# Set experiment\n",
    "    mlflow.set_experiment(\"ٓXGBoost1\")\n",
    "\n",
    "    X_train, X_test, y_train, y_test = train_test_split(X, y, test_size=0.2, random_state=42)\n",
    "\n",
    "    # Step 3: Select features\n",
    "    selected_features = select_features(X_train, y_train, k=2)\n",
    "    X_train_selected = X_train[selected_features]\n",
    "    X_test_selected = X_test[selected_features]\n",
    "\n",
    "    # Step 4: Train CatBoost\n",
    "    catboost_model,iterations = train_catboost(X_train_selected, y_train)\n",
    "    catboost_metrics = evaluate_model(catboost_model, X_test_selected, y_test)\n",
    "    log_mlflow_experiment(\"CatBoost\", catboost_model,iterations, selected_features, catboost_metrics, catboost_metrics[\"report\"])\n",
    "    print(f\"CatBoost Accuracy: {catboost_metrics['accuracy']:.2f}\")\n",
    "\n",
    "\n",
    "# Run the pipeline\n",
    "if __name__ == \"__main__\":\n",
    "    main()"
   ]
  }
 ],
 "metadata": {
  "kernelspec": {
   "display_name": "CASPIAN_env",
   "language": "python",
   "name": "python3"
  },
  "language_info": {
   "codemirror_mode": {
    "name": "ipython",
    "version": 3
   },
   "file_extension": ".py",
   "mimetype": "text/x-python",
   "name": "python",
   "nbconvert_exporter": "python",
   "pygments_lexer": "ipython3",
   "version": "3.10.12"
  }
 },
 "nbformat": 4,
 "nbformat_minor": 2
}

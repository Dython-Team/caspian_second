{
 "cells": [
  {
   "cell_type": "code",
   "execution_count": 1,
   "metadata": {},
   "outputs": [],
   "source": [
    "import pandas as pd\n",
    "import numpy as np\n",
    "import pyreadstat\n",
    "# Load the .dta file\n",
    "pd.set_option('display.float_format', '{:.0f}'.format)\n",
    "\n"
   ]
  },
  {
   "cell_type": "code",
   "execution_count": 2,
   "metadata": {},
   "outputs": [],
   "source": [
    "df_iv = pd.read_stata('data/school_final- tashih shodeh -4.dta')\n",
    "# Load the .dta file using pandas\n",
    "\n",
    "# Convert the pandas DataFrame to .sav format\n",
    "pyreadstat.write_sav(df_iv, 'caspian4-ghorbani.sav')\n"
   ]
  },
  {
   "cell_type": "code",
   "execution_count": 3,
   "metadata": {},
   "outputs": [],
   "source": [
    "import pyreadstat\n",
    "\n",
    "# Read the .dta file using pyreadstat\n",
    "df_iv, meta = pyreadstat.read_dta('data/last-caspian-v-9.dta')\n",
    "\n",
    "# You can access the value labels from the meta object, for example:\n",
    "value_labels = meta.value_labels\n",
    "\n",
    "## Apply the value labels to the corresponding columns in the DataFrame\n",
    "for column, labels in value_labels.items():\n",
    "    if column in df_iv.columns:\n",
    "        # Map the values to their corresponding labels\n",
    "        df_iv[column] = df_iv[column].map(labels)\n",
    "\n",
    "# Now, write the dataframe to a .sav file\n",
    "pyreadstat.write_sav(df_iv, 'caspian5-ghorbani.sav')\n"
   ]
  },
  {
   "cell_type": "code",
   "execution_count": 4,
   "metadata": {},
   "outputs": [],
   "source": [
    "df_iv = pd.read_spss('caspian4-ghorbani.sav')\n",
    "df_v = pd.read_spss('caspian5-ghorbani.sav')\n"
   ]
  },
  {
   "cell_type": "code",
   "execution_count": 45,
   "metadata": {},
   "outputs": [
    {
     "name": "stdout",
     "output_type": "stream",
     "text": [
      "casp4:  (13542, 342)\n",
      "casp5:  (14286, 542)\n"
     ]
    }
   ],
   "source": [
    "print('casp4: ',df_iv.shape)\n",
    "print('casp5: ',df_v.shape)\n"
   ]
  },
  {
   "cell_type": "code",
   "execution_count": 5,
   "metadata": {},
   "outputs": [],
   "source": [
    "def rename_features(df1, caspian_number):\n",
    "    df2 = df1.copy()\n",
    "    # Rename the features in the dataframe\n",
    "    if caspian_number == 5:\n",
    "        df2.rename(columns={'weight_1': 'weight', 'height_2': 'height', 'universi': 'university','ap_9':'schoolType','waist_3':'waist','wrist4':'wrist'}, inplace=True)\n",
    "\n",
    "    elif caspian_number == 4:\n",
    "        df2.rename(columns={'weight_1': 'weight', 'height_2': 'height', 'universi': 'university','waist_3':'waist','hip_4':'hip','wrist_5':'wrist'}, inplace=True)        \n",
    "    return df2\n",
    "\n",
    "df_iv = rename_features(df_iv,4)\n",
    "df_v = rename_features(df_v,5)\n",
    "\n"
   ]
  },
  {
   "cell_type": "code",
   "execution_count": 6,
   "metadata": {},
   "outputs": [],
   "source": [
    "df_v.rename(columns={'ap_3':'fathereducation6halati'},inplace=True)\n",
    "df_v.rename(columns={'ap_4':'mothereducation6halati'},inplace=True)\n",
    "df_iv.rename(columns={'v124_a':'ap_2'},inplace=True)\n",
    "df_iv.rename(columns={'code':'id2'},inplace=True)\n"
   ]
  },
  {
   "cell_type": "code",
   "execution_count": 7,
   "metadata": {},
   "outputs": [
    {
     "name": "stdout",
     "output_type": "stream",
     "text": [
      "Number of records with NaN value in weight or height in caspian_IV_ghorbani: 110\n",
      "Number of records with NaN value in weight or height in caspian_V_ghorbani: 128\n"
     ]
    }
   ],
   "source": [
    "df_dict = {'caspian_IV_ghorbani':df_iv, 'caspian_V_ghorbani': df_v}\n",
    "\n",
    "def preprocess(dataframes_dict):\n",
    "    processed_dfs = {}  # Dictionary to store processed DataFrames\n",
    "    for name, df_org in dataframes_dict.items():\n",
    "        df = df_org.copy()\n",
    "\n",
    "        # Filter age\n",
    "        df = df[(df[\"age\"] >= 7) & (df[\"age\"] <= 18)]\n",
    "        # please change the type of heught_1 and weight_1 in caspian4 to numeric if you can't do it directly uncomment two line below\n",
    "        df['height'] = pd.to_numeric(df['height'], errors='coerce')\n",
    "        df['weight'] = pd.to_numeric(df['weight'], errors='coerce')\n",
    "        df[\"bmi1\"] = df[\"weight\"] / ((df[\"height\"] / 100) ** 2)\n",
    "        \n",
    "        # Remove null tuples\n",
    "        records_with_nulls = df[\n",
    "            df[[\"weight\", \"height\", \"sex\", \"age\"]].isna().any(axis=1)\n",
    "        ]\n",
    "        df = df.dropna(subset=[\"height\", \"weight\", \"sex\"])\n",
    "        print(\n",
    "            f\"Number of records with NaN value in weight or height in {name}: {len(records_with_nulls)}\"\n",
    "        )\n",
    "\n",
    "        # Store the processed DataFrame in the new dictionary\n",
    "        processed_dfs[name] = df\n",
    "\n",
    "    return processed_dfs\n",
    "\n",
    "\n",
    "# Usage\n",
    "processed_dfs = preprocess(df_dict)"
   ]
  },
  {
   "cell_type": "code",
   "execution_count": 49,
   "metadata": {},
   "outputs": [
    {
     "data": {
      "text/plain": [
       "array(['5 ya 6 ruz dar hafte', '1 ya 2ruz dar hafte',\n",
       "       '3 ya 4 ruz dar hafte', 'benodrat ya hargez', ''], dtype=object)"
      ]
     },
     "execution_count": 49,
     "metadata": {},
     "output_type": "execute_result"
    }
   ],
   "source": [
    "df_iv.a_4.unique()"
   ]
  },
  {
   "cell_type": "code",
   "execution_count": 50,
   "metadata": {},
   "outputs": [
    {
     "data": {
      "text/plain": [
       "array(['never', '1 or 2 in week', '3 or 4 in week', '5 or 6 in week',\n",
       "       'everyday', ''], dtype=object)"
      ]
     },
     "execution_count": 50,
     "metadata": {},
     "output_type": "execute_result"
    }
   ],
   "source": [
    "df_v.a_4.unique()"
   ]
  },
  {
   "cell_type": "code",
   "execution_count": 8,
   "metadata": {},
   "outputs": [
    {
     "data": {
      "text/plain": [
       "array(['ebtedaei', 'bisavad', 'rahnamaei', 'balaye lisans', 'diplom',\n",
       "       'lisans', '', 'savad qorani'], dtype=object)"
      ]
     },
     "execution_count": 8,
     "metadata": {},
     "output_type": "execute_result"
    }
   ],
   "source": [
    "df_iv.fathereducation6halati.unique()"
   ]
  },
  {
   "cell_type": "code",
   "execution_count": 52,
   "metadata": {},
   "outputs": [
    {
     "data": {
      "text/plain": [
       "array(['diplom', 'bisavad', 'rahnamaei', 'lisans', 'ebtedaei', '',\n",
       "       'savad qorani', 'balaye lisans'], dtype=object)"
      ]
     },
     "execution_count": 52,
     "metadata": {},
     "output_type": "execute_result"
    }
   ],
   "source": [
    "df_iv.mothereducation6halati.unique()"
   ]
  },
  {
   "cell_type": "code",
   "execution_count": 9,
   "metadata": {},
   "outputs": [],
   "source": [
    "provinces_mapping = {\n",
    "    'caspian4':{\n",
    "    \"khozestan\": \"Khuzestan\",\n",
    "    \"boshehr\": \"Bushehr\",\n",
    "    \"ardabil\": \"Ardabil\",\n",
    "    \"azar garbi\": \"West Azerbaijan\",\n",
    "    \"khorasshomali\": \"North Khorasan\",\n",
    "    \"qazvin\": \"Qazvin\",\n",
    "    \"lorestan\": \"Lorestan\",\n",
    "    \"khorasrazavi\": \"Khorasan Razavi\",\n",
    "    \"kordestan\": \"Kurdistan\",\n",
    "    \"yazd\": \"Yazd\",\n",
    "    \"kerman\": \"Kerman\",\n",
    "    \"kermanshah\": \"Kermanshah\",\n",
    "    \"isfahan\": \"Isfahan\",\n",
    "    \"markazi\": \"Markazi\",\n",
    "    \"tehran\": \"Tehran\",\n",
    "    \"sistan\": \"Sistan and Baluchestan\",\n",
    "    \"ilam\": \"Ilam\",\n",
    "    \"kohkiloye\": \"Kohgiluyeh and Boyer-Ahmad\",\n",
    "    \"4 mahal bakhtiyari\": \"Chaharmahal and Bakhtiari\",\n",
    "    \"hormzgan\": \"Hormozgan\",\n",
    "    \"semnan\": \"Semnan\",\n",
    "    \"golestan\": \"Golestan\",\n",
    "    \"mazandaran\": \"Mazandaran\",\n",
    "    \"hamadan\": \"Hamedan\",\n",
    "    \"alborz\": \"Alborz\",\n",
    "    \"azar shargi\": \"East Azerbaijan\",\n",
    "    \"zanjan\": \"Zanjan\",\n",
    "    \"fars\": \"Fars\",\n",
    "    \"gilan\": \"Gilan\",\n",
    "    \"qom\": \"Qom\",\n",
    "    \"\":  np.nan  # Empty entry\n",
    "    },\n",
    "    'caspian5':\n",
    "    {\n",
    "    \"khorasan razavi\": \"Khorasan Razavi\",\n",
    "    \"iranshahr\": \"Sistan and Baluchestan\",\n",
    "    \"ilam\": \"Ilam\",\n",
    "    \"khorasan shomali\": \"North Khorasan\",\n",
    "    \"charmahal\": \"Chaharmahal and Bakhtiari\",\n",
    "    \"kermanshah\": \"Kermanshah\",\n",
    "    \"gilan\": \"Gilan\",\n",
    "    \"mazandaran\": \"Mazandaran\",\n",
    "    \"shahrood\": \"Semnan\",\n",
    "    \"lorestan\": \"Lorestan\",\n",
    "    \"qazvin\": \"Qazvin\",\n",
    "    \"abadan\": \"Khuzestan\",\n",
    "    \"ardebil\": \"Ardabil\",\n",
    "    \"zanjan\": \"Zanjan\",\n",
    "    \"kohkiloyeh\": \"Kohgiluyeh and Boyer-Ahmad\",\n",
    "    \"khorasan jonobi\": \"South Khorasan\",\n",
    "    \"khozestan\": \"Khuzestan\",\n",
    "    \"isfahan\": \"Isfahan\",\n",
    "    \"azar gharbi\": \"West Azerbaijan\",\n",
    "    \"kurdestan\": \"Kurdistan\",\n",
    "    \"hormozgan\": \"Hormozgan\",\n",
    "    \"semnan\": \"Semnan\",\n",
    "    \"fars\": \"Fars\",\n",
    "    \"golestan\": \"Golestan\",\n",
    "    \"alborz\": \"Alborz\",\n",
    "    \"kerman\": \"Kerman\",\n",
    "    \"yazd\": \"Yazd\",\n",
    "    \"arak\": \"Markazi\",\n",
    "    \"hamedan\": \"Hamedan\",\n",
    "    \"behbahan\": \"Khuzestan\",\n",
    "    \"boshehr\": \"Bushehr\",\n",
    "    \"saveh\": \"Markazi\",\n",
    "    \"rafsanjan\": \"Kerman\",\n",
    "    \"shahidbeheshti\": \"Tehran\",\n",
    "    \"tabriz\": \"East Azerbaijan\",\n",
    "    \"esfarayen\": \"North Khorasan\",\n",
    "    \"tehran\": \"Tehran\",\n",
    "    \"iran\": \"Tehran\",\n",
    "    \"sistan\": \"Sistan and Baluchestan\",\n",
    "    \"dezful\": \"Khuzestan\",\n",
    "    \"kerman.jiroft\": \"Kerman\",\n",
    "    \"fasad\": \"Fars\",\n",
    "    \"shoshtar\": \"Khuzestan\",\n",
    "    \"sabzevar\": \"Khorasan Razavi\",\n",
    "    \"torbat heidariyeh\": \"Khorasan Razavi\",\n",
    "    \"zabol\": \"Sistan and Baluchestan\",\n",
    "    \"babol\": \"Mazandaran\",\n",
    "    \"bam\": \"Kerman\",\n",
    "    \"neishabor\": \"Khorasan Razavi\",\n",
    "    \"larestan\": \"Fars\",\n",
    "    \"torbat jam\": \"Khorasan Razavi\",\n",
    "    \"kashan\": \"Isfahan\",\n",
    "    \"jahrom\": \"Fars\",\n",
    "    \"\":  np.nan  # Empty entry\n",
    "    }\n",
    "}\n"
   ]
  },
  {
   "cell_type": "code",
   "execution_count": 10,
   "metadata": {},
   "outputs": [],
   "source": [
    "university_to_province = provinces_mapping.get('caspian4')\n",
    "processed_dfs['caspian_IV_ghorbani']['province'] = processed_dfs['caspian_IV_ghorbani']['province'].replace(university_to_province)"
   ]
  },
  {
   "cell_type": "code",
   "execution_count": 11,
   "metadata": {},
   "outputs": [],
   "source": [
    "university_to_province = provinces_mapping.get('caspian5')\n",
    "processed_dfs['caspian_V_ghorbani']['province'] = processed_dfs['caspian_V_ghorbani']['university'].replace(university_to_province)"
   ]
  },
  {
   "cell_type": "code",
   "execution_count": 56,
   "metadata": {},
   "outputs": [
    {
     "data": {
      "text/plain": [
       "array(['Khorasan Razavi', 'Sistan and Baluchestan', 'Ilam',\n",
       "       'North Khorasan', 'Chaharmahal and Bakhtiari', 'Kermanshah',\n",
       "       'Gilan', 'Mazandaran', 'Semnan', 'Lorestan', 'Qazvin', 'Khuzestan',\n",
       "       'Ardabil', 'Zanjan', 'Kohgiluyeh and Boyer-Ahmad',\n",
       "       'South Khorasan', 'Isfahan', 'West Azerbaijan', 'Kurdistan',\n",
       "       'Hormozgan', 'Fars', 'Golestan', 'Alborz', 'Kerman', 'Yazd',\n",
       "       'Markazi', 'Hamedan', 'Bushehr', 'Tehran', 'East Azerbaijan'],\n",
       "      dtype=object)"
      ]
     },
     "execution_count": 56,
     "metadata": {},
     "output_type": "execute_result"
    }
   ],
   "source": [
    "processed_dfs['caspian_V_ghorbani'].province.unique()"
   ]
  },
  {
   "cell_type": "code",
   "execution_count": 12,
   "metadata": {},
   "outputs": [],
   "source": [
    "education_mapping = {\n",
    "    \"ebtedaei\": \"primary\",\n",
    "    \"bisavad\": \"illiterate\",\n",
    "    \"rahnamaei\": \"intermediate\",\n",
    "    \"balaye lisans\": \"upper than bachelor\",\n",
    "    \"diplom\": \"diplome\",\n",
    "    \"lisans\": \"bachelor\",\n",
    "    \"\": \"\",  # Empty entry remains empty\n",
    "    \"savad qorani\": \"quranic literacy\"\n",
    "    \n",
    "}"
   ]
  },
  {
   "cell_type": "code",
   "execution_count": 13,
   "metadata": {},
   "outputs": [],
   "source": [
    "processed_dfs['caspian_IV_ghorbani']['fathereducation6halati'] = processed_dfs['caspian_IV_ghorbani']['fathereducation6halati'].apply(lambda x: education_mapping.get(x, ''))\n",
    "processed_dfs['caspian_IV_ghorbani']['mothereducation6halati'] = processed_dfs['caspian_IV_ghorbani']['mothereducation6halati'].apply(lambda x: education_mapping.get(x, ''))\n"
   ]
  },
  {
   "cell_type": "code",
   "execution_count": 26,
   "metadata": {},
   "outputs": [],
   "source": [
    "df1 = processed_dfs['caspian_IV_ghorbani']\n",
    "df2 = processed_dfs['caspian_V_ghorbani']"
   ]
  },
  {
   "cell_type": "code",
   "execution_count": 35,
   "metadata": {},
   "outputs": [
    {
     "name": "stdout",
     "output_type": "stream",
     "text": [
      "<class 'pandas.core.frame.DataFrame'>\n",
      "Index: 13089 entries, 0 to 13536\n",
      "Columns: 343 entries, source to bmi1\n",
      "dtypes: float64(54), object(289)\n",
      "memory usage: 34.4+ MB\n",
      "None\n"
     ]
    }
   ],
   "source": [
    "\n",
    "#  feature columns to match on\n",
    "matching_features = ['province','region','age','height','weight','birth_ye']\n",
    "# Merge the datasets on matching features\n",
    "merged_df = pd.merge(df1, df2, on=matching_features, suffixes=('_df1', '_df2'))\n",
    "\n",
    "# Group by 'id2' from df2 and collect 'id2' values from df1\n",
    "result = merged_df.groupby('id2_df2')['id2_df1'].apply(list).reset_index()\n",
    "\n",
    "# Rename columns for clarity\n",
    "result.columns = ['record_id2_df2', 'records_id2_df1']\n",
    "\n",
    "\n",
    "# Step 1: Flatten the list of `id2` values from `records_id2_df1`\n",
    "id2_to_remove = set([item for sublist in result['records_id2_df1'] for item in sublist])\n",
    "\n",
    "# Step 2: Filter `caspian_IV` to exclude these `id2` values\n",
    "df_filtered = df1[~df1['id2'].isin(id2_to_remove)]\n",
    "\n",
    "# Display the filtered DataFrame\n",
    "print(df_filtered.info())\n",
    "\n",
    "\n",
    "\n"
   ]
  },
  {
   "cell_type": "code",
   "execution_count": 36,
   "metadata": {},
   "outputs": [
    {
     "data": {
      "text/plain": [
       "0"
      ]
     },
     "execution_count": 36,
     "metadata": {},
     "output_type": "execute_result"
    }
   ],
   "source": [
    "len(id2_to_remove)"
   ]
  },
  {
   "cell_type": "code",
   "execution_count": null,
   "metadata": {},
   "outputs": [
    {
     "data": {
      "text/plain": [
       "['province',\n",
       " 'age',\n",
       " 'height',\n",
       " 'region',\n",
       " 'fathereducation6halati',\n",
       " 'mothereducation6halati']"
      ]
     },
     "execution_count": 77,
     "metadata": {},
     "output_type": "execute_result"
    }
   ],
   "source": [
    "common_cols = ['province','age','height','region','fathereducation6halati','mothereducation6halati','birth_ye']\n",
    "common_cols"
   ]
  },
  {
   "cell_type": "code",
   "execution_count": null,
   "metadata": {},
   "outputs": [],
   "source": [
    "\n",
    "# Step 2: Iterate and compare\n",
    "results = []\n",
    "\n",
    "for i, row1 in df1.iterrows():\n",
    "    # Select the relevant columns for comparison\n",
    "    row1_values = row1[common_cols]\n",
    "    for j, row2 in df2.iterrows():\n",
    "        row2_values = row2[common_cols]\n",
    "        # Compare row1 values with row2 values\n",
    "        is_equal = row1_values.equals(row2_values)\n",
    "        results.append({\n",
    "            'df1_row': row1['id2'],  # Use id1 from df1\n",
    "            'df2_row': row2['id2'],  # Use id2 from df2\n",
    "            'is_equal': is_equal\n",
    "        })\n",
    "# Convert results to a DataFrame for easier analysis\n",
    "comparison_df = pd.DataFrame(results)\n",
    "print(comparison_df)"
   ]
  },
  {
   "cell_type": "code",
   "execution_count": null,
   "metadata": {},
   "outputs": [
    {
     "data": {
      "image/png": "[encoded data removed]",
      "text/plain": [
       "<Figure size 1200x600 with 1 Axes>"
      ]
     },
     "metadata": {},
     "output_type": "display_data"
    },
    {
     "data": {
      "image/png": "[encoded data removed]",
      "text/plain": [
       "<Figure size 1200x600 with 1 Axes>"
      ]
     },
     "metadata": {},
     "output_type": "display_data"
    }
   ],
   "source": [
    "import numpy as np\n",
    "import pandas as pd\n",
    "import matplotlib.pyplot as plt\n",
    "from statsmodels.nonparametric.smoothers_lowess import lowess\n",
    "import itertools\n",
    "\n",
    "# List of markers to cycle through\n",
    "markers = ['o', 's', 'D', '^', 'v', 'p', '*', 'H', '+', 'x']  # Add more markers if needed\n",
    "\n",
    "# Initialize a dictionary to store median (50th percentile) data for each dataset\n",
    "median_data = {}\n",
    "frac = 0.3\n",
    "feature = 'height'  # Change this to 'weight' or 'bmi1' if needed\n",
    "percentile = 50  # 50th percentile\n",
    "\n",
    "# Loop through each dataset in processed_dfs\n",
    "for df_name, df in processed_dfs.items():\n",
    "    \n",
    "    median_values = []\n",
    "    ages = sorted(df['age'].unique())\n",
    "    sexes = df['sex'].unique()\n",
    "    \n",
    "    for sex in sexes:\n",
    "        sex_median_values = []\n",
    "        if sex == '':  # Skip if sex is an empty string\n",
    "            continue\n",
    "        \n",
    "        for age in ages:\n",
    "            feature_data = df[(df['age'] == age) & (df['sex'] == sex)][feature]\n",
    "            \n",
    "\n",
    "            # Convert to numeric, coercing errors to NaN\n",
    "            feature_data = pd.to_numeric(feature_data, errors='coerce').dropna()  # Remove NaN values\n",
    "\n",
    "            # Check if there's enough data\n",
    "            if feature_data.size == 0:\n",
    "                print(f\"No valid data for sex: {sex}, age: {age} in {df_name}. Skipping...\")\n",
    "                sex_median_values.append(np.nan)\n",
    "                print(df_name)\n",
    "                continue\n",
    "\n",
    "            # Calculate the median and MAD for outlier removal\n",
    "            median = np.median(feature_data)\n",
    "            mad = np.median(np.abs(feature_data - median))\n",
    "            modified_z_scores = 0.6745 * (feature_data - median) / mad\n",
    "            feature_no_outliers = feature_data[np.abs(modified_z_scores) <= 3.5]\n",
    "\n",
    "            # Calculate the 50th percentile (median) for cleaned data\n",
    "            median_value = np.percentile(feature_no_outliers, percentile)\n",
    "            sex_median_values.append(median_value)\n",
    "        \n",
    "        median_values.append((ages, sex_median_values, sex))\n",
    "\n",
    "    median_data[df_name] = median_values\n",
    "\n",
    "# Plot the 50th percentile (median) data for boys and girls on separate charts\n",
    "for sex in ['boy', 'girl']:\n",
    "    fig, ax = plt.subplots(figsize=(12, 6))\n",
    "    marker_cycle = itertools.cycle(markers)  # Cycle through the marker list\n",
    "\n",
    "    for df_name, median_values in median_data.items():\n",
    "        for ages, sex_median_values, gender in median_values:\n",
    "            if gender == sex:\n",
    "                # Smooth the data\n",
    "                smoothed_data = lowess(sex_median_values, ages, frac=frac, missing='drop')\n",
    "                marker = next(marker_cycle)  # Get a unique marker for each dataset\n",
    "                \n",
    "                # Plot smoothed median for each dataset with unique marker\n",
    "                ax.plot(smoothed_data[:, 0], smoothed_data[:, 1], linestyle='--', marker=marker, label=f'{df_name} - {gender}')\n",
    "\n",
    "    # Title and labels\n",
    "    ax.set_title(f'50th Percentile (Median) of {feature.capitalize()} by Age across Datasets - {sex}s')\n",
    "    ax.set_xlabel('Age')\n",
    "    ax.set_ylabel(f'{feature.capitalize()}')\n",
    "    ax.legend()\n",
    "    plt.grid()\n",
    "    plt.xticks(ages)\n",
    "    plt.savefig(f'chart-caspians/combined_50th_percentile_{sex}.png')  # Save the plot for each gender\n",
    "    plt.show()\n"
   ]
  },
  {
   "cell_type": "code",
   "execution_count": 29,
   "metadata": {},
   "outputs": [],
   "source": [
    "output_file = 'intersection_data-ghorbani_4&5.xlsx'\n",
    "with pd.ExcelWriter(output_file) as writer:\n",
    "    result.to_excel(writer, index=False, sheet_name='ID2 Intersections')"
   ]
  },
  {
   "cell_type": "code",
   "execution_count": 32,
   "metadata": {},
   "outputs": [
    {
     "data": {
      "text/html": [
       "<div>\n",
       "<style scoped>\n",
       "    .dataframe tbody tr th:only-of-type {\n",
       "        vertical-align: middle;\n",
       "    }\n",
       "\n",
       "    .dataframe tbody tr th {\n",
       "        vertical-align: top;\n",
       "    }\n",
       "\n",
       "    .dataframe thead th {\n",
       "        text-align: right;\n",
       "    }\n",
       "</style>\n",
       "<table border=\"1\" class=\"dataframe\">\n",
       "  <thead>\n",
       "    <tr style=\"text-align: right;\">\n",
       "      <th></th>\n",
       "      <th>birth_ye</th>\n",
       "      <th>height</th>\n",
       "      <th>weight</th>\n",
       "      <th>hip</th>\n",
       "      <th>fathereducation6halati</th>\n",
       "      <th>mothereducation6halati</th>\n",
       "    </tr>\n",
       "  </thead>\n",
       "  <tbody>\n",
       "    <tr>\n",
       "      <th>6739</th>\n",
       "      <td>83.0</td>\n",
       "      <td>137.0</td>\n",
       "      <td>28.0</td>\n",
       "      <td>73.0</td>\n",
       "      <td>primary</td>\n",
       "      <td>primary</td>\n",
       "    </tr>\n",
       "  </tbody>\n",
       "</table>\n",
       "</div>"
      ],
      "text/plain": [
       "      birth_ye  height  weight   hip fathereducation6halati  \\\n",
       "6739      83.0   137.0    28.0  73.0                primary   \n",
       "\n",
       "     mothereducation6halati  \n",
       "6739                primary  "
      ]
     },
     "execution_count": 32,
     "metadata": {},
     "output_type": "execute_result"
    }
   ],
   "source": [
    "sampledf2 = df2[df2['id2']== 1103118306][['birth_ye','height','weight','hip','fathereducation6halati','mothereducation6halati']]\n",
    "sampledf2"
   ]
  },
  {
   "cell_type": "code",
   "execution_count": 57,
   "metadata": {},
   "outputs": [
    {
     "data": {
      "text/html": [
       "<div>\n",
       "<style scoped>\n",
       "    .dataframe tbody tr th:only-of-type {\n",
       "        vertical-align: middle;\n",
       "    }\n",
       "\n",
       "    .dataframe tbody tr th {\n",
       "        vertical-align: top;\n",
       "    }\n",
       "\n",
       "    .dataframe thead th {\n",
       "        text-align: right;\n",
       "    }\n",
       "</style>\n",
       "<table border=\"1\" class=\"dataframe\">\n",
       "  <thead>\n",
       "    <tr style=\"text-align: right;\">\n",
       "      <th></th>\n",
       "      <th>sex</th>\n",
       "      <th>province</th>\n",
       "      <th>region</th>\n",
       "      <th>birth_ye</th>\n",
       "      <th>height</th>\n",
       "      <th>weight</th>\n",
       "      <th>hip</th>\n",
       "      <th>fathereducation6halati</th>\n",
       "      <th>mothereducation6halati</th>\n",
       "      <th>fatherjob</th>\n",
       "    </tr>\n",
       "  </thead>\n",
       "  <tbody>\n",
       "    <tr>\n",
       "      <th>3550</th>\n",
       "      <td>girl</td>\n",
       "      <td>Lorestan</td>\n",
       "      <td>urban</td>\n",
       "      <td>83</td>\n",
       "      <td>121</td>\n",
       "      <td>24</td>\n",
       "      <td>72</td>\n",
       "      <td>intermediate</td>\n",
       "      <td>intermediate</td>\n",
       "      <td>worker/employee</td>\n",
       "    </tr>\n",
       "    <tr>\n",
       "      <th>13502</th>\n",
       "      <td>girl</td>\n",
       "      <td>Lorestan</td>\n",
       "      <td>urban</td>\n",
       "      <td>83</td>\n",
       "      <td>87</td>\n",
       "      <td>25</td>\n",
       "      <td>28</td>\n",
       "      <td>diplome</td>\n",
       "      <td>diplome</td>\n",
       "      <td>worker/employee</td>\n",
       "    </tr>\n",
       "  </tbody>\n",
       "</table>\n",
       "</div>"
      ],
      "text/plain": [
       "        sex  province region  birth_ye  height  weight  hip  \\\n",
       "3550   girl  Lorestan  urban        83     121      24   72   \n",
       "13502  girl  Lorestan  urban        83      87      25   28   \n",
       "\n",
       "      fathereducation6halati mothereducation6halati        fatherjob  \n",
       "3550            intermediate           intermediate  worker/employee  \n",
       "13502                diplome                diplome  worker/employee  "
      ]
     },
     "execution_count": 57,
     "metadata": {},
     "output_type": "execute_result"
    }
   ],
   "source": [
    "sampledf1 = df1[df1['id2']== 39115128309][['sex','province','region','birth_ye','height','weight','hip','fathereducation6halati','mothereducation6halati','fatherjob']]\n",
    "sampledf1"
   ]
  },
  {
   "cell_type": "code",
   "execution_count": 49,
   "metadata": {},
   "outputs": [
    {
     "data": {
      "text/plain": [
       "id2\n",
       "39217118405    2\n",
       "3128227807     2\n",
       "39115128309    2\n",
       "38205118204    2\n",
       "39217128309    2\n",
       "              ..\n",
       "42121118106    1\n",
       "29111117904    1\n",
       "44119128202    1\n",
       "31109118206    1\n",
       "2127227808     1\n",
       "Name: count, Length: 13072, dtype: int64"
      ]
     },
     "execution_count": 49,
     "metadata": {},
     "output_type": "execute_result"
    }
   ],
   "source": [
    "pd.set_option('display.float_format', '{:.0f}'.format)\n",
    "df1.id2.value_counts()"
   ]
  }
 ],
 "metadata": {
  "kernelspec": {
   "display_name": "CASPIAN_env",
   "language": "python",
   "name": "python3"
  },
  "language_info": {
   "codemirror_mode": {
    "name": "ipython",
    "version": 3
   },
   "file_extension": ".py",
   "mimetype": "text/x-python",
   "name": "python",
   "nbconvert_exporter": "python",
   "pygments_lexer": "ipython3",
   "version": "3.10.12"
  }
 },
 "nbformat": 4,
 "nbformat_minor": 2
}

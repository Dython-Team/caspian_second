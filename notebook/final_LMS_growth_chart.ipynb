{
 "cells": [
  {
   "cell_type": "code",
   "execution_count": 2,
   "metadata": {},
   "outputs": [],
   "source": [
    "import os\n",
    "import pandas as pd\n",
    "import matplotlib.pyplot as plt\n",
    "import numpy as np\n",
    "import seaborn as sns\n",
    "import statsmodels.api as sm\n",
    "from scipy.interpolate import interp1d\n",
    "import matplotlib.pyplot as plt\n",
    "from matplotlib import cm\n",
    "from scipy.stats import skew\n",
    "from statsmodels.nonparametric.smoothers_lowess import lowess"
   ]
  },
  {
   "cell_type": "code",
   "execution_count": 5,
   "metadata": {},
   "outputs": [],
   "source": [
    "df_1 = pd.read_spss('../final_data/caspian1 data.sav',convert_categoricals=True)\n",
    "df_3 = pd.read_spss('../final_data/CASPIAN III.sav',convert_categoricals=True)\n",
    "df_4 = pd.read_spss('../final_data/caspian4-ghorbani.sav',convert_categoricals=True)\n",
    "df_5 = pd.read_spss('../final_data/caspian5-ghorbani.sav',convert_categoricals=True)\n"
   ]
  },
  {
   "cell_type": "code",
   "execution_count": 6,
   "metadata": {},
   "outputs": [],
   "source": [
    "def rename_features(df1,caspian_number):\n",
    "    df2 = df1.copy()\n",
    "    if caspian_number==1:\n",
    "        df2.rename(columns={'univer': 'university','district':'region', 'schoolty':'schoolType'}, inplace=True)    \n",
    "    elif caspian_number==3:\n",
    "        df2.rename(columns={'area':'region', 'heighte':'height','weighte':'weight'}, inplace=True)    \n",
    "    elif caspian_number==4:\n",
    "        df2.rename(columns={'weight_1': 'weight', 'height_2': 'height', 'universi': 'university','waist_3':'waist','hip_4':'hip','wrist_5':'wrist'}, inplace=True)        \n",
    "    elif caspian_number==5:\n",
    "        df2.rename(columns={'weight_1': 'weight', 'height_2': 'height', 'universi': 'university','ap_9':'schoolType','waist_3':'waist','wrist4':'wrist'}, inplace=True)\n",
    "\n",
    "\n",
    "    return df2"
   ]
  },
  {
   "cell_type": "code",
   "execution_count": 7,
   "metadata": {},
   "outputs": [],
   "source": [
    "df_1=rename_features(df_1,1)\n",
    "df_3=rename_features(df_3,3)\n",
    "df_4=rename_features(df_4,4)\n",
    "df_5=rename_features(df_5,5)\n",
    "#add hip column to caspain 3\n",
    "df_3['hip'] = np.nan"
   ]
  },
  {
   "cell_type": "code",
   "execution_count": 8,
   "metadata": {},
   "outputs": [],
   "source": [
    "df_1['sex'] = df_1['sex'].apply(lambda x: 'Girl' if x == 'Female' else 'Boy' if x == 'Male' else x)\n",
    "df_3['sex'] = df_3['sex'].apply(lambda x: 'Girl' if x == 'male' else 'Boy' if x == 'female' else x)\n",
    "df_4['sex'] = df_4['sex'].apply(lambda x: 'Girl' if x == 'girl' else 'Boy' if x == 'boy' else x)\n",
    "df_5['sex'] = df_5['sex'].apply(lambda x: 'Girl' if x == 'girl' else 'Boy' if x == 'boy' else x)\n",
    "\n"
   ]
  },
  {
   "cell_type": "code",
   "execution_count": 9,
   "metadata": {},
   "outputs": [
    {
     "name": "stdout",
     "output_type": "stream",
     "text": [
      "Number of records with NaN value in sex in casp1: 1\n",
      "Number of records with NaN value in sex in casp3: 0\n",
      "Number of records with NaN value in sex in casp4: 0\n",
      "Number of records with NaN value in sex in casp5: 0\n"
     ]
    }
   ],
   "source": [
    "def preprocess(dataframes_dict):\n",
    "    processed_dfs = {}  # Dictionary to store processed DataFrames\n",
    "    for name, df_org in dataframes_dict.items():\n",
    "        df = df_org.copy()\n",
    "\n",
    "        # Filter age\n",
    "        df = df[(df[\"age\"] >= 7) & (df[\"age\"] <= 18)]\n",
    "        # please change the type of heught_1 and weight_1 in caspian4 to numeric if you can't do it directly uncomment two line below\n",
    "        df['height'] = pd.to_numeric(df['height'], errors='coerce')\n",
    "        df['weight'] = pd.to_numeric(df['weight'], errors='coerce')\n",
    "        df[\"bmi1\"] = df[\"weight\"] / ((df[\"height\"] / 100) ** 2)\n",
    "        \n",
    "        # Remove null tuples\n",
    "        records_with_nulls = df[\n",
    "            df[[\"sex\"]].isna().any(axis=1)\n",
    "        ]\n",
    "        df = df.dropna(subset=[\"sex\"])\n",
    "        print(\n",
    "            f\"Number of records with NaN value in sex in {name}: {len(records_with_nulls)}\"\n",
    "        )\n",
    "\n",
    "        # Store the processed DataFrame in the new dictionary\n",
    "        processed_dfs[name] = df\n",
    "\n",
    "    return processed_dfs\n",
    "\n",
    "df_dict = {'casp1' :df_1 ,'casp3': df_3, 'casp4': df_4,'casp5':df_5}\n",
    "processed_dfs = preprocess(df_dict)\n"
   ]
  },
  {
   "cell_type": "code",
   "execution_count": 10,
   "metadata": {},
   "outputs": [],
   "source": [
    "def calculate_z_score(value, L, M, S):\n",
    "    \"\"\"\n",
    "    Calculate the z-score using the LMS method.\n",
    "\n",
    "    Parameters:\n",
    "    - value: Observed value (e.g., height, weight, BMI).\n",
    "    - L: Lambda (skewness parameter).\n",
    "    - M: Mu (median or central tendency).\n",
    "    - S: Sigma (coefficient of variation).\n",
    "\n",
    "    Returns:\n",
    "    - z_score: Standardized z-score.\n",
    "    \"\"\"\n",
    "    if L == 0:\n",
    "        z_score = (value / M - 1) / S\n",
    "    else:\n",
    "        z_score = (np.power(value / M, L) - 1) / (L * S)\n",
    "    return z_score\n",
    "\n",
    "def apply_z_score(group, params,feature):\n",
    "    # Merge params (Lambda, Median, Sigma) with the group\n",
    "    group = group.merge(params, on='sex', how='left')\n",
    "    \n",
    "    # Apply the z-score calculation row-wise within each group\n",
    "    group['Z-Score'] = group.apply(\n",
    "        lambda row: calculate_z_score(row[f'{feature}'], L=row['Lambda'], M=row['Median'], S=row['Sigma']), axis=1\n",
    "    )\n",
    "    return group\n",
    "\n",
    "def calculate_params(group, feature):\n",
    "    # Calculate Median (M)\n",
    "    M = group[f'{feature}'].median()\n",
    "\n",
    "    # Calculate Lambda (L) - Skewness\n",
    "    L = skew(group[f'{feature}'])\n",
    "\n",
    "    # Calculate Sigma (S) - Coefficient of Variation (std / mean)\n",
    "    mean = group[f'{feature}'].mean()\n",
    "    std_dev = group[f'{feature}'].std()\n",
    "    S = std_dev / mean if mean != 0 else None  # Avoid division by zero\n",
    "\n",
    "    return pd.Series({'Lambda': L, 'Median': M, 'Sigma': S})"
   ]
  },
  {
   "cell_type": "code",
   "execution_count": 12,
   "metadata": {},
   "outputs": [
    {
     "name": "stderr",
     "output_type": "stream",
     "text": [
      "/tmp/ipykernel_46195/1811425634.py:3: FutureWarning: The default of observed=False is deprecated and will be changed to True in a future version of pandas. Pass observed=False to retain current behavior or observed=True to adopt the future default and silence this warning.\n",
      "  grouped = df_org.groupby(['age', 'sex'])\n",
      "/tmp/ipykernel_46195/1811425634.py:14: DeprecationWarning: DataFrameGroupBy.apply operated on the grouping columns. This behavior is deprecated, and in a future version of pandas the grouping columns will be excluded from the operation. Either pass `include_groups=False` to exclude the groupings or explicitly select the grouping columns after groupby to silence this warning.\n",
      "  params = grouped.apply(lambda group: calculate_params(group, feature=feature)).reset_index()\n",
      "/tmp/ipykernel_46195/1811425634.py:15: DeprecationWarning: DataFrameGroupBy.apply operated on the grouping columns. This behavior is deprecated, and in a future version of pandas the grouping columns will be excluded from the operation. Either pass `include_groups=False` to exclude the groupings or explicitly select the grouping columns after groupby to silence this warning.\n",
      "  grouped_with_z_score = grouped.apply(lambda group: apply_z_score(group, params,feature))\n"
     ]
    },
    {
     "name": "stdout",
     "output_type": "stream",
     "text": [
      "casp1 height\n",
      "sure 0\n",
      "sure 0\n"
     ]
    },
    {
     "name": "stderr",
     "output_type": "stream",
     "text": [
      "/tmp/ipykernel_46195/1811425634.py:14: DeprecationWarning: DataFrameGroupBy.apply operated on the grouping columns. This behavior is deprecated, and in a future version of pandas the grouping columns will be excluded from the operation. Either pass `include_groups=False` to exclude the groupings or explicitly select the grouping columns after groupby to silence this warning.\n",
      "  params = grouped.apply(lambda group: calculate_params(group, feature=feature)).reset_index()\n",
      "/tmp/ipykernel_46195/1811425634.py:15: DeprecationWarning: DataFrameGroupBy.apply operated on the grouping columns. This behavior is deprecated, and in a future version of pandas the grouping columns will be excluded from the operation. Either pass `include_groups=False` to exclude the groupings or explicitly select the grouping columns after groupby to silence this warning.\n",
      "  grouped_with_z_score = grouped.apply(lambda group: apply_z_score(group, params,feature))\n"
     ]
    },
    {
     "name": "stdout",
     "output_type": "stream",
     "text": [
      "casp1 weight\n",
      "sure 0\n",
      "sure 0\n"
     ]
    },
    {
     "name": "stderr",
     "output_type": "stream",
     "text": [
      "/tmp/ipykernel_46195/1811425634.py:14: DeprecationWarning: DataFrameGroupBy.apply operated on the grouping columns. This behavior is deprecated, and in a future version of pandas the grouping columns will be excluded from the operation. Either pass `include_groups=False` to exclude the groupings or explicitly select the grouping columns after groupby to silence this warning.\n",
      "  params = grouped.apply(lambda group: calculate_params(group, feature=feature)).reset_index()\n",
      "/tmp/ipykernel_46195/1811425634.py:15: DeprecationWarning: DataFrameGroupBy.apply operated on the grouping columns. This behavior is deprecated, and in a future version of pandas the grouping columns will be excluded from the operation. Either pass `include_groups=False` to exclude the groupings or explicitly select the grouping columns after groupby to silence this warning.\n",
      "  grouped_with_z_score = grouped.apply(lambda group: apply_z_score(group, params,feature))\n"
     ]
    },
    {
     "name": "stdout",
     "output_type": "stream",
     "text": [
      "casp1 waist\n",
      "sure 0\n",
      "sure 0\n"
     ]
    },
    {
     "name": "stderr",
     "output_type": "stream",
     "text": [
      "/tmp/ipykernel_46195/1811425634.py:14: DeprecationWarning: DataFrameGroupBy.apply operated on the grouping columns. This behavior is deprecated, and in a future version of pandas the grouping columns will be excluded from the operation. Either pass `include_groups=False` to exclude the groupings or explicitly select the grouping columns after groupby to silence this warning.\n",
      "  params = grouped.apply(lambda group: calculate_params(group, feature=feature)).reset_index()\n",
      "/tmp/ipykernel_46195/1811425634.py:15: DeprecationWarning: DataFrameGroupBy.apply operated on the grouping columns. This behavior is deprecated, and in a future version of pandas the grouping columns will be excluded from the operation. Either pass `include_groups=False` to exclude the groupings or explicitly select the grouping columns after groupby to silence this warning.\n",
      "  grouped_with_z_score = grouped.apply(lambda group: apply_z_score(group, params,feature))\n"
     ]
    },
    {
     "name": "stdout",
     "output_type": "stream",
     "text": [
      "casp1 hip\n",
      "sure 0\n",
      "sure 0\n"
     ]
    },
    {
     "name": "stderr",
     "output_type": "stream",
     "text": [
      "/tmp/ipykernel_46195/1811425634.py:14: DeprecationWarning: DataFrameGroupBy.apply operated on the grouping columns. This behavior is deprecated, and in a future version of pandas the grouping columns will be excluded from the operation. Either pass `include_groups=False` to exclude the groupings or explicitly select the grouping columns after groupby to silence this warning.\n",
      "  params = grouped.apply(lambda group: calculate_params(group, feature=feature)).reset_index()\n",
      "/tmp/ipykernel_46195/1811425634.py:15: DeprecationWarning: DataFrameGroupBy.apply operated on the grouping columns. This behavior is deprecated, and in a future version of pandas the grouping columns will be excluded from the operation. Either pass `include_groups=False` to exclude the groupings or explicitly select the grouping columns after groupby to silence this warning.\n",
      "  grouped_with_z_score = grouped.apply(lambda group: apply_z_score(group, params,feature))\n"
     ]
    },
    {
     "name": "stdout",
     "output_type": "stream",
     "text": [
      "casp1 bmi1\n",
      "sure 0\n",
      "sure 0\n"
     ]
    },
    {
     "name": "stderr",
     "output_type": "stream",
     "text": [
      "/tmp/ipykernel_46195/1811425634.py:3: FutureWarning: The default of observed=False is deprecated and will be changed to True in a future version of pandas. Pass observed=False to retain current behavior or observed=True to adopt the future default and silence this warning.\n",
      "  grouped = df_org.groupby(['age', 'sex'])\n",
      "/tmp/ipykernel_46195/1811425634.py:14: DeprecationWarning: DataFrameGroupBy.apply operated on the grouping columns. This behavior is deprecated, and in a future version of pandas the grouping columns will be excluded from the operation. Either pass `include_groups=False` to exclude the groupings or explicitly select the grouping columns after groupby to silence this warning.\n",
      "  params = grouped.apply(lambda group: calculate_params(group, feature=feature)).reset_index()\n",
      "/tmp/ipykernel_46195/1811425634.py:15: DeprecationWarning: DataFrameGroupBy.apply operated on the grouping columns. This behavior is deprecated, and in a future version of pandas the grouping columns will be excluded from the operation. Either pass `include_groups=False` to exclude the groupings or explicitly select the grouping columns after groupby to silence this warning.\n",
      "  grouped_with_z_score = grouped.apply(lambda group: apply_z_score(group, params,feature))\n"
     ]
    },
    {
     "name": "stdout",
     "output_type": "stream",
     "text": [
      "casp3 height\n",
      "sure 0\n",
      "sure 0\n"
     ]
    },
    {
     "name": "stderr",
     "output_type": "stream",
     "text": [
      "/tmp/ipykernel_46195/1811425634.py:14: DeprecationWarning: DataFrameGroupBy.apply operated on the grouping columns. This behavior is deprecated, and in a future version of pandas the grouping columns will be excluded from the operation. Either pass `include_groups=False` to exclude the groupings or explicitly select the grouping columns after groupby to silence this warning.\n",
      "  params = grouped.apply(lambda group: calculate_params(group, feature=feature)).reset_index()\n",
      "/tmp/ipykernel_46195/1811425634.py:15: DeprecationWarning: DataFrameGroupBy.apply operated on the grouping columns. This behavior is deprecated, and in a future version of pandas the grouping columns will be excluded from the operation. Either pass `include_groups=False` to exclude the groupings or explicitly select the grouping columns after groupby to silence this warning.\n",
      "  grouped_with_z_score = grouped.apply(lambda group: apply_z_score(group, params,feature))\n"
     ]
    },
    {
     "name": "stdout",
     "output_type": "stream",
     "text": [
      "casp3 weight\n",
      "sure 0\n",
      "sure 0\n"
     ]
    },
    {
     "name": "stderr",
     "output_type": "stream",
     "text": [
      "/tmp/ipykernel_46195/1811425634.py:14: DeprecationWarning: DataFrameGroupBy.apply operated on the grouping columns. This behavior is deprecated, and in a future version of pandas the grouping columns will be excluded from the operation. Either pass `include_groups=False` to exclude the groupings or explicitly select the grouping columns after groupby to silence this warning.\n",
      "  params = grouped.apply(lambda group: calculate_params(group, feature=feature)).reset_index()\n",
      "/tmp/ipykernel_46195/1811425634.py:15: DeprecationWarning: DataFrameGroupBy.apply operated on the grouping columns. This behavior is deprecated, and in a future version of pandas the grouping columns will be excluded from the operation. Either pass `include_groups=False` to exclude the groupings or explicitly select the grouping columns after groupby to silence this warning.\n",
      "  grouped_with_z_score = grouped.apply(lambda group: apply_z_score(group, params,feature))\n"
     ]
    },
    {
     "name": "stdout",
     "output_type": "stream",
     "text": [
      "casp3 waist\n",
      "sure 0\n",
      "sure 0\n"
     ]
    },
    {
     "name": "stderr",
     "output_type": "stream",
     "text": [
      "/home/atefe_hjn97/Documents/VScode/caspian_second/CASPIAN_env/lib/python3.10/site-packages/numpy/lib/_nanfunctions_impl.py:1231: RuntimeWarning: Mean of empty slice\n",
      "  return np.nanmean(a, axis, out=out, keepdims=keepdims)\n",
      "/home/atefe_hjn97/Documents/VScode/caspian_second/CASPIAN_env/lib/python3.10/site-packages/numpy/lib/_nanfunctions_impl.py:1231: RuntimeWarning: Mean of empty slice\n",
      "  return np.nanmean(a, axis, out=out, keepdims=keepdims)\n",
      "/home/atefe_hjn97/Documents/VScode/caspian_second/CASPIAN_env/lib/python3.10/site-packages/numpy/lib/_nanfunctions_impl.py:1231: RuntimeWarning: Mean of empty slice\n",
      "  return np.nanmean(a, axis, out=out, keepdims=keepdims)\n",
      "/home/atefe_hjn97/Documents/VScode/caspian_second/CASPIAN_env/lib/python3.10/site-packages/numpy/lib/_nanfunctions_impl.py:1231: RuntimeWarning: Mean of empty slice\n",
      "  return np.nanmean(a, axis, out=out, keepdims=keepdims)\n",
      "/home/atefe_hjn97/Documents/VScode/caspian_second/CASPIAN_env/lib/python3.10/site-packages/numpy/lib/_nanfunctions_impl.py:1231: RuntimeWarning: Mean of empty slice\n",
      "  return np.nanmean(a, axis, out=out, keepdims=keepdims)\n",
      "/home/atefe_hjn97/Documents/VScode/caspian_second/CASPIAN_env/lib/python3.10/site-packages/numpy/lib/_nanfunctions_impl.py:1231: RuntimeWarning: Mean of empty slice\n",
      "  return np.nanmean(a, axis, out=out, keepdims=keepdims)\n",
      "/home/atefe_hjn97/Documents/VScode/caspian_second/CASPIAN_env/lib/python3.10/site-packages/numpy/lib/_nanfunctions_impl.py:1231: RuntimeWarning: Mean of empty slice\n",
      "  return np.nanmean(a, axis, out=out, keepdims=keepdims)\n",
      "/home/atefe_hjn97/Documents/VScode/caspian_second/CASPIAN_env/lib/python3.10/site-packages/numpy/lib/_nanfunctions_impl.py:1231: RuntimeWarning: Mean of empty slice\n",
      "  return np.nanmean(a, axis, out=out, keepdims=keepdims)\n",
      "/home/atefe_hjn97/Documents/VScode/caspian_second/CASPIAN_env/lib/python3.10/site-packages/numpy/lib/_nanfunctions_impl.py:1231: RuntimeWarning: Mean of empty slice\n",
      "  return np.nanmean(a, axis, out=out, keepdims=keepdims)\n",
      "/home/atefe_hjn97/Documents/VScode/caspian_second/CASPIAN_env/lib/python3.10/site-packages/numpy/lib/_nanfunctions_impl.py:1231: RuntimeWarning: Mean of empty slice\n",
      "  return np.nanmean(a, axis, out=out, keepdims=keepdims)\n",
      "/home/atefe_hjn97/Documents/VScode/caspian_second/CASPIAN_env/lib/python3.10/site-packages/numpy/lib/_nanfunctions_impl.py:1231: RuntimeWarning: Mean of empty slice\n",
      "  return np.nanmean(a, axis, out=out, keepdims=keepdims)\n",
      "/home/atefe_hjn97/Documents/VScode/caspian_second/CASPIAN_env/lib/python3.10/site-packages/numpy/lib/_nanfunctions_impl.py:1231: RuntimeWarning: Mean of empty slice\n",
      "  return np.nanmean(a, axis, out=out, keepdims=keepdims)\n",
      "/home/atefe_hjn97/Documents/VScode/caspian_second/CASPIAN_env/lib/python3.10/site-packages/numpy/lib/_nanfunctions_impl.py:1231: RuntimeWarning: Mean of empty slice\n",
      "  return np.nanmean(a, axis, out=out, keepdims=keepdims)\n",
      "/home/atefe_hjn97/Documents/VScode/caspian_second/CASPIAN_env/lib/python3.10/site-packages/numpy/lib/_nanfunctions_impl.py:1231: RuntimeWarning: Mean of empty slice\n",
      "  return np.nanmean(a, axis, out=out, keepdims=keepdims)\n",
      "/home/atefe_hjn97/Documents/VScode/caspian_second/CASPIAN_env/lib/python3.10/site-packages/numpy/lib/_nanfunctions_impl.py:1231: RuntimeWarning: Mean of empty slice\n",
      "  return np.nanmean(a, axis, out=out, keepdims=keepdims)\n",
      "/home/atefe_hjn97/Documents/VScode/caspian_second/CASPIAN_env/lib/python3.10/site-packages/numpy/lib/_nanfunctions_impl.py:1231: RuntimeWarning: Mean of empty slice\n",
      "  return np.nanmean(a, axis, out=out, keepdims=keepdims)\n",
      "/home/atefe_hjn97/Documents/VScode/caspian_second/CASPIAN_env/lib/python3.10/site-packages/numpy/lib/_nanfunctions_impl.py:1231: RuntimeWarning: Mean of empty slice\n",
      "  return np.nanmean(a, axis, out=out, keepdims=keepdims)\n",
      "/home/atefe_hjn97/Documents/VScode/caspian_second/CASPIAN_env/lib/python3.10/site-packages/numpy/lib/_nanfunctions_impl.py:1231: RuntimeWarning: Mean of empty slice\n",
      "  return np.nanmean(a, axis, out=out, keepdims=keepdims)\n",
      "/tmp/ipykernel_46195/1811425634.py:14: DeprecationWarning: DataFrameGroupBy.apply operated on the grouping columns. This behavior is deprecated, and in a future version of pandas the grouping columns will be excluded from the operation. Either pass `include_groups=False` to exclude the groupings or explicitly select the grouping columns after groupby to silence this warning.\n",
      "  params = grouped.apply(lambda group: calculate_params(group, feature=feature)).reset_index()\n",
      "/tmp/ipykernel_46195/1811425634.py:15: DeprecationWarning: DataFrameGroupBy.apply operated on the grouping columns. This behavior is deprecated, and in a future version of pandas the grouping columns will be excluded from the operation. Either pass `include_groups=False` to exclude the groupings or explicitly select the grouping columns after groupby to silence this warning.\n",
      "  grouped_with_z_score = grouped.apply(lambda group: apply_z_score(group, params,feature))\n",
      "/tmp/ipykernel_46195/1811425634.py:14: DeprecationWarning: DataFrameGroupBy.apply operated on the grouping columns. This behavior is deprecated, and in a future version of pandas the grouping columns will be excluded from the operation. Either pass `include_groups=False` to exclude the groupings or explicitly select the grouping columns after groupby to silence this warning.\n",
      "  params = grouped.apply(lambda group: calculate_params(group, feature=feature)).reset_index()\n"
     ]
    },
    {
     "name": "stdout",
     "output_type": "stream",
     "text": [
      "casp3 hip\n",
      "No valid data for sex: Boy, age: 10.0. Skipping further processing for this sex...\n",
      "No valid data for sex: Girl, age: 10.0. Skipping further processing for this sex...\n"
     ]
    },
    {
     "name": "stderr",
     "output_type": "stream",
     "text": [
      "/tmp/ipykernel_46195/1811425634.py:15: DeprecationWarning: DataFrameGroupBy.apply operated on the grouping columns. This behavior is deprecated, and in a future version of pandas the grouping columns will be excluded from the operation. Either pass `include_groups=False` to exclude the groupings or explicitly select the grouping columns after groupby to silence this warning.\n",
      "  grouped_with_z_score = grouped.apply(lambda group: apply_z_score(group, params,feature))\n"
     ]
    },
    {
     "name": "stdout",
     "output_type": "stream",
     "text": [
      "casp3 bmi1\n",
      "sure 0\n",
      "sure 0\n"
     ]
    },
    {
     "name": "stderr",
     "output_type": "stream",
     "text": [
      "/tmp/ipykernel_46195/1811425634.py:14: DeprecationWarning: DataFrameGroupBy.apply operated on the grouping columns. This behavior is deprecated, and in a future version of pandas the grouping columns will be excluded from the operation. Either pass `include_groups=False` to exclude the groupings or explicitly select the grouping columns after groupby to silence this warning.\n",
      "  params = grouped.apply(lambda group: calculate_params(group, feature=feature)).reset_index()\n",
      "/tmp/ipykernel_46195/1811425634.py:15: DeprecationWarning: DataFrameGroupBy.apply operated on the grouping columns. This behavior is deprecated, and in a future version of pandas the grouping columns will be excluded from the operation. Either pass `include_groups=False` to exclude the groupings or explicitly select the grouping columns after groupby to silence this warning.\n",
      "  grouped_with_z_score = grouped.apply(lambda group: apply_z_score(group, params,feature))\n"
     ]
    },
    {
     "name": "stdout",
     "output_type": "stream",
     "text": [
      "casp4 height\n",
      "sure 0\n",
      "sure 0\n"
     ]
    },
    {
     "name": "stderr",
     "output_type": "stream",
     "text": [
      "/tmp/ipykernel_46195/1811425634.py:14: DeprecationWarning: DataFrameGroupBy.apply operated on the grouping columns. This behavior is deprecated, and in a future version of pandas the grouping columns will be excluded from the operation. Either pass `include_groups=False` to exclude the groupings or explicitly select the grouping columns after groupby to silence this warning.\n",
      "  params = grouped.apply(lambda group: calculate_params(group, feature=feature)).reset_index()\n",
      "/tmp/ipykernel_46195/1811425634.py:15: DeprecationWarning: DataFrameGroupBy.apply operated on the grouping columns. This behavior is deprecated, and in a future version of pandas the grouping columns will be excluded from the operation. Either pass `include_groups=False` to exclude the groupings or explicitly select the grouping columns after groupby to silence this warning.\n",
      "  grouped_with_z_score = grouped.apply(lambda group: apply_z_score(group, params,feature))\n"
     ]
    },
    {
     "name": "stdout",
     "output_type": "stream",
     "text": [
      "casp4 weight\n",
      "sure 0\n",
      "sure 0\n"
     ]
    },
    {
     "name": "stderr",
     "output_type": "stream",
     "text": [
      "/tmp/ipykernel_46195/1811425634.py:14: DeprecationWarning: DataFrameGroupBy.apply operated on the grouping columns. This behavior is deprecated, and in a future version of pandas the grouping columns will be excluded from the operation. Either pass `include_groups=False` to exclude the groupings or explicitly select the grouping columns after groupby to silence this warning.\n",
      "  params = grouped.apply(lambda group: calculate_params(group, feature=feature)).reset_index()\n",
      "/tmp/ipykernel_46195/1811425634.py:15: DeprecationWarning: DataFrameGroupBy.apply operated on the grouping columns. This behavior is deprecated, and in a future version of pandas the grouping columns will be excluded from the operation. Either pass `include_groups=False` to exclude the groupings or explicitly select the grouping columns after groupby to silence this warning.\n",
      "  grouped_with_z_score = grouped.apply(lambda group: apply_z_score(group, params,feature))\n"
     ]
    },
    {
     "name": "stdout",
     "output_type": "stream",
     "text": [
      "casp4 waist\n",
      "sure 0\n",
      "sure 0\n"
     ]
    },
    {
     "name": "stderr",
     "output_type": "stream",
     "text": [
      "/tmp/ipykernel_46195/1811425634.py:14: DeprecationWarning: DataFrameGroupBy.apply operated on the grouping columns. This behavior is deprecated, and in a future version of pandas the grouping columns will be excluded from the operation. Either pass `include_groups=False` to exclude the groupings or explicitly select the grouping columns after groupby to silence this warning.\n",
      "  params = grouped.apply(lambda group: calculate_params(group, feature=feature)).reset_index()\n",
      "/tmp/ipykernel_46195/1811425634.py:15: DeprecationWarning: DataFrameGroupBy.apply operated on the grouping columns. This behavior is deprecated, and in a future version of pandas the grouping columns will be excluded from the operation. Either pass `include_groups=False` to exclude the groupings or explicitly select the grouping columns after groupby to silence this warning.\n",
      "  grouped_with_z_score = grouped.apply(lambda group: apply_z_score(group, params,feature))\n"
     ]
    },
    {
     "name": "stdout",
     "output_type": "stream",
     "text": [
      "casp4 hip\n",
      "sure 0\n",
      "sure 0\n"
     ]
    },
    {
     "name": "stderr",
     "output_type": "stream",
     "text": [
      "/tmp/ipykernel_46195/1811425634.py:14: DeprecationWarning: DataFrameGroupBy.apply operated on the grouping columns. This behavior is deprecated, and in a future version of pandas the grouping columns will be excluded from the operation. Either pass `include_groups=False` to exclude the groupings or explicitly select the grouping columns after groupby to silence this warning.\n",
      "  params = grouped.apply(lambda group: calculate_params(group, feature=feature)).reset_index()\n",
      "/tmp/ipykernel_46195/1811425634.py:15: DeprecationWarning: DataFrameGroupBy.apply operated on the grouping columns. This behavior is deprecated, and in a future version of pandas the grouping columns will be excluded from the operation. Either pass `include_groups=False` to exclude the groupings or explicitly select the grouping columns after groupby to silence this warning.\n",
      "  grouped_with_z_score = grouped.apply(lambda group: apply_z_score(group, params,feature))\n"
     ]
    },
    {
     "name": "stdout",
     "output_type": "stream",
     "text": [
      "casp4 bmi1\n",
      "sure 0\n",
      "sure 0\n"
     ]
    },
    {
     "name": "stderr",
     "output_type": "stream",
     "text": [
      "/tmp/ipykernel_46195/1811425634.py:14: DeprecationWarning: DataFrameGroupBy.apply operated on the grouping columns. This behavior is deprecated, and in a future version of pandas the grouping columns will be excluded from the operation. Either pass `include_groups=False` to exclude the groupings or explicitly select the grouping columns after groupby to silence this warning.\n",
      "  params = grouped.apply(lambda group: calculate_params(group, feature=feature)).reset_index()\n",
      "/tmp/ipykernel_46195/1811425634.py:15: DeprecationWarning: DataFrameGroupBy.apply operated on the grouping columns. This behavior is deprecated, and in a future version of pandas the grouping columns will be excluded from the operation. Either pass `include_groups=False` to exclude the groupings or explicitly select the grouping columns after groupby to silence this warning.\n",
      "  grouped_with_z_score = grouped.apply(lambda group: apply_z_score(group, params,feature))\n"
     ]
    },
    {
     "name": "stdout",
     "output_type": "stream",
     "text": [
      "casp5 height\n",
      "sure 0\n",
      "sure 0\n"
     ]
    },
    {
     "name": "stderr",
     "output_type": "stream",
     "text": [
      "/tmp/ipykernel_46195/1811425634.py:14: DeprecationWarning: DataFrameGroupBy.apply operated on the grouping columns. This behavior is deprecated, and in a future version of pandas the grouping columns will be excluded from the operation. Either pass `include_groups=False` to exclude the groupings or explicitly select the grouping columns after groupby to silence this warning.\n",
      "  params = grouped.apply(lambda group: calculate_params(group, feature=feature)).reset_index()\n",
      "/tmp/ipykernel_46195/1811425634.py:15: DeprecationWarning: DataFrameGroupBy.apply operated on the grouping columns. This behavior is deprecated, and in a future version of pandas the grouping columns will be excluded from the operation. Either pass `include_groups=False` to exclude the groupings or explicitly select the grouping columns after groupby to silence this warning.\n",
      "  grouped_with_z_score = grouped.apply(lambda group: apply_z_score(group, params,feature))\n"
     ]
    },
    {
     "name": "stdout",
     "output_type": "stream",
     "text": [
      "casp5 weight\n",
      "sure 0\n",
      "sure 0\n"
     ]
    },
    {
     "name": "stderr",
     "output_type": "stream",
     "text": [
      "/tmp/ipykernel_46195/1811425634.py:14: DeprecationWarning: DataFrameGroupBy.apply operated on the grouping columns. This behavior is deprecated, and in a future version of pandas the grouping columns will be excluded from the operation. Either pass `include_groups=False` to exclude the groupings or explicitly select the grouping columns after groupby to silence this warning.\n",
      "  params = grouped.apply(lambda group: calculate_params(group, feature=feature)).reset_index()\n",
      "/tmp/ipykernel_46195/1811425634.py:15: DeprecationWarning: DataFrameGroupBy.apply operated on the grouping columns. This behavior is deprecated, and in a future version of pandas the grouping columns will be excluded from the operation. Either pass `include_groups=False` to exclude the groupings or explicitly select the grouping columns after groupby to silence this warning.\n",
      "  grouped_with_z_score = grouped.apply(lambda group: apply_z_score(group, params,feature))\n"
     ]
    },
    {
     "name": "stdout",
     "output_type": "stream",
     "text": [
      "casp5 waist\n",
      "sure 0\n",
      "sure 0\n"
     ]
    },
    {
     "name": "stderr",
     "output_type": "stream",
     "text": [
      "/tmp/ipykernel_46195/1811425634.py:14: DeprecationWarning: DataFrameGroupBy.apply operated on the grouping columns. This behavior is deprecated, and in a future version of pandas the grouping columns will be excluded from the operation. Either pass `include_groups=False` to exclude the groupings or explicitly select the grouping columns after groupby to silence this warning.\n",
      "  params = grouped.apply(lambda group: calculate_params(group, feature=feature)).reset_index()\n",
      "/tmp/ipykernel_46195/1811425634.py:15: DeprecationWarning: DataFrameGroupBy.apply operated on the grouping columns. This behavior is deprecated, and in a future version of pandas the grouping columns will be excluded from the operation. Either pass `include_groups=False` to exclude the groupings or explicitly select the grouping columns after groupby to silence this warning.\n",
      "  grouped_with_z_score = grouped.apply(lambda group: apply_z_score(group, params,feature))\n"
     ]
    },
    {
     "name": "stdout",
     "output_type": "stream",
     "text": [
      "casp5 hip\n",
      "sure 0\n",
      "sure 0\n"
     ]
    },
    {
     "name": "stderr",
     "output_type": "stream",
     "text": [
      "/tmp/ipykernel_46195/1811425634.py:14: DeprecationWarning: DataFrameGroupBy.apply operated on the grouping columns. This behavior is deprecated, and in a future version of pandas the grouping columns will be excluded from the operation. Either pass `include_groups=False` to exclude the groupings or explicitly select the grouping columns after groupby to silence this warning.\n",
      "  params = grouped.apply(lambda group: calculate_params(group, feature=feature)).reset_index()\n",
      "/tmp/ipykernel_46195/1811425634.py:15: DeprecationWarning: DataFrameGroupBy.apply operated on the grouping columns. This behavior is deprecated, and in a future version of pandas the grouping columns will be excluded from the operation. Either pass `include_groups=False` to exclude the groupings or explicitly select the grouping columns after groupby to silence this warning.\n",
      "  grouped_with_z_score = grouped.apply(lambda group: apply_z_score(group, params,feature))\n"
     ]
    },
    {
     "name": "stdout",
     "output_type": "stream",
     "text": [
      "casp5 bmi1\n",
      "sure 0\n",
      "sure 0\n"
     ]
    }
   ],
   "source": [
    "# Group by Age and Sex, then calculate summary statistics (mean, for example)\n",
    "for name_df, df_org in processed_dfs.items():\n",
    "    grouped = df_org.groupby(['age', 'sex'])\n",
    "\n",
    "    percentile_data = []\n",
    "    percentile = [3,10,15,25,50,75,85,90,97]\n",
    "    percentiles_labels = ['P3','P10','P15','P25','P50','P75','P85','P90', 'P97']\n",
    "    # Now, apply this to each group, passing the params DataFrame\n",
    "    frac = 0.7\n",
    "    features = ['height','weight','waist','hip','bmi1']\n",
    "\n",
    "    #Loop through each feature to calculate the percentiles\n",
    "    for feature in features:\n",
    "        params = grouped.apply(lambda group: calculate_params(group, feature=feature)).reset_index()\n",
    "        grouped_with_z_score = grouped.apply(lambda group: apply_z_score(group, params,feature))\n",
    "        ages = sorted(grouped_with_z_score['age_x'].unique())\n",
    "        sexes = grouped_with_z_score['sex'].unique()\n",
    "        print(name_df, feature)\n",
    "        for sex in sexes:\n",
    "            skip_sex = False  # Add a flag to track whether to skip further processing for this sex\n",
    "\n",
    "            for age in ages:\n",
    "                feature_data = grouped_with_z_score[\n",
    "                    (grouped_with_z_score['age_x'] == age) & (grouped_with_z_score['sex'] == sex)\n",
    "                ][f'{feature}']\n",
    "\n",
    "                # Convert to numeric, coercing errors to NaN\n",
    "                feature_data = pd.to_numeric(feature_data, errors='coerce')\n",
    "                feature_data = feature_data.dropna()  # Remove NaN values\n",
    "\n",
    "                # Check if there's enough data\n",
    "                if feature_data.size == 0:\n",
    "                    print(f\"No valid data for sex: {sex}, age: {age}. Skipping further processing for this sex...\")\n",
    "                    skip_sex = True  # Set the flag to True to skip further processing for this sex\n",
    "                    break  # Exit the age loop for the current sex\n",
    "\n",
    "                # Calculate the desired percentiles\n",
    "                percentiles_values = np.percentile(feature_data, percentile)\n",
    "\n",
    "                # Collect data for this group\n",
    "                percentile_data.append([sex, age] + percentiles_values.tolist())\n",
    "\n",
    "            # If the flag is set, skip further processing for this sex\n",
    "            if skip_sex:\n",
    "                continue\n",
    "\n",
    "            # Create a DataFrame from the collected percentile data\n",
    "            percentile_columns = ['Gender', 'Age'] + percentiles_labels\n",
    "            percentile_df = pd.DataFrame(percentile_data, columns=percentile_columns)\n",
    "\n",
    "            # Create separate plots for boys and girls\n",
    "            fig, ax = plt.subplots(figsize=(12, 6))\n",
    "\n",
    "            sex_data = percentile_df[percentile_df['Gender'] == sex]\n",
    "            for percentile_label in percentiles_labels:\n",
    "                smoothed_percentile = lowess(sex_data[percentile_label], sex_data['Age'], frac=frac)\n",
    "                ax.plot(smoothed_percentile[:, 0], smoothed_percentile[:, 1], linestyle='-', label=f'Smoothed {percentile_label}')\n",
    "\n",
    "            # Title and labels\n",
    "            name = f'{name_df}-{feature}-Percentiles by Age-{sex.capitalize()}-LMS Method'\n",
    "            ax.set_title(f'{name}')\n",
    "            ax.set_xlabel('Age')\n",
    "            ax.set_ylabel(f'{feature}')\n",
    "            ax.legend()\n",
    "            plt.grid()\n",
    "            plt.xticks(sex_data['Age'])\n",
    "            plt.savefig(f'../final_chart/{name_df}-{feature}-{sex.capitalize()}.png')  # Save the plot with .png extension\n",
    "            plt.close()\n",
    "\n",
    "            # Clear data for the next iteration\n",
    "            percentile_data.clear()\n",
    "            print('sure',len(percentile_data))\n"
   ]
  },
  {
   "cell_type": "code",
   "execution_count": null,
   "metadata": {},
   "outputs": [],
   "source": []
  }
 ],
 "metadata": {
  "kernelspec": {
   "display_name": "CASPIAN_env",
   "language": "python",
   "name": "python3"
  },
  "language_info": {
   "codemirror_mode": {
    "name": "ipython",
    "version": 3
   },
   "file_extension": ".py",
   "mimetype": "text/x-python",
   "name": "python",
   "nbconvert_exporter": "python",
   "pygments_lexer": "ipython3",
   "version": "3.10.12"
  }
 },
 "nbformat": 4,
 "nbformat_minor": 2
}

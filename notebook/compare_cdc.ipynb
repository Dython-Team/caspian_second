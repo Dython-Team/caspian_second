{
 "cells": [
  {
   "cell_type": "code",
   "execution_count": 27,
   "metadata": {},
   "outputs": [],
   "source": [
    "import pandas as pd\n",
    "import matplotlib.pyplot as plt\n",
    "import numpy as np\n",
    "import seaborn as sns\n",
    "import statsmodels.api as sm\n",
    "import numpy as np\n",
    "import pandas as pd\n",
    "import matplotlib.pyplot as plt\n",
    "import statsmodels.api as sm\n",
    "from statsmodels.nonparametric.smoothers_lowess import lowess\n",
    "from scipy.stats import skew"
   ]
  },
  {
   "cell_type": "code",
   "execution_count": 28,
   "metadata": {},
   "outputs": [],
   "source": [
    "bmi = pd.read_csv('../CDC_tables/bmiagerev.csv')\n",
    "weight = pd.read_csv('../CDC_tables/wtage.csv')\n",
    "height = pd.read_csv('../CDC_tables/statage.csv')"
   ]
  },
  {
   "cell_type": "code",
   "execution_count": 29,
   "metadata": {},
   "outputs": [
    {
     "data": {
      "text/html": [
       "<div>\n",
       "<style scoped>\n",
       "    .dataframe tbody tr th:only-of-type {\n",
       "        vertical-align: middle;\n",
       "    }\n",
       "\n",
       "    .dataframe tbody tr th {\n",
       "        vertical-align: top;\n",
       "    }\n",
       "\n",
       "    .dataframe thead th {\n",
       "        text-align: right;\n",
       "    }\n",
       "</style>\n",
       "<table border=\"1\" class=\"dataframe\">\n",
       "  <thead>\n",
       "    <tr style=\"text-align: right;\">\n",
       "      <th></th>\n",
       "      <th>Sex</th>\n",
       "      <th>Agemos</th>\n",
       "      <th>L</th>\n",
       "      <th>M</th>\n",
       "      <th>S</th>\n",
       "      <th>P3</th>\n",
       "      <th>P5</th>\n",
       "      <th>P10</th>\n",
       "      <th>P25</th>\n",
       "      <th>P50</th>\n",
       "      <th>P75</th>\n",
       "      <th>P90</th>\n",
       "      <th>P95</th>\n",
       "      <th>P97</th>\n",
       "    </tr>\n",
       "  </thead>\n",
       "  <tbody>\n",
       "    <tr>\n",
       "      <th>0</th>\n",
       "      <td>1</td>\n",
       "      <td>24.0</td>\n",
       "      <td>-0.206152</td>\n",
       "      <td>12.670763</td>\n",
       "      <td>0.108126</td>\n",
       "      <td>10.382090</td>\n",
       "      <td>10.640090</td>\n",
       "      <td>11.052656</td>\n",
       "      <td>11.785975</td>\n",
       "      <td>12.670763</td>\n",
       "      <td>13.636919</td>\n",
       "      <td>14.583398</td>\n",
       "      <td>15.187773</td>\n",
       "      <td>15.596483</td>\n",
       "    </tr>\n",
       "    <tr>\n",
       "      <th>1</th>\n",
       "      <td>1</td>\n",
       "      <td>24.5</td>\n",
       "      <td>-0.216501</td>\n",
       "      <td>12.741544</td>\n",
       "      <td>0.108166</td>\n",
       "      <td>10.441442</td>\n",
       "      <td>10.700513</td>\n",
       "      <td>11.114904</td>\n",
       "      <td>11.851817</td>\n",
       "      <td>12.741544</td>\n",
       "      <td>13.713860</td>\n",
       "      <td>14.667158</td>\n",
       "      <td>15.276296</td>\n",
       "      <td>15.688406</td>\n",
       "    </tr>\n",
       "    <tr>\n",
       "      <th>2</th>\n",
       "      <td>1</td>\n",
       "      <td>25.5</td>\n",
       "      <td>-0.239790</td>\n",
       "      <td>12.881023</td>\n",
       "      <td>0.108275</td>\n",
       "      <td>10.558473</td>\n",
       "      <td>10.819575</td>\n",
       "      <td>11.237473</td>\n",
       "      <td>11.981419</td>\n",
       "      <td>12.881023</td>\n",
       "      <td>13.865896</td>\n",
       "      <td>14.833316</td>\n",
       "      <td>15.452424</td>\n",
       "      <td>15.871699</td>\n",
       "    </tr>\n",
       "    <tr>\n",
       "      <th>3</th>\n",
       "      <td>1</td>\n",
       "      <td>26.5</td>\n",
       "      <td>-0.266316</td>\n",
       "      <td>13.018424</td>\n",
       "      <td>0.108421</td>\n",
       "      <td>10.673803</td>\n",
       "      <td>10.936812</td>\n",
       "      <td>11.358059</td>\n",
       "      <td>12.108888</td>\n",
       "      <td>13.018424</td>\n",
       "      <td>14.016230</td>\n",
       "      <td>14.998478</td>\n",
       "      <td>15.628189</td>\n",
       "      <td>16.055142</td>\n",
       "    </tr>\n",
       "    <tr>\n",
       "      <th>4</th>\n",
       "      <td>1</td>\n",
       "      <td>27.5</td>\n",
       "      <td>-0.295755</td>\n",
       "      <td>13.154497</td>\n",
       "      <td>0.108605</td>\n",
       "      <td>10.787982</td>\n",
       "      <td>11.052801</td>\n",
       "      <td>11.477280</td>\n",
       "      <td>12.234907</td>\n",
       "      <td>13.154497</td>\n",
       "      <td>14.165672</td>\n",
       "      <td>15.163512</td>\n",
       "      <td>15.804500</td>\n",
       "      <td>16.239671</td>\n",
       "    </tr>\n",
       "    <tr>\n",
       "      <th>...</th>\n",
       "      <td>...</td>\n",
       "      <td>...</td>\n",
       "      <td>...</td>\n",
       "      <td>...</td>\n",
       "      <td>...</td>\n",
       "      <td>...</td>\n",
       "      <td>...</td>\n",
       "      <td>...</td>\n",
       "      <td>...</td>\n",
       "      <td>...</td>\n",
       "      <td>...</td>\n",
       "      <td>...</td>\n",
       "      <td>...</td>\n",
       "      <td>...</td>\n",
       "    </tr>\n",
       "    <tr>\n",
       "      <th>431</th>\n",
       "      <td>2</td>\n",
       "      <td>236.5</td>\n",
       "      <td>-1.558179</td>\n",
       "      <td>58.030397</td>\n",
       "      <td>0.165698</td>\n",
       "      <td>45.012603</td>\n",
       "      <td>46.238515</td>\n",
       "      <td>48.304379</td>\n",
       "      <td>52.349208</td>\n",
       "      <td>58.030397</td>\n",
       "      <td>65.612151</td>\n",
       "      <td>75.100412</td>\n",
       "      <td>82.744477</td>\n",
       "      <td>88.906346</td>\n",
       "    </tr>\n",
       "    <tr>\n",
       "      <th>432</th>\n",
       "      <td>2</td>\n",
       "      <td>237.5</td>\n",
       "      <td>-1.543846</td>\n",
       "      <td>58.094532</td>\n",
       "      <td>0.165985</td>\n",
       "      <td>45.027517</td>\n",
       "      <td>46.258911</td>\n",
       "      <td>48.333695</td>\n",
       "      <td>52.394603</td>\n",
       "      <td>58.094532</td>\n",
       "      <td>65.692518</td>\n",
       "      <td>75.183669</td>\n",
       "      <td>82.813450</td>\n",
       "      <td>88.951645</td>\n",
       "    </tr>\n",
       "    <tr>\n",
       "      <th>433</th>\n",
       "      <td>2</td>\n",
       "      <td>238.5</td>\n",
       "      <td>-1.530642</td>\n",
       "      <td>58.151036</td>\n",
       "      <td>0.166260</td>\n",
       "      <td>45.038521</td>\n",
       "      <td>46.274976</td>\n",
       "      <td>48.357997</td>\n",
       "      <td>52.433762</td>\n",
       "      <td>58.151036</td>\n",
       "      <td>65.764133</td>\n",
       "      <td>75.258306</td>\n",
       "      <td>82.875461</td>\n",
       "      <td>88.992530</td>\n",
       "    </tr>\n",
       "    <tr>\n",
       "      <th>434</th>\n",
       "      <td>2</td>\n",
       "      <td>239.5</td>\n",
       "      <td>-1.518754</td>\n",
       "      <td>58.198771</td>\n",
       "      <td>0.166520</td>\n",
       "      <td>45.045100</td>\n",
       "      <td>46.286116</td>\n",
       "      <td>48.376568</td>\n",
       "      <td>52.465761</td>\n",
       "      <td>58.198771</td>\n",
       "      <td>65.825742</td>\n",
       "      <td>75.323211</td>\n",
       "      <td>82.929752</td>\n",
       "      <td>89.028669</td>\n",
       "    </tr>\n",
       "    <tr>\n",
       "      <th>435</th>\n",
       "      <td>2</td>\n",
       "      <td>240.0</td>\n",
       "      <td>-1.513362</td>\n",
       "      <td>58.218973</td>\n",
       "      <td>0.166645</td>\n",
       "      <td>45.046548</td>\n",
       "      <td>46.289634</td>\n",
       "      <td>48.383460</td>\n",
       "      <td>52.478764</td>\n",
       "      <td>58.218973</td>\n",
       "      <td>65.852380</td>\n",
       "      <td>75.351650</td>\n",
       "      <td>82.953755</td>\n",
       "      <td>89.044851</td>\n",
       "    </tr>\n",
       "  </tbody>\n",
       "</table>\n",
       "<p>436 rows × 14 columns</p>\n",
       "</div>"
      ],
      "text/plain": [
       "     Sex  Agemos         L          M         S         P3         P5  \\\n",
       "0      1    24.0 -0.206152  12.670763  0.108126  10.382090  10.640090   \n",
       "1      1    24.5 -0.216501  12.741544  0.108166  10.441442  10.700513   \n",
       "2      1    25.5 -0.239790  12.881023  0.108275  10.558473  10.819575   \n",
       "3      1    26.5 -0.266316  13.018424  0.108421  10.673803  10.936812   \n",
       "4      1    27.5 -0.295755  13.154497  0.108605  10.787982  11.052801   \n",
       "..   ...     ...       ...        ...       ...        ...        ...   \n",
       "431    2   236.5 -1.558179  58.030397  0.165698  45.012603  46.238515   \n",
       "432    2   237.5 -1.543846  58.094532  0.165985  45.027517  46.258911   \n",
       "433    2   238.5 -1.530642  58.151036  0.166260  45.038521  46.274976   \n",
       "434    2   239.5 -1.518754  58.198771  0.166520  45.045100  46.286116   \n",
       "435    2   240.0 -1.513362  58.218973  0.166645  45.046548  46.289634   \n",
       "\n",
       "           P10        P25        P50        P75        P90        P95  \\\n",
       "0    11.052656  11.785975  12.670763  13.636919  14.583398  15.187773   \n",
       "1    11.114904  11.851817  12.741544  13.713860  14.667158  15.276296   \n",
       "2    11.237473  11.981419  12.881023  13.865896  14.833316  15.452424   \n",
       "3    11.358059  12.108888  13.018424  14.016230  14.998478  15.628189   \n",
       "4    11.477280  12.234907  13.154497  14.165672  15.163512  15.804500   \n",
       "..         ...        ...        ...        ...        ...        ...   \n",
       "431  48.304379  52.349208  58.030397  65.612151  75.100412  82.744477   \n",
       "432  48.333695  52.394603  58.094532  65.692518  75.183669  82.813450   \n",
       "433  48.357997  52.433762  58.151036  65.764133  75.258306  82.875461   \n",
       "434  48.376568  52.465761  58.198771  65.825742  75.323211  82.929752   \n",
       "435  48.383460  52.478764  58.218973  65.852380  75.351650  82.953755   \n",
       "\n",
       "           P97  \n",
       "0    15.596483  \n",
       "1    15.688406  \n",
       "2    15.871699  \n",
       "3    16.055142  \n",
       "4    16.239671  \n",
       "..         ...  \n",
       "431  88.906346  \n",
       "432  88.951645  \n",
       "433  88.992530  \n",
       "434  89.028669  \n",
       "435  89.044851  \n",
       "\n",
       "[436 rows x 14 columns]"
      ]
     },
     "execution_count": 29,
     "metadata": {},
     "output_type": "execute_result"
    }
   ],
   "source": [
    "weight"
   ]
  },
  {
   "cell_type": "code",
   "execution_count": 30,
   "metadata": {},
   "outputs": [],
   "source": [
    "def preprocess_who(df_dict_cdc):\n",
    "    preprocessed_dict = {}\n",
    "    for key, df_item in df_dict_cdc.items():\n",
    "        df = df_item.copy()\n",
    "        # Filter age\n",
    "        df = df[(df['Agemos'] >= 7*12) & (df['Agemos'] <= 18*12)]\n",
    "        df = df.rename(columns={'Agemos': 'Age'})\n",
    "        preprocessed_dict[key] = df\n",
    "    return preprocessed_dict"
   ]
  },
  {
   "cell_type": "code",
   "execution_count": 31,
   "metadata": {},
   "outputs": [],
   "source": [
    "df_dict_cdc = {\n",
    "    'hfa_b':height[height['Sex']==1],\n",
    "    'hfa_g':height[height['Sex']==2],\n",
    "    'wfa_b':weight[weight['Sex']==1],\n",
    "    'wfa_g':weight[weight['Sex']==2],\n",
    "    'bmifa_b':bmi[bmi['Sex']==1],\n",
    "    'bmifa_g':bmi[bmi['Sex']==2]\n",
    "}"
   ]
  },
  {
   "cell_type": "code",
   "execution_count": 32,
   "metadata": {},
   "outputs": [],
   "source": [
    "processed_cdc = preprocess_who(df_dict_cdc)"
   ]
  },
  {
   "cell_type": "code",
   "execution_count": 33,
   "metadata": {},
   "outputs": [],
   "source": [
    "df_1 = pd.read_spss('../final_data/caspian1 data.sav',convert_categoricals=True)\n",
    "df_3 = pd.read_spss('../final_data/CASPIAN III.sav',convert_categoricals=True)\n",
    "df_4 = pd.read_spss('../final_data/caspian4-ghorbani.sav',convert_categoricals=True)\n",
    "df_5 = pd.read_spss('../final_data/caspian5-ghorbani.sav',convert_categoricals=True)\n",
    "all_df = pd.read_csv('../merged_dataset.csv')"
   ]
  },
  {
   "cell_type": "code",
   "execution_count": 34,
   "metadata": {},
   "outputs": [],
   "source": [
    "def rename_features(df1,caspian_number):\n",
    "    df2 = df1.copy()\n",
    "    if caspian_number==1:\n",
    "        df2.rename(columns={'univer': 'university','district':'region', 'schoolty':'schoolType'}, inplace=True)    \n",
    "    elif caspian_number==3:\n",
    "        df2.rename(columns={'area':'region', 'heighte':'height','weighte':'weight'}, inplace=True)    \n",
    "    elif caspian_number==4:\n",
    "        df2.rename(columns={'weight_1': 'weight', 'height_2': 'height', 'universi': 'university','waist_3':'waist','hip_4':'hip','wrist_5':'wrist'}, inplace=True)        \n",
    "    elif caspian_number==5:\n",
    "        df2.rename(columns={'weight_1': 'weight', 'height_2': 'height', 'universi': 'university','ap_9':'schoolType','waist_3':'waist','wrist4':'wrist'}, inplace=True)\n",
    "\n",
    "\n",
    "    return df2"
   ]
  },
  {
   "cell_type": "code",
   "execution_count": 35,
   "metadata": {},
   "outputs": [],
   "source": [
    "df_1=rename_features(df_1,1)\n",
    "df_3=rename_features(df_3,3)\n",
    "df_4=rename_features(df_4,4)\n",
    "df_5=rename_features(df_5,5)\n",
    "#add hip column to caspain 3\n",
    "df_3['hip'] = np.nan"
   ]
  },
  {
   "cell_type": "code",
   "execution_count": 36,
   "metadata": {},
   "outputs": [],
   "source": [
    "df_1['sex'] = df_1['sex'].apply(lambda x: 'Girl' if x == 'Female' else 'Boy' if x == 'Male' else x)\n",
    "df_3['sex'] = df_3['sex'].apply(lambda x: 'Girl' if x == 'male' else 'Boy' if x == 'female' else x)\n",
    "df_4['sex'] = df_4['sex'].apply(lambda x: 'Girl' if x == 'girl' else 'Boy' if x == 'boy' else x)\n",
    "df_5['sex'] = df_5['sex'].apply(lambda x: 'Girl' if x == 'girl' else 'Boy' if x == 'boy' else x)\n",
    "\n"
   ]
  },
  {
   "cell_type": "code",
   "execution_count": 37,
   "metadata": {},
   "outputs": [
    {
     "name": "stdout",
     "output_type": "stream",
     "text": [
      "Number of records with NaN value in sex in casp1: 1\n",
      "Number of records with NaN value in sex in casp3: 0\n",
      "Number of records with NaN value in sex in casp4: 0\n",
      "Number of records with NaN value in sex in casp5: 0\n",
      "Number of records with NaN value in sex in All-Dfs: 0\n"
     ]
    }
   ],
   "source": [
    "def preprocess(dataframes_dict):\n",
    "    processed_dfs = {}  # Dictionary to store processed DataFrames\n",
    "    for name, df_org in dataframes_dict.items():\n",
    "        df = df_org.copy()\n",
    "\n",
    "        # Filter age\n",
    "        df = df[(df[\"age\"] >= 7) & (df[\"age\"] <= 18)]\n",
    "        # please change the type of heught_1 and weight_1 in caspian4 to numeric if you can't do it directly uncomment two line below\n",
    "        df['height'] = pd.to_numeric(df['height'], errors='coerce')\n",
    "        df['weight'] = pd.to_numeric(df['weight'], errors='coerce')\n",
    "        df[\"bmi1\"] = df[\"weight\"] / ((df[\"height\"] / 100) ** 2)\n",
    "        \n",
    "        # Remove null tuples\n",
    "        records_with_nulls = df[\n",
    "            df[[\"sex\"]].isna().any(axis=1)\n",
    "        ]\n",
    "        df = df.dropna(subset=[\"sex\"])\n",
    "        print(\n",
    "            f\"Number of records with NaN value in sex in {name}: {len(records_with_nulls)}\"\n",
    "        )\n",
    "\n",
    "        # Store the processed DataFrame in the new dictionary\n",
    "        processed_dfs[name] = df\n",
    "\n",
    "    return processed_dfs\n",
    "\n",
    "df_dict = {'casp1' :df_1 ,'casp3': df_3, 'casp4': df_4,'casp5':df_5, 'All-Dfs':all_df}\n",
    "processed_dfs = preprocess(df_dict)\n"
   ]
  },
  {
   "cell_type": "code",
   "execution_count": 38,
   "metadata": {},
   "outputs": [],
   "source": [
    "def calculate_z_score(value, L, M, S):\n",
    "    \"\"\"\n",
    "    Calculate the z-score using the LMS method.\n",
    "\n",
    "    Parameters:\n",
    "    - value: Observed value (e.g., height, weight, BMI).\n",
    "    - L: Lambda (skewness parameter).\n",
    "    - M: Mu (median or central tendency).\n",
    "    - S: Sigma (coefficient of variation).\n",
    "\n",
    "    Returns:\n",
    "    - z_score: Standardized z-score.\n",
    "    \"\"\"\n",
    "    if L == 0:\n",
    "        z_score = (value / M - 1) / S\n",
    "    else:\n",
    "        z_score = (np.power(value / M, L) - 1) / (L * S)\n",
    "    return z_score\n",
    "\n",
    "def apply_z_score(group, params,feature):\n",
    "    # Merge params (Lambda, Median, Sigma) with the group\n",
    "    group = group.merge(params, on='sex', how='left')\n",
    "    \n",
    "    # Apply the z-score calculation row-wise within each group\n",
    "    group['Z-Score'] = group.apply(\n",
    "        lambda row: calculate_z_score(row[f'{feature}'], L=row['Lambda'], M=row['Median'], S=row['Sigma']), axis=1\n",
    "    )\n",
    "    return group\n",
    "\n",
    "def calculate_params(group, feature):\n",
    "    # Calculate Median (M)\n",
    "    M = group[f'{feature}'].median()\n",
    "\n",
    "    # Calculate Lambda (L) - Skewness\n",
    "    L = skew(group[f'{feature}'])\n",
    "\n",
    "    # Calculate Sigma (S) - Coefficient of Variation (std / mean)\n",
    "    mean = group[f'{feature}'].mean()\n",
    "    std_dev = group[f'{feature}'].std()\n",
    "    S = std_dev / mean if mean != 0 else None  # Avoid division by zero\n",
    "\n",
    "    return pd.Series({'Lambda': L, 'Median': M, 'Sigma': S})"
   ]
  },
  {
   "cell_type": "code",
   "execution_count": 39,
   "metadata": {},
   "outputs": [],
   "source": [
    "feature_sex_to_key = {\n",
    "    ('height', 'Boy'): 'hfa_b',\n",
    "    ('height', 'Girl'): 'hfa_g',\n",
    "    ('weight', 'Boy'): 'wfa_b',\n",
    "    ('weight', 'Girl'): 'wfa_g',\n",
    "    ('bmi1', 'Boy'): 'bmifa_b',\n",
    "    ('bmi1', 'Girl'): 'bmifa_g',\n",
    "}\n",
    "def get_processed_cdc_dataset(feature, sex):\n",
    "    key = feature_sex_to_key.get((feature, sex))\n",
    "    if key is None:\n",
    "        raise ValueError(f\"No dataset found for feature: {feature} and sex: {sex}\")\n",
    "    return processed_cdc[key]"
   ]
  },
  {
   "cell_type": "code",
   "execution_count": 44,
   "metadata": {},
   "outputs": [
    {
     "name": "stderr",
     "output_type": "stream",
     "text": [
      "/tmp/ipykernel_93300/3794500033.py:2: FutureWarning: The default of observed=False is deprecated and will be changed to True in a future version of pandas. Pass observed=False to retain current behavior or observed=True to adopt the future default and silence this warning.\n",
      "  grouped = df_org.groupby(['age', 'sex'])\n",
      "/tmp/ipykernel_93300/3794500033.py:14: DeprecationWarning: DataFrameGroupBy.apply operated on the grouping columns. This behavior is deprecated, and in a future version of pandas the grouping columns will be excluded from the operation. Either pass `include_groups=False` to exclude the groupings or explicitly select the grouping columns after groupby to silence this warning.\n",
      "  params = grouped.apply(lambda group: calculate_params(group, feature=feature)).reset_index()\n",
      "/tmp/ipykernel_93300/3794500033.py:15: DeprecationWarning: DataFrameGroupBy.apply operated on the grouping columns. This behavior is deprecated, and in a future version of pandas the grouping columns will be excluded from the operation. Either pass `include_groups=False` to exclude the groupings or explicitly select the grouping columns after groupby to silence this warning.\n",
      "  grouped_with_z_score = grouped.apply(lambda group: apply_z_score(group, params, feature))\n"
     ]
    },
    {
     "name": "stdout",
     "output_type": "stream",
     "text": [
      "sure 0\n",
      "sure 0\n"
     ]
    },
    {
     "name": "stderr",
     "output_type": "stream",
     "text": [
      "/tmp/ipykernel_93300/3794500033.py:14: DeprecationWarning: DataFrameGroupBy.apply operated on the grouping columns. This behavior is deprecated, and in a future version of pandas the grouping columns will be excluded from the operation. Either pass `include_groups=False` to exclude the groupings or explicitly select the grouping columns after groupby to silence this warning.\n",
      "  params = grouped.apply(lambda group: calculate_params(group, feature=feature)).reset_index()\n",
      "/tmp/ipykernel_93300/3794500033.py:15: DeprecationWarning: DataFrameGroupBy.apply operated on the grouping columns. This behavior is deprecated, and in a future version of pandas the grouping columns will be excluded from the operation. Either pass `include_groups=False` to exclude the groupings or explicitly select the grouping columns after groupby to silence this warning.\n",
      "  grouped_with_z_score = grouped.apply(lambda group: apply_z_score(group, params, feature))\n"
     ]
    },
    {
     "name": "stdout",
     "output_type": "stream",
     "text": [
      "sure 0\n",
      "sure 0\n"
     ]
    },
    {
     "name": "stderr",
     "output_type": "stream",
     "text": [
      "/tmp/ipykernel_93300/3794500033.py:2: FutureWarning: The default of observed=False is deprecated and will be changed to True in a future version of pandas. Pass observed=False to retain current behavior or observed=True to adopt the future default and silence this warning.\n",
      "  grouped = df_org.groupby(['age', 'sex'])\n",
      "/tmp/ipykernel_93300/3794500033.py:14: DeprecationWarning: DataFrameGroupBy.apply operated on the grouping columns. This behavior is deprecated, and in a future version of pandas the grouping columns will be excluded from the operation. Either pass `include_groups=False` to exclude the groupings or explicitly select the grouping columns after groupby to silence this warning.\n",
      "  params = grouped.apply(lambda group: calculate_params(group, feature=feature)).reset_index()\n",
      "/tmp/ipykernel_93300/3794500033.py:15: DeprecationWarning: DataFrameGroupBy.apply operated on the grouping columns. This behavior is deprecated, and in a future version of pandas the grouping columns will be excluded from the operation. Either pass `include_groups=False` to exclude the groupings or explicitly select the grouping columns after groupby to silence this warning.\n",
      "  grouped_with_z_score = grouped.apply(lambda group: apply_z_score(group, params, feature))\n"
     ]
    },
    {
     "name": "stdout",
     "output_type": "stream",
     "text": [
      "sure 0\n",
      "sure 0\n"
     ]
    },
    {
     "name": "stderr",
     "output_type": "stream",
     "text": [
      "/tmp/ipykernel_93300/3794500033.py:14: DeprecationWarning: DataFrameGroupBy.apply operated on the grouping columns. This behavior is deprecated, and in a future version of pandas the grouping columns will be excluded from the operation. Either pass `include_groups=False` to exclude the groupings or explicitly select the grouping columns after groupby to silence this warning.\n",
      "  params = grouped.apply(lambda group: calculate_params(group, feature=feature)).reset_index()\n",
      "/tmp/ipykernel_93300/3794500033.py:15: DeprecationWarning: DataFrameGroupBy.apply operated on the grouping columns. This behavior is deprecated, and in a future version of pandas the grouping columns will be excluded from the operation. Either pass `include_groups=False` to exclude the groupings or explicitly select the grouping columns after groupby to silence this warning.\n",
      "  grouped_with_z_score = grouped.apply(lambda group: apply_z_score(group, params, feature))\n"
     ]
    },
    {
     "name": "stdout",
     "output_type": "stream",
     "text": [
      "sure 0\n",
      "sure 0\n"
     ]
    },
    {
     "name": "stderr",
     "output_type": "stream",
     "text": [
      "/tmp/ipykernel_93300/3794500033.py:14: DeprecationWarning: DataFrameGroupBy.apply operated on the grouping columns. This behavior is deprecated, and in a future version of pandas the grouping columns will be excluded from the operation. Either pass `include_groups=False` to exclude the groupings or explicitly select the grouping columns after groupby to silence this warning.\n",
      "  params = grouped.apply(lambda group: calculate_params(group, feature=feature)).reset_index()\n",
      "/tmp/ipykernel_93300/3794500033.py:15: DeprecationWarning: DataFrameGroupBy.apply operated on the grouping columns. This behavior is deprecated, and in a future version of pandas the grouping columns will be excluded from the operation. Either pass `include_groups=False` to exclude the groupings or explicitly select the grouping columns after groupby to silence this warning.\n",
      "  grouped_with_z_score = grouped.apply(lambda group: apply_z_score(group, params, feature))\n"
     ]
    },
    {
     "name": "stdout",
     "output_type": "stream",
     "text": [
      "sure 0\n",
      "sure 0\n"
     ]
    },
    {
     "name": "stderr",
     "output_type": "stream",
     "text": [
      "/tmp/ipykernel_93300/3794500033.py:14: DeprecationWarning: DataFrameGroupBy.apply operated on the grouping columns. This behavior is deprecated, and in a future version of pandas the grouping columns will be excluded from the operation. Either pass `include_groups=False` to exclude the groupings or explicitly select the grouping columns after groupby to silence this warning.\n",
      "  params = grouped.apply(lambda group: calculate_params(group, feature=feature)).reset_index()\n",
      "/tmp/ipykernel_93300/3794500033.py:15: DeprecationWarning: DataFrameGroupBy.apply operated on the grouping columns. This behavior is deprecated, and in a future version of pandas the grouping columns will be excluded from the operation. Either pass `include_groups=False` to exclude the groupings or explicitly select the grouping columns after groupby to silence this warning.\n",
      "  grouped_with_z_score = grouped.apply(lambda group: apply_z_score(group, params, feature))\n"
     ]
    },
    {
     "name": "stdout",
     "output_type": "stream",
     "text": [
      "sure 0\n",
      "sure 0\n"
     ]
    },
    {
     "name": "stderr",
     "output_type": "stream",
     "text": [
      "/tmp/ipykernel_93300/3794500033.py:14: DeprecationWarning: DataFrameGroupBy.apply operated on the grouping columns. This behavior is deprecated, and in a future version of pandas the grouping columns will be excluded from the operation. Either pass `include_groups=False` to exclude the groupings or explicitly select the grouping columns after groupby to silence this warning.\n",
      "  params = grouped.apply(lambda group: calculate_params(group, feature=feature)).reset_index()\n",
      "/tmp/ipykernel_93300/3794500033.py:15: DeprecationWarning: DataFrameGroupBy.apply operated on the grouping columns. This behavior is deprecated, and in a future version of pandas the grouping columns will be excluded from the operation. Either pass `include_groups=False` to exclude the groupings or explicitly select the grouping columns after groupby to silence this warning.\n",
      "  grouped_with_z_score = grouped.apply(lambda group: apply_z_score(group, params, feature))\n"
     ]
    },
    {
     "name": "stdout",
     "output_type": "stream",
     "text": [
      "sure 0\n",
      "sure 0\n"
     ]
    },
    {
     "name": "stderr",
     "output_type": "stream",
     "text": [
      "/tmp/ipykernel_93300/3794500033.py:14: DeprecationWarning: DataFrameGroupBy.apply operated on the grouping columns. This behavior is deprecated, and in a future version of pandas the grouping columns will be excluded from the operation. Either pass `include_groups=False` to exclude the groupings or explicitly select the grouping columns after groupby to silence this warning.\n",
      "  params = grouped.apply(lambda group: calculate_params(group, feature=feature)).reset_index()\n",
      "/tmp/ipykernel_93300/3794500033.py:15: DeprecationWarning: DataFrameGroupBy.apply operated on the grouping columns. This behavior is deprecated, and in a future version of pandas the grouping columns will be excluded from the operation. Either pass `include_groups=False` to exclude the groupings or explicitly select the grouping columns after groupby to silence this warning.\n",
      "  grouped_with_z_score = grouped.apply(lambda group: apply_z_score(group, params, feature))\n"
     ]
    },
    {
     "name": "stdout",
     "output_type": "stream",
     "text": [
      "sure 0\n",
      "sure 0\n"
     ]
    },
    {
     "name": "stderr",
     "output_type": "stream",
     "text": [
      "/tmp/ipykernel_93300/3794500033.py:14: DeprecationWarning: DataFrameGroupBy.apply operated on the grouping columns. This behavior is deprecated, and in a future version of pandas the grouping columns will be excluded from the operation. Either pass `include_groups=False` to exclude the groupings or explicitly select the grouping columns after groupby to silence this warning.\n",
      "  params = grouped.apply(lambda group: calculate_params(group, feature=feature)).reset_index()\n",
      "/tmp/ipykernel_93300/3794500033.py:15: DeprecationWarning: DataFrameGroupBy.apply operated on the grouping columns. This behavior is deprecated, and in a future version of pandas the grouping columns will be excluded from the operation. Either pass `include_groups=False` to exclude the groupings or explicitly select the grouping columns after groupby to silence this warning.\n",
      "  grouped_with_z_score = grouped.apply(lambda group: apply_z_score(group, params, feature))\n"
     ]
    },
    {
     "name": "stdout",
     "output_type": "stream",
     "text": [
      "sure 0\n",
      "sure 0\n"
     ]
    },
    {
     "name": "stderr",
     "output_type": "stream",
     "text": [
      "/tmp/ipykernel_93300/3794500033.py:14: DeprecationWarning: DataFrameGroupBy.apply operated on the grouping columns. This behavior is deprecated, and in a future version of pandas the grouping columns will be excluded from the operation. Either pass `include_groups=False` to exclude the groupings or explicitly select the grouping columns after groupby to silence this warning.\n",
      "  params = grouped.apply(lambda group: calculate_params(group, feature=feature)).reset_index()\n",
      "/tmp/ipykernel_93300/3794500033.py:15: DeprecationWarning: DataFrameGroupBy.apply operated on the grouping columns. This behavior is deprecated, and in a future version of pandas the grouping columns will be excluded from the operation. Either pass `include_groups=False` to exclude the groupings or explicitly select the grouping columns after groupby to silence this warning.\n",
      "  grouped_with_z_score = grouped.apply(lambda group: apply_z_score(group, params, feature))\n"
     ]
    },
    {
     "name": "stdout",
     "output_type": "stream",
     "text": [
      "sure 0\n",
      "sure 0\n"
     ]
    }
   ],
   "source": [
    "for name_df, df_org in processed_dfs.items():\n",
    "    grouped = df_org.groupby(['age', 'sex'])\n",
    "\n",
    "    percentile_data = []\n",
    "    percentile = [3,5,10,25,50,75,90,95,97]\n",
    "    percentiles_labels = ['P3','P5', 'P10','P25', 'P50', 'P75', 'P90', 'P95','P97']\n",
    "    # Now, apply this to each group, passing the params DataFrame\n",
    "    frac = 0.7\n",
    "    features = ['height','weight']\n",
    "    colors = plt.cm.plasma(np.linspace(0, 1, len(percentile)))  # Using the 'plasma' colormap\n",
    "\n",
    "# Loop through each feature to calculate percentiles\n",
    "    for feature in features:\n",
    "        params = grouped.apply(lambda group: calculate_params(group, feature=feature)).reset_index()\n",
    "        grouped_with_z_score = grouped.apply(lambda group: apply_z_score(group, params, feature))\n",
    "        ages = sorted(grouped_with_z_score['age_x'].unique())\n",
    "        sexes = grouped_with_z_score['sex'].unique()\n",
    "        \n",
    "        for sex in sexes:\n",
    "            percentile_data = []  # Clear data for each sex\n",
    "            baseline_data = get_processed_cdc_dataset(feature, sex)  # Fetch dynamically\n",
    "            ages_who = baseline_data['Age'] / 12\n",
    "            # common_ages = np.intersect1d(ages, ages_who.unique())\n",
    "            # print(common_ages)\n",
    "            for age in ages:\n",
    "                feature_data = grouped_with_z_score[\n",
    "                    (grouped_with_z_score['age_x'] == age) & (grouped_with_z_score['sex'] == sex)\n",
    "                ][feature]\n",
    "\n",
    "                # Handle missing or invalid data\n",
    "                feature_data = pd.to_numeric(feature_data, errors='coerce').dropna()\n",
    "                if feature_data.empty:\n",
    "                    print(f\"No valid data for sex: {sex}, age: {age}. Skipping...\")\n",
    "                    continue\n",
    "\n",
    "                # Calculate percentiles\n",
    "                percentiles_values = np.percentile(feature_data, percentile)\n",
    "                percentile_data.append([sex, age] + percentiles_values.tolist())\n",
    "\n",
    "            if not percentile_data:\n",
    "                print(f\"No data for {sex} in feature {feature}. Skipping...\")\n",
    "                continue\n",
    "\n",
    "            # Create DataFrame from collected data\n",
    "            percentile_columns = ['Gender', 'Age'] + percentiles_labels\n",
    "            percentile_df = pd.DataFrame(percentile_data, columns=percentile_columns)\n",
    "\n",
    "            # Plotting\n",
    "            fig, ax = plt.subplots(figsize=(12, 6))\n",
    "            sex_data = percentile_df[percentile_df['Gender'] == sex]\n",
    "\n",
    "            # Smoothed custom percentiles\n",
    "            for idx, percentile_label in enumerate(percentiles_labels):\n",
    "                smoothed_percentile = lowess(sex_data[percentile_label], sex_data['Age'], frac=frac)\n",
    "                ax.plot(\n",
    "                    smoothed_percentile[:, 0],  # Ages\n",
    "                    smoothed_percentile[:, 1],  # Smoothed values\n",
    "                    linestyle='-',\n",
    "                    label=f'{percentile_label} Percentile',color=colors[idx]\n",
    "                )\n",
    "\n",
    "            # Add CDC baseline percentiles\n",
    "            for idx, percentile_label in enumerate(percentiles_labels):\n",
    "                ax.plot(\n",
    "                    ages_who,  # Ages\n",
    "                    baseline_data[percentile_label],  # CDC baseline values\n",
    "                    linestyle='--',\n",
    "\n",
    "                    label=f'{percentile_label} Percentile CDC',color=colors[idx]\n",
    "                )\n",
    "\n",
    "\n",
    "            # Title, labels, and legend\n",
    "            ax.set_title(f'{name_df}-{feature}-Percentiles by Age-{sex.capitalize()}-LMS Method-Compare to CDC')\n",
    "            ax.set_xlabel('Age')\n",
    "            ax.set_ylabel(feature.capitalize())\n",
    "            ax.legend()\n",
    "            ax.grid()\n",
    "            ax.set_xticks(sex_data['Age'])\n",
    "\n",
    "            # Save and show\n",
    "            plt.savefig(f'../compare_CDC_chart/{name_df}-{feature}-{sex.capitalize()}.png')\n",
    "            # plt.show()\n",
    "            plt.close()\n",
    "            percentile_data.clear()\n",
    "            print('sure',len(percentile_data))\n",
    "\n"
   ]
  },
  {
   "cell_type": "code",
   "execution_count": 45,
   "metadata": {},
   "outputs": [
    {
     "name": "stderr",
     "output_type": "stream",
     "text": [
      "/tmp/ipykernel_93300/3856443299.py:2: FutureWarning: The default of observed=False is deprecated and will be changed to True in a future version of pandas. Pass observed=False to retain current behavior or observed=True to adopt the future default and silence this warning.\n",
      "  grouped = df_org.groupby(['age', 'sex'])\n",
      "/tmp/ipykernel_93300/3856443299.py:14: DeprecationWarning: DataFrameGroupBy.apply operated on the grouping columns. This behavior is deprecated, and in a future version of pandas the grouping columns will be excluded from the operation. Either pass `include_groups=False` to exclude the groupings or explicitly select the grouping columns after groupby to silence this warning.\n",
      "  params = grouped.apply(lambda group: calculate_params(group, feature=feature)).reset_index()\n",
      "/tmp/ipykernel_93300/3856443299.py:15: DeprecationWarning: DataFrameGroupBy.apply operated on the grouping columns. This behavior is deprecated, and in a future version of pandas the grouping columns will be excluded from the operation. Either pass `include_groups=False` to exclude the groupings or explicitly select the grouping columns after groupby to silence this warning.\n",
      "  grouped_with_z_score = grouped.apply(lambda group: apply_z_score(group, params, feature))\n"
     ]
    },
    {
     "name": "stdout",
     "output_type": "stream",
     "text": [
      "sure 0\n",
      "sure 0\n"
     ]
    },
    {
     "name": "stderr",
     "output_type": "stream",
     "text": [
      "/tmp/ipykernel_93300/3856443299.py:2: FutureWarning: The default of observed=False is deprecated and will be changed to True in a future version of pandas. Pass observed=False to retain current behavior or observed=True to adopt the future default and silence this warning.\n",
      "  grouped = df_org.groupby(['age', 'sex'])\n",
      "/tmp/ipykernel_93300/3856443299.py:14: DeprecationWarning: DataFrameGroupBy.apply operated on the grouping columns. This behavior is deprecated, and in a future version of pandas the grouping columns will be excluded from the operation. Either pass `include_groups=False` to exclude the groupings or explicitly select the grouping columns after groupby to silence this warning.\n",
      "  params = grouped.apply(lambda group: calculate_params(group, feature=feature)).reset_index()\n",
      "/tmp/ipykernel_93300/3856443299.py:15: DeprecationWarning: DataFrameGroupBy.apply operated on the grouping columns. This behavior is deprecated, and in a future version of pandas the grouping columns will be excluded from the operation. Either pass `include_groups=False` to exclude the groupings or explicitly select the grouping columns after groupby to silence this warning.\n",
      "  grouped_with_z_score = grouped.apply(lambda group: apply_z_score(group, params, feature))\n"
     ]
    },
    {
     "name": "stdout",
     "output_type": "stream",
     "text": [
      "sure 0\n",
      "sure 0\n"
     ]
    },
    {
     "name": "stderr",
     "output_type": "stream",
     "text": [
      "/tmp/ipykernel_93300/3856443299.py:14: DeprecationWarning: DataFrameGroupBy.apply operated on the grouping columns. This behavior is deprecated, and in a future version of pandas the grouping columns will be excluded from the operation. Either pass `include_groups=False` to exclude the groupings or explicitly select the grouping columns after groupby to silence this warning.\n",
      "  params = grouped.apply(lambda group: calculate_params(group, feature=feature)).reset_index()\n",
      "/tmp/ipykernel_93300/3856443299.py:15: DeprecationWarning: DataFrameGroupBy.apply operated on the grouping columns. This behavior is deprecated, and in a future version of pandas the grouping columns will be excluded from the operation. Either pass `include_groups=False` to exclude the groupings or explicitly select the grouping columns after groupby to silence this warning.\n",
      "  grouped_with_z_score = grouped.apply(lambda group: apply_z_score(group, params, feature))\n"
     ]
    },
    {
     "name": "stdout",
     "output_type": "stream",
     "text": [
      "sure 0\n",
      "sure 0\n"
     ]
    },
    {
     "name": "stderr",
     "output_type": "stream",
     "text": [
      "/tmp/ipykernel_93300/3856443299.py:14: DeprecationWarning: DataFrameGroupBy.apply operated on the grouping columns. This behavior is deprecated, and in a future version of pandas the grouping columns will be excluded from the operation. Either pass `include_groups=False` to exclude the groupings or explicitly select the grouping columns after groupby to silence this warning.\n",
      "  params = grouped.apply(lambda group: calculate_params(group, feature=feature)).reset_index()\n",
      "/tmp/ipykernel_93300/3856443299.py:15: DeprecationWarning: DataFrameGroupBy.apply operated on the grouping columns. This behavior is deprecated, and in a future version of pandas the grouping columns will be excluded from the operation. Either pass `include_groups=False` to exclude the groupings or explicitly select the grouping columns after groupby to silence this warning.\n",
      "  grouped_with_z_score = grouped.apply(lambda group: apply_z_score(group, params, feature))\n"
     ]
    },
    {
     "name": "stdout",
     "output_type": "stream",
     "text": [
      "sure 0\n",
      "sure 0\n"
     ]
    },
    {
     "name": "stderr",
     "output_type": "stream",
     "text": [
      "/tmp/ipykernel_93300/3856443299.py:14: DeprecationWarning: DataFrameGroupBy.apply operated on the grouping columns. This behavior is deprecated, and in a future version of pandas the grouping columns will be excluded from the operation. Either pass `include_groups=False` to exclude the groupings or explicitly select the grouping columns after groupby to silence this warning.\n",
      "  params = grouped.apply(lambda group: calculate_params(group, feature=feature)).reset_index()\n",
      "/tmp/ipykernel_93300/3856443299.py:15: DeprecationWarning: DataFrameGroupBy.apply operated on the grouping columns. This behavior is deprecated, and in a future version of pandas the grouping columns will be excluded from the operation. Either pass `include_groups=False` to exclude the groupings or explicitly select the grouping columns after groupby to silence this warning.\n",
      "  grouped_with_z_score = grouped.apply(lambda group: apply_z_score(group, params, feature))\n"
     ]
    },
    {
     "name": "stdout",
     "output_type": "stream",
     "text": [
      "sure 0\n",
      "sure 0\n"
     ]
    }
   ],
   "source": [
    "for name_df, df_org in processed_dfs.items():\n",
    "    grouped = df_org.groupby(['age', 'sex'])\n",
    "\n",
    "    percentile_data = []\n",
    "    percentile = [3,5,10,25,50,75,85,90,95,97]\n",
    "    percentiles_labels = ['P3','P5', 'P10','P25', 'P50', 'P75','P85', 'P90', 'P95','P97']\n",
    "    # Now, apply this to each group, passing the params DataFrame\n",
    "    frac = 0.7\n",
    "    features = ['bmi1']\n",
    "    colors = plt.cm.plasma(np.linspace(0, 1, len(percentile)))  # Using the 'plasma' colormap\n",
    "\n",
    "# Loop through each feature to calculate percentiles\n",
    "    for feature in features:\n",
    "        params = grouped.apply(lambda group: calculate_params(group, feature=feature)).reset_index()\n",
    "        grouped_with_z_score = grouped.apply(lambda group: apply_z_score(group, params, feature))\n",
    "        ages = sorted(grouped_with_z_score['age_x'].unique())\n",
    "        sexes = grouped_with_z_score['sex'].unique()\n",
    "        \n",
    "        for sex in sexes:\n",
    "            percentile_data = []  # Clear data for each sex\n",
    "            baseline_data = get_processed_cdc_dataset(feature, sex)  # Fetch dynamically\n",
    "            ages_who = baseline_data['Age'] / 12\n",
    "            # common_ages = np.intersect1d(ages, ages_who.unique())\n",
    "            # print(common_ages)\n",
    "            for age in ages:\n",
    "                feature_data = grouped_with_z_score[\n",
    "                    (grouped_with_z_score['age_x'] == age) & (grouped_with_z_score['sex'] == sex)\n",
    "                ][feature]\n",
    "\n",
    "                # Handle missing or invalid data\n",
    "                feature_data = pd.to_numeric(feature_data, errors='coerce').dropna()\n",
    "                if feature_data.empty:\n",
    "                    print(f\"No valid data for sex: {sex}, age: {age}. Skipping...\")\n",
    "                    continue\n",
    "\n",
    "                # Calculate percentiles\n",
    "                percentiles_values = np.percentile(feature_data, percentile)\n",
    "                percentile_data.append([sex, age] + percentiles_values.tolist())\n",
    "\n",
    "            if not percentile_data:\n",
    "                print(f\"No data for {sex} in feature {feature}. Skipping...\")\n",
    "                continue\n",
    "\n",
    "            # Create DataFrame from collected data\n",
    "            percentile_columns = ['Gender', 'Age'] + percentiles_labels\n",
    "            percentile_df = pd.DataFrame(percentile_data, columns=percentile_columns)\n",
    "\n",
    "            # Plotting\n",
    "            fig, ax = plt.subplots(figsize=(12, 6))\n",
    "            sex_data = percentile_df[percentile_df['Gender'] == sex]\n",
    "\n",
    "            # Smoothed custom percentiles\n",
    "            for idx, percentile_label in enumerate(percentiles_labels):\n",
    "                smoothed_percentile = lowess(sex_data[percentile_label], sex_data['Age'], frac=frac)\n",
    "                ax.plot(\n",
    "                    smoothed_percentile[:, 0],  # Ages\n",
    "                    smoothed_percentile[:, 1],  # Smoothed values\n",
    "                    linestyle='-',\n",
    "                    label=f'{percentile_label} Percentile',color=colors[idx]\n",
    "                )\n",
    "\n",
    "            # Add CDC baseline percentiles\n",
    "            for idx, percentile_label in enumerate(percentiles_labels):\n",
    "                ax.plot(\n",
    "                    ages_who,  # Ages\n",
    "                    baseline_data[percentile_label],  # CDC baseline values\n",
    "                    linestyle='--',\n",
    "\n",
    "                    label=f'{percentile_label} Percentile CDC',color=colors[idx]\n",
    "                )\n",
    "\n",
    "\n",
    "            # Title, labels, and legend\n",
    "            ax.set_title(f'{name_df}-{feature}-Percentiles by Age-{sex.capitalize()}-LMS Method-Compare to CDC')\n",
    "            ax.set_xlabel('Age')\n",
    "            ax.set_ylabel(feature.capitalize())\n",
    "            ax.legend()\n",
    "            ax.grid()\n",
    "            ax.set_xticks(sex_data['Age'])\n",
    "\n",
    "            # Save and show\n",
    "            plt.savefig(f'../compare_CDC_chart/{name_df}-{feature}-{sex.capitalize()}.png')\n",
    "            # plt.show()\n",
    "            plt.close()\n",
    "            percentile_data.clear()\n",
    "            print('sure',len(percentile_data))\n",
    "\n"
   ]
  }
 ],
 "metadata": {
  "kernelspec": {
   "display_name": "CASPIAN_env",
   "language": "python",
   "name": "python3"
  },
  "language_info": {
   "codemirror_mode": {
    "name": "ipython",
    "version": 3
   },
   "file_extension": ".py",
   "mimetype": "text/x-python",
   "name": "python",
   "nbconvert_exporter": "python",
   "pygments_lexer": "ipython3",
   "version": "3.10.12"
  }
 },
 "nbformat": 4,
 "nbformat_minor": 2
}

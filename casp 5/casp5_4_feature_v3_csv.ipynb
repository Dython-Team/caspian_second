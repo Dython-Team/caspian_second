{
 "cells": [
  {
   "cell_type": "code",
   "execution_count": 3,
   "metadata": {},
   "outputs": [],
   "source": [
    "import os\n",
    "import numpy as np\n",
    "import pandas as pd\n",
    "import matplotlib.pyplot as plt\n",
    "from matplotlib import cm\n",
    "from scipy import stats\n",
    "from scipy.interpolate import interp1d\n",
    "from statsmodels.nonparametric.smoothers_lowess import lowess\n",
    "import seaborn as sns\n",
    "import statsmodels.api as sm\n",
    "from sklearn.model_selection import train_test_split\n",
    "from sklearn.metrics import accuracy_score, classification_report\n",
    "from sklearn.feature_selection import SelectKBest, f_classif\n",
    "from catboost import CatBoostClassifier, Pool\n",
    "import shap\n",
    "from imblearn.over_sampling import SMOTE\n",
    "from imblearn.under_sampling import RandomUnderSampler\n",
    "from imblearn.pipeline import Pipeline\n",
    "from feature_mapping import *\n"
   ]
  },
  {
   "cell_type": "code",
   "execution_count": 4,
   "metadata": {},
   "outputs": [],
   "source": [
    "df_5 = pd.read_spss('../data/caspian-5.sav',convert_categoricals=True)"
   ]
  },
  {
   "cell_type": "code",
   "execution_count": 5,
   "metadata": {},
   "outputs": [
    {
     "name": "stdout",
     "output_type": "stream",
     "text": [
      "  university         grade gender  birth_date close_friend_count  \\\n",
      "0     tabriz     elemantry   girl        82.0             2 dost   \n",
      "1      fasad  intermidiate   girl        81.0             1 dost   \n",
      "2    ardebil     elemantry    boy        80.0          3 or more   \n",
      "3   lorestan     elemantry    boy        80.0          3 or more   \n",
      "4  kurdestan  intermidiate    boy        79.0          3 or more   \n",
      "\n",
      "  spent_time_friend1 spent_time_friend2 chatting_online   body_image  \\\n",
      "0              0 roz              0 roz           never       normal   \n",
      "1              0 roz              0 roz           never  kami laghar   \n",
      "2              3 roz              4 roz  5 or 6 in week       normal   \n",
      "3              0 roz              0 roz           never       normal   \n",
      "4              2 roz              1 roz           never       normal   \n",
      "\n",
      "  diet_plan  ... reduce_fat use_liquid_oil increase_vegetables reduce_sugar  \\\n",
      "0      khub  ...         no             no                 yes          yes   \n",
      "1      khub  ...        yes            yes                 yes           no   \n",
      "2       yes  ...         no             no                  no           no   \n",
      "3      khub  ...         no            yes                 yes          yes   \n",
      "4      khub  ...        yes            yes                 yes          yes   \n",
      "\n",
      "  reduce_salt reduce_fast_food fruit_nut_substitute injury_parent_ask  \\\n",
      "0         yes              yes                  yes                no   \n",
      "1         yes              yes                  yes                no   \n",
      "2          no               no                  NaN                no   \n",
      "3          no              yes                  yes                no   \n",
      "4         yes              yes                  yes                no   \n",
      "\n",
      "  injury_complication region  \n",
      "0                 NaN  urban  \n",
      "1                 NaN  urban  \n",
      "2         dar raftegi  urban  \n",
      "3                 NaN  urban  \n",
      "4                 NaN  rural  \n",
      "\n",
      "[5 rows x 131 columns]\n"
     ]
    }
   ],
   "source": [
    "from feature_mapping import map_feature, map_feature_4\n",
    "\n",
    "# Step 1: Filter the dataset to keep only the features in the dictionary\n",
    "features_to_keep = map_feature.keys()\n",
    "df_5_filtered = df_5[list(features_to_keep)]\n",
    "\n",
    "# Step 2: Rename the features based on the map_feature dictionary\n",
    "df_5_filtered = df_5_filtered.rename(columns=map_feature)\n",
    "\n",
    "# Step 3: Display the filtered and renamed dataset\n",
    "print(df_5_filtered.head())\n"
   ]
  },
  {
   "cell_type": "markdown",
   "metadata": {},
   "source": [
    "change ap_17 to ap_21 as livingparent and remove them"
   ]
  },
  {
   "cell_type": "code",
   "execution_count": 6,
   "metadata": {},
   "outputs": [],
   "source": [
    "def determine_livingparent(row):\n",
    "    if row[\"ap_17\"] == \"yes\" and row[\"ap_18\"] == \"yes\":\n",
    "        return \"Ba hardo\"\n",
    "    elif row[\"ap_17\"] == \"yes\" or row[\"ap_18\"] == \"yes\":\n",
    "        return \"Ba yeki az valedayn\"\n",
    "    else:\n",
    "        return \"Napedar v na madar\"\n",
    "\n",
    "df_5_filtered[\"livingparent\"] = df_5_filtered.apply(determine_livingparent, axis=1)\n",
    "df_5_filtered.drop(['ap_17','ap_18','ap_19','ap_20','ap_21'],axis=1,inplace=True)\n",
    "df_5_filtered['source']='casp 5'"
   ]
  },
  {
   "cell_type": "code",
   "execution_count": 7,
   "metadata": {},
   "outputs": [
    {
     "data": {
      "text/plain": [
       "(13983, 128)"
      ]
     },
     "execution_count": 7,
     "metadata": {},
     "output_type": "execute_result"
    }
   ],
   "source": [
    "df_5_filtered.shape\n",
    "\n"
   ]
  },
  {
   "cell_type": "markdown",
   "metadata": {},
   "source": [
    "upload dataset 4"
   ]
  },
  {
   "cell_type": "code",
   "execution_count": 8,
   "metadata": {},
   "outputs": [
    {
     "name": "stdout",
     "output_type": "stream",
     "text": [
      "        university      grade gender  birth_date close_friend_count  \\\n",
      "0  khozestan-ahvaz  rahnamayi    boy        79.0               yeki   \n",
      "1  khozestan-ahvaz  rahnamayi    boy        74.0     3ta va bishtar   \n",
      "2          boshehr   ebtedayi   girl        80.0     3ta va bishtar   \n",
      "3          ardabil  rahnamayi   girl        78.0                2ta   \n",
      "4          ardabil   ebtedayi   girl        81.0               yeki   \n",
      "\n",
      "  spent_time_friend1 spent_time_friend2       chatting_online body_image  \\\n",
      "0           hich ruz               3ruz  5 ya 6 ruz dar hafte  kami chag   \n",
      "1               2ruz               2ruz   1 ya 2ruz dar hafte     normal   \n",
      "2           hich ruz               2ruz  5 ya 6 ruz dar hafte  kamilagar   \n",
      "3               5ruz               4ruz  3 ya 4 ruz dar hafte  kamilagar   \n",
      "4               1ruz               1ruz   1 ya 2ruz dar hafte     normal   \n",
      "\n",
      "      diet_plan  ... reduce_fast_food increase_vegetables reduce_salt  \\\n",
      "0  no wt ok ast  ...               no                  no          no   \n",
      "1  no wt ok ast  ...                                                    \n",
      "2  no wt ok ast  ...               no                  no          no   \n",
      "3           yes  ...               no                 yes          no   \n",
      "4  no wt ok ast  ...              yes                  no          no   \n",
      "\n",
      "   reduce_sugar  reduce_fat  use_liquid_oil injury_parent_ask  \\\n",
      "0            no          no              no                no   \n",
      "1                                                               \n",
      "2            no          no              no                no   \n",
      "3            no          no              no                no   \n",
      "4            no          no             yes                no   \n",
      "\n",
      "  injury_complication region  source  \n",
      "0                      urban  casp 4  \n",
      "1                      urban  casp 4  \n",
      "2                      urban  casp 4  \n",
      "3                      urban  casp 4  \n",
      "4                      urban  casp 4  \n",
      "\n",
      "[5 rows x 128 columns]\n"
     ]
    }
   ],
   "source": [
    "from feature_mapping import map_feature_4\n",
    "df_4 = pd.read_spss('../final_data/caspian4-ghorbani.sav')\n",
    "features_to_keep = map_feature_4.keys()\n",
    "df_4_filtered = df_4[list(features_to_keep)]\n",
    "\n",
    "df_4_filtered = df_4_filtered.rename(columns=map_feature_4)\n",
    "df_4_filtered['source']='casp 4'\n",
    "# Step 4: Display the filtered dataset\n",
    "print(df_4_filtered.head())"
   ]
  },
  {
   "cell_type": "code",
   "execution_count": 9,
   "metadata": {},
   "outputs": [
    {
     "data": {
      "text/plain": [
       "Index(['university', 'grade', 'gender', 'birth_date', 'close_friend_count',\n",
       "       'spent_time_friend1', 'spent_time_friend2', 'chatting_online',\n",
       "       'body_image', 'diet_plan',\n",
       "       ...\n",
       "       'reduce_fast_food', 'increase_vegetables', 'reduce_salt',\n",
       "       'reduce_sugar', 'reduce_fat', 'use_liquid_oil', 'injury_parent_ask',\n",
       "       'injury_complication', 'region', 'source'],\n",
       "      dtype='object', length=128)"
      ]
     },
     "execution_count": 9,
     "metadata": {},
     "output_type": "execute_result"
    }
   ],
   "source": [
    "combined_df = pd.concat([df_4_filtered, df_5_filtered], ignore_index=True)\n",
    "\n",
    "# Display the combined dataset\n",
    "combined_df.columns"
   ]
  },
  {
   "cell_type": "code",
   "execution_count": 10,
   "metadata": {},
   "outputs": [],
   "source": [
    "import re\n",
    "combined_df.replace('', np.nan, inplace=True)\n",
    "combined_df.replace('rarely','seldom/never',inplace=True)\n",
    "combined_df.replace('never','seldom/never',inplace=True)\n",
    "\n",
    "combined_df.replace('hichvaght','seldom/never',inplace=True)\n",
    "combined_df.replace({'hich ruz': '0 day', 'hich ruzi': '0 day'}, inplace=True)\n",
    "\n",
    "categorical_columns = combined_df.select_dtypes(include=['object', 'category']).columns\n",
    "for col in categorical_columns:\n",
    "    combined_df[col] = combined_df[col].apply(lambda x: x.lower() if isinstance(x, str) and x != '' else np.nan)\n",
    "    combined_df[col] = combined_df[col].apply(lambda x: x.strip() if isinstance(x, str) and x != '' else np.nan)\n",
    "    combined_df[col] = combined_df[col].apply(lambda x: re.sub(r'(\\d)(\\w)', r'\\1 \\2', str(x)) if isinstance(x, str) else x)\n",
    "    combined_df[col] = combined_df[col].apply(lambda x: str(x).replace('ruzi', 'day').replace('ruz', 'day').replace('roz', 'day') if isinstance(x, str) else x)\n",
    "    combined_df[col] = combined_df[col].apply(lambda x: str(x).replace('hours', 'hour').replace('saat', 'hour') if isinstance(x, str) else x)\n",
    "    combined_df[col] = combined_df[col].apply(lambda x: re.sub(r'(\\d)\\s*ta\\s*(\\d)', r'\\1-\\2', str(x)) if isinstance(x, str) else x)\n",
    "    "
   ]
  },
  {
   "cell_type": "code",
   "execution_count": 11,
   "metadata": {},
   "outputs": [
    {
     "name": "stdout",
     "output_type": "stream",
     "text": [
      "Columns in df1 but not in df2: set()\n",
      "Columns in df2 but not in df1: set()\n"
     ]
    }
   ],
   "source": [
    "# Standardize column names\n",
    "df_4_filtered.columns = df_4_filtered.columns.str.strip().str.lower()\n",
    "df_5_filtered.columns = df_5_filtered.columns.str.strip().str.lower()\n",
    "\n",
    "# Compare again\n",
    "print(\"Columns in df1 but not in df2:\", set(df_4_filtered.columns) - set(df_5_filtered.columns))\n",
    "print(\"Columns in df2 but not in df1:\", set(df_5_filtered.columns) - set(df_4_filtered.columns))\n"
   ]
  },
  {
   "cell_type": "code",
   "execution_count": 12,
   "metadata": {},
   "outputs": [
    {
     "name": "stdout",
     "output_type": "stream",
     "text": [
      "Column: university, Unique Values: ['khozestan-ahvaz', 'boshehr', 'ardabil', 'azar garbi', 'khorasan shomali-bojnord', 'qazvin', 'lorestan', 'khorasan razavi-mashad', 'kordestan', 'yazd', 'kerman-kerman', 'kermanshah', 'isfahan', 'markazi', 'shahid beheshti', 'sistan-zabol', 'ilam', 'kohkiloye', '4 mahal bakhtiyari', 'hormzgan', 'sistan-zahedan', 'semnan-semnan', 'golestan', 'mazandaran-babol', 'kerman-jiroft', 'hamadan', 'semnan-shahrod', 'khozestan-dezfol', 'alborz', 'kerman-rafsanjan', 'azar shargi', 'zanjan', 'fars-shiraz', 'gilan', 'qom', 'fars-jahrom', 'isfahan-kashan', 'tehran', 'khorasan razavi-sabzavar', 'khorasan razavi-neishabor', 'fars-fasa', 'tabriz', 'fasad', 'ardebil', 'kurdestan', 'khorasan shomali', 'charmahal', 'khorasan jonobi', 'azar gharbi', 'mazandaran', 'kohkiloyeh', 'babol', 'rafsanjan', 'zabol', 'hormozgan', 'arak', 'khozestan', 'kerman', 'semnan', 'hamedan', 'behbahan', 'kerman.jiroft', 'khorasan razavi', 'esfarayen', 'iran', 'saveh', 'dezful', 'neishabor', 'abadan', 'torbat jam', 'fars', 'iranshahr', 'shahidbeheshti', 'torbat heidariyeh', 'sistan', 'bam', 'shahrood', 'sabzevar', 'jahrom', 'kashan', 'shoshtar', 'larestan']\n",
      "Column: grade, Unique Values: ['rahnamayi', 'ebtedayi', 'dabirestan', 'elemantry', 'intermidiate']\n",
      "Column: gender, Unique Values: ['boy', 'girl']\n",
      "Column: close_friend_count, Unique Values: ['yeki', '3 ta va bishtar', '2 ta', 'aslan nadarm', '2 dost', '1 dost', '3 or more', 'nadarad']\n",
      "Column: spent_time_friend1, Unique Values: ['0 day', '2 day', '5 day', '1 day', '4 day', '6 day', '3 day']\n",
      "Column: spent_time_friend2, Unique Values: ['3 day', '2 day', '4 day', '1 day', '0 day', '6 day', '5 day']\n",
      "Column: chatting_online, Unique Values: ['5 ya 6 day dar hafte', '1 ya 2 day dar hafte', '3 ya 4 day dar hafte', 'benodrat ya hargez', 'seldom/never', '5 or 6 in week', '3 or 4 in week', '1 or 2 in week', 'everyday']\n",
      "Column: body_image, Unique Values: ['kami chag', 'normal', 'kamilagar', 'khalilagar', 'khaili chag', 'kami laghar', 'kheili chagh', 'kami chagh', 'kheili laghar']\n",
      "Column: diet_plan, Unique Values: ['no wt ok ast', 'yes', 'no vali bayad kam kard', 'no vali bayad bishtar kard', 'khub', 'kam konam', 'bishtar konam']\n",
      "Column: breakfast_routindays, Unique Values: ['aslan nemikhoram', '2 day', '6 day', '4 day', '5 day', '3 day', '1 day']\n",
      "Column: breakfast_friday, Unique Values: ['nemikhoram', 'mikhoram']\n",
      "Column: lunch_routinday, Unique Values: ['2 shab', '5 shab', '4 shab', 'aslan nemikhoram', '1 shab', '3 shab', '6 day', '1 day', '5 day', '3 day', '4 day', '2 day']\n",
      "Column: lunch_friday, Unique Values: ['mikhoram', 'nemikhoram']\n",
      "Column: dinner_routinday, Unique Values: ['6 shab', '2 shab', '5 shab', '4 shab', '3 shab', 'aslan nemikhoram', '1 shab']\n",
      "Column: dinner_friday, Unique Values: ['mikhoram', 'nemikhoram']\n",
      "Column: sweet, Unique Values: ['seldom/never', 'daily', 'weekly']\n",
      "Column: saltysnack, Unique Values: ['daily', 'weekly', 'seldom/never']\n",
      "Column: soda, Unique Values: ['seldom/never', 'weekly', 'daily']\n",
      "Column: fresh_fruit, Unique Values: ['nondaily', 'daily']\n",
      "Column: dry_fruit, Unique Values: ['seldom/never', 'weekly', 'daily']\n",
      "Column: fresh_juice, Unique Values: ['seldom/never', 'weekly', 'daily']\n",
      "Column: packed_juice, Unique Values: ['seldom/never', 'weekly', 'daily']\n",
      "Column: vegetables, Unique Values: ['daily', 'weekly', 'seldom/never']\n",
      "Column: milk, Unique Values: ['seldom/never', 'weekly', 'daily']\n",
      "Column: fastfoods, Unique Values: ['weekly', 'seldom/never', 'daily']\n",
      "Column: physical_activity_hour, Unique Values: ['1 hour', '2 hour', '3 or more hour', '0 hour']\n",
      "Column: physical_activity, Unique Values: ['0 day', '3 day', '6 day', '1 day', '4 day', '7 day', '2 day', '5 day']\n",
      "Column: TV_watching_routinday, Unique Values: ['aslan', '2 hour', '1 hour', '4 ya bishtar', '3 hour', '4 hour or more', 'seldom/never']\n",
      "Column: TV_watching_friday, Unique Values: ['3 hour', '2 hour', '1 hour', '4 ya bishtar', 'aslan', '4 hour or more', 'seldom/never']\n",
      "Column: computer_work_routinday, Unique Values: ['aslan', '1 hour', '2 hour', '3 hour', '4 ya bishtar', 'seldom/never', '4 hour or more']\n",
      "Column: computer_work_friday, Unique Values: ['aslan', '1 hour', '3 hour', '2 hour', '4 ya bishtar', '4 hour or more', 'seldom/never']\n",
      "Column: injury_number, Unique Values: ['0.0', '1 bar', '3 bar', '4 bar', '2 bar', 'jerahat nadashtam']\n",
      "Column: injury_place, Unique Values: ['dar khane ya hayate khane', 'khiaban,jadeh ya parking', 'bejoz mavarede bala', 'madrese', 'khareje shahr', 'varzeshgah ya zamine varzesh', 'mahale tejari ya kari', 'madreseh', 'khaiban', 'khaneh', 'varzeshgah', 'other', 'tejari']\n",
      "Column: injury_cause, Unique Values: ['rah raftan ya davidan', '2 charkhe savari', 'bazi ya tamrine varzeshi', 'hadese mashin ya motor', 'karhaye digar', 'dava', 'kar', 'randane mashin ya motaor', 'skeyt', 'walking', 'car', 'bike', 'gaming', 'other', 'quarrel', 'work', 'skating', 'driving a car']\n",
      "Column: injury_treatment_place, Unique Values: ['matab', 'darmanga ya markaze behdasht', 'otaghe behdasht', 'jaye diger', 'orjans', 'other', 'darmangah', 'otagh behdasht', 'emergency', 'matabe pezeshk']\n",
      "Column: fight_number, Unique Values: ['0', '2', '1', '4', '3', 'seldom/never', '2 bar', '1 bar', '4 bar', '3 bar']\n",
      "Column: litigant, Unique Values: ['nadashtam', 'dustam', 'ba valedeyn ya afrad bozorgsal', 'kamelan gharibe', 'baradar ya khahar', 'nadashte', 'brothers or sister', 'gharibeg', 'dustan', 'parents']\n",
      "Column: carry_weapons, Unique Values: ['seldom/never', '1 day', '6 day ya bishtar', '4-5 day', '2-3 day', '6 or more day']\n",
      "Column: victim_number, Unique Values: ['seldom/never', '2-3 bar', '1 ya 2 bar', 'bishtar az3', 'more than 3 bar', '1 or 2 bar']\n",
      "Column: bully_number, Unique Values: ['nagofteam', 'faqat 1 ya 2 bar', '2-3 bar', '4 bar ya bishtar', 'zurgugi nakardam', '4 or more bar', '1-2 bar']\n",
      "Column: mother_hookah, Unique Values: ['no', 'yes']\n",
      "Column: father_hookah, Unique Values: ['no', 'yes']\n",
      "Column: sibling_hookah, Unique Values: ['no', 'yes']\n",
      "Column: others_hookah, Unique Values: ['no', 'yes']\n",
      "Column: father_smoker, Unique Values: ['no', 'yes']\n",
      "Column: mother_smoker, Unique Values: ['no', 'yes']\n",
      "Column: sibling_smoker, Unique Values: ['no', 'yes']\n",
      "Column: others_smoker, Unique Values: ['no', 'yes']\n",
      "Column: comfort_mother, Unique Values: ['raht', 'doshvar', 'kasi nadarm ya dur ast', 'rahati', 'doshvari', 'nadaram']\n",
      "Column: comfort_friend, Unique Values: ['raht', 'doshvar', 'kasi nadarm ya dur ast', 'rahati', 'nadaram', 'doshvari']\n",
      "Column: comfort_father, Unique Values: ['raht', 'doshvar', 'kasi nadarm ya dur ast', 'rahati', 'doshvari', 'nadaram']\n",
      "Column: comfort_sister, Unique Values: ['raht', 'kasi nadarm ya dur ast', 'doshvar', 'rahati', 'nadaram', 'doshvari']\n",
      "Column: comfort_brother, Unique Values: ['raht', 'kasi nadarm ya dur ast', 'doshvar', 'rahati', 'nadaram', 'doshvari']\n",
      "Column: confusion_number, Unique Values: ['benodrat ya hargez', 'taqriban har mah', 'taqriban har hafte', 'bish az 1 bar', 'taqriban har day', 'seldom/never', 'more than once a week', 'everyweek', 'every month', 'everyday']\n",
      "Column: worthless_number, Unique Values: ['benodrat ya hargez', 'taqriban har mah', 'taqriban har hafte', 'taqriban har day', 'bish az 1 bar', 'seldom/never', 'everyweek', 'more than once a week', 'every month', 'everyday']\n",
      "Column: insomnia_number, Unique Values: ['benodrat ya hargez', 'taqriban har mah', 'bish az 1 bar', 'taqriban har hafte', 'taqriban har day', 'seldom/never', 'more than once a week', 'every month', 'everyweek', 'everyday']\n",
      "Column: back_pain_number, Unique Values: ['benodrat ya hargez', 'taqriban har mah', 'taqriban har day', 'bish az 1 bar', 'taqriban har hafte', 'seldom/never', 'every month', 'more than once a week', 'everyweek', 'everyday']\n",
      "Column: headache_number, Unique Values: ['benodrat ya hargez', 'taqriban har hafte', 'taqriban har mah', 'bish az 1 bar', 'taqriban har day', 'seldom/never', 'every month', 'more than once a week', 'everyweek', 'everyday']\n",
      "Column: worried_number, Unique Values: ['benodrat ya hargez', 'bish az 1 bar', 'taqriban har day', 'taqriban har hafte', 'taqriban har mah', 'seldom/never', 'more than once a week', 'every month', 'everyday', 'everyweek']\n",
      "Column: stomach_ache_number, Unique Values: ['benodrat ya hargez', 'taqriban har day', 'taqriban har mah', 'bish az 1 bar', 'taqriban har hafte', 'seldom/never', 'every month', 'more than once a week', 'everyweek', 'everyday']\n",
      "Column: angriness_number, Unique Values: ['benodrat ya hargez', 'bish az 1 bar', 'taqriban har mah', 'taqriban har day', 'taqriban har hafte', 'seldom/never', 'everyweek', 'more than once a week', 'every month', 'everyday']\n",
      "Column: depression, Unique Values: ['kheir', 'bekhater nadarm', 'bali', '0.0', 'no', 'yes', 'be khater nadaram']\n",
      "Column: anxiety_number, Unique Values: ['hargez', 'gahi', 'benodrat', 'hamishe', 'bishtare vaghtha', 'seldom/never', 'sometimes', 'most of the time', 'always']\n",
      "Column: mental_health_overview, Unique Values: ['motevaset', 'khob', 'bad', 'aali', 'perfect', 'average', 'good']\n",
      "Column: smoking_type, Unique Values: ['no  current smmoker', 'qalyan', 'sigar', 'missing', 'sayer', 'peip', 'other', 'ghelyun', 'cigar']\n",
      "Column: current_smoker_status, Unique Values: ['yes', 'no']\n",
      "Column: smoke_leisure, Unique Values: ['yes', 'no']\n",
      "Column: smoke_escaping_problems, Unique Values: ['yes', 'no']\n",
      "Column: smoke_pleasure, Unique Values: ['yes', 'no']\n",
      "Column: smoke_feeling_grown_up, Unique Values: ['no', 'yes']\n",
      "Column: smoke_anxiety_reduction, Unique Values: ['no', 'yes']\n",
      "Column: smoke_social_acceptance, Unique Values: ['no', 'yes']\n",
      "Column: smoke_confidence_boost, Unique Values: ['no', 'yes']\n",
      "Column: smoke_focus, Unique Values: ['no', 'yes']\n",
      "Column: smoke_staying_awake, Unique Values: ['no', 'yes']\n",
      "Column: smoke_feeling_loved, Unique Values: ['no', 'yes']\n",
      "Column: catage, Unique Values: ['1 1-1 4', '1 5-1 9', '6-1 0', '1 1-1 4y', '1 5-1 8y', '7-1 0y']\n",
      "Column: home_ownership, Unique Values: ['shakshi', 'estijari', 'shakhsi', 'stijari', 'sazmani']\n",
      "Column: father_edu, Unique Values: ['ebtedaei', 'bisavad', 'rahnamaei', 'balaye lisans', 'diplom', 'lisans', 'savad qorani', 'intermediate', 'diplome', 'illiterate', 'father died', 'bachelor', 'upper than bachelor', 'primary', 'quranic literacy']\n",
      "Column: mother_edu, Unique Values: ['diplom', 'bisavad', 'rahnamaei', 'lisans', 'ebtedaei', 'savad qorani', 'balaye lisans', 'primary', 'diplome', 'intermediate', 'illiterate', 'bachelor', 'quranic literacy', 'upper than bachelor', 'mother died']\n",
      "Column: father_job, Unique Values: ['azad', 'worker/employee', 'unemploed', 'keshavarz', 'karmand', 'father died', 'jobless', 'karegar']\n",
      "Column: mother_job, Unique Values: ['household', 'workoer/employee', 'others', 'khane dar', 'keshavarz', 'karmand', 'other', 'karegar', 'mother died']\n",
      "Column: school_type, Unique Values: ['gheyre entefaei', 'dolati', 'gheyre entefai']\n",
      "Column: car_ownership, Unique Values: ['yes', 'no']\n",
      "Column: computer_ownership, Unique Values: ['yes', 'no']\n",
      "Column: livingparent, Unique Values: ['ba hardo', 'napedar v na madar', 'ba yeki az valedayn']\n",
      "Column: children_number, Unique Values: ['<2 children', '2-4 children', '>4 children']\n",
      "Column: birth_order, Unique Values: ['second', 'first', 'third', 'forth or more']\n",
      "Column: birth_weight, Unique Values: ['2.5-4 kg', '>4 kg', '<2.5 kg', 'nemidanam', '2 50 0-4 00 0', 'more than 4 00 0', 'less than 2 50 0']\n",
      "Column: milk_type, Unique Values: ['shire madar', 'shire madar va khoshk', 'shire gav', 'shire khoshk', 'madar va gav', 'khoshk va gav', 'shir madar va shire khoshk', 'shir madar va gav', 'har 3', 'shir khoshk va gav']\n",
      "Column: complementary_feeding, Unique Values: ['ghazaye manzel', 'har2 ama manzel bishtar', 'qazaye amade', 'har2 ama bishtar amade', 'har do vali bishtar manzel', 'tahiye shide dar manzel', 'har do vali bishtar ghazaye amadeh', 'ghazaye amadeh']\n",
      "Column: bread_type, Unique Values: ['bedune sabus', 'sabusdar', 'sabus dar']\n",
      "Column: oil_type, Unique Values: ['sorkhkardani', 'roqan jamed', 'roqan maye', 'roqan heyvanu', 'kare', 'pie va donbe', 'jamed', 'kareh', 'maaye', 'sorkh kardani', 'heyvani', 'pieye va donbe']\n",
      "Column: table_salt, Unique Values: ['yes', 'no', 'always', 'sometimes', 'seldom/never']\n",
      "Column: dairy_type, Unique Values: ['qeyre pasto porcharb', 'pastoriz mauli', 'p porcharb', 'qeyre pasto mamuli', 'p kamcharb', 'patorize mamuli', 'gheyre pastorize mamuli', 'pastorize por charb', 'pastorize kam charb', 'gheyre pastorize por charb']\n",
      "Column: fatty_dairy, Unique Values: ['weekly', 'daily', 'seldom/never']\n",
      "Column: usual_dairy, Unique Values: ['daily', 'weekly', 'seldom/never']\n",
      "Column: grains, Unique Values: ['seldom/never', 'weekly', 'daily']\n",
      "Column: meat, Unique Values: ['weekly', 'daily', 'seldom/never']\n",
      "Column: liverandkalepache, Unique Values: ['weekly', 'seldom/never', 'daily']\n",
      "Column: bread, Unique Values: ['daily', 'weekly', 'seldom/never']\n",
      "Column: rice, Unique Values: ['weekly', 'daily', 'seldom/never']\n",
      "Column: potato, Unique Values: ['seldom/never', 'weekly', 'daily']\n",
      "Column: friedfoods, Unique Values: ['weekly', 'daily', 'seldom/never']\n",
      "Column: fruit_nut_substitute, Unique Values: ['no', 'yes']\n",
      "Column: reduce_fast_food, Unique Values: ['no', 'yes']\n",
      "Column: increase_vegetables, Unique Values: ['no', 'yes']\n",
      "Column: reduce_salt, Unique Values: ['no', 'yes']\n",
      "Column: reduce_sugar, Unique Values: ['no', 'yes']\n",
      "Column: reduce_fat, Unique Values: ['no', 'yes']\n",
      "Column: use_liquid_oil, Unique Values: ['no', 'yes']\n",
      "Column: injury_parent_ask, Unique Values: ['no', 'yes']\n",
      "Column: injury_complication, Unique Values: ['borieidegi,sorakh shodegi,zakhme chaghu', 'pichkhordegi ya keshidegi azole', 'sayer', 'dar raftegi mafsal', 'sookhtegi', 'shekastegi ostokhan', 'bihushi nashi az zarbe be sar ya sadame saro gardan', 'jerahate dakheli niazmande jarahi', 'dar raftegi', 'other', 'pich khordegi', 'ostokhan', 'boridegi', 'jerahat', 'sukhtegi', 'bihushi']\n",
      "Column: region, Unique Values: ['urban', 'rural']\n",
      "Column: source, Unique Values: ['casp 4', 'casp 5']\n"
     ]
    }
   ],
   "source": [
    "categorical_columns = combined_df.select_dtypes(include=['object', 'category']).columns\n",
    "\n",
    "# Get unique values for each categorical column\n",
    "unique_values = {col: combined_df[col].dropna().unique().tolist() for col in categorical_columns}\n",
    "\n",
    "# Print the results\n",
    "for col, values in unique_values.items():\n",
    "    print(f\"Column: {col}, Unique Values: {values}\")"
   ]
  },
  {
   "cell_type": "code",
   "execution_count": 13,
   "metadata": {},
   "outputs": [],
   "source": [
    "from feature_mapping import mapping_university\n",
    "combined_df['university'] = combined_df['university'].apply(lambda x: mapping_university.get(x, x))"
   ]
  },
  {
   "cell_type": "code",
   "execution_count": 14,
   "metadata": {},
   "outputs": [],
   "source": [
    "from feature_mapping import mapping_grade\n",
    "combined_df['grade'] = combined_df['grade'].apply(lambda x: mapping_grade.get(x, x))"
   ]
  },
  {
   "cell_type": "code",
   "execution_count": 15,
   "metadata": {},
   "outputs": [],
   "source": [
    "from feature_mapping import mapping_close_friend_count\n",
    "combined_df['close_friend_count'] = combined_df['close_friend_count'].apply(lambda x: mapping_close_friend_count.get(x, x))"
   ]
  },
  {
   "cell_type": "code",
   "execution_count": 16,
   "metadata": {},
   "outputs": [],
   "source": [
    "from feature_mapping import mapping_chatting_online\n",
    "combined_df['chatting_online'] = combined_df['chatting_online'].apply(lambda x: mapping_chatting_online.get(x, x))"
   ]
  },
  {
   "cell_type": "code",
   "execution_count": 17,
   "metadata": {},
   "outputs": [],
   "source": [
    "from feature_mapping import mapping_body_img\n",
    "combined_df['body_image'] = combined_df['body_image'].apply(lambda x: mapping_body_img.get(x, x))"
   ]
  },
  {
   "cell_type": "code",
   "execution_count": 18,
   "metadata": {},
   "outputs": [],
   "source": [
    "from feature_mapping import mapping_diet_plan\n",
    "combined_df['diet_plan'] = combined_df['diet_plan'].apply(lambda x: mapping_diet_plan.get(x, x))"
   ]
  },
  {
   "cell_type": "code",
   "execution_count": 19,
   "metadata": {},
   "outputs": [],
   "source": [
    "from feature_mapping import mapping_breakfast_routindays\n",
    "combined_df['breakfast_routindays'] = combined_df['breakfast_routindays'].apply(lambda x: mapping_breakfast_routindays.get(x, x))"
   ]
  },
  {
   "cell_type": "code",
   "execution_count": 20,
   "metadata": {},
   "outputs": [],
   "source": [
    "from feature_mapping import mapping_breakfast_friday\n",
    "combined_df['breakfast_friday'] = combined_df['breakfast_friday'].apply(lambda x: mapping_breakfast_friday.get(x, x))"
   ]
  },
  {
   "cell_type": "code",
   "execution_count": 21,
   "metadata": {},
   "outputs": [],
   "source": [
    "from feature_mapping import mapping_lunch_routindays,mapping_lunch_friday,mapping_dinner_routindays\n",
    "combined_df['lunch_routinday'] = combined_df['lunch_routinday'].apply(lambda x: mapping_lunch_routindays.get(x, x))\n",
    "combined_df['lunch_friday'] = combined_df['lunch_friday'].apply(lambda x: mapping_lunch_friday.get(x, x))\n",
    "combined_df['dinner_routinday'] = combined_df['dinner_routinday'].apply(lambda x: mapping_dinner_routindays.get(x, x))\n",
    "combined_df['dinner_friday'] = combined_df['dinner_friday'].apply(lambda x: mapping_lunch_friday.get(x, x))\n"
   ]
  },
  {
   "cell_type": "code",
   "execution_count": 22,
   "metadata": {},
   "outputs": [],
   "source": [
    "from feature_mapping import mapping_screen_timing\n",
    "combined_df['TV_watching_routinday'] = combined_df['TV_watching_routinday'].apply(lambda x: mapping_screen_timing.get(x, x))\n",
    "combined_df['TV_watching_friday'] = combined_df['TV_watching_friday'].apply(lambda x: mapping_screen_timing.get(x, x))\n",
    "combined_df['computer_work_routinday'] = combined_df['computer_work_routinday'].apply(lambda x: mapping_screen_timing.get(x, x))\n",
    "combined_df['computer_work_friday'] = combined_df['computer_work_friday'].apply(lambda x: mapping_screen_timing.get(x, x))"
   ]
  },
  {
   "cell_type": "code",
   "execution_count": 23,
   "metadata": {},
   "outputs": [],
   "source": [
    "from feature_mapping import (\n",
    "    mapping_injury_times,\n",
    "    mapping_injury_place,\n",
    "    mapping_injury_treatment_place,\n",
    "    mapping_fight_number,\n",
    "    mappling_litigant,\n",
    "    mapping_carry_weapons,\n",
    "    mapping_victim_number,\n",
    "    mapping_bully_number,\n",
    ")\n",
    "from feature_mapping import mapping_injury_cause\n",
    "\n",
    "combined_df[\"injury_number\"] = combined_df[\"injury_number\"].apply(\n",
    "    lambda x: mapping_injury_times.get(x, x)\n",
    ")\n",
    "combined_df[\"injury_place\"] = combined_df[\"injury_place\"].apply(\n",
    "    lambda x: mapping_injury_place.get(x, x)\n",
    ")\n",
    "combined_df[\"injury_cause\"] = combined_df[\"injury_cause\"].apply(\n",
    "    lambda x: mapping_injury_cause.get(x, x)\n",
    ")\n",
    "combined_df[\"injury_treatment_place\"] = combined_df[\"injury_treatment_place\"].apply(\n",
    "    lambda x: mapping_injury_treatment_place.get(x, x)\n",
    ")\n",
    "combined_df[\"fight_number\"] = combined_df[\"fight_number\"].apply(\n",
    "    lambda x: mapping_fight_number.get(x, x)\n",
    ")\n",
    "combined_df[\"litigant\"] = combined_df[\"litigant\"].apply(\n",
    "    lambda x: mappling_litigant.get(x, x)\n",
    ")\n",
    "combined_df[\"carry_weapons\"] = combined_df[\"carry_weapons\"].apply(\n",
    "    lambda x: mapping_carry_weapons.get(x, x)\n",
    ")\n",
    "combined_df[\"victim_number\"] = combined_df[\"victim_number\"].apply(\n",
    "    lambda x: mapping_victim_number.get(x, x)\n",
    ")\n",
    "combined_df[\"bully_number\"] = combined_df[\"bully_number\"].apply(\n",
    "    lambda x: mapping_bully_number.get(x, x)\n",
    ")\n"
   ]
  },
  {
   "cell_type": "code",
   "execution_count": 24,
   "metadata": {},
   "outputs": [],
   "source": [
    "from feature_mapping import mapping_feeling_number\n",
    "\n",
    "feeling = [\n",
    "    \"confusion_number\",\n",
    "    \"worthless_number\",\n",
    "    \"insomnia_number\",\n",
    "    \"back_pain_number\",\n",
    "    \"headache_number\",\n",
    "    \"worried_number\",\n",
    "    \"stomach_ache_number\",\n",
    "    \"angriness_number\",\n",
    "]\n",
    "for col in feeling:\n",
    "    combined_df[col] = combined_df[col].apply(\n",
    "        lambda x: mapping_feeling_number.get(x, x)\n",
    "    )"
   ]
  },
  {
   "cell_type": "code",
   "execution_count": 25,
   "metadata": {},
   "outputs": [],
   "source": [
    "from feature_mapping import mapping_depression\n",
    "combined_df['depression']=combined_df['depression'].apply(lambda x: mapping_depression.get(x,x))"
   ]
  },
  {
   "cell_type": "code",
   "execution_count": 26,
   "metadata": {},
   "outputs": [],
   "source": [
    "from feature_mapping import mapping_anxiety\n",
    "combined_df['anxiety_number']=combined_df['anxiety_number'].apply(lambda x: mapping_anxiety.get(x,x))"
   ]
  },
  {
   "cell_type": "code",
   "execution_count": 27,
   "metadata": {},
   "outputs": [],
   "source": [
    "from feature_mapping import mappingـmental_health\n",
    "combined_df['mental_health_overview']=combined_df['mental_health_overview'].apply(lambda x: mappingـmental_health.get(x,x))"
   ]
  },
  {
   "cell_type": "code",
   "execution_count": 28,
   "metadata": {},
   "outputs": [
    {
     "data": {
      "text/plain": [
       "1    10141\n",
       "0     9082\n",
       "2     7959\n",
       "Name: catage, dtype: int64"
      ]
     },
     "execution_count": 28,
     "metadata": {},
     "output_type": "execute_result"
    }
   ],
   "source": [
    "from feature_mapping import mapping_catage\n",
    "combined_df = combined_df[(combined_df['age'] >= 7) & (combined_df['age'] <= 18)]\n",
    "combined_df['catage']=combined_df['catage'].apply(lambda x: mapping_catage.get(x,x))\n",
    "combined_df['catage'].value_counts()\n"
   ]
  },
  {
   "cell_type": "code",
   "execution_count": 29,
   "metadata": {},
   "outputs": [],
   "source": [
    "from feature_mapping import mapping_smoking_type\n",
    "combined_df['smoking_type']=combined_df['smoking_type'].apply(lambda x: mapping_smoking_type.get(x,x))"
   ]
  },
  {
   "cell_type": "code",
   "execution_count": 30,
   "metadata": {},
   "outputs": [],
   "source": [
    "from feature_mapping import mapping_home_ownership\n",
    "combined_df['home_ownership']=combined_df['home_ownership'].apply(lambda x: mapping_home_ownership.get(x,x))"
   ]
  },
  {
   "cell_type": "code",
   "execution_count": 31,
   "metadata": {},
   "outputs": [],
   "source": [
    "from feature_mapping import mapping_edu\n",
    "combined_df['father_edu']=combined_df['father_edu'].apply(lambda x: mapping_edu.get(x,x))\n",
    "combined_df['mother_edu']=combined_df['mother_edu'].apply(lambda x: mapping_edu.get(x,x))\n"
   ]
  },
  {
   "cell_type": "code",
   "execution_count": 32,
   "metadata": {},
   "outputs": [],
   "source": [
    "from feature_mapping import (\n",
    "    father_job_mapping,\n",
    "    mother_job_mapping,\n",
    "    school_type_mapping,\n",
    "    birth_weight_mapping,\n",
    "    milk_type_mapping,\n",
    "    complementary_feeding_mapping,\n",
    ")\n",
    "\n",
    "combined_df[\"father_job\"] = combined_df[\"father_job\"].apply(\n",
    "    lambda x: father_job_mapping.get(x, x)\n",
    ")\n",
    "combined_df[\"mother_job\"] = combined_df[\"mother_job\"].apply(\n",
    "    lambda x: mother_job_mapping.get(x, x)\n",
    ")\n",
    "combined_df[\"school_type\"] = combined_df[\"school_type\"].apply(\n",
    "    lambda x: school_type_mapping.get(x, x)\n",
    ")\n",
    "combined_df[\"birth_weight\"] = combined_df[\"birth_weight\"].apply(\n",
    "    lambda x: birth_weight_mapping.get(x, x)\n",
    ")\n",
    "combined_df[\"milk_type\"] = combined_df[\"milk_type\"].apply(\n",
    "    lambda x: milk_type_mapping.get(x, x)\n",
    ")\n",
    "combined_df[\"complementary_feeding\"] = combined_df[\"complementary_feeding\"].apply(\n",
    "    lambda x: complementary_feeding_mapping.get(x, x)\n",
    ")\n"
   ]
  },
  {
   "cell_type": "code",
   "execution_count": 33,
   "metadata": {},
   "outputs": [],
   "source": [
    "combined_df['bread_type'].replace({\n",
    "    'bedune sabus': 'White bread',\n",
    "    'sabusdar': 'whole grain bread',\n",
    "    'sabus dar': 'whole grain bread'\n",
    "},inplace=True)\n",
    "\n"
   ]
  },
  {
   "cell_type": "code",
   "execution_count": 34,
   "metadata": {},
   "outputs": [],
   "source": [
    "combined_df['oil_type']=combined_df['oil_type'].apply(lambda x:oil_type_mapping.get(x,x))\n",
    "combined_df['table_salt']=combined_df['table_salt'].apply(lambda x:table_salt_mapping.get(x,x))\n",
    "combined_df['dairy_type']=combined_df['dairy_type'].apply(lambda x:dairy_type_mapping.get(x,x))\n",
    "combined_df['injury_complication']= combined_df['injury_complication'].apply(lambda x:injury_complication_mapping.get(x,x))"
   ]
  },
  {
   "cell_type": "code",
   "execution_count": 35,
   "metadata": {},
   "outputs": [
    {
     "name": "stdout",
     "output_type": "stream",
     "text": [
      "Column: university, Unique Values: ['khozestan', 'bushehr', 'ardabil', 'azar gharbi', 'khorasan shomali', 'qazvin', 'lorestan', 'khorasan razavi', 'kordestan', 'yazd', 'kerman', 'kermanshah', 'isfahan', 'markazi', 'shahid beheshti', 'ilam', 'kohgiluyeh', 'chaharmahal bakhtiyari', 'hormozgan', 'sistan', 'semnan', 'golestan', 'mazandaran', 'jiroft', 'hamedan', 'dezful', 'alborz', 'rafsanjan', 'azar sharghi', 'zanjan', 'fars', 'gilan', 'qom', 'jahrom', 'kashan', 'tehran', 'sabzevar', 'neishabor', 'fasa', 'tabriz', 'khorasan jonoubi', 'babol', 'zabol', 'arak', 'behbahan', 'esfarayen', 'iran', 'saveh', 'abadan', 'torbat jam', 'iranshahr', 'torbat heidariyeh', 'bam', 'shahrood', 'shushtar', 'larestan']\n",
      "Column: grade, Unique Values: ['intermediate', 'elementary']\n",
      "Column: gender, Unique Values: ['boy', 'girl']\n",
      "Column: close_friend_count, Unique Values: ['one', 'three or more', 'two', 'any']\n",
      "Column: spent_time_friend1, Unique Values: ['0 day', '2 day', '5 day', '1 day', '4 day', '6 day', '3 day']\n",
      "Column: spent_time_friend2, Unique Values: ['3 day', '2 day', '4 day', '1 day', '0 day', '6 day', '5 day']\n",
      "Column: chatting_online, Unique Values: ['5 ya 6 day dar hafte', '1 ya 2 day dar hafte', '3 ya 4 day dar hafte', 'never', 'seldom/never', '5 or 6 day a week', '3 or 4 day a week', '1 or 2 day a week', 'every day']\n",
      "Column: body_image, Unique Values: ['slightly overweight', 'normal weight', 'complete underweight', 'very underweight', 'very overweight', 'slightly underweight']\n",
      "Column: diet_plan, Unique Values: ['weight is fine', 'yes', 'no, but it should be reduced', 'no, but it should be increased']\n",
      "Column: breakfast_routindays, Unique Values: ['0 day', '2 day', '6 day', '4 day', '5 day', '3 day', '1 day']\n",
      "Column: breakfast_friday, Unique Values: ['no', 'yes']\n",
      "Column: lunch_routinday, Unique Values: ['2 day', '5 day', '4 day', '0 day', '3 day', '1 day', '6 day']\n",
      "Column: lunch_friday, Unique Values: ['yes', 'no']\n",
      "Column: dinner_friday, Unique Values: ['yes', 'no']\n",
      "Column: sweet, Unique Values: ['seldom/never', 'daily', 'weekly']\n",
      "Column: saltysnack, Unique Values: ['daily', 'weekly', 'seldom/never']\n",
      "Column: soda, Unique Values: ['seldom/never', 'weekly', 'daily']\n",
      "Column: fresh_fruit, Unique Values: ['nondaily', 'daily']\n",
      "Column: dry_fruit, Unique Values: ['seldom/never', 'weekly', 'daily']\n",
      "Column: fresh_juice, Unique Values: ['seldom/never', 'weekly', 'daily']\n",
      "Column: packed_juice, Unique Values: ['seldom/never', 'weekly', 'daily']\n",
      "Column: vegetables, Unique Values: ['daily', 'weekly', 'seldom/never']\n",
      "Column: milk, Unique Values: ['seldom/never', 'weekly', 'daily']\n",
      "Column: fastfoods, Unique Values: ['weekly', 'seldom/never', 'daily']\n",
      "Column: physical_activity_hour, Unique Values: ['1 hour', '2 hour', '3 or more hour', '0 hour']\n",
      "Column: physical_activity, Unique Values: ['0 day', '3 day', '6 day', '1 day', '4 day', '7 day', '2 day', '5 day']\n",
      "Column: injury_place, Unique Values: ['home', 'street', 'other', 'school', 'outside the city', 'sports field', 'commercial']\n",
      "Column: injury_cause, Unique Values: ['walking', 'bicycle', 'sports or exercise', 'car-motorcycle', 'other', 'fight', 'work', 'skating', 'car', 'video games']\n",
      "Column: injury_treatment_place, Unique Values: ['doctor’s Office', 'health center', 'treatment Room', 'other', 'emergency', 'hospital', 'treatment room']\n",
      "Column: litigant, Unique Values: ['did not have', 'friend', 'parents', 'stranger', 'sibling', 'parent']\n",
      "Column: mother_hookah, Unique Values: ['no', 'yes']\n",
      "Column: father_hookah, Unique Values: ['no', 'yes']\n",
      "Column: sibling_hookah, Unique Values: ['no', 'yes']\n",
      "Column: others_hookah, Unique Values: ['no', 'yes']\n",
      "Column: father_smoker, Unique Values: ['no', 'yes']\n",
      "Column: mother_smoker, Unique Values: ['no', 'yes']\n",
      "Column: sibling_smoker, Unique Values: ['no', 'yes']\n",
      "Column: others_smoker, Unique Values: ['no', 'yes']\n",
      "Column: comfort_mother, Unique Values: ['raht', 'doshvar', 'kasi nadarm ya dur ast', 'rahati', 'doshvari', 'nadaram']\n",
      "Column: comfort_friend, Unique Values: ['raht', 'doshvar', 'kasi nadarm ya dur ast', 'rahati', 'nadaram', 'doshvari']\n",
      "Column: comfort_father, Unique Values: ['raht', 'doshvar', 'kasi nadarm ya dur ast', 'rahati', 'doshvari', 'nadaram']\n",
      "Column: comfort_sister, Unique Values: ['raht', 'kasi nadarm ya dur ast', 'doshvar', 'rahati', 'nadaram', 'doshvari']\n",
      "Column: comfort_brother, Unique Values: ['raht', 'kasi nadarm ya dur ast', 'doshvar', 'rahati', 'nadaram', 'doshvari']\n",
      "Column: depression, Unique Values: ['no', 'forgot', 'yes']\n",
      "Column: smoking_type, Unique Values: ['non-smoker', 'hookah', 'cigarette', 'other', 'pipe']\n",
      "Column: current_smoker_status, Unique Values: ['yes', 'no']\n",
      "Column: smoke_leisure, Unique Values: ['yes', 'no']\n",
      "Column: smoke_escaping_problems, Unique Values: ['yes', 'no']\n",
      "Column: smoke_pleasure, Unique Values: ['yes', 'no']\n",
      "Column: smoke_feeling_grown_up, Unique Values: ['no', 'yes']\n",
      "Column: smoke_anxiety_reduction, Unique Values: ['no', 'yes']\n",
      "Column: smoke_social_acceptance, Unique Values: ['no', 'yes']\n",
      "Column: smoke_confidence_boost, Unique Values: ['no', 'yes']\n",
      "Column: smoke_focus, Unique Values: ['no', 'yes']\n",
      "Column: smoke_staying_awake, Unique Values: ['no', 'yes']\n",
      "Column: smoke_feeling_loved, Unique Values: ['no', 'yes']\n",
      "Column: home_ownership, Unique Values: ['personal', 'rented', 'organizational']\n",
      "Column: father_edu, Unique Values: ['elementry education', 'illiterate', 'intermediate', 'graduate education', 'diploma', 'bachelor degree', 'quranic literacy', 'father died']\n",
      "Column: mother_edu, Unique Values: ['diploma', 'illiterate', 'intermediate', 'bachelor degree', 'elementry education', 'quranic literacy', 'graduate education', 'mother died']\n",
      "Column: father_job, Unique Values: ['self-employed', 'employee', 'unemployed', 'farmer', 'no job']\n",
      "Column: mother_job, Unique Values: ['housewife', 'employee', 'others', 'farmer', 'no job']\n",
      "Column: school_type, Unique Values: ['independent school', 'public school']\n",
      "Column: car_ownership, Unique Values: ['yes', 'no']\n",
      "Column: computer_ownership, Unique Values: ['yes', 'no']\n",
      "Column: livingparent, Unique Values: ['ba hardo', 'napedar v na madar', 'ba yeki az valedayn']\n",
      "Column: children_number, Unique Values: ['<2 children', '2-4 children', '>4 children']\n",
      "Column: birth_order, Unique Values: ['second', 'first', 'third', 'forth or more']\n",
      "Column: milk_type, Unique Values: [\"mother's milk\", \"mother's milk and powdered milk\", \"cow's milk\", 'powdered milk', \"mother's milk and cow's milk\", \"powdered milk and cow's milk\", 'all three']\n",
      "Column: complementary_feeding, Unique Values: ['homemade food', 'both, but more homemade food', 'ready-made food', 'both, but more ready-made food']\n",
      "Column: bread_type, Unique Values: ['White bread', 'whole grain bread']\n",
      "Column: oil_type, Unique Values: ['cooking oil', 'solid oil', 'liquid oil', 'animal oil', 'butter', 'lamb fat']\n",
      "Column: table_salt, Unique Values: ['yes', 'no']\n",
      "Column: dairy_type, Unique Values: ['non-pasteurized full-fat', 'pasteurized regular', 'pasteurized full-fat', 'non-pasteurized regular', 'pasteurized low-fat']\n",
      "Column: fatty_dairy, Unique Values: ['weekly', 'daily', 'seldom/never']\n",
      "Column: usual_dairy, Unique Values: ['daily', 'weekly', 'seldom/never']\n",
      "Column: grains, Unique Values: ['seldom/never', 'weekly', 'daily']\n",
      "Column: meat, Unique Values: ['weekly', 'daily', 'seldom/never']\n",
      "Column: liverandkalepache, Unique Values: ['weekly', 'seldom/never', 'daily']\n",
      "Column: bread, Unique Values: ['daily', 'weekly', 'seldom/never']\n",
      "Column: rice, Unique Values: ['weekly', 'daily', 'seldom/never']\n",
      "Column: potato, Unique Values: ['seldom/never', 'weekly', 'daily']\n",
      "Column: friedfoods, Unique Values: ['weekly', 'daily', 'seldom/never']\n",
      "Column: fruit_nut_substitute, Unique Values: ['no', 'yes']\n",
      "Column: reduce_fast_food, Unique Values: ['no', 'yes']\n",
      "Column: increase_vegetables, Unique Values: ['no', 'yes']\n",
      "Column: reduce_salt, Unique Values: ['no', 'yes']\n",
      "Column: reduce_sugar, Unique Values: ['no', 'yes']\n",
      "Column: reduce_fat, Unique Values: ['no', 'yes']\n",
      "Column: use_liquid_oil, Unique Values: ['no', 'yes']\n",
      "Column: injury_parent_ask, Unique Values: ['no', 'yes']\n",
      "Column: injury_complication, Unique Values: ['cut', 'twist', 'other', 'joint dislocation', 'burn', 'bone fracture', 'fainting', 'internal injuries', 'injuries']\n",
      "Column: region, Unique Values: ['urban', 'rural']\n",
      "Column: source, Unique Values: ['casp 4', 'casp 5']\n"
     ]
    }
   ],
   "source": [
    "categorical_columns = combined_df.select_dtypes(include=['object', 'category']).columns\n",
    "# Get unique values for each categorical column\n",
    "unique_values = {col: combined_df[col].dropna().unique().tolist() for col in categorical_columns}\n",
    "\n",
    "# Print the results\n",
    "for col, values in unique_values.items():\n",
    "    print(f\"Column: {col}, Unique Values: {values}\")"
   ]
  },
  {
   "cell_type": "code",
   "execution_count": 36,
   "metadata": {},
   "outputs": [
    {
     "name": "stdout",
     "output_type": "stream",
     "text": [
      "/home/atefe_hjn97/Documents/VScode/caspian_second/casp 5\n"
     ]
    }
   ],
   "source": [
    "!pwd"
   ]
  },
  {
   "cell_type": "code",
   "execution_count": 37,
   "metadata": {},
   "outputs": [],
   "source": [
    "combined_df.to_csv('combined_data_alignment_4&5_v1.csv')"
   ]
  },
  {
   "cell_type": "markdown",
   "metadata": {},
   "source": [
    "missing value handling"
   ]
  },
  {
   "cell_type": "code",
   "execution_count": 38,
   "metadata": {},
   "outputs": [],
   "source": [
    "df=combined_df.copy()"
   ]
  },
  {
   "cell_type": "markdown",
   "metadata": {},
   "source": [
    "drop column with over 80 percent missing value"
   ]
  },
  {
   "cell_type": "code",
   "execution_count": 39,
   "metadata": {},
   "outputs": [
    {
     "name": "stdout",
     "output_type": "stream",
     "text": [
      "['injury_place', 'injury_cause', 'injury_treatment_place', 'current_smoker_status', 'injury_complication']\n",
      "(27182, 123)\n"
     ]
    }
   ],
   "source": [
    "to_drop_col = []\n",
    "for column in df.columns:\n",
    "    null_percentage = df[column].isnull().mean()*100\n",
    "    # print(f\"Column '{column}' has {null_percentage} null values.\")\n",
    "    if null_percentage>70:\n",
    "        to_drop_col.append(column)\n",
    "print(to_drop_col)\n",
    "df=df.drop(to_drop_col,axis=1)\n",
    "print(df.shape)\n"
   ]
  },
  {
   "cell_type": "markdown",
   "metadata": {},
   "source": [
    "fill null value"
   ]
  },
  {
   "cell_type": "code",
   "execution_count": 40,
   "metadata": {},
   "outputs": [],
   "source": [
    "categorical_columns = df.select_dtypes(include=['object', 'category']).columns.tolist()\n",
    "numerical_columns = df.select_dtypes(include=['number']).columns.tolist()\n",
    "for col in numerical_columns:\n",
    "    if df[col].isna().any():  # Only process columns with missing values\n",
    "        df[col] = df.groupby('age')[col].transform(\n",
    "            lambda x: x.fillna(x.mean())\n",
    "        )\n",
    "for col in categorical_columns:\n",
    "    # Fill null values with the mode of the column within each age group\n",
    "    if df[col].isna().any():  # Only process columns with missing values\n",
    "        df[col] = df.groupby('age')[col].transform(\n",
    "            lambda x: x.fillna(x.mode().iloc[0] if not x.mode().empty else np.nan)\n",
    "        )"
   ]
  },
  {
   "cell_type": "markdown",
   "metadata": {},
   "source": [
    "bmi calculation"
   ]
  },
  {
   "cell_type": "code",
   "execution_count": 41,
   "metadata": {},
   "outputs": [
    {
     "name": "stderr",
     "output_type": "stream",
     "text": [
      "/tmp/ipykernel_5920/2046101176.py:1: PerformanceWarning: DataFrame is highly fragmented.  This is usually the result of calling `frame.insert` many times, which has poor performance.  Consider joining all columns at once using pd.concat(axis=1) instead. To get a de-fragmented frame, use `newframe = frame.copy()`\n",
      "  df[\"bmi\"] = df[\"weight\"] / ((df[\"height\"] / 100) ** 2)\n"
     ]
    }
   ],
   "source": [
    "df[\"bmi\"] = df[\"weight\"] / ((df[\"height\"] / 100) ** 2)"
   ]
  },
  {
   "cell_type": "code",
   "execution_count": 42,
   "metadata": {},
   "outputs": [
    {
     "data": {
      "text/html": [
       "<div>\n",
       "<style scoped>\n",
       "    .dataframe tbody tr th:only-of-type {\n",
       "        vertical-align: middle;\n",
       "    }\n",
       "\n",
       "    .dataframe tbody tr th {\n",
       "        vertical-align: top;\n",
       "    }\n",
       "\n",
       "    .dataframe thead th {\n",
       "        text-align: right;\n",
       "    }\n",
       "</style>\n",
       "<table border=\"1\" class=\"dataframe\">\n",
       "  <thead>\n",
       "    <tr style=\"text-align: right;\">\n",
       "      <th></th>\n",
       "      <th>Month</th>\n",
       "      <th>P5</th>\n",
       "      <th>P15</th>\n",
       "      <th>P85</th>\n",
       "      <th>P95</th>\n",
       "      <th>Age</th>\n",
       "    </tr>\n",
       "  </thead>\n",
       "  <tbody>\n",
       "    <tr>\n",
       "      <th>0</th>\n",
       "      <td>84</td>\n",
       "      <td>13.504</td>\n",
       "      <td>14.166</td>\n",
       "      <td>17.111</td>\n",
       "      <td>18.261</td>\n",
       "      <td>7</td>\n",
       "    </tr>\n",
       "    <tr>\n",
       "      <th>1</th>\n",
       "      <td>96</td>\n",
       "      <td>13.666</td>\n",
       "      <td>14.350</td>\n",
       "      <td>17.508</td>\n",
       "      <td>18.802</td>\n",
       "      <td>8</td>\n",
       "    </tr>\n",
       "    <tr>\n",
       "      <th>2</th>\n",
       "      <td>108</td>\n",
       "      <td>13.866</td>\n",
       "      <td>14.579</td>\n",
       "      <td>17.987</td>\n",
       "      <td>19.453</td>\n",
       "      <td>9</td>\n",
       "    </tr>\n",
       "    <tr>\n",
       "      <th>3</th>\n",
       "      <td>120</td>\n",
       "      <td>14.127</td>\n",
       "      <td>14.875</td>\n",
       "      <td>18.568</td>\n",
       "      <td>20.225</td>\n",
       "      <td>10</td>\n",
       "    </tr>\n",
       "    <tr>\n",
       "      <th>4</th>\n",
       "      <td>132</td>\n",
       "      <td>14.469</td>\n",
       "      <td>15.260</td>\n",
       "      <td>19.260</td>\n",
       "      <td>21.113</td>\n",
       "      <td>11</td>\n",
       "    </tr>\n",
       "    <tr>\n",
       "      <th>5</th>\n",
       "      <td>144</td>\n",
       "      <td>14.891</td>\n",
       "      <td>15.734</td>\n",
       "      <td>20.052</td>\n",
       "      <td>22.090</td>\n",
       "      <td>12</td>\n",
       "    </tr>\n",
       "    <tr>\n",
       "      <th>6</th>\n",
       "      <td>156</td>\n",
       "      <td>15.402</td>\n",
       "      <td>16.303</td>\n",
       "      <td>20.943</td>\n",
       "      <td>23.144</td>\n",
       "      <td>13</td>\n",
       "    </tr>\n",
       "    <tr>\n",
       "      <th>7</th>\n",
       "      <td>168</td>\n",
       "      <td>15.976</td>\n",
       "      <td>16.941</td>\n",
       "      <td>21.891</td>\n",
       "      <td>24.221</td>\n",
       "      <td>14</td>\n",
       "    </tr>\n",
       "    <tr>\n",
       "      <th>8</th>\n",
       "      <td>180</td>\n",
       "      <td>16.547</td>\n",
       "      <td>17.580</td>\n",
       "      <td>22.812</td>\n",
       "      <td>25.229</td>\n",
       "      <td>15</td>\n",
       "    </tr>\n",
       "    <tr>\n",
       "      <th>9</th>\n",
       "      <td>192</td>\n",
       "      <td>17.078</td>\n",
       "      <td>18.176</td>\n",
       "      <td>23.656</td>\n",
       "      <td>26.126</td>\n",
       "      <td>16</td>\n",
       "    </tr>\n",
       "    <tr>\n",
       "      <th>10</th>\n",
       "      <td>204</td>\n",
       "      <td>17.542</td>\n",
       "      <td>18.707</td>\n",
       "      <td>24.402</td>\n",
       "      <td>26.896</td>\n",
       "      <td>17</td>\n",
       "    </tr>\n",
       "    <tr>\n",
       "      <th>11</th>\n",
       "      <td>216</td>\n",
       "      <td>17.931</td>\n",
       "      <td>19.163</td>\n",
       "      <td>25.046</td>\n",
       "      <td>27.539</td>\n",
       "      <td>18</td>\n",
       "    </tr>\n",
       "  </tbody>\n",
       "</table>\n",
       "</div>"
      ],
      "text/plain": [
       "    Month      P5     P15     P85     P95  Age\n",
       "0      84  13.504  14.166  17.111  18.261    7\n",
       "1      96  13.666  14.350  17.508  18.802    8\n",
       "2     108  13.866  14.579  17.987  19.453    9\n",
       "3     120  14.127  14.875  18.568  20.225   10\n",
       "4     132  14.469  15.260  19.260  21.113   11\n",
       "5     144  14.891  15.734  20.052  22.090   12\n",
       "6     156  15.402  16.303  20.943  23.144   13\n",
       "7     168  15.976  16.941  21.891  24.221   14\n",
       "8     180  16.547  17.580  22.812  25.229   15\n",
       "9     192  17.078  18.176  23.656  26.126   16\n",
       "10    204  17.542  18.707  24.402  26.896   17\n",
       "11    216  17.931  19.163  25.046  27.539   18"
      ]
     },
     "execution_count": 42,
     "metadata": {},
     "output_type": "execute_result"
    }
   ],
   "source": [
    "df_who_ref = pd.read_excel('../WHO_tables/bmi-boys-perc-who2007-exp.xlsx')\n",
    "# Define the age range and convert it to months\n",
    "age_years = list(range(7, 19))  # From 7 to 18 years inclusive\n",
    "age_months = [age * 12 for age in age_years]\n",
    "\n",
    "# Filter the dataset for the specified months and select relevant columns\n",
    "who_df = df_who_ref[df_who_ref['Month'].isin(age_months)][['Month', 'P5', 'P15', 'P85', 'P95']]\n",
    "\n",
    "# Map months back to years for clarity\n",
    "who_df['Age'] = who_df['Month'] // 12\n",
    "filtered_df = who_df.drop(columns=['Month'])\n",
    "\n",
    "who_df = who_df.reset_index(drop=True)\n",
    "who_df"
   ]
  },
  {
   "cell_type": "code",
   "execution_count": 43,
   "metadata": {},
   "outputs": [],
   "source": [
    "def calculate_percentile_labels(row, who_ref):\n",
    "    \"\"\"\n",
    "    Categorizes BMI based on WHO reference percentiles for the corresponding age.\n",
    "    \"\"\"\n",
    "    age = row['age']\n",
    "    bmi = row['bmi']\n",
    "    \n",
    "    # Filter WHO reference data for the specific age\n",
    "    ref_data = who_ref[who_ref['Age'] == age]\n",
    "    \n",
    "    if ref_data.empty:\n",
    "        return 'Unknown'  # Handle cases where reference data is not available\n",
    "    \n",
    "    # Extract the percentiles\n",
    "    p5 = ref_data['P5'].values[0]\n",
    "    p85 = ref_data['P85'].values[0]\n",
    "    p95 = ref_data['P95'].values[0]\n",
    "    \n",
    "    # Categorize based on percentiles\n",
    "    if bmi < p5:\n",
    "        return 'underweight'\n",
    "    elif p5 <= bmi < p85:\n",
    "        return 'normal'\n",
    "    elif p85 <= bmi < p95:\n",
    "        return 'overweight'\n",
    "    else:\n",
    "        return 'obese'\n",
    "\n",
    "def calculate_percentiles(df_org, who_ref):\n",
    "    \"\"\"\n",
    "    Adds a percentile category for each row based on WHO reference data.\n",
    "    \"\"\"\n",
    "    df = df_org.copy()\n",
    "    \n",
    "    # Apply the function to calculate percentile categories\n",
    "    df['bmi_category'] = df.apply(\n",
    "        lambda row: calculate_percentile_labels(row, who_ref), axis=1\n",
    "    )\n",
    "\n",
    "    return df"
   ]
  },
  {
   "cell_type": "code",
   "execution_count": 44,
   "metadata": {},
   "outputs": [
    {
     "data": {
      "text/html": [
       "<div>\n",
       "<style scoped>\n",
       "    .dataframe tbody tr th:only-of-type {\n",
       "        vertical-align: middle;\n",
       "    }\n",
       "\n",
       "    .dataframe tbody tr th {\n",
       "        vertical-align: top;\n",
       "    }\n",
       "\n",
       "    .dataframe thead th {\n",
       "        text-align: right;\n",
       "    }\n",
       "</style>\n",
       "<table border=\"1\" class=\"dataframe\">\n",
       "  <thead>\n",
       "    <tr style=\"text-align: right;\">\n",
       "      <th></th>\n",
       "      <th>age</th>\n",
       "      <th>bmi</th>\n",
       "      <th>height</th>\n",
       "      <th>weight</th>\n",
       "      <th>bmi_category</th>\n",
       "    </tr>\n",
       "  </thead>\n",
       "  <tbody>\n",
       "    <tr>\n",
       "      <th>0</th>\n",
       "      <td>12.0</td>\n",
       "      <td>30.024691</td>\n",
       "      <td>112.5</td>\n",
       "      <td>38.00000</td>\n",
       "      <td>obese</td>\n",
       "    </tr>\n",
       "    <tr>\n",
       "      <th>1</th>\n",
       "      <td>17.0</td>\n",
       "      <td>22.448980</td>\n",
       "      <td>140.0</td>\n",
       "      <td>44.00000</td>\n",
       "      <td>normal</td>\n",
       "    </tr>\n",
       "    <tr>\n",
       "      <th>2</th>\n",
       "      <td>11.0</td>\n",
       "      <td>34.710744</td>\n",
       "      <td>110.0</td>\n",
       "      <td>42.00000</td>\n",
       "      <td>obese</td>\n",
       "    </tr>\n",
       "    <tr>\n",
       "      <th>3</th>\n",
       "      <td>13.0</td>\n",
       "      <td>30.433673</td>\n",
       "      <td>121.0</td>\n",
       "      <td>44.55794</td>\n",
       "      <td>obese</td>\n",
       "    </tr>\n",
       "    <tr>\n",
       "      <th>4</th>\n",
       "      <td>10.0</td>\n",
       "      <td>28.823478</td>\n",
       "      <td>107.0</td>\n",
       "      <td>33.00000</td>\n",
       "      <td>obese</td>\n",
       "    </tr>\n",
       "  </tbody>\n",
       "</table>\n",
       "</div>"
      ],
      "text/plain": [
       "    age        bmi  height    weight bmi_category\n",
       "0  12.0  30.024691   112.5  38.00000        obese\n",
       "1  17.0  22.448980   140.0  44.00000       normal\n",
       "2  11.0  34.710744   110.0  42.00000        obese\n",
       "3  13.0  30.433673   121.0  44.55794        obese\n",
       "4  10.0  28.823478   107.0  33.00000        obese"
      ]
     },
     "execution_count": 44,
     "metadata": {},
     "output_type": "execute_result"
    }
   ],
   "source": [
    "# Use the WHO reference dataframe (df_who_ref)\n",
    "df = calculate_percentiles(df, who_df)\n",
    "\n",
    "df[['age','bmi','height','weight','bmi_category']].head()\n"
   ]
  },
  {
   "cell_type": "code",
   "execution_count": 45,
   "metadata": {},
   "outputs": [
    {
     "name": "stderr",
     "output_type": "stream",
     "text": [
      "/tmp/ipykernel_5920/159732643.py:7: FutureWarning: \n",
      "\n",
      "Passing `palette` without assigning `hue` is deprecated and will be removed in v0.14.0. Assign the `x` variable to `hue` and set `legend=False` for the same effect.\n",
      "\n",
      "  ax = sns.barplot(x=category_counts.index, y=category_counts.values, palette='viridis')\n"
     ]
    },
    {
     "data": {
      "image/png": "[encoded data removed]",
      "text/plain": [
       "<Figure size 800x600 with 1 Axes>"
      ]
     },
     "metadata": {},
     "output_type": "display_data"
    }
   ],
   "source": [
    "def plot_bmi_categories(df, feature):\n",
    "\n",
    "        category_counts = df[f'{feature}_category'].value_counts()\n",
    "\n",
    "        # Plot the counts\n",
    "        plt.figure(figsize=(8, 6))\n",
    "        ax = sns.barplot(x=category_counts.index, y=category_counts.values, palette='viridis')\n",
    "\n",
    "        # Annotate counts above each bar\n",
    "        for i, count in enumerate(category_counts.values):\n",
    "            ax.text(i, count + 0.5, str(count), ha='center', va='bottom', fontsize=10)\n",
    "\n",
    "        # Customize plot\n",
    "        plt.title(f\"Distribution of BMI Categories\")\n",
    "        plt.xlabel(\"BMI Category\")\n",
    "        plt.ylabel(\"Count\")\n",
    "        plt.xticks(rotation=45)\n",
    "        plt.tight_layout()\n",
    "        plt.show()\n",
    "\n",
    "plot_bmi_categories(df,'bmi')\n"
   ]
  },
  {
   "cell_type": "code",
   "execution_count": 46,
   "metadata": {},
   "outputs": [],
   "source": [
    "def frequency_encode(df, categorical_columns,numerical_columns, group_by_column='age'):\n",
    "    \"\"\"\n",
    "    Applies frequency encoding to the specified columns in the dataframe, filling null values with the mode based on each age group.\n",
    "\n",
    "    Parameters:\n",
    "        df (pd.DataFrame): The input dataframe.\n",
    "        columns (list): List of categorical columns to be frequency encoded.\n",
    "        group_by_column (str): The column name to group by (default is 'age').\n",
    "\n",
    "    Returns:\n",
    "        pd.DataFrame: A dataframe with frequency-encoded columns.\n",
    "    \"\"\"\n",
    "    df_encoded = df.copy()\n",
    "\n",
    "    for col in categorical_columns:\n",
    "        # Calculate the frequency for encoding after filling missing values\n",
    "        if col != 'bmi_category':\n",
    "            frequency = df_encoded[col].value_counts() / len(df_encoded)\n",
    "        \n",
    "            # Apply frequency encoding\n",
    "            df_encoded[col] = df_encoded[col].map(frequency)\n",
    "        else:\n",
    "             class_mapping = {'underweight':0,'normal':1,'overweight':2,'obese':3}\n",
    "             df_encoded[col]=df_encoded[col].map(class_mapping)\n",
    "\n",
    "    return df_encoded\n",
    "\n",
    "# Example Usage\n",
    "# Assuming 'df' is your dataframe\n",
    "categorical_columns = df.select_dtypes(include=['object', 'category']).columns.tolist()\n",
    "df_encoded = frequency_encode(df, categorical_columns,numerical_columns)\n"
   ]
  },
  {
   "cell_type": "code",
   "execution_count": 47,
   "metadata": {},
   "outputs": [],
   "source": [
    "df_encoded.to_csv('encoded_data_with_bmi_label_4&5.csv')"
   ]
  },
  {
   "cell_type": "code",
   "execution_count": 48,
   "metadata": {},
   "outputs": [
    {
     "data": {
      "text/plain": [
       "1    10141\n",
       "0     9082\n",
       "2     7959\n",
       "Name: catage, dtype: int64"
      ]
     },
     "execution_count": 48,
     "metadata": {},
     "output_type": "execute_result"
    }
   ],
   "source": [
    "df['catage'].value_counts()"
   ]
  },
  {
   "cell_type": "code",
   "execution_count": 49,
   "metadata": {},
   "outputs": [
    {
     "data": {
      "text/plain": [
       "1    10141\n",
       "0     9082\n",
       "2     7959\n",
       "Name: catage, dtype: int64"
      ]
     },
     "execution_count": 49,
     "metadata": {},
     "output_type": "execute_result"
    }
   ],
   "source": [
    "df_encoded['catage'].value_counts()"
   ]
  },
  {
   "cell_type": "code",
   "execution_count": null,
   "metadata": {},
   "outputs": [
    {
     "name": "stdout",
     "output_type": "stream",
     "text": [
      "X:  (4891, 111)\n",
      "y:  (4891,)\n",
      "Original class distribution:\n",
      "3    1546\n",
      "0    1527\n",
      "2    1118\n",
      "1     700\n",
      "Name: bmi_category, dtype: int64\n",
      "\n",
      "Resampled class distribution:\n",
      "3    1546\n",
      "0    1527\n",
      "2    1118\n",
      "1     700\n",
      "Name: bmi_category, dtype: int64\n",
      "accuracy 0.4290091930541369\n",
      "report {'0': {'precision': 0.48320413436692505, 'recall': 0.6111111111111112, 'f1-score': 0.5396825396825397, 'support': 306.0}, '1': {'precision': 0.23943661971830985, 'recall': 0.12142857142857143, 'f1-score': 0.16113744075829384, 'support': 140.0}, '2': {'precision': 0.2926829268292683, 'recall': 0.21428571428571427, 'f1-score': 0.24742268041237114, 'support': 224.0}, '3': {'precision': 0.47058823529411764, 'recall': 0.5436893203883495, 'f1-score': 0.5045045045045045, 'support': 309.0}, 'accuracy': 0.4290091930541369, 'macro avg': {'precision': 0.3714779790521552, 'recall': 0.37262867930343657, 'f1-score': 0.3631867913394273, 'support': 979.0}, 'weighted avg': {'precision': 0.4007705129647405, 'recall': 0.4290091930541369, 'f1-score': 0.4075757621586122, 'support': 979.0}}\n"
     ]
    }
   ],
   "source": [
    "# Define functions\n",
    "def split_X_y(df_org):\n",
    "    df = df_org.copy()\n",
    "    class_2_samples = df[df['bmi_category'] == 1]  # Filter rows where the label is 2\n",
    "    other_classes = df[df['bmi_category'] != 1]   # Filter rows for other classes\n",
    "\n",
    "    # Randomly select 700 samples from class 2\n",
    "    selected_class_2 = class_2_samples.sample(n=700, random_state=42)\n",
    "\n",
    "    # Combine the selected samples from class 2 with other classes\n",
    "    balanced_df = pd.concat([selected_class_2, other_classes], ignore_index=True)\n",
    "\n",
    "    # Reset the index of the resulting DataFrame\n",
    "    balanced_df = balanced_df.reset_index(drop=True)\n",
    "    X = balanced_df.drop(columns=['weight', 'bmi','hip', 'wrist', 'waist','age',\n",
    "                          'catage', 'grade', 'height','body_image','bmi_category','gender','systolic','diastoli'], axis=1)\n",
    "    y = balanced_df['bmi_category']\n",
    "    print('X: ',X.shape)\n",
    "    print('y: ',y.shape)\n",
    "\n",
    "    return X, y\n",
    "\n",
    "def select_features(X, y, method, k=50, active=False):\n",
    "    if active:\n",
    "        selector = SelectKBest(method, k=k)\n",
    "        selector.fit(X, y)\n",
    "        return X.columns[selector.get_support()].tolist()\n",
    "    else:\n",
    "        return X.columns.tolist()\n",
    "\n",
    "# def train_catboost(X_train, y_train, iterations=200, random_state=42, learning_rate=0.1, depth=10, l2_leaf_reg=3, bagging_temperature=1):\n",
    "#     model = CatBoostClassifier(\n",
    "#         iterations=iterations, \n",
    "#         random_seed=random_state, \n",
    "#         verbose=0, \n",
    "#         learning_rate=learning_rate, \n",
    "#         depth=depth, \n",
    "#         l2_leaf_reg=l2_leaf_reg, \n",
    "#         bagging_temperature=bagging_temperature\n",
    "#     )\n",
    "#     model.fit(X_train, y_train)\n",
    "#     return model, iterations\n",
    "import xgboost as xgb\n",
    "\n",
    "def train_xgboost(X_train, y_train, iterations=300, random_state=42, learning_rate=0.1, max_depth=20, reg_lambda=1, subsample=1):\n",
    "    model = xgb.XGBClassifier(\n",
    "        n_estimators=iterations,  # Corresponds to iterations in CatBoost\n",
    "        random_state=random_state,\n",
    "        learning_rate=learning_rate,\n",
    "        max_depth=max_depth,\n",
    "        reg_lambda=reg_lambda,  # L2 regularization\n",
    "        subsample=subsample  # Corresponds to bagging_temperature in CatBoost\n",
    "    )\n",
    "    model.fit(X_train, y_train)\n",
    "    return model, iterations\n",
    "\n",
    "def evaluate_model(model, X_test, y_test):\n",
    "    y_pred = model.predict(X_test)\n",
    "    accuracy = accuracy_score(y_test, y_pred)\n",
    "    report = classification_report(y_test, y_pred, output_dict=True)\n",
    "    print(\"accuracy\", accuracy)\n",
    "    print(\"report\", report)\n",
    "    return {\"accuracy\": accuracy, \"report\": report}\n",
    "\n",
    "def process_and_train_model_for_each_age(df, catage, k=20):\n",
    "    results = []\n",
    "    shap_values = None  \n",
    "    X_train_selected = None  \n",
    "\n",
    "    for cat in catage:\n",
    "        df_age = df[np.abs(df['catage'] - cat) < 1e-6]\n",
    "        if df_age.empty:\n",
    "            continue\n",
    "        X, y = split_X_y(df_age)\n",
    "        resampling_pipeline = Pipeline([\n",
    "            ('smote', SMOTE(random_state=42)),\n",
    "            ('undersampler', RandomUnderSampler(random_state=42))\n",
    "        ])\n",
    "        \n",
    "        # Resample the dataset\n",
    "        # X_resampled, y_resampled = resampling_pipeline.fit_resample(X, y)\n",
    "        X_resampled = X\n",
    "        y_resampled = y\n",
    "        print(f\"Original class distribution:\\n{y.value_counts()}\")\n",
    "        print(f\"\\nResampled class distribution:\\n{y_resampled.value_counts()}\")\n",
    "\n",
    "        X_train, X_test, y_train, y_test = train_test_split(X_resampled, y_resampled, test_size=0.2, stratify=y_resampled, random_state=42)\n",
    "        selected_features = select_features(X_train, y_train, f_classif, k=k, active=False)\n",
    "        X_train_selected = X_train[selected_features]\n",
    "        X_test_selected = X_test[selected_features]\n",
    "        \n",
    "        catboost_model, iterations = train_xgboost(X_train_selected, y_train)\n",
    "        catboost_metrics = evaluate_model(catboost_model, X_test_selected, y_test)\n",
    "        class_labels = catboost_model.classes_\n",
    "        # Calculate feature importance\n",
    "        # feature_importance = catboost_model.get_feature_importance(prettified=False)\n",
    "        explainer = shap.TreeExplainer(catboost_model)\n",
    "        shap_values = explainer.shap_values(X)  # Compute SHAP values\n",
    "\n",
    "        num_classes = shap_values.shape[-1]  # Number of classes (last dimension of SHAP values)\n",
    "        for class_index in range(num_classes):\n",
    "            print(f\"Generating SHAP summary plot for class {class_labels[class_index]}\")\n",
    "            \n",
    "            # Extract SHAP values for this class\n",
    "            class_shap_values = shap_values[:, :, class_index]  # Shape: (4044, 343)\n",
    "            # Plot SHAP summary for the selected class\n",
    "            shap.summary_plot(class_shap_values, X, show=False)\n",
    "            plt.title(f\"SHAP Summary for Class {class_labels[class_index]}\")\n",
    "            plt.show()\n",
    "\n",
    "        # Append results\n",
    "        results.append({\n",
    "            \"catage\": cat,\n",
    "            \"accuracy\": catboost_metrics['accuracy'],\n",
    "            \"num_samples\": len(df_age),\n",
    "            \"classification_report\": catboost_metrics['report']\n",
    "            # ,\"top_features\": \", \".join(top_features)\n",
    "        })\n",
    "\n",
    "    return results, shap_values, X_train_selected\n",
    "\n",
    "# Plot BMI category distribution\n",
    "catage = df_encoded['catage'].unique()\n",
    "results, shap_values, X_train_selected = process_and_train_model_for_each_age(df_encoded, catage)\n",
    "\n",
    "results_df = pd.DataFrame([{\n",
    "    \"catage\": r[\"catage\"],\n",
    "    \"accuracy\": r[\"accuracy\"],\n",
    "    \"num_samples\": r[\"num_samples\"],\n",
    "    # \"top_features\": r[\"top_features\"],\n",
    "    \"classification_report\": r[\"classification_report\"]\n",
    "} for r in results])"
   ]
  },
  {
   "cell_type": "code",
   "execution_count": null,
   "metadata": {},
   "outputs": [],
   "source": [
    "df"
   ]
  },
  {
   "cell_type": "code",
   "execution_count": null,
   "metadata": {},
   "outputs": [],
   "source": [
    "combined_df['meat'].value_counts()"
   ]
  },
  {
   "cell_type": "code",
   "execution_count": null,
   "metadata": {},
   "outputs": [],
   "source": [
    "df_encoded['catage'].value_counts()\n"
   ]
  }
 ],
 "metadata": {
  "kernelspec": {
   "display_name": "CASPIAN_env",
   "language": "python",
   "name": "python3"
  },
  "language_info": {
   "codemirror_mode": {
    "name": "ipython",
    "version": 3
   },
   "file_extension": ".py",
   "mimetype": "text/x-python",
   "name": "python",
   "nbconvert_exporter": "python",
   "pygments_lexer": "ipython3",
   "version": "3.10.12"
  }
 },
 "nbformat": 4,
 "nbformat_minor": 2
}

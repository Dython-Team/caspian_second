{
 "cells": [
  {
   "cell_type": "code",
   "execution_count": 1,
   "metadata": {},
   "outputs": [
    {
     "name": "stdout",
     "output_type": "stream",
     "text": [
      "GAMLSS-RS iteration 1: Global Deviance = 81315.72 \n",
      "GAMLSS-RS iteration 2: Global Deviance = 81315.72 \n"
     ]
    },
    {
     "name": "stderr",
     "output_type": "stream",
     "text": [
      "R[write to console]: In addition: \n",
      "R[write to console]: Warning messages:\n",
      "\n",
      "R[write to console]: 1: \n",
      "R[write to console]: In (function (package, help, pos = 2, lib.loc = NULL, character.only = FALSE,  :\n",
      "R[write to console]: \n",
      " \n",
      "R[write to console]:  libraries ‘/usr/local/lib/R/site-library’, ‘/usr/lib/R/site-library’ contain no packages\n",
      "\n",
      "R[write to console]: 2: \n",
      "R[write to console]: In (function (package, help, pos = 2, lib.loc = NULL, character.only = FALSE,  :\n",
      "R[write to console]: \n",
      " \n",
      "R[write to console]:  libraries ‘/usr/local/lib/R/site-library’, ‘/usr/lib/R/site-library’ contain no packages\n",
      "\n",
      "R[write to console]: 3: \n",
      "R[write to console]: In (function (package, help, pos = 2, lib.loc = NULL, character.only = FALSE,  :\n",
      "R[write to console]: \n",
      " \n",
      "R[write to console]:  libraries ‘/usr/local/lib/R/site-library’, ‘/usr/lib/R/site-library’ contain no packages\n",
      "\n"
     ]
    },
    {
     "name": "stdout",
     "output_type": "stream",
     "text": [
      "GAMLSS-RS iteration 1: Global Deviance = 74560.37 \n",
      "GAMLSS-RS iteration 2: Global Deviance = 74560.37 \n"
     ]
    }
   ],
   "source": [
    "import pandas as pd\n",
    "import numpy as np\n",
    "import rpy2.robjects as ro\n",
    "from rpy2.robjects.packages import importr\n",
    "from rpy2.robjects import pandas2ri  # Import pandas2ri to enable DataFrame conversion\n",
    "\n",
    "# Activate the pandas2ri interface to automatically convert pandas DataFrames to R data frames\n",
    "pandas2ri.activate()\n",
    "\n",
    "# Load R packages\n",
    "gamlss = importr('gamlss')\n",
    "base = importr('base')\n",
    "graphics = importr('graphics')\n",
    "\n",
    "# Load your data\n",
    "data_org = pd.read_spss('data/caspian1 data.sav', convert_categoricals=True)\n",
    "\n",
    "# Select only the required columns\n",
    "data = data_org[['weight', 'sex', 'age']]  # Adjust column names as needed\n",
    "\n",
    "# Convert the pandas DataFrame to an R dataframe\n",
    "rdf = pandas2ri.py2rpy(data)\n",
    "\n",
    "# Split the data by sex for separate modeling\n",
    "male_data = data[data['sex'] == 'Male']\n",
    "female_data = data[data['sex'] == 'Female']\n",
    "\n",
    "# Convert data to R dataframe for male and female separately\n",
    "rdf_male = pandas2ri.py2rpy(male_data)\n",
    "rdf_female = pandas2ri.py2rpy(female_data)\n",
    "\n",
    "# Assign the converted data frames to the R environment\n",
    "ro.globalenv['rdf_male'] = rdf_male\n",
    "ro.globalenv['rdf_female'] = rdf_female\n",
    "\n",
    "# Fit the GAMLSS model for each sex using the data in R environment, omitting NAs\n",
    "ro.r('male_model <- gamlss(weight ~ age, family = \"NO\", data = na.omit(rdf_male))')\n",
    "ro.r('female_model <- gamlss(weight ~ age, family = \"NO\", data = na.omit(rdf_female))')\n",
    "\n",
    "# Define the percentiles you want to plot\n",
    "percentiles = [3, 5, 10, 15, 25, 50, 75, 90, 95, 97]\n",
    "\n",
    "# Create percentile plots for Male\n",
    "ro.r('''\n",
    "  # Male Plot\n",
    "  par(mfrow = c(1, 1)) # Reset layout for a single plot\n",
    "  plot(0, type = \"n\", xlim = c(6, 18), ylim = c(20, 70), xlab = \"Age\", ylab = \"Weight\", main = \"Male Weight Percentiles\")\n",
    "  \n",
    "  # Calculate and plot the percentiles for Male\n",
    "  for (p in c(3, 5, 10, 15, 25, 50, 75, 90, 95, 97)) {\n",
    "    percentile_values <- predict(male_model, newdata = data.frame(age = 6:18), type = \"response\", q = p)\n",
    "    lines(6:18, percentile_values, col = rgb(0, 0, 1, alpha = 0.5), lwd = 2)  # Adjust transparency for each line\n",
    "  }\n",
    "  \n",
    "  # Add a legend\n",
    "  legend(\"topright\", legend = paste0(c(3, 5, 10, 15, 25, 50, 75, 90, 95, 97), \"%\"), \n",
    "         col = rgb(0, 0, 1, alpha = 0.5), lwd = 2)\n",
    "''')\n",
    "\n",
    "ro.r('''\n",
    "  # Female Plot\n",
    "  plot(0, type = \"n\", xlim = c(6, 18), ylim = c(20, 70), xlab = \"Age\", ylab = \"Weight\", main = \"Female Weight Percentiles\")\n",
    "  \n",
    "  # Calculate and plot the percentiles for Female\n",
    "  for (p in c(3, 5, 10, 15, 25, 50, 75, 90, 95, 97)) {\n",
    "    percentile_values <- predict(female_model, newdata = data.frame(age = 6:18), type = \"response\", q = p)\n",
    "    lines(6:18, percentile_values, col = rgb(1, 0, 0, alpha = 0.5), lwd = 2)  # Adjust transparency for each line\n",
    "  }\n",
    "  \n",
    "  # Add a legend\n",
    "  legend(\"topright\", legend = paste0(c(3, 5, 10, 15, 25, 50, 75, 90, 95, 97), \"%\"), \n",
    "         col = rgb(1, 0, 0, alpha = 0.5), lwd = 2)\n",
    "''')\n"
   ]
  }
 ],
 "metadata": {
  "kernelspec": {
   "display_name": "Python 3",
   "language": "python",
   "name": "python3"
  },
  "language_info": {
   "codemirror_mode": {
    "name": "ipython",
    "version": 3
   },
   "file_extension": ".py",
   "mimetype": "text/x-python",
   "name": "python",
   "nbconvert_exporter": "python",
   "pygments_lexer": "ipython3",
   "version": "3.10.12"
  }
 },
 "nbformat": 4,
 "nbformat_minor": 2
}
